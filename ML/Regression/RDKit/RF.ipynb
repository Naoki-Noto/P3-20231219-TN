{
 "cells": [
  {
   "cell_type": "code",
   "execution_count": 1,
   "id": "6bced5a3-7b6b-46d0-bb14-8d7381164e98",
   "metadata": {
    "tags": []
   },
   "outputs": [
    {
     "name": "stderr",
     "output_type": "stream",
     "text": [
      "C:\\Users\\noton\\anaconda3\\envs\\TN5\\lib\\site-packages\\tqdm\\auto.py:21: TqdmWarning: IProgress not found. Please update jupyter and ipywidgets. See https://ipywidgets.readthedocs.io/en/stable/user_install.html\n",
      "  from .autonotebook import tqdm as notebook_tqdm\n"
     ]
    }
   ],
   "source": [
    "#import\n",
    "import seaborn as sns\n",
    "import pandas as pd\n",
    "import numpy as np\n",
    "import matplotlib.pyplot as plt\n",
    "from sklearn.model_selection import train_test_split\n",
    "from sklearn.model_selection import GridSearchCV\n",
    "from sklearn.ensemble import RandomForestRegressor\n",
    "from sklearn import metrics\n",
    "import shap"
   ]
  },
  {
   "cell_type": "code",
   "execution_count": 2,
   "id": "771b9971-f7dd-432e-87e9-36eff21b7f56",
   "metadata": {
    "tags": []
   },
   "outputs": [
    {
     "name": "stdout",
     "output_type": "stream",
     "text": [
      "<class 'pandas.core.frame.DataFrame'>\n",
      "RangeIndex: 68 entries, 0 to 67\n",
      "Columns: 224 entries, Cate_name to Yield\n",
      "dtypes: float64(177), int64(45), object(2)\n",
      "memory usage: 119.1+ KB\n"
     ]
    }
   ],
   "source": [
    "#Reading dataset\n",
    "df=pd.read_csv('RDKit.csv')\n",
    "df.info()"
   ]
  },
  {
   "cell_type": "code",
   "execution_count": 3,
   "id": "6a488667-aad8-4757-9882-975291e1ea2d",
   "metadata": {
    "tags": []
   },
   "outputs": [
    {
     "name": "stdout",
     "output_type": "stream",
     "text": [
      "---Descriptors---\n",
      "   Cate_MaxAbsEStateIndex  Cate_MaxEStateIndex  Cate_MinAbsEStateIndex  \\\n",
      "0                8.669259             8.669259                0.076389   \n",
      "1                8.669259             8.669259                0.076389   \n",
      "2                8.669259             8.669259                0.076389   \n",
      "3                8.669259             8.669259                0.076389   \n",
      "4                8.850093             8.850093                0.060185   \n",
      "\n",
      "   Cate_MinEStateIndex  Cate_qed  Cate_SPS  Cate_MolWt  Cate_HeavyAtomMolWt  \\\n",
      "0            -0.076389  0.490728  9.000000     110.112              104.064   \n",
      "1            -0.076389  0.490728  9.000000     110.112              104.064   \n",
      "2            -0.076389  0.490728  9.000000     110.112              104.064   \n",
      "3            -0.076389  0.490728  9.000000     110.112              104.064   \n",
      "4            -0.068889  0.513122  9.444444     124.139              116.075   \n",
      "\n",
      "   Cate_ExactMolWt  Cate_NumValenceElectrons  ...  P_NumAromaticCarbocycles  \\\n",
      "0       110.036779                        42  ...                         0   \n",
      "1       110.036779                        42  ...                         0   \n",
      "2       110.036779                        42  ...                         1   \n",
      "3       110.036779                        42  ...                         0   \n",
      "4       124.052429                        48  ...                         0   \n",
      "\n",
      "   P_NumAromaticRings  P_NumHAcceptors  P_NumHDonors  P_NumHeteroatoms  \\\n",
      "0                   0                3             0                 4   \n",
      "1                   0                1             2                 4   \n",
      "2                   1                1             1                 3   \n",
      "3                   0                1             1                 3   \n",
      "4                   0                3             0                 4   \n",
      "\n",
      "   P_NumRotatableBonds  P_RingCount  P_MolLogP  P_MolMR  P_fr_benzene  \n",
      "0                    2            0     0.6689  23.0195             0  \n",
      "1                    0            0    -0.6393  13.4391             0  \n",
      "2                    1            1     0.7789  37.2963             1  \n",
      "3                    0            0    -0.3500  12.6153             0  \n",
      "4                    2            0     0.6689  23.0195             0  \n",
      "\n",
      "[5 rows x 221 columns]\n",
      "---Objective---\n",
      "   Yield\n",
      "0     80\n",
      "1      7\n",
      "2      3\n",
      "3     48\n",
      "4     99\n"
     ]
    }
   ],
   "source": [
    "#Building descriptors\n",
    "X = df.drop(columns=['Yield', 'Cate_name', 'P_name' ])\n",
    "print('---Descriptors---')\n",
    "print(X.head())\n",
    "\n",
    "y = pd.DataFrame(df['Yield'],columns=['Yield'])\n",
    "y=y.astype(int)\n",
    "print('---Objective---')\n",
    "print(y.head())"
   ]
  },
  {
   "cell_type": "code",
   "execution_count": 4,
   "id": "c10a58c1-6449-48f6-bd2d-9fa49b46f891",
   "metadata": {
    "tags": []
   },
   "outputs": [
    {
     "name": "stdout",
     "output_type": "stream",
     "text": [
      "----------------------\n",
      "seed: 0\n",
      "Best Model Parameter: {'max_depth': 2, 'n_estimators': 5000}\n",
      "Best Model Score: 0.7810042334358767\n",
      "R2_test: 0.7438246286294927\n",
      "----------------------\n",
      "seed: 1\n",
      "Best Model Parameter: {'max_depth': 4, 'n_estimators': 5000}\n",
      "Best Model Score: 0.7422407238741837\n",
      "R2_test: 0.8643148970133365\n",
      "----------------------\n",
      "seed: 2\n",
      "Best Model Parameter: {'max_depth': 2, 'n_estimators': 5000}\n",
      "Best Model Score: 0.7697174074410391\n",
      "R2_test: 0.7839342797819121\n",
      "----------------------\n",
      "seed: 3\n",
      "Best Model Parameter: {'max_depth': 2, 'n_estimators': 3000}\n",
      "Best Model Score: 0.742724228668218\n",
      "R2_test: 0.7923155886407727\n",
      "----------------------\n",
      "seed: 4\n",
      "Best Model Parameter: {'max_depth': 5, 'n_estimators': 3000}\n",
      "Best Model Score: 0.8074480901864242\n",
      "R2_test: 0.752195588378892\n",
      "----------------------\n",
      "seed: 5\n",
      "Best Model Parameter: {'max_depth': 5, 'n_estimators': 1000}\n",
      "Best Model Score: 0.8021883641680319\n",
      "R2_test: 0.8394722090723175\n",
      "----------------------\n",
      "seed: 6\n",
      "Best Model Parameter: {'max_depth': 3, 'n_estimators': 1000}\n",
      "Best Model Score: 0.7713664422205085\n",
      "R2_test: 0.8126802673165257\n",
      "----------------------\n",
      "seed: 7\n",
      "Best Model Parameter: {'max_depth': 2, 'n_estimators': 1000}\n",
      "Best Model Score: 0.8116641846397835\n",
      "R2_test: 0.7503541890864749\n",
      "----------------------\n",
      "seed: 8\n",
      "Best Model Parameter: {'max_depth': 2, 'n_estimators': 5000}\n",
      "Best Model Score: 0.7639523898664583\n",
      "R2_test: 0.766417534933602\n",
      "----------------------\n",
      "seed: 9\n",
      "Best Model Parameter: {'max_depth': 2, 'n_estimators': 1000}\n",
      "Best Model Score: 0.7096251110969615\n",
      "R2_test: 0.8677487670949378\n",
      "R2_train_means: 0.9161332006466262\n",
      "CV_score_means: 0.7701931175597486\n",
      "R2_test_means: 0.7973257949948264\n"
     ]
    }
   ],
   "source": [
    "#storage \n",
    "data_r2_train =[]\n",
    "data_RMSE_train = []\n",
    "data_MAE_train = []\n",
    "data_r2_test = []\n",
    "data_RMSE_test = []\n",
    "data_MAE_test = []\n",
    "best_model_parametors = []\n",
    "data_cv_score = []\n",
    "cum_imp=pd.Series(index = X.columns)\n",
    "cum_imp.fillna(0, inplace=True)\n",
    "\n",
    "#RF\n",
    "for i in range(10):\n",
    "    seed=i\n",
    "    X_train, X_test, y_train, y_test = train_test_split(X, y, test_size=0.3, random_state=seed)\n",
    "    \n",
    "    param_grid = {\"max_depth\":[2,3,4,5],\n",
    "                  'n_estimators':[1000,3000,5000]}\n",
    "    reg_rf = GridSearchCV(RandomForestRegressor(random_state=0), param_grid=param_grid, cv=5, n_jobs=16)\n",
    "    reg_rf.fit(X_train,y_train['Yield'])\n",
    "    reg_best = reg_rf.best_estimator_\n",
    "    y_pred1 = reg_best.predict(X_train)\n",
    "    y_pred2 = reg_best.predict(X_test)\n",
    "            \n",
    "    #train\n",
    "    r2_train = metrics.r2_score(y_train, y_pred1)\n",
    "    RMSE_train = metrics.root_mean_squared_error(y_train, y_pred1)\n",
    "    MAE_train =  metrics.mean_absolute_error(y_train, y_pred1)\n",
    "    #test\n",
    "    r2_test = metrics.r2_score(y_test, y_pred2)\n",
    "    RMSE_test = metrics.root_mean_squared_error(y_test, y_pred2)\n",
    "    MAE_test = metrics.mean_absolute_error(y_test, y_pred2)\n",
    "\n",
    "    parametors = reg_rf.best_params_\n",
    "    best_model_parametors.append(parametors)\n",
    "\n",
    "    data_r2_train.append(r2_train)\n",
    "    data_RMSE_train.append(RMSE_train)\n",
    "    data_MAE_train.append(MAE_train)\n",
    "    data_r2_test.append(r2_test)\n",
    "    data_RMSE_test.append(RMSE_test)\n",
    "    data_MAE_test.append(MAE_test)\n",
    "    data_cv_score.append(reg_rf.best_score_)\n",
    "    \n",
    "    #cumulative importances \n",
    "    importances = pd.Series(reg_best.feature_importances_, index = X.columns)\n",
    "    cum_imp += importances\n",
    "    \n",
    "    print('----------------------')\n",
    "    print('seed:', seed)\n",
    "    print(\"Best Model Parameter:\",reg_rf.best_params_)\n",
    "    print(\"Best Model Score:\",reg_rf.best_score_)\n",
    "    print('R2_test:', r2_test)\n",
    "print('R2_train_means:', sum(data_r2_train)/10)\n",
    "print('CV_score_means:', sum(data_cv_score)/10)\n",
    "print('R2_test_means:', sum(data_r2_test)/10)"
   ]
  },
  {
   "cell_type": "code",
   "execution_count": 5,
   "id": "47c5eeb8-c37f-46e9-ba79-a01178b442e1",
   "metadata": {
    "tags": []
   },
   "outputs": [
    {
     "name": "stdout",
     "output_type": "stream",
     "text": [
      "      r2_train  RMSE_train  MAE_train   r2_test  RMSE_test   MAE_test  \\\n",
      "0     0.906690    8.294241   5.481987  0.743825  18.304770  11.221256   \n",
      "1     0.952449    6.557473   4.082143  0.864315  11.465524   7.795438   \n",
      "2     0.886733   10.236379   6.520482  0.783934  14.455061   9.320254   \n",
      "3     0.884671   10.371519   6.515702  0.792316  14.118225   8.653687   \n",
      "4     0.967423    5.299492   3.038033  0.752196  16.232574  11.004828   \n",
      "5     0.966143    5.235979   2.841043  0.839472  13.972636   9.644930   \n",
      "6     0.939543    7.043834   4.438955  0.812680  15.014389   9.791184   \n",
      "7     0.901774    9.692919   6.199021  0.750354  15.043467   9.978662   \n",
      "8     0.892729    9.716554   5.778109  0.766418  15.193241  11.222015   \n",
      "9     0.863178   11.775474   7.877604  0.867749   9.653592   6.039210   \n",
      "mean  0.916133    8.422386   5.277308  0.797326  14.345348   9.467146   \n",
      "\n",
      "      cv_score  \n",
      "0     0.781004  \n",
      "1     0.742241  \n",
      "2     0.769717  \n",
      "3     0.742724  \n",
      "4     0.807448  \n",
      "5     0.802188  \n",
      "6     0.771366  \n",
      "7     0.811664  \n",
      "8     0.763952  \n",
      "9     0.709625  \n",
      "mean  0.770193  \n"
     ]
    }
   ],
   "source": [
    "data_r2_train_pd = pd.DataFrame(data= data_r2_train, columns=['r2_train'])\n",
    "data_RMSE_train_pd = pd.DataFrame(data=data_RMSE_train, columns=['RMSE_train'])\n",
    "data_MAE_train_pd = pd.DataFrame(data=data_MAE_train, columns=['MAE_train'])\n",
    "data_r2_test_pd = pd.DataFrame(data=data_r2_test, columns=['r2_test'])\n",
    "data_RMSE_test_pd = pd.DataFrame(data=data_RMSE_test, columns=['RMSE_test'])\n",
    "data_MAE_test_pd = pd.DataFrame(data=data_MAE_test, columns=['MAE_test'])\n",
    "data_cv_score_pd = pd.DataFrame(data=data_cv_score, columns=['cv_score'])\n",
    "data_parametors = pd.DataFrame([best_model_parametors])\n",
    "\n",
    "data_all = pd.concat([data_r2_train_pd, data_RMSE_train_pd, data_MAE_train_pd, data_r2_test_pd, \n",
    "                      data_RMSE_test_pd, data_MAE_test_pd, data_cv_score_pd],\n",
    "                     axis=1, join='inner')\n",
    "\n",
    "data_all.loc['mean'] = data_all.mean()\n",
    "print(data_all)\n",
    "\n",
    "data_all.to_csv('../../score/RDKit/RF_score.csv')"
   ]
  },
  {
   "cell_type": "code",
   "execution_count": null,
   "id": "ff17407d-8944-4b0f-805a-d23cc4cf6a78",
   "metadata": {},
   "outputs": [],
   "source": []
  }
 ],
 "metadata": {
  "kernelspec": {
   "display_name": "Python 3 (ipykernel)",
   "language": "python",
   "name": "python3"
  },
  "language_info": {
   "codemirror_mode": {
    "name": "ipython",
    "version": 3
   },
   "file_extension": ".py",
   "mimetype": "text/x-python",
   "name": "python",
   "nbconvert_exporter": "python",
   "pygments_lexer": "ipython3",
   "version": "3.9.19"
  }
 },
 "nbformat": 4,
 "nbformat_minor": 5
}
