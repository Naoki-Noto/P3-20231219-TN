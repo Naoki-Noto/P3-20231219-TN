{
 "cells": [
  {
   "cell_type": "code",
   "execution_count": 1,
   "id": "24250875-9c00-4a2e-b044-2905593b872d",
   "metadata": {
    "tags": []
   },
   "outputs": [],
   "source": [
    "#import\n",
    "import seaborn as sns\n",
    "import pandas as pd\n",
    "import numpy as np\n",
    "import matplotlib.pyplot as plt\n",
    "from sklearn.model_selection import train_test_split\n",
    "from sklearn.linear_model import LinearRegression\n",
    "from sklearn.linear_model import LassoCV\n",
    "from sklearn import metrics\n",
    "import warnings\n",
    "warnings.filterwarnings('ignore')"
   ]
  },
  {
   "cell_type": "code",
   "execution_count": 2,
   "id": "710c369c-62c4-4a63-a9f8-fa343155455d",
   "metadata": {
    "tags": []
   },
   "outputs": [
    {
     "name": "stdout",
     "output_type": "stream",
     "text": [
      "<class 'pandas.core.frame.DataFrame'>\n",
      "RangeIndex: 68 entries, 0 to 67\n",
      "Columns: 224 entries, Cate_name to Yield\n",
      "dtypes: float64(177), int64(45), object(2)\n",
      "memory usage: 119.1+ KB\n"
     ]
    }
   ],
   "source": [
    "#Reading dataset\n",
    "df=pd.read_csv('RDKit.csv')\n",
    "df.info()"
   ]
  },
  {
   "cell_type": "code",
   "execution_count": 3,
   "id": "ce899465-892d-48fd-868d-458930162f54",
   "metadata": {
    "tags": []
   },
   "outputs": [
    {
     "name": "stdout",
     "output_type": "stream",
     "text": [
      "---Descriptors---\n",
      "   Cate_MaxAbsEStateIndex  Cate_MaxEStateIndex  Cate_MinAbsEStateIndex  \\\n",
      "0                8.669259             8.669259                0.076389   \n",
      "1                8.669259             8.669259                0.076389   \n",
      "2                8.669259             8.669259                0.076389   \n",
      "3                8.669259             8.669259                0.076389   \n",
      "4                8.850093             8.850093                0.060185   \n",
      "\n",
      "   Cate_MinEStateIndex  Cate_qed  Cate_SPS  Cate_MolWt  Cate_HeavyAtomMolWt  \\\n",
      "0            -0.076389  0.490728  9.000000     110.112              104.064   \n",
      "1            -0.076389  0.490728  9.000000     110.112              104.064   \n",
      "2            -0.076389  0.490728  9.000000     110.112              104.064   \n",
      "3            -0.076389  0.490728  9.000000     110.112              104.064   \n",
      "4            -0.068889  0.513122  9.444444     124.139              116.075   \n",
      "\n",
      "   Cate_ExactMolWt  Cate_NumValenceElectrons  ...  P_NumAromaticCarbocycles  \\\n",
      "0       110.036779                        42  ...                         0   \n",
      "1       110.036779                        42  ...                         0   \n",
      "2       110.036779                        42  ...                         1   \n",
      "3       110.036779                        42  ...                         0   \n",
      "4       124.052429                        48  ...                         0   \n",
      "\n",
      "   P_NumAromaticRings  P_NumHAcceptors  P_NumHDonors  P_NumHeteroatoms  \\\n",
      "0                   0                3             0                 4   \n",
      "1                   0                1             2                 4   \n",
      "2                   1                1             1                 3   \n",
      "3                   0                1             1                 3   \n",
      "4                   0                3             0                 4   \n",
      "\n",
      "   P_NumRotatableBonds  P_RingCount  P_MolLogP  P_MolMR  P_fr_benzene  \n",
      "0                    2            0     0.6689  23.0195             0  \n",
      "1                    0            0    -0.6393  13.4391             0  \n",
      "2                    1            1     0.7789  37.2963             1  \n",
      "3                    0            0    -0.3500  12.6153             0  \n",
      "4                    2            0     0.6689  23.0195             0  \n",
      "\n",
      "[5 rows x 221 columns]\n",
      "---Objective---\n",
      "   Yield\n",
      "0     80\n",
      "1      7\n",
      "2      3\n",
      "3     48\n",
      "4     99\n"
     ]
    }
   ],
   "source": [
    "#Building descriptors\n",
    "X = df.drop(columns=['Yield', 'Cate_name', 'P_name' ])\n",
    "print('---Descriptors---')\n",
    "print(X.head())\n",
    "\n",
    "y = pd.DataFrame(df['Yield'],columns=['Yield'])\n",
    "print('---Objective---')\n",
    "print(y.head())"
   ]
  },
  {
   "cell_type": "code",
   "execution_count": 4,
   "id": "0f79bef2-cad5-4f86-a1d9-c8b07bbf4ee0",
   "metadata": {},
   "outputs": [
    {
     "name": "stdout",
     "output_type": "stream",
     "text": [
      "----------------------\n",
      "seed: 0\n",
      "R2_train: 0.900588411601112\n",
      "R2_test: 0.6724934791527615\n",
      "----------------------\n",
      "----------------------\n",
      "seed: 1\n",
      "R2_train: 0.8475924005028652\n",
      "R2_test: 0.752938775539911\n",
      "----------------------\n",
      "----------------------\n",
      "seed: 2\n",
      "R2_train: 0.8658112139435582\n",
      "R2_test: 0.7689899551823135\n",
      "----------------------\n",
      "----------------------\n",
      "seed: 3\n",
      "R2_train: 0.8673897280108362\n",
      "R2_test: 0.7774901199085236\n",
      "----------------------\n",
      "----------------------\n",
      "seed: 4\n",
      "R2_train: 0.8652329187502357\n",
      "R2_test: 0.7595801040832095\n",
      "----------------------\n",
      "----------------------\n",
      "seed: 5\n",
      "R2_train: 0.8672005566634025\n",
      "R2_test: 0.7176021484602606\n",
      "----------------------\n",
      "----------------------\n",
      "seed: 6\n",
      "R2_train: 0.8821270084491553\n",
      "R2_test: 0.7131443030711112\n",
      "----------------------\n",
      "----------------------\n",
      "seed: 7\n",
      "R2_train: 0.876304854461071\n",
      "R2_test: 0.7354135895043807\n",
      "----------------------\n",
      "----------------------\n",
      "seed: 8\n",
      "R2_train: 0.8836190709638209\n",
      "R2_test: 0.6856109820533574\n",
      "----------------------\n",
      "----------------------\n",
      "seed: 9\n",
      "R2_train: 0.859358626183111\n",
      "R2_test: 0.529483664160636\n",
      "----------------------\n",
      "R2_train_means: 0.8715224789529167\n",
      "R2_test_means: 0.7112747121116464\n"
     ]
    }
   ],
   "source": [
    "#storage \n",
    "data_r2_train =[]\n",
    "data_RMSE_train = []\n",
    "data_MAE_train = []\n",
    "data_r2_test = []\n",
    "data_RMSE_test = []\n",
    "data_MAE_test = []\n",
    "cum_coef = np.zeros((1,X.shape[1]))\n",
    "\n",
    "#Lasso\n",
    "for i in range(10):\n",
    "    seed=i\n",
    "    X_train, X_test, y_train, y_test = train_test_split(X, y, test_size=0.3, random_state=seed)\n",
    "    \n",
    "    a_X_train = (X_train - X_train.mean(axis=0)) / X_train.std(axis=0, ddof=1)\n",
    "    a_X_test = (X_test - X_train.mean(axis=0)) / X_train.std(axis=0, ddof=1)\n",
    "    a_X_train = a_X_train.dropna(how='any', axis=1)\n",
    "    a_X_test = a_X_test[a_X_train.columns]\n",
    "    \n",
    "    n_lambda = 1000\n",
    "    alphas = np.logspace(-6, 0, n_lambda)\n",
    "    model = LassoCV(cv=5, alphas=alphas)\n",
    "    model.fit(a_X_train, y_train['Yield'])\n",
    "    \n",
    "    y_pred1 = model.predict(a_X_train)\n",
    "    y_pred2 = model.predict(a_X_test)\n",
    "    \n",
    "    #train\n",
    "    r2_train = metrics.r2_score(y_train, y_pred1)\n",
    "    RMSE_train = metrics.root_mean_squared_error(y_train, y_pred1)\n",
    "    MAE_train =  metrics.mean_absolute_error(y_train, y_pred1)\n",
    "    #test\n",
    "    r2_test = metrics.r2_score(y_test, y_pred2)\n",
    "    RMSE_test = metrics.root_mean_squared_error(y_test, y_pred2)\n",
    "    MAE_test = metrics.mean_absolute_error(y_test, y_pred2)\n",
    "    \n",
    "    data_r2_train.append(r2_train)\n",
    "    data_RMSE_train.append(RMSE_train)\n",
    "    data_MAE_train.append(MAE_train)\n",
    "    data_r2_test.append(r2_test)\n",
    "    data_RMSE_test.append(RMSE_test)\n",
    "    data_MAE_test.append(MAE_test)\n",
    "    \n",
    "    print('----------------------')\n",
    "    print('seed:', seed)\n",
    "    print('R2_train:', r2_train)\n",
    "    print('R2_test:', r2_test)\n",
    "    print('----------------------')\n",
    "print('R2_train_means:', sum(data_r2_train)/10)\n",
    "print('R2_test_means:', sum(data_r2_test)/10)"
   ]
  },
  {
   "cell_type": "code",
   "execution_count": 5,
   "id": "dee01ad3-7641-4c5c-8319-4d4639226e10",
   "metadata": {},
   "outputs": [
    {
     "name": "stdout",
     "output_type": "stream",
     "text": [
      "      r2_train  RMSE_train  MAE_train   r2_test  RMSE_test   MAE_test\n",
      "0     0.900588    8.561119   5.512090  0.672493  20.696913  13.346704\n",
      "1     0.847592   11.739832   7.915633  0.752939  15.471419  11.614473\n",
      "2     0.865811   11.141720   7.536938  0.768990  14.946600   9.413503\n",
      "3     0.867390   11.121467   7.592790  0.777490  14.613452   9.831830\n",
      "4     0.865233   10.778788   7.494953  0.759580  15.988881   9.990323\n",
      "5     0.867201   10.369802   6.355439  0.717602  18.532496  11.617406\n",
      "6     0.882127    9.835408   6.433505  0.713144  18.580082  12.290656\n",
      "7     0.876305   10.877231   7.668458  0.735414  15.487081  11.203199\n",
      "8     0.883619   10.120712   6.720152  0.685611  17.626415  12.750819\n",
      "9     0.859359   11.938678   8.619676  0.529484  18.208594  12.725134\n",
      "mean  0.871522   10.648476   7.184963  0.711275  17.015193  11.478405\n"
     ]
    }
   ],
   "source": [
    "data_r2_train_pd = pd.DataFrame(data= data_r2_train, columns=['r2_train'])\n",
    "data_RMSE_train_pd = pd.DataFrame(data=data_RMSE_train, columns=['RMSE_train'])\n",
    "data_MAE_train_pd = pd.DataFrame(data=data_MAE_train, columns=['MAE_train'])\n",
    "data_r2_test_pd = pd.DataFrame(data=data_r2_test, columns=['r2_test'])\n",
    "data_RMSE_test_pd = pd.DataFrame(data=data_RMSE_test, columns=['RMSE_test'])\n",
    "data_MAE_test_pd = pd.DataFrame(data=data_MAE_test, columns=['MAE_test'])\n",
    "\n",
    "data_all = pd.concat([data_r2_train_pd, data_RMSE_train_pd, data_MAE_train_pd, data_r2_test_pd, \n",
    "                      data_RMSE_test_pd, data_MAE_test_pd],\n",
    "                     axis=1, join='inner')\n",
    "\n",
    "data_all.loc['mean'] = data_all.mean()\n",
    "print(data_all)\n",
    "\n",
    "data_all.to_csv('../../score/RDKit/Lasso_score.csv')"
   ]
  },
  {
   "cell_type": "code",
   "execution_count": null,
   "id": "f2d4cae4-1844-4994-b33d-f01b39299b7b",
   "metadata": {
    "tags": []
   },
   "outputs": [],
   "source": []
  }
 ],
 "metadata": {
  "kernelspec": {
   "display_name": "Python 3 (ipykernel)",
   "language": "python",
   "name": "python3"
  },
  "language_info": {
   "codemirror_mode": {
    "name": "ipython",
    "version": 3
   },
   "file_extension": ".py",
   "mimetype": "text/x-python",
   "name": "python",
   "nbconvert_exporter": "python",
   "pygments_lexer": "ipython3",
   "version": "3.9.19"
  }
 },
 "nbformat": 4,
 "nbformat_minor": 5
}
