{
 "cells": [
  {
   "cell_type": "code",
   "execution_count": 1,
   "id": "2eb56b16-339c-4224-8051-04dc72f5b54d",
   "metadata": {
    "tags": []
   },
   "outputs": [],
   "source": [
    "#import\n",
    "import pandas as pd\n",
    "import numpy as np\n",
    "import matplotlib.pyplot as plt\n",
    "from sklearn.model_selection import train_test_split\n",
    "from sklearn.model_selection import GridSearchCV\n",
    "from sklearn.svm import SVR\n",
    "from sklearn import metrics"
   ]
  },
  {
   "cell_type": "code",
   "execution_count": 2,
   "id": "9c397d87-038e-4731-9776-7a43adf9e7b1",
   "metadata": {
    "tags": []
   },
   "outputs": [
    {
     "name": "stdout",
     "output_type": "stream",
     "text": [
      "<class 'pandas.core.frame.DataFrame'>\n",
      "RangeIndex: 68 entries, 0 to 67\n",
      "Columns: 224 entries, Cate_name to Yield\n",
      "dtypes: float64(177), int64(45), object(2)\n",
      "memory usage: 119.1+ KB\n"
     ]
    }
   ],
   "source": [
    "#Reading dataset\n",
    "df=pd.read_csv('RDKit.csv')\n",
    "df.info()"
   ]
  },
  {
   "cell_type": "code",
   "execution_count": 3,
   "id": "80142ace-7678-4a05-9b7b-fd9f33859f6f",
   "metadata": {
    "tags": []
   },
   "outputs": [
    {
     "name": "stdout",
     "output_type": "stream",
     "text": [
      "---Descriptors---\n",
      "   Cate_MaxAbsEStateIndex  Cate_MaxEStateIndex  Cate_MinAbsEStateIndex  \\\n",
      "0                8.669259             8.669259                0.076389   \n",
      "1                8.669259             8.669259                0.076389   \n",
      "2                8.669259             8.669259                0.076389   \n",
      "3                8.669259             8.669259                0.076389   \n",
      "4                8.850093             8.850093                0.060185   \n",
      "\n",
      "   Cate_MinEStateIndex  Cate_qed  Cate_SPS  Cate_MolWt  Cate_HeavyAtomMolWt  \\\n",
      "0            -0.076389  0.490728  9.000000     110.112              104.064   \n",
      "1            -0.076389  0.490728  9.000000     110.112              104.064   \n",
      "2            -0.076389  0.490728  9.000000     110.112              104.064   \n",
      "3            -0.076389  0.490728  9.000000     110.112              104.064   \n",
      "4            -0.068889  0.513122  9.444444     124.139              116.075   \n",
      "\n",
      "   Cate_ExactMolWt  Cate_NumValenceElectrons  ...  P_NumAromaticCarbocycles  \\\n",
      "0       110.036779                        42  ...                         0   \n",
      "1       110.036779                        42  ...                         0   \n",
      "2       110.036779                        42  ...                         1   \n",
      "3       110.036779                        42  ...                         0   \n",
      "4       124.052429                        48  ...                         0   \n",
      "\n",
      "   P_NumAromaticRings  P_NumHAcceptors  P_NumHDonors  P_NumHeteroatoms  \\\n",
      "0                   0                3             0                 4   \n",
      "1                   0                1             2                 4   \n",
      "2                   1                1             1                 3   \n",
      "3                   0                1             1                 3   \n",
      "4                   0                3             0                 4   \n",
      "\n",
      "   P_NumRotatableBonds  P_RingCount  P_MolLogP  P_MolMR  P_fr_benzene  \n",
      "0                    2            0     0.6689  23.0195             0  \n",
      "1                    0            0    -0.6393  13.4391             0  \n",
      "2                    1            1     0.7789  37.2963             1  \n",
      "3                    0            0    -0.3500  12.6153             0  \n",
      "4                    2            0     0.6689  23.0195             0  \n",
      "\n",
      "[5 rows x 221 columns]\n",
      "---Objective---\n",
      "   Yield\n",
      "0     80\n",
      "1      7\n",
      "2      3\n",
      "3     48\n",
      "4     99\n"
     ]
    }
   ],
   "source": [
    "#Building descriptors\n",
    "X = df.drop(columns=['Yield', 'Cate_name', 'P_name' ])\n",
    "print('---Descriptors---')\n",
    "print(X.head())\n",
    "\n",
    "y = pd.DataFrame(df['Yield'],columns=['Yield'])\n",
    "print('---Objective---')\n",
    "print(y.head())"
   ]
  },
  {
   "cell_type": "code",
   "execution_count": 4,
   "id": "42408ce8-a560-4e50-979a-86a7c5d54a0b",
   "metadata": {
    "tags": []
   },
   "outputs": [
    {
     "name": "stdout",
     "output_type": "stream",
     "text": [
      "----------------------\n",
      "seed: 0\n",
      "Best Model Parameter: {'C': 200, 'gamma': 0.0001}\n",
      "Best Model Score: 0.9275469855876644\n",
      "R2_test: 0.7080376993441224\n",
      "----------------------\n",
      "seed: 1\n",
      "Best Model Parameter: {'C': 100, 'gamma': 0.0001}\n",
      "Best Model Score: 0.905909536355266\n",
      "R2_test: 0.8043092061652809\n",
      "----------------------\n",
      "seed: 2\n",
      "Best Model Parameter: {'C': 1000, 'gamma': 1e-05}\n",
      "Best Model Score: 0.9296253357889354\n",
      "R2_test: 0.8231440540402852\n",
      "----------------------\n",
      "seed: 3\n",
      "Best Model Parameter: {'C': 1000, 'gamma': 1e-05}\n",
      "Best Model Score: 0.9040806227813736\n",
      "R2_test: 0.8344718702887974\n",
      "----------------------\n",
      "seed: 4\n",
      "Best Model Parameter: {'C': 1000, 'gamma': 1e-05}\n",
      "Best Model Score: 0.9229766321107054\n",
      "R2_test: 0.8058024479829748\n",
      "----------------------\n",
      "seed: 5\n",
      "Best Model Parameter: {'C': 750, 'gamma': 1e-05}\n",
      "Best Model Score: 0.8900917903567507\n",
      "R2_test: 0.664783377912576\n",
      "----------------------\n",
      "seed: 6\n",
      "Best Model Parameter: {'C': 1000, 'gamma': 1e-05}\n",
      "Best Model Score: 0.8950173758076906\n",
      "R2_test: 0.7431039040343068\n",
      "----------------------\n",
      "seed: 7\n",
      "Best Model Parameter: {'C': 200, 'gamma': 0.0001}\n",
      "Best Model Score: 0.9265020771853045\n",
      "R2_test: 0.7764485812948403\n",
      "----------------------\n",
      "seed: 8\n",
      "Best Model Parameter: {'C': 300, 'gamma': 0.0001}\n",
      "Best Model Score: 0.9183074676065235\n",
      "R2_test: 0.6899155432186017\n",
      "----------------------\n",
      "seed: 9\n",
      "Best Model Parameter: {'C': 1000, 'gamma': 1e-05}\n",
      "Best Model Score: 0.8977514188241006\n",
      "R2_test: 0.8643922880661693\n",
      "R2_train_means: 0.8721029402112999\n",
      "CV_score_means: 0.9117809242404314\n",
      "R2_test_means: 0.7714408972347955\n"
     ]
    }
   ],
   "source": [
    "#storage \n",
    "data_r2_train =[]\n",
    "data_RMSE_train = []\n",
    "data_MAE_train = []\n",
    "data_r2_test = []\n",
    "data_RMSE_test = []\n",
    "data_MAE_test = []\n",
    "best_model_parametors = []\n",
    "data_cv_score = []\n",
    "\n",
    "#SVM_a_X,log(y)\n",
    "for i in range(10):\n",
    "    seed=i\n",
    "    X_train, X_test, y_train, y_test = train_test_split(X, y, test_size=0.3, random_state=seed)\n",
    "    \n",
    "    #autoscaling\n",
    "    a_X_train = (X_train - X_train.mean(axis=0)) / X_train.std(axis=0, ddof=1)\n",
    "    a_X_test = (X_test - X_train.mean(axis=0)) / X_train.std(axis=0, ddof=1)\n",
    "    a_X_train = a_X_train.dropna(how='any', axis=1)\n",
    "    a_X_test = a_X_test[a_X_train.columns]\n",
    "    \n",
    "    log_y_train = np.log(y_train)\n",
    "    \n",
    "    param_svm={'C':[0.1,1,5,10,50,100,200,300,400,500,750,1000],\n",
    "               'gamma':[100,10,1,0.1,0.01,0.001,0.0001,0.00001]}\n",
    "    reg_svm = GridSearchCV(SVR(kernel='rbf', epsilon=0.3), param_grid=param_svm, cv=5, n_jobs=16)\n",
    "    reg_svm.fit(a_X_train,log_y_train['Yield'])\n",
    "    reg_best = reg_svm.best_estimator_\n",
    "    y_pred1 = np.exp(reg_best.predict(a_X_train))\n",
    "    y_pred2 = np.exp(reg_best.predict(a_X_test))\n",
    "    \n",
    "    #train\n",
    "    r2_train = metrics.r2_score(y_train, y_pred1)\n",
    "    RMSE_train = metrics.mean_squared_error(y_train, y_pred1)\n",
    "    MAE_train =  metrics.mean_absolute_error(y_train, y_pred1)\n",
    "    #test\n",
    "    r2_test = metrics.r2_score(y_test, y_pred2)\n",
    "    RMSE_test = metrics.mean_squared_error(y_test, y_pred2)\n",
    "    MAE_test = metrics.mean_absolute_error(y_test, y_pred2)\n",
    "    \n",
    "    parametors = reg_svm.best_params_\n",
    "    best_model_parametors.append(parametors)\n",
    "    cv_score = reg_svm.best_score_\n",
    "    data_cv_score.append(cv_score)\n",
    "    \n",
    "    data_r2_train.append(r2_train)\n",
    "    data_RMSE_train.append(RMSE_train)\n",
    "    data_MAE_train.append(MAE_train)\n",
    "    data_r2_test.append(r2_test)\n",
    "    data_RMSE_test.append(RMSE_test)\n",
    "    data_MAE_test.append(MAE_test)\n",
    "    \n",
    "    print('----------------------')\n",
    "    print('seed:', seed)\n",
    "    print(\"Best Model Parameter:\",reg_svm.best_params_)\n",
    "    print(\"Best Model Score:\",reg_svm.best_score_)\n",
    "    print('R2_test:', r2_test)\n",
    "print('R2_train_means:', sum(data_r2_train)/10)\n",
    "print('CV_score_means:', sum(data_cv_score)/10)\n",
    "print('R2_test_means:', sum(data_r2_test)/10)"
   ]
  },
  {
   "cell_type": "code",
   "execution_count": 5,
   "id": "ffba4580-514b-460b-b7ef-1675fe8deb0b",
   "metadata": {
    "tags": []
   },
   "outputs": [
    {
     "name": "stdout",
     "output_type": "stream",
     "text": [
      "      r2_train  RMSE_train  MAE_train   r2_test   RMSE_test   MAE_test  \\\n",
      "0     0.902478   71.899679   5.286805  0.708038  381.872124  12.119496   \n",
      "1     0.859991  126.611468   7.050066  0.804309  189.594648   7.990399   \n",
      "2     0.860510  129.042376   7.063012  0.823144  171.030528   8.378744   \n",
      "3     0.861511  129.169909   7.202028  0.834472  158.864966   7.842139   \n",
      "4     0.885987   98.290247   6.302610  0.805802  206.494969   9.032207   \n",
      "5     0.828584  138.802511   6.294612  0.664783  407.691824  12.627469   \n",
      "6     0.871162  105.734270   5.994857  0.743104  309.164257  10.242891   \n",
      "7     0.901593   94.126117   6.549893  0.776449  202.651135   9.424225   \n",
      "8     0.890335   96.517960   6.155010  0.689916  306.436570  12.089595   \n",
      "9     0.858879  143.017775   8.122859  0.864392   95.557004   6.057178   \n",
      "mean  0.872103  113.321231   6.602175  0.771441  242.935803   9.580434   \n",
      "\n",
      "      cv_score  \n",
      "0     0.927547  \n",
      "1     0.905910  \n",
      "2     0.929625  \n",
      "3     0.904081  \n",
      "4     0.922977  \n",
      "5     0.890092  \n",
      "6     0.895017  \n",
      "7     0.926502  \n",
      "8     0.918307  \n",
      "9     0.897751  \n",
      "mean  0.911781  \n"
     ]
    }
   ],
   "source": [
    "data_r2_train_pd = pd.DataFrame(data= data_r2_train, columns=['r2_train'])\n",
    "data_RMSE_train_pd = pd.DataFrame(data=data_RMSE_train, columns=['RMSE_train'])\n",
    "data_MAE_train_pd = pd.DataFrame(data=data_MAE_train, columns=['MAE_train'])\n",
    "data_r2_test_pd = pd.DataFrame(data=data_r2_test, columns=['r2_test'])\n",
    "data_RMSE_test_pd = pd.DataFrame(data=data_RMSE_test, columns=['RMSE_test'])\n",
    "data_MAE_test_pd = pd.DataFrame(data=data_MAE_test, columns=['MAE_test'])\n",
    "data_cv_score_pd = pd.DataFrame(data=data_cv_score, columns=['cv_score'])\n",
    "data_parametors = pd.DataFrame([best_model_parametors])\n",
    "\n",
    "data_all = pd.concat([data_r2_train_pd, data_RMSE_train_pd, data_MAE_train_pd, data_r2_test_pd, \n",
    "                      data_RMSE_test_pd, data_MAE_test_pd, data_cv_score_pd],\n",
    "                     axis=1, join='inner')\n",
    "\n",
    "data_all.loc['mean'] = data_all.mean()\n",
    "print(data_all)\n",
    "\n",
    "data_all.to_csv('../../score/RDKit//SVM_score.csv')"
   ]
  },
  {
   "cell_type": "code",
   "execution_count": null,
   "id": "452cf910-8660-4db5-922c-27ec46042086",
   "metadata": {
    "tags": []
   },
   "outputs": [],
   "source": []
  }
 ],
 "metadata": {
  "kernelspec": {
   "display_name": "Python 3 (ipykernel)",
   "language": "python",
   "name": "python3"
  },
  "language_info": {
   "codemirror_mode": {
    "name": "ipython",
    "version": 3
   },
   "file_extension": ".py",
   "mimetype": "text/x-python",
   "name": "python",
   "nbconvert_exporter": "python",
   "pygments_lexer": "ipython3",
   "version": "3.8.19"
  }
 },
 "nbformat": 4,
 "nbformat_minor": 5
}
