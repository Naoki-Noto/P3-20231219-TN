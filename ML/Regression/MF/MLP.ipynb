{
 "cells": [
  {
   "cell_type": "code",
   "execution_count": 1,
   "id": "5321d4c9-06c9-4577-851e-125e0ca6919c",
   "metadata": {
    "tags": []
   },
   "outputs": [],
   "source": [
    "#import\n",
    "import seaborn as sns\n",
    "import pandas as pd\n",
    "import numpy as np\n",
    "import matplotlib.pyplot as plt\n",
    "from sklearn.model_selection import train_test_split\n",
    "from sklearn.model_selection import GridSearchCV\n",
    "from sklearn.neural_network import MLPRegressor\n",
    "from sklearn import metrics"
   ]
  },
  {
   "cell_type": "code",
   "execution_count": 2,
   "id": "3e8a519a-27ee-4ee8-a4e9-2926c586a2b5",
   "metadata": {
    "tags": []
   },
   "outputs": [
    {
     "name": "stdout",
     "output_type": "stream",
     "text": [
      "<class 'pandas.core.frame.DataFrame'>\n",
      "RangeIndex: 68 entries, 0 to 67\n",
      "Columns: 150 entries, Cate_name to Yield\n",
      "dtypes: int64(148), object(2)\n",
      "memory usage: 79.8+ KB\n"
     ]
    }
   ],
   "source": [
    "#Reading dataset\n",
    "df=pd.read_csv('MF.csv')\n",
    "df.info()"
   ]
  },
  {
   "cell_type": "code",
   "execution_count": 3,
   "id": "9988ae2a-2420-405c-8297-4ee7840c93f1",
   "metadata": {
    "tags": []
   },
   "outputs": [
    {
     "name": "stdout",
     "output_type": "stream",
     "text": [
      "---Descriptors---\n",
      "   Cate_MF_9  Cate_MF_33  Cate_MF_58  Cate_MF_68  Cate_MF_80  Cate_MF_102  \\\n",
      "0          0           0           0           0           0            0   \n",
      "1          0           0           0           0           0            0   \n",
      "2          0           0           0           0           0            0   \n",
      "3          0           0           0           0           0            0   \n",
      "4          0           0           0           0           0            0   \n",
      "\n",
      "   Cate_MF_105  Cate_MF_114  Cate_MF_125  Cate_MF_142  ...  P_MF_1154  \\\n",
      "0            0            0            0            0  ...          1   \n",
      "1            0            0            0            0  ...          0   \n",
      "2            0            0            0            0  ...          0   \n",
      "3            0            0            0            0  ...          0   \n",
      "4            0            0            0            1  ...          1   \n",
      "\n",
      "   P_MF_1199  P_MF_1272  P_MF_1380  P_MF_1570  P_MF_1689  P_MF_1750  \\\n",
      "0          0          0          0          0          1          0   \n",
      "1          0          0          0          0          0          0   \n",
      "2          1          0          1          1          0          1   \n",
      "3          0          1          0          0          0          0   \n",
      "4          0          0          0          0          1          0   \n",
      "\n",
      "   P_MF_1826  P_MF_1873  P_MF_1943  \n",
      "0          1          0          0  \n",
      "1          0          0          0  \n",
      "2          0          1          1  \n",
      "3          0          0          0  \n",
      "4          1          0          0  \n",
      "\n",
      "[5 rows x 147 columns]\n",
      "---Objective---\n",
      "   Yield\n",
      "0     80\n",
      "1      7\n",
      "2      3\n",
      "3     48\n",
      "4     99\n"
     ]
    }
   ],
   "source": [
    "#Building descriptors\n",
    "X = df.drop(columns=['Yield', 'Cate_name', 'P_name' ])\n",
    "print('---Descriptors---')\n",
    "print(X.head())\n",
    "\n",
    "y = pd.DataFrame(df['Yield'],columns=['Yield'])\n",
    "print('---Objective---')\n",
    "print(y.head())"
   ]
  },
  {
   "cell_type": "code",
   "execution_count": 4,
   "id": "084c62d4-67fe-4e93-96ec-d532f9c4ee47",
   "metadata": {
    "tags": []
   },
   "outputs": [
    {
     "name": "stdout",
     "output_type": "stream",
     "text": [
      "----------------------\n",
      "seed: 0\n",
      "Best Model Parameter: {'alpha': 5, 'hidden_layer_sizes': (512,)}\n",
      "Best Model Score: 0.6674578366387063\n",
      "R2_test: 0.6865916299925416\n",
      "----------------------\n",
      "seed: 1\n",
      "Best Model Parameter: {'alpha': 3, 'hidden_layer_sizes': (256,)}\n",
      "Best Model Score: 0.6357313111393257\n",
      "R2_test: 0.7567729201683957\n",
      "----------------------\n",
      "seed: 2\n",
      "Best Model Parameter: {'alpha': 2, 'hidden_layer_sizes': (512,)}\n",
      "Best Model Score: 0.6168487919334438\n",
      "R2_test: 0.7586662765340614\n",
      "----------------------\n",
      "seed: 3\n",
      "Best Model Parameter: {'alpha': 3, 'hidden_layer_sizes': (512,)}\n",
      "Best Model Score: 0.6122299785701019\n",
      "R2_test: 0.7717205710827643\n",
      "----------------------\n",
      "seed: 4\n",
      "Best Model Parameter: {'alpha': 5, 'hidden_layer_sizes': (512,)}\n",
      "Best Model Score: 0.6361725795966969\n",
      "R2_test: 0.7572694410299217\n",
      "----------------------\n",
      "seed: 5\n",
      "Best Model Parameter: {'alpha': 5, 'hidden_layer_sizes': (512,)}\n",
      "Best Model Score: 0.6386729437272716\n",
      "R2_test: 0.8243842242333349\n",
      "----------------------\n",
      "seed: 6\n",
      "Best Model Parameter: {'alpha': 4, 'hidden_layer_sizes': (512,)}\n",
      "Best Model Score: 0.7457287591161796\n",
      "R2_test: 0.8001009388849813\n",
      "----------------------\n",
      "seed: 7\n",
      "Best Model Parameter: {'alpha': 5, 'hidden_layer_sizes': (512,)}\n",
      "Best Model Score: 0.7021670164522761\n",
      "R2_test: 0.5872440495880082\n",
      "----------------------\n",
      "seed: 8\n",
      "Best Model Parameter: {'alpha': 3, 'hidden_layer_sizes': (512,)}\n",
      "Best Model Score: 0.6499844548141793\n",
      "R2_test: 0.6761964135740199\n",
      "----------------------\n",
      "seed: 9\n",
      "Best Model Parameter: {'alpha': 5, 'hidden_layer_sizes': (512,)}\n",
      "Best Model Score: 0.5035852368799031\n",
      "R2_test: 0.740977088275074\n",
      "R2_train_means: 0.9915348396267232\n",
      "CV_score_means: 0.6408578908868084\n",
      "R2_test_means: 0.7359923553363104\n"
     ]
    }
   ],
   "source": [
    "#storage \n",
    "data_r2_train =[]\n",
    "data_RMSE_train = []\n",
    "data_MAE_train = []\n",
    "data_r2_test = []\n",
    "data_RMSE_test = []\n",
    "data_MAE_test = []\n",
    "best_model_parametors = []\n",
    "data_cv_score = []\n",
    "\n",
    "#MLP\n",
    "for i in range(10):\n",
    "    seed=i\n",
    "    X_train, X_test, y_train, y_test = train_test_split(X, y, test_size=0.3, random_state=seed)\n",
    "    \n",
    "    #autoscaling\n",
    "    a_X_train = (X_train - X_train.mean(axis=0)) / X_train.std(axis=0, ddof=1)\n",
    "    a_X_test = (X_test - X_train.mean(axis=0)) / X_train.std(axis=0, ddof=1)\n",
    "    a_X_train = a_X_train.dropna(how='any', axis=1)\n",
    "    a_X_test = a_X_test[a_X_train.columns]\n",
    "    a_y_train = y_train/10\n",
    "    \n",
    "    param_mlp={'hidden_layer_sizes':[(128,),(256,),(512,)], 'alpha':[1,2,3,4,5]}\n",
    "    reg_mlp = GridSearchCV(MLPRegressor(random_state=0, max_iter=1000, learning_rate_init=0.03),\n",
    "                           param_grid=param_mlp, cv=5, n_jobs=16)\n",
    "    \n",
    "    reg_mlp.fit(a_X_train,a_y_train['Yield'])\n",
    "    reg_best = reg_mlp.best_estimator_\n",
    "    y_pred1 = reg_best.predict(a_X_train)*10\n",
    "    y_pred2 = reg_best.predict(a_X_test)*10\n",
    "            \n",
    "    #train\n",
    "    r2_train = metrics.r2_score(y_train, y_pred1)\n",
    "    RMSE_train = metrics.root_mean_squared_error(y_train, y_pred1)\n",
    "    MAE_train =  metrics.mean_absolute_error(y_train, y_pred1)\n",
    "    \n",
    "    #test\n",
    "    r2_test = metrics.r2_score(y_test, y_pred2)\n",
    "    RMSE_test = metrics.root_mean_squared_error(y_test, y_pred2)\n",
    "    MAE_test = metrics.mean_absolute_error(y_test, y_pred2)\n",
    "    \n",
    "    #strage data of accuracy \n",
    "    parametors = reg_mlp.best_params_\n",
    "    best_model_parametors.append(parametors)\n",
    "\n",
    "    data_r2_train.append(r2_train)\n",
    "    data_RMSE_train.append(RMSE_train)\n",
    "    data_MAE_train.append(MAE_train)\n",
    "    data_r2_test.append(r2_test)\n",
    "    data_RMSE_test.append(RMSE_test)\n",
    "    data_MAE_test.append(MAE_test)\n",
    "    data_cv_score.append(reg_mlp.best_score_)\n",
    "    \n",
    "    print('----------------------')\n",
    "    print('seed:', seed)\n",
    "    print(\"Best Model Parameter:\",reg_mlp.best_params_)\n",
    "    print(\"Best Model Score:\",reg_mlp.best_score_)\n",
    "    print('R2_test:', r2_test)\n",
    "print('R2_train_means:', sum(data_r2_train)/10)\n",
    "print('CV_score_means:', sum(data_cv_score)/10)\n",
    "print('R2_test_means:', sum(data_r2_test)/10)"
   ]
  },
  {
   "cell_type": "code",
   "execution_count": 5,
   "id": "34990d07-4037-4264-98ed-f15ceafaa27c",
   "metadata": {},
   "outputs": [
    {
     "name": "stdout",
     "output_type": "stream",
     "text": [
      "      r2_train  RMSE_train  MAE_train   r2_test  RMSE_test   MAE_test  \\\n",
      "0     0.992327    2.378487   1.571675  0.686592  20.246543  14.004780   \n",
      "1     0.990475    2.934862   2.294299  0.756773  15.350899  10.819012   \n",
      "2     0.998312    1.249697   0.868692  0.758666  15.276927   9.592059   \n",
      "3     0.997233    1.606618   0.985295  0.771721  14.801698   9.470584   \n",
      "4     0.989995    2.936841   1.748624  0.757269  16.065531  11.271593   \n",
      "5     0.987406    3.193447   2.024280  0.824384  14.614535   9.686521   \n",
      "6     0.988269    3.102841   2.298037  0.800101  15.510338   9.699724   \n",
      "7     0.994005    2.394539   1.614850  0.587244  19.343385  12.880677   \n",
      "8     0.994469    2.206360   1.624882  0.676196  17.888385  13.401410   \n",
      "9     0.982858    4.168002   3.171526  0.740977  13.510087   8.980546   \n",
      "mean  0.991535    2.617169   1.820216  0.735992  16.260833  10.980691   \n",
      "\n",
      "      cv_score  \n",
      "0     0.667458  \n",
      "1     0.635731  \n",
      "2     0.616849  \n",
      "3     0.612230  \n",
      "4     0.636173  \n",
      "5     0.638673  \n",
      "6     0.745729  \n",
      "7     0.702167  \n",
      "8     0.649984  \n",
      "9     0.503585  \n",
      "mean  0.640858  \n"
     ]
    }
   ],
   "source": [
    "data_r2_train_pd = pd.DataFrame(data= data_r2_train, columns=['r2_train'])\n",
    "data_RMSE_train_pd = pd.DataFrame(data=data_RMSE_train, columns=['RMSE_train'])\n",
    "data_MAE_train_pd = pd.DataFrame(data=data_MAE_train, columns=['MAE_train'])\n",
    "data_r2_test_pd = pd.DataFrame(data=data_r2_test, columns=['r2_test'])\n",
    "data_RMSE_test_pd = pd.DataFrame(data=data_RMSE_test, columns=['RMSE_test'])\n",
    "data_MAE_test_pd = pd.DataFrame(data=data_MAE_test, columns=['MAE_test'])\n",
    "data_cv_score_pd = pd.DataFrame(data=data_cv_score, columns=['cv_score'])\n",
    "data_parametors = pd.DataFrame([best_model_parametors])\n",
    "\n",
    "data_all = pd.concat([data_r2_train_pd, data_RMSE_train_pd, data_MAE_train_pd, data_r2_test_pd, \n",
    "                      data_RMSE_test_pd, data_MAE_test_pd, data_cv_score_pd],\n",
    "                     axis=1, join='inner')\n",
    "\n",
    "data_all.loc['mean'] = data_all.mean()\n",
    "print(data_all)\n",
    "\n",
    "data_all.to_csv('../../score/MF/MLP_score.csv')"
   ]
  },
  {
   "cell_type": "code",
   "execution_count": null,
   "id": "e4df374f-cec7-446d-b36d-23bf1128b368",
   "metadata": {},
   "outputs": [],
   "source": []
  }
 ],
 "metadata": {
  "kernelspec": {
   "display_name": "Python 3 (ipykernel)",
   "language": "python",
   "name": "python3"
  },
  "language_info": {
   "codemirror_mode": {
    "name": "ipython",
    "version": 3
   },
   "file_extension": ".py",
   "mimetype": "text/x-python",
   "name": "python",
   "nbconvert_exporter": "python",
   "pygments_lexer": "ipython3",
   "version": "3.9.19"
  }
 },
 "nbformat": 4,
 "nbformat_minor": 5
}
