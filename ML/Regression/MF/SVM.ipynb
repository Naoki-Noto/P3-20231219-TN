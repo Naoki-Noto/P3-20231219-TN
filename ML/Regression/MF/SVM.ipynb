{
 "cells": [
  {
   "cell_type": "code",
   "execution_count": 1,
   "id": "2eb56b16-339c-4224-8051-04dc72f5b54d",
   "metadata": {
    "tags": []
   },
   "outputs": [],
   "source": [
    "#import\n",
    "import pandas as pd\n",
    "import numpy as np\n",
    "import matplotlib.pyplot as plt\n",
    "from sklearn.model_selection import train_test_split\n",
    "from sklearn.model_selection import GridSearchCV\n",
    "from sklearn.svm import SVR\n",
    "from sklearn import metrics"
   ]
  },
  {
   "cell_type": "code",
   "execution_count": 2,
   "id": "9c397d87-038e-4731-9776-7a43adf9e7b1",
   "metadata": {
    "tags": []
   },
   "outputs": [
    {
     "name": "stdout",
     "output_type": "stream",
     "text": [
      "<class 'pandas.core.frame.DataFrame'>\n",
      "RangeIndex: 68 entries, 0 to 67\n",
      "Columns: 150 entries, Cate_name to Yield\n",
      "dtypes: int64(148), object(2)\n",
      "memory usage: 79.8+ KB\n"
     ]
    }
   ],
   "source": [
    "#Reading dataset\n",
    "df=pd.read_csv('MF.csv')\n",
    "df.info()"
   ]
  },
  {
   "cell_type": "code",
   "execution_count": 3,
   "id": "80142ace-7678-4a05-9b7b-fd9f33859f6f",
   "metadata": {
    "tags": []
   },
   "outputs": [
    {
     "name": "stdout",
     "output_type": "stream",
     "text": [
      "---Descriptors---\n",
      "   Cate_MF_9  Cate_MF_33  Cate_MF_58  Cate_MF_68  Cate_MF_80  Cate_MF_102  \\\n",
      "0          0           0           0           0           0            0   \n",
      "1          0           0           0           0           0            0   \n",
      "2          0           0           0           0           0            0   \n",
      "3          0           0           0           0           0            0   \n",
      "4          0           0           0           0           0            0   \n",
      "\n",
      "   Cate_MF_105  Cate_MF_114  Cate_MF_125  Cate_MF_142  ...  P_MF_1154  \\\n",
      "0            0            0            0            0  ...          1   \n",
      "1            0            0            0            0  ...          0   \n",
      "2            0            0            0            0  ...          0   \n",
      "3            0            0            0            0  ...          0   \n",
      "4            0            0            0            1  ...          1   \n",
      "\n",
      "   P_MF_1199  P_MF_1272  P_MF_1380  P_MF_1570  P_MF_1689  P_MF_1750  \\\n",
      "0          0          0          0          0          1          0   \n",
      "1          0          0          0          0          0          0   \n",
      "2          1          0          1          1          0          1   \n",
      "3          0          1          0          0          0          0   \n",
      "4          0          0          0          0          1          0   \n",
      "\n",
      "   P_MF_1826  P_MF_1873  P_MF_1943  \n",
      "0          1          0          0  \n",
      "1          0          0          0  \n",
      "2          0          1          1  \n",
      "3          0          0          0  \n",
      "4          1          0          0  \n",
      "\n",
      "[5 rows x 147 columns]\n",
      "---Objective---\n",
      "   Yield\n",
      "0     80\n",
      "1      7\n",
      "2      3\n",
      "3     48\n",
      "4     99\n"
     ]
    }
   ],
   "source": [
    "#Building descriptors\n",
    "X = df.drop(columns=['Yield', 'Cate_name', 'P_name' ])\n",
    "print('---Descriptors---')\n",
    "print(X.head())\n",
    "\n",
    "y = pd.DataFrame(df['Yield'],columns=['Yield'])\n",
    "print('---Objective---')\n",
    "print(y.head())"
   ]
  },
  {
   "cell_type": "code",
   "execution_count": 4,
   "id": "42408ce8-a560-4e50-979a-86a7c5d54a0b",
   "metadata": {
    "tags": []
   },
   "outputs": [
    {
     "name": "stdout",
     "output_type": "stream",
     "text": [
      "----------------------\n",
      "seed: 0\n",
      "Best Model Parameter: {'C': 400, 'gamma': 0.0001}\n",
      "Best Model Score: 0.9260550342332469\n",
      "R2_test: 0.7145786410708018\n",
      "----------------------\n",
      "seed: 1\n",
      "Best Model Parameter: {'C': 500, 'gamma': 0.0001}\n",
      "Best Model Score: 0.9041865864324409\n",
      "R2_test: 0.8158857731871294\n",
      "----------------------\n",
      "seed: 2\n",
      "Best Model Parameter: {'C': 500, 'gamma': 0.0001}\n",
      "Best Model Score: 0.9375924700788406\n",
      "R2_test: 0.7779666434786198\n",
      "----------------------\n",
      "seed: 3\n",
      "Best Model Parameter: {'C': 400, 'gamma': 0.0001}\n",
      "Best Model Score: 0.9112551077555959\n",
      "R2_test: 0.811597278159159\n",
      "----------------------\n",
      "seed: 4\n",
      "Best Model Parameter: {'C': 1000, 'gamma': 0.0001}\n",
      "Best Model Score: 0.9088453330990562\n",
      "R2_test: 0.8076923069130946\n",
      "----------------------\n",
      "seed: 5\n",
      "Best Model Parameter: {'C': 1000, 'gamma': 1e-05}\n",
      "Best Model Score: 0.8982972671485936\n",
      "R2_test: 0.5631014152690298\n",
      "----------------------\n",
      "seed: 6\n",
      "Best Model Parameter: {'C': 1000, 'gamma': 0.0001}\n",
      "Best Model Score: 0.8915067825705496\n",
      "R2_test: 0.6300417043434609\n",
      "----------------------\n",
      "seed: 7\n",
      "Best Model Parameter: {'C': 1000, 'gamma': 0.0001}\n",
      "Best Model Score: 0.9257030031678971\n",
      "R2_test: 0.7590714278985853\n",
      "----------------------\n",
      "seed: 8\n",
      "Best Model Parameter: {'C': 1000, 'gamma': 0.0001}\n",
      "Best Model Score: 0.9072865581233731\n",
      "R2_test: 0.6535133790300396\n",
      "----------------------\n",
      "seed: 9\n",
      "Best Model Parameter: {'C': 300, 'gamma': 0.0001}\n",
      "Best Model Score: 0.8878619814964044\n",
      "R2_test: 0.8716538251070959\n",
      "R2_train_means: 0.8778765187092684\n",
      "CV_score_means: 0.9098590124105999\n",
      "R2_test_means: 0.7405102394457017\n"
     ]
    }
   ],
   "source": [
    "#storage \n",
    "data_r2_train =[]\n",
    "data_RMSE_train = []\n",
    "data_MAE_train = []\n",
    "data_r2_test = []\n",
    "data_RMSE_test = []\n",
    "data_MAE_test = []\n",
    "best_model_parametors = []\n",
    "data_cv_score = []\n",
    "\n",
    "#SVM_a_X,log(y)\n",
    "for i in range(10):\n",
    "    seed=i\n",
    "    X_train, X_test, y_train, y_test = train_test_split(X, y, test_size=0.3, random_state=seed)\n",
    "    \n",
    "    #autoscaling\n",
    "    a_X_train = (X_train - X_train.mean(axis=0)) / X_train.std(axis=0, ddof=1)\n",
    "    a_X_test = (X_test - X_train.mean(axis=0)) / X_train.std(axis=0, ddof=1)\n",
    "    a_X_train = a_X_train.dropna(how='any', axis=1)\n",
    "    a_X_test = a_X_test[a_X_train.columns]\n",
    "    \n",
    "    log_y_train = np.log(y_train)\n",
    "    \n",
    "    param_svm={'C':[0.1,1,5,10,50,100,200,300,400,500,750,1000],\n",
    "               'gamma':[100,10,1,0.1,0.01,0.001,0.0001,0.00001]}\n",
    "    reg_svm = GridSearchCV(SVR(kernel='rbf', epsilon=0.3), param_grid=param_svm, cv=5, n_jobs=16)\n",
    "    reg_svm.fit(a_X_train,log_y_train['Yield'])\n",
    "    reg_best = reg_svm.best_estimator_\n",
    "    y_pred1 = np.exp(reg_best.predict(a_X_train))\n",
    "    y_pred2 = np.exp(reg_best.predict(a_X_test))\n",
    "    \n",
    "    #train\n",
    "    r2_train = metrics.r2_score(y_train, y_pred1)\n",
    "    RMSE_train = metrics.mean_squared_error(y_train, y_pred1)\n",
    "    MAE_train =  metrics.mean_absolute_error(y_train, y_pred1)\n",
    "    #test\n",
    "    r2_test = metrics.r2_score(y_test, y_pred2)\n",
    "    RMSE_test = metrics.mean_squared_error(y_test, y_pred2)\n",
    "    MAE_test = metrics.mean_absolute_error(y_test, y_pred2)\n",
    "    \n",
    "    parametors = reg_svm.best_params_\n",
    "    best_model_parametors.append(parametors)\n",
    "    cv_score = reg_svm.best_score_\n",
    "    data_cv_score.append(cv_score)\n",
    "    \n",
    "    data_r2_train.append(r2_train)\n",
    "    data_RMSE_train.append(RMSE_train)\n",
    "    data_MAE_train.append(MAE_train)\n",
    "    data_r2_test.append(r2_test)\n",
    "    data_RMSE_test.append(RMSE_test)\n",
    "    data_MAE_test.append(MAE_test)\n",
    "    \n",
    "    print('----------------------')\n",
    "    print('seed:', seed)\n",
    "    print(\"Best Model Parameter:\",reg_svm.best_params_)\n",
    "    print(\"Best Model Score:\",reg_svm.best_score_)\n",
    "    print('R2_test:', r2_test)\n",
    "print('R2_train_means:', sum(data_r2_train)/10)\n",
    "print('CV_score_means:', sum(data_cv_score)/10)\n",
    "print('R2_test_means:', sum(data_r2_test)/10)"
   ]
  },
  {
   "cell_type": "code",
   "execution_count": 5,
   "id": "ffba4580-514b-460b-b7ef-1675fe8deb0b",
   "metadata": {
    "tags": []
   },
   "outputs": [
    {
     "name": "stdout",
     "output_type": "stream",
     "text": [
      "      r2_train  RMSE_train  MAE_train   r2_test   RMSE_test   MAE_test  \\\n",
      "0     0.910632   65.887895   5.078960  0.714579  373.316899  11.949155   \n",
      "1     0.875201  112.856665   6.880168  0.815886  178.378714   7.822454   \n",
      "2     0.893646   98.387918   6.366829  0.777967  214.719850   8.833292   \n",
      "3     0.881712  110.328667   6.779024  0.811597  180.818765   7.983020   \n",
      "4     0.900697   85.608671   5.922603  0.807692  204.485436   8.787850   \n",
      "5     0.789110  170.765594   7.000468  0.563101  531.357842  14.212411   \n",
      "6     0.884157   95.069298   6.682697  0.630042  445.230128  13.479304   \n",
      "7     0.898184   97.386943   6.562042  0.759071  218.403663   9.168385   \n",
      "8     0.894883   92.515184   5.993947  0.653513  342.410493  12.630056   \n",
      "9     0.850543  151.466493   8.327877  0.871654   90.440107   5.849256   \n",
      "mean  0.877877  108.027333   6.559462  0.740510  277.956190  10.071518   \n",
      "\n",
      "      cv_score  \n",
      "0     0.926055  \n",
      "1     0.904187  \n",
      "2     0.937592  \n",
      "3     0.911255  \n",
      "4     0.908845  \n",
      "5     0.898297  \n",
      "6     0.891507  \n",
      "7     0.925703  \n",
      "8     0.907287  \n",
      "9     0.887862  \n",
      "mean  0.909859  \n"
     ]
    }
   ],
   "source": [
    "data_r2_train_pd = pd.DataFrame(data= data_r2_train, columns=['r2_train'])\n",
    "data_RMSE_train_pd = pd.DataFrame(data=data_RMSE_train, columns=['RMSE_train'])\n",
    "data_MAE_train_pd = pd.DataFrame(data=data_MAE_train, columns=['MAE_train'])\n",
    "data_r2_test_pd = pd.DataFrame(data=data_r2_test, columns=['r2_test'])\n",
    "data_RMSE_test_pd = pd.DataFrame(data=data_RMSE_test, columns=['RMSE_test'])\n",
    "data_MAE_test_pd = pd.DataFrame(data=data_MAE_test, columns=['MAE_test'])\n",
    "data_cv_score_pd = pd.DataFrame(data=data_cv_score, columns=['cv_score'])\n",
    "data_parametors = pd.DataFrame([best_model_parametors])\n",
    "\n",
    "data_all = pd.concat([data_r2_train_pd, data_RMSE_train_pd, data_MAE_train_pd, data_r2_test_pd, \n",
    "                      data_RMSE_test_pd, data_MAE_test_pd, data_cv_score_pd],\n",
    "                     axis=1, join='inner')\n",
    "\n",
    "data_all.loc['mean'] = data_all.mean()\n",
    "print(data_all)\n",
    "\n",
    "data_all.to_csv('../../score/MF//SVM_score.csv')"
   ]
  },
  {
   "cell_type": "code",
   "execution_count": null,
   "id": "452cf910-8660-4db5-922c-27ec46042086",
   "metadata": {
    "tags": []
   },
   "outputs": [],
   "source": []
  }
 ],
 "metadata": {
  "kernelspec": {
   "display_name": "Python 3 (ipykernel)",
   "language": "python",
   "name": "python3"
  },
  "language_info": {
   "codemirror_mode": {
    "name": "ipython",
    "version": 3
   },
   "file_extension": ".py",
   "mimetype": "text/x-python",
   "name": "python",
   "nbconvert_exporter": "python",
   "pygments_lexer": "ipython3",
   "version": "3.8.19"
  }
 },
 "nbformat": 4,
 "nbformat_minor": 5
}
