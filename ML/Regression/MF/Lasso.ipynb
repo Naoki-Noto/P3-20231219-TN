{
 "cells": [
  {
   "cell_type": "code",
   "execution_count": 1,
   "id": "24250875-9c00-4a2e-b044-2905593b872d",
   "metadata": {
    "tags": []
   },
   "outputs": [],
   "source": [
    "#import\n",
    "import seaborn as sns\n",
    "import pandas as pd\n",
    "import numpy as np\n",
    "import matplotlib.pyplot as plt\n",
    "from sklearn.model_selection import train_test_split\n",
    "from sklearn.linear_model import LinearRegression\n",
    "from sklearn.linear_model import LassoCV\n",
    "from sklearn import metrics\n",
    "import warnings\n",
    "warnings.filterwarnings('ignore')"
   ]
  },
  {
   "cell_type": "code",
   "execution_count": 2,
   "id": "710c369c-62c4-4a63-a9f8-fa343155455d",
   "metadata": {
    "tags": []
   },
   "outputs": [
    {
     "name": "stdout",
     "output_type": "stream",
     "text": [
      "<class 'pandas.core.frame.DataFrame'>\n",
      "RangeIndex: 68 entries, 0 to 67\n",
      "Columns: 150 entries, Cate_name to Yield\n",
      "dtypes: int64(148), object(2)\n",
      "memory usage: 79.8+ KB\n"
     ]
    }
   ],
   "source": [
    "#Reading dataset\n",
    "df=pd.read_csv('MF.csv')\n",
    "df.info()"
   ]
  },
  {
   "cell_type": "code",
   "execution_count": 3,
   "id": "ce899465-892d-48fd-868d-458930162f54",
   "metadata": {
    "tags": []
   },
   "outputs": [
    {
     "name": "stdout",
     "output_type": "stream",
     "text": [
      "---Descriptors---\n",
      "   Cate_MF_9  Cate_MF_33  Cate_MF_58  Cate_MF_68  Cate_MF_80  Cate_MF_102  \\\n",
      "0          0           0           0           0           0            0   \n",
      "1          0           0           0           0           0            0   \n",
      "2          0           0           0           0           0            0   \n",
      "3          0           0           0           0           0            0   \n",
      "4          0           0           0           0           0            0   \n",
      "\n",
      "   Cate_MF_105  Cate_MF_114  Cate_MF_125  Cate_MF_142  ...  P_MF_1154  \\\n",
      "0            0            0            0            0  ...          1   \n",
      "1            0            0            0            0  ...          0   \n",
      "2            0            0            0            0  ...          0   \n",
      "3            0            0            0            0  ...          0   \n",
      "4            0            0            0            1  ...          1   \n",
      "\n",
      "   P_MF_1199  P_MF_1272  P_MF_1380  P_MF_1570  P_MF_1689  P_MF_1750  \\\n",
      "0          0          0          0          0          1          0   \n",
      "1          0          0          0          0          0          0   \n",
      "2          1          0          1          1          0          1   \n",
      "3          0          1          0          0          0          0   \n",
      "4          0          0          0          0          1          0   \n",
      "\n",
      "   P_MF_1826  P_MF_1873  P_MF_1943  \n",
      "0          1          0          0  \n",
      "1          0          0          0  \n",
      "2          0          1          1  \n",
      "3          0          0          0  \n",
      "4          1          0          0  \n",
      "\n",
      "[5 rows x 147 columns]\n",
      "---Objective---\n",
      "   Yield\n",
      "0     80\n",
      "1      7\n",
      "2      3\n",
      "3     48\n",
      "4     99\n"
     ]
    }
   ],
   "source": [
    "#Building descriptors\n",
    "X = df.drop(columns=['Yield', 'Cate_name', 'P_name' ])\n",
    "print('---Descriptors---')\n",
    "print(X.head())\n",
    "\n",
    "y = pd.DataFrame(df['Yield'],columns=['Yield'])\n",
    "print('---Objective---')\n",
    "print(y.head())"
   ]
  },
  {
   "cell_type": "code",
   "execution_count": 4,
   "id": "0f79bef2-cad5-4f86-a1d9-c8b07bbf4ee0",
   "metadata": {},
   "outputs": [
    {
     "name": "stdout",
     "output_type": "stream",
     "text": [
      "----------------------\n",
      "seed: 0\n",
      "R2_train: 0.9027777058159158\n",
      "R2_test: 0.6758262363855525\n",
      "----------------------\n",
      "----------------------\n",
      "seed: 1\n",
      "R2_train: 0.8447556360517583\n",
      "R2_test: 0.7689928436289426\n",
      "----------------------\n",
      "----------------------\n",
      "seed: 2\n",
      "R2_train: 0.8649878294761487\n",
      "R2_test: 0.7814903013313679\n",
      "----------------------\n",
      "----------------------\n",
      "seed: 3\n",
      "R2_train: 0.867800556029937\n",
      "R2_test: 0.774577330824064\n",
      "----------------------\n",
      "----------------------\n",
      "seed: 4\n",
      "R2_train: 0.8619551338640604\n",
      "R2_test: 0.7619987129961039\n",
      "----------------------\n",
      "----------------------\n",
      "seed: 5\n",
      "R2_train: 0.8613788528114383\n",
      "R2_test: 0.7200254264875928\n",
      "----------------------\n",
      "----------------------\n",
      "seed: 6\n",
      "R2_train: 0.879838729787833\n",
      "R2_test: 0.7179052224151063\n",
      "----------------------\n",
      "----------------------\n",
      "seed: 7\n",
      "R2_train: 0.8760728326963962\n",
      "R2_test: 0.7195992250304478\n",
      "----------------------\n",
      "----------------------\n",
      "seed: 8\n",
      "R2_train: 0.8815129217088655\n",
      "R2_test: 0.7054529737670834\n",
      "----------------------\n",
      "----------------------\n",
      "seed: 9\n",
      "R2_train: 0.8569769114103032\n",
      "R2_test: 0.5668680745188921\n",
      "----------------------\n",
      "R2_train_means: 0.8698057109652657\n",
      "R2_test_means: 0.7192736347385152\n"
     ]
    }
   ],
   "source": [
    "#storage \n",
    "data_r2_train =[]\n",
    "data_RMSE_train = []\n",
    "data_MAE_train = []\n",
    "data_r2_test = []\n",
    "data_RMSE_test = []\n",
    "data_MAE_test = []\n",
    "cum_coef = np.zeros((1,X.shape[1]))\n",
    "\n",
    "#Lasso\n",
    "for i in range(10):\n",
    "    seed=i\n",
    "    X_train, X_test, y_train, y_test = train_test_split(X, y, test_size=0.3, random_state=seed)\n",
    "    \n",
    "    a_X_train = (X_train - X_train.mean(axis=0)) / X_train.std(axis=0, ddof=1)\n",
    "    a_X_test = (X_test - X_train.mean(axis=0)) / X_train.std(axis=0, ddof=1)\n",
    "    a_X_train = a_X_train.dropna(how='any', axis=1)\n",
    "    a_X_test = a_X_test[a_X_train.columns]\n",
    "    \n",
    "    n_lambda = 1000\n",
    "    alphas = np.logspace(-6, 0, n_lambda)\n",
    "    model = LassoCV(cv=5, alphas=alphas)\n",
    "    model.fit(a_X_train, y_train['Yield'])\n",
    "    \n",
    "    y_pred1 = model.predict(a_X_train)\n",
    "    y_pred2 = model.predict(a_X_test)\n",
    "    \n",
    "    #train\n",
    "    r2_train = metrics.r2_score(y_train, y_pred1)\n",
    "    RMSE_train = metrics.mean_squared_error(y_train, y_pred1)\n",
    "    MAE_train =  metrics.mean_absolute_error(y_train, y_pred1)\n",
    "    #test\n",
    "    r2_test = metrics.r2_score(y_test, y_pred2)\n",
    "    RMSE_test = metrics.mean_squared_error(y_test, y_pred2)\n",
    "    MAE_test = metrics.mean_absolute_error(y_test, y_pred2)\n",
    "    \n",
    "    data_r2_train.append(r2_train)\n",
    "    data_RMSE_train.append(RMSE_train)\n",
    "    data_MAE_train.append(MAE_train)\n",
    "    data_r2_test.append(r2_test)\n",
    "    data_RMSE_test.append(RMSE_test)\n",
    "    data_MAE_test.append(MAE_test)\n",
    "    \n",
    "    print('----------------------')\n",
    "    print('seed:', seed)\n",
    "    print('R2_train:', r2_train)\n",
    "    print('R2_test:', r2_test)\n",
    "    print('----------------------')\n",
    "print('R2_train_means:', sum(data_r2_train)/10)\n",
    "print('R2_test_means:', sum(data_r2_test)/10)"
   ]
  },
  {
   "cell_type": "code",
   "execution_count": 5,
   "id": "dee01ad3-7641-4c5c-8319-4d4639226e10",
   "metadata": {},
   "outputs": [
    {
     "name": "stdout",
     "output_type": "stream",
     "text": [
      "      r2_train  RMSE_train  MAE_train   r2_test   RMSE_test   MAE_test\n",
      "0     0.902778   71.678666   5.554967  0.675826  424.003111  13.467946\n",
      "1     0.844756  140.388975   7.951091  0.768993  223.810838  10.926427\n",
      "2     0.864988  124.899643   7.415088  0.781490  211.312257   8.718094\n",
      "3     0.867801  123.303840   7.415537  0.774577  216.348512   9.638416\n",
      "4     0.861955  119.008048   7.637516  0.761999  253.072543   9.787237\n",
      "5     0.861379  112.246858   6.691848  0.720025  340.506219  11.041694\n",
      "6     0.879839   98.613183   6.393117  0.717905  339.489871  11.430731\n",
      "7     0.876073  118.536083   7.401623  0.719599  254.185528  11.453419\n",
      "8     0.881513  104.282468   6.810510  0.705453  291.081924  12.067384\n",
      "9     0.856977  144.945775   8.594229  0.566868  305.209702  12.155947\n",
      "mean  0.869806  115.790354   7.186553  0.719274  285.902050  11.068729\n"
     ]
    }
   ],
   "source": [
    "data_r2_train_pd = pd.DataFrame(data= data_r2_train, columns=['r2_train'])\n",
    "data_RMSE_train_pd = pd.DataFrame(data=data_RMSE_train, columns=['RMSE_train'])\n",
    "data_MAE_train_pd = pd.DataFrame(data=data_MAE_train, columns=['MAE_train'])\n",
    "data_r2_test_pd = pd.DataFrame(data=data_r2_test, columns=['r2_test'])\n",
    "data_RMSE_test_pd = pd.DataFrame(data=data_RMSE_test, columns=['RMSE_test'])\n",
    "data_MAE_test_pd = pd.DataFrame(data=data_MAE_test, columns=['MAE_test'])\n",
    "\n",
    "data_all = pd.concat([data_r2_train_pd, data_RMSE_train_pd, data_MAE_train_pd, data_r2_test_pd, \n",
    "                      data_RMSE_test_pd, data_MAE_test_pd],\n",
    "                     axis=1, join='inner')\n",
    "\n",
    "data_all.loc['mean'] = data_all.mean()\n",
    "print(data_all)\n",
    "\n",
    "data_all.to_csv('../../score/MF/Lasso_score.csv')"
   ]
  },
  {
   "cell_type": "code",
   "execution_count": null,
   "id": "f2d4cae4-1844-4994-b33d-f01b39299b7b",
   "metadata": {
    "tags": []
   },
   "outputs": [],
   "source": []
  }
 ],
 "metadata": {
  "kernelspec": {
   "display_name": "Python 3 (ipykernel)",
   "language": "python",
   "name": "python3"
  },
  "language_info": {
   "codemirror_mode": {
    "name": "ipython",
    "version": 3
   },
   "file_extension": ".py",
   "mimetype": "text/x-python",
   "name": "python",
   "nbconvert_exporter": "python",
   "pygments_lexer": "ipython3",
   "version": "3.8.19"
  }
 },
 "nbformat": 4,
 "nbformat_minor": 5
}
