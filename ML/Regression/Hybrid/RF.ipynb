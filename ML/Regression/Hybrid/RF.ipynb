{
 "cells": [
  {
   "cell_type": "code",
   "execution_count": 1,
   "id": "6bced5a3-7b6b-46d0-bb14-8d7381164e98",
   "metadata": {
    "tags": []
   },
   "outputs": [
    {
     "name": "stderr",
     "output_type": "stream",
     "text": [
      "C:\\Users\\noton\\anaconda3\\envs\\TN5\\lib\\site-packages\\tqdm\\auto.py:21: TqdmWarning: IProgress not found. Please update jupyter and ipywidgets. See https://ipywidgets.readthedocs.io/en/stable/user_install.html\n",
      "  from .autonotebook import tqdm as notebook_tqdm\n"
     ]
    }
   ],
   "source": [
    "#import\n",
    "import seaborn as sns\n",
    "import pandas as pd\n",
    "import numpy as np\n",
    "import matplotlib.pyplot as plt\n",
    "from sklearn.model_selection import train_test_split\n",
    "from sklearn.model_selection import GridSearchCV\n",
    "from sklearn.ensemble import RandomForestRegressor\n",
    "from sklearn import metrics\n",
    "import shap"
   ]
  },
  {
   "cell_type": "code",
   "execution_count": 2,
   "id": "771b9971-f7dd-432e-87e9-36eff21b7f56",
   "metadata": {
    "tags": []
   },
   "outputs": [
    {
     "name": "stdout",
     "output_type": "stream",
     "text": [
      "<class 'pandas.core.frame.DataFrame'>\n",
      "RangeIndex: 68 entries, 0 to 67\n",
      "Data columns (total 31 columns):\n",
      " #   Column             Non-Null Count  Dtype  \n",
      "---  ------             --------------  -----  \n",
      " 0   Cate_name          68 non-null     object \n",
      " 1   Cate_HOMO          68 non-null     float64\n",
      " 2   Cate_LUMO          68 non-null     float64\n",
      " 3   Cate_ESP_O1        68 non-null     float64\n",
      " 4   Cate_ESP_H1        68 non-null     float64\n",
      " 5   Cate_ESP_O2        68 non-null     float64\n",
      " 6   Cate_ESP_H2        68 non-null     float64\n",
      " 7   Cate_BL_ArO1       68 non-null     float64\n",
      " 8   Cate_BL_O1H1       68 non-null     float64\n",
      " 9   Cate_BL_ArO2       68 non-null     float64\n",
      " 10  Cate_BL_O2H2       68 non-null     float64\n",
      " 11  Cate_total_dipole  68 non-null     float64\n",
      " 12  Cate_RDKit_PC_0    68 non-null     float64\n",
      " 13  Cate_RDKit_PC_1    68 non-null     float64\n",
      " 14  Cate_RDKit_PC_2    68 non-null     float64\n",
      " 15  Cate_RDKit_PC_3    68 non-null     float64\n",
      " 16  Cate_RDKit_PC_4    68 non-null     float64\n",
      " 17  Cate_RDKit_PC_5    68 non-null     float64\n",
      " 18  Cate_RDKit_PC_6    68 non-null     float64\n",
      " 19  P_name             68 non-null     object \n",
      " 20  P_HOMO             68 non-null     float64\n",
      " 21  P_LUMO             68 non-null     float64\n",
      " 22  P_ESP_P            68 non-null     float64\n",
      " 23  P_ESP_=O           68 non-null     float64\n",
      " 24  P_ESP_H            68 non-null     float64\n",
      " 25  P_BL_P=O           68 non-null     float64\n",
      " 26  P_BL_PH            68 non-null     float64\n",
      " 27  P_total_dipole     68 non-null     float64\n",
      " 28  P_RDKit_PC_0       68 non-null     float64\n",
      " 29  P_RDKit_PC_1       68 non-null     float64\n",
      " 30  Yield              68 non-null     int64  \n",
      "dtypes: float64(28), int64(1), object(2)\n",
      "memory usage: 16.6+ KB\n"
     ]
    }
   ],
   "source": [
    "#Reading dataset\n",
    "df=pd.read_csv('Hybrid.csv')\n",
    "df.info()"
   ]
  },
  {
   "cell_type": "code",
   "execution_count": 3,
   "id": "6a488667-aad8-4757-9882-975291e1ea2d",
   "metadata": {
    "tags": []
   },
   "outputs": [
    {
     "name": "stdout",
     "output_type": "stream",
     "text": [
      "---Descriptors---\n",
      "   Cate_HOMO  Cate_LUMO  Cate_ESP_O1  Cate_ESP_H1  Cate_ESP_O2  Cate_ESP_H2  \\\n",
      "0      -5.63       0.21    -0.555170     0.441278    -0.594799     0.444770   \n",
      "1      -5.63       0.21    -0.555170     0.441278    -0.594799     0.444770   \n",
      "2      -5.63       0.21    -0.555170     0.441278    -0.594799     0.444770   \n",
      "3      -5.63       0.21    -0.555170     0.441278    -0.594799     0.444770   \n",
      "4      -5.51       0.22    -0.542028     0.433177    -0.582447     0.440296   \n",
      "\n",
      "   Cate_BL_ArO1  Cate_BL_O1H1  Cate_BL_ArO2  Cate_BL_O2H2  ...  P_HOMO  \\\n",
      "0         1.363         0.969         1.378         0.965  ...   -7.85   \n",
      "1         1.363         0.969         1.378         0.965  ...   -8.16   \n",
      "2         1.363         0.969         1.378         0.965  ...   -7.22   \n",
      "3         1.363         0.969         1.378         0.965  ...   -7.85   \n",
      "4         1.364         0.969         1.379         0.965  ...   -7.85   \n",
      "\n",
      "   P_LUMO   P_ESP_P  P_ESP_=O   P_ESP_H  P_BL_P=O  P_BL_PH  P_total_dipole  \\\n",
      "0    1.77  0.997297 -0.600515 -0.035840     1.482    1.402        2.286892   \n",
      "1    1.03  0.934101 -0.617890  0.007945     1.481    1.398        1.745964   \n",
      "2   -0.99  0.742856 -0.578490  0.009025     1.489    1.409        3.773141   \n",
      "3    0.75  0.788747 -0.578264 -0.038475     1.485    1.412        2.623175   \n",
      "4    1.77  0.997297 -0.600515 -0.035840     1.482    1.402        2.286892   \n",
      "\n",
      "   P_RDKit_PC_0  P_RDKit_PC_1  \n",
      "0      1.406982      7.906757  \n",
      "1     -5.494109      0.842109  \n",
      "2     11.128658     -3.748087  \n",
      "3     -7.041532     -5.000780  \n",
      "4      1.406982      7.906757  \n",
      "\n",
      "[5 rows x 28 columns]\n",
      "---Objective---\n",
      "   Yield\n",
      "0     80\n",
      "1      7\n",
      "2      3\n",
      "3     48\n",
      "4     99\n"
     ]
    }
   ],
   "source": [
    "#Building descriptors\n",
    "X = df.drop(columns=['Yield', 'Cate_name', 'P_name' ])\n",
    "print('---Descriptors---')\n",
    "print(X.head())\n",
    "\n",
    "y = pd.DataFrame(df['Yield'],columns=['Yield'])\n",
    "y=y.astype(int)\n",
    "print('---Objective---')\n",
    "print(y.head())"
   ]
  },
  {
   "cell_type": "code",
   "execution_count": 4,
   "id": "c10a58c1-6449-48f6-bd2d-9fa49b46f891",
   "metadata": {
    "tags": []
   },
   "outputs": [
    {
     "name": "stdout",
     "output_type": "stream",
     "text": [
      "----------------------\n",
      "seed: 0\n",
      "Best Model Parameter: {'max_depth': 2, 'n_estimators': 3000}\n",
      "Best Model Score: 0.8024338599711631\n",
      "R2_test: 0.7193464004915875\n",
      "----------------------\n",
      "seed: 1\n",
      "Best Model Parameter: {'max_depth': 5, 'n_estimators': 3000}\n",
      "Best Model Score: 0.6958853226015665\n",
      "R2_test: 0.8675995208454185\n",
      "----------------------\n",
      "seed: 2\n",
      "Best Model Parameter: {'max_depth': 2, 'n_estimators': 3000}\n",
      "Best Model Score: 0.778458072605602\n",
      "R2_test: 0.7973396707378758\n",
      "----------------------\n",
      "seed: 3\n",
      "Best Model Parameter: {'max_depth': 2, 'n_estimators': 100}\n",
      "Best Model Score: 0.7638371755793768\n",
      "R2_test: 0.7566999086490942\n",
      "----------------------\n",
      "seed: 4\n",
      "Best Model Parameter: {'max_depth': 2, 'n_estimators': 500}\n",
      "Best Model Score: 0.8042466051827712\n",
      "R2_test: 0.760141836676012\n",
      "----------------------\n",
      "seed: 5\n",
      "Best Model Parameter: {'max_depth': 4, 'n_estimators': 50}\n",
      "Best Model Score: 0.8286984964563974\n",
      "R2_test: 0.8183250021974887\n",
      "----------------------\n",
      "seed: 6\n",
      "Best Model Parameter: {'max_depth': 2, 'n_estimators': 3000}\n",
      "Best Model Score: 0.7846389280937478\n",
      "R2_test: 0.7835451240884046\n",
      "----------------------\n",
      "seed: 7\n",
      "Best Model Parameter: {'max_depth': 2, 'n_estimators': 100}\n",
      "Best Model Score: 0.8103495981905903\n",
      "R2_test: 0.752559074771328\n",
      "----------------------\n",
      "seed: 8\n",
      "Best Model Parameter: {'max_depth': 2, 'n_estimators': 50}\n",
      "Best Model Score: 0.7703608326930027\n",
      "R2_test: 0.7563829478201344\n",
      "----------------------\n",
      "seed: 9\n",
      "Best Model Parameter: {'max_depth': 2, 'n_estimators': 100}\n",
      "Best Model Score: 0.6940443025867182\n",
      "R2_test: 0.8960742242371833\n",
      "R2_train_means: 0.897992650580235\n",
      "CV_score_means: 0.7732953193960935\n",
      "R2_test_means: 0.7908013710514528\n"
     ]
    }
   ],
   "source": [
    "#storage \n",
    "data_r2_train =[]\n",
    "data_RMSE_train = []\n",
    "data_MAE_train = []\n",
    "data_r2_test = []\n",
    "data_RMSE_test = []\n",
    "data_MAE_test = []\n",
    "best_model_parametors = []\n",
    "data_cv_score = []\n",
    "cum_imp=pd.Series(index = X.columns)\n",
    "cum_imp.fillna(0, inplace=True)\n",
    "\n",
    "#RF\n",
    "for i in range(10):\n",
    "    seed=i\n",
    "    X_train, X_test, y_train, y_test = train_test_split(X, y, test_size=0.3, random_state=seed)\n",
    "        \n",
    "    param_grid = {\"max_depth\":[2,3,4,5],\n",
    "                  'n_estimators':[50,100,500,1000,3000]}\n",
    "    reg_rf = GridSearchCV(RandomForestRegressor(random_state=0), param_grid=param_grid, cv=5, n_jobs=16)\n",
    "    reg_rf.fit(X_train,y_train['Yield'])\n",
    "    reg_best = reg_rf.best_estimator_\n",
    "    y_pred1 = reg_best.predict(X_train)\n",
    "    y_pred2 = reg_best.predict(X_test)\n",
    "            \n",
    "    #train\n",
    "    r2_train = metrics.r2_score(y_train, y_pred1)\n",
    "    RMSE_train = metrics.root_mean_squared_error(y_train, y_pred1)\n",
    "    MAE_train =  metrics.mean_absolute_error(y_train, y_pred1)\n",
    "    #test\n",
    "    r2_test = metrics.r2_score(y_test, y_pred2)\n",
    "    RMSE_test = metrics.root_mean_squared_error(y_test, y_pred2)\n",
    "    MAE_test = metrics.mean_absolute_error(y_test, y_pred2)\n",
    "\n",
    "    parametors = reg_rf.best_params_\n",
    "    best_model_parametors.append(parametors)\n",
    "\n",
    "    data_r2_train.append(r2_train)\n",
    "    data_RMSE_train.append(RMSE_train)\n",
    "    data_MAE_train.append(MAE_train)\n",
    "    data_r2_test.append(r2_test)\n",
    "    data_RMSE_test.append(RMSE_test)\n",
    "    data_MAE_test.append(MAE_test)\n",
    "    data_cv_score.append(reg_rf.best_score_)\n",
    "    \n",
    "    #cumulative importances \n",
    "    importances = pd.Series(reg_best.feature_importances_, index = X.columns)\n",
    "    cum_imp += importances\n",
    "    \n",
    "    print('----------------------')\n",
    "    print('seed:', seed)\n",
    "    print(\"Best Model Parameter:\",reg_rf.best_params_)\n",
    "    print(\"Best Model Score:\",reg_rf.best_score_)\n",
    "    print('R2_test:', r2_test)\n",
    "print('R2_train_means:', sum(data_r2_train)/10)\n",
    "print('CV_score_means:', sum(data_cv_score)/10)\n",
    "print('R2_test_means:', sum(data_r2_test)/10)"
   ]
  },
  {
   "cell_type": "code",
   "execution_count": 5,
   "id": "47c5eeb8-c37f-46e9-ba79-a01178b442e1",
   "metadata": {
    "tags": []
   },
   "outputs": [
    {
     "name": "stdout",
     "output_type": "stream",
     "text": [
      "      r2_train  RMSE_train  MAE_train   r2_test  RMSE_test   MAE_test  \\\n",
      "0     0.906079    8.321351   5.328678  0.719346  19.159356  11.928071   \n",
      "1     0.957658    6.187886   3.709254  0.867600  11.325897   7.796926   \n",
      "2     0.880518   10.513450   6.495442  0.797340  13.999462   8.461525   \n",
      "3     0.882826   10.454151   6.356958  0.756700  15.280913   9.340508   \n",
      "4     0.890095    9.733879   5.998871  0.760142  15.970191  11.007158   \n",
      "5     0.954087    6.097353   3.524428  0.818325  14.864517   9.957939   \n",
      "6     0.885258    9.703911   6.146174  0.783545  16.139853   9.944627   \n",
      "7     0.891478   10.188259   6.314804  0.752559  14.976888   9.628936   \n",
      "8     0.875609   10.463204   5.683383  0.756383  15.516156  10.499571   \n",
      "9     0.856318   12.067058   7.850742  0.896074   8.557575   5.527752   \n",
      "mean  0.897993    9.373050   5.740873  0.790801  14.579081   9.409301   \n",
      "\n",
      "      cv_score  \n",
      "0     0.802434  \n",
      "1     0.695885  \n",
      "2     0.778458  \n",
      "3     0.763837  \n",
      "4     0.804247  \n",
      "5     0.828698  \n",
      "6     0.784639  \n",
      "7     0.810350  \n",
      "8     0.770361  \n",
      "9     0.694044  \n",
      "mean  0.773295  \n"
     ]
    }
   ],
   "source": [
    "data_r2_train_pd = pd.DataFrame(data= data_r2_train, columns=['r2_train'])\n",
    "data_RMSE_train_pd = pd.DataFrame(data=data_RMSE_train, columns=['RMSE_train'])\n",
    "data_MAE_train_pd = pd.DataFrame(data=data_MAE_train, columns=['MAE_train'])\n",
    "data_r2_test_pd = pd.DataFrame(data=data_r2_test, columns=['r2_test'])\n",
    "data_RMSE_test_pd = pd.DataFrame(data=data_RMSE_test, columns=['RMSE_test'])\n",
    "data_MAE_test_pd = pd.DataFrame(data=data_MAE_test, columns=['MAE_test'])\n",
    "data_cv_score_pd = pd.DataFrame(data=data_cv_score, columns=['cv_score'])\n",
    "data_parametors = pd.DataFrame([best_model_parametors])\n",
    "\n",
    "data_all = pd.concat([data_r2_train_pd, data_RMSE_train_pd, data_MAE_train_pd, data_r2_test_pd, \n",
    "                      data_RMSE_test_pd, data_MAE_test_pd, data_cv_score_pd],\n",
    "                     axis=1, join='inner')\n",
    "\n",
    "data_all.loc['mean'] = data_all.mean()\n",
    "print(data_all)\n",
    "\n",
    "data_all.to_csv('../../score/Hybrid/RF_score.csv')"
   ]
  },
  {
   "cell_type": "code",
   "execution_count": null,
   "id": "ff17407d-8944-4b0f-805a-d23cc4cf6a78",
   "metadata": {},
   "outputs": [],
   "source": []
  }
 ],
 "metadata": {
  "kernelspec": {
   "display_name": "Python 3 (ipykernel)",
   "language": "python",
   "name": "python3"
  },
  "language_info": {
   "codemirror_mode": {
    "name": "ipython",
    "version": 3
   },
   "file_extension": ".py",
   "mimetype": "text/x-python",
   "name": "python",
   "nbconvert_exporter": "python",
   "pygments_lexer": "ipython3",
   "version": "3.9.19"
  }
 },
 "nbformat": 4,
 "nbformat_minor": 5
}
