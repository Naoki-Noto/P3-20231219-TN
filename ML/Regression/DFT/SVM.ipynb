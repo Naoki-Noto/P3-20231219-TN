{
 "cells": [
  {
   "cell_type": "code",
   "execution_count": 1,
   "id": "2eb56b16-339c-4224-8051-04dc72f5b54d",
   "metadata": {
    "tags": []
   },
   "outputs": [],
   "source": [
    "#import\n",
    "import pandas as pd\n",
    "import numpy as np\n",
    "import matplotlib.pyplot as plt\n",
    "from sklearn.model_selection import train_test_split\n",
    "from sklearn.model_selection import GridSearchCV\n",
    "from sklearn.svm import SVR\n",
    "from sklearn import metrics"
   ]
  },
  {
   "cell_type": "code",
   "execution_count": 2,
   "id": "9c397d87-038e-4731-9776-7a43adf9e7b1",
   "metadata": {
    "tags": []
   },
   "outputs": [
    {
     "name": "stdout",
     "output_type": "stream",
     "text": [
      "<class 'pandas.core.frame.DataFrame'>\n",
      "RangeIndex: 68 entries, 0 to 67\n",
      "Data columns (total 22 columns):\n",
      " #   Column             Non-Null Count  Dtype  \n",
      "---  ------             --------------  -----  \n",
      " 0   Cate_name          68 non-null     object \n",
      " 1   Cate_HOMO          68 non-null     float64\n",
      " 2   Cate_LUMO          68 non-null     float64\n",
      " 3   Cate_ESP_O1        68 non-null     float64\n",
      " 4   Cate_ESP_H1        68 non-null     float64\n",
      " 5   Cate_ESP_O2        68 non-null     float64\n",
      " 6   Cate_ESP_H2        68 non-null     float64\n",
      " 7   Cate_BL_ArO1       68 non-null     float64\n",
      " 8   Cate_BL_O1H1       68 non-null     float64\n",
      " 9   Cate_BL_ArO2       68 non-null     float64\n",
      " 10  Cate_BL_O2H2       68 non-null     float64\n",
      " 11  Cate_total_dipole  68 non-null     float64\n",
      " 12  P_name             68 non-null     object \n",
      " 13  P_HOMO             68 non-null     float64\n",
      " 14  P_LUMO             68 non-null     float64\n",
      " 15  P_ESP_P            68 non-null     float64\n",
      " 16  P_ESP_=O           68 non-null     float64\n",
      " 17  P_ESP_H            68 non-null     float64\n",
      " 18  P_BL_P=O           68 non-null     float64\n",
      " 19  P_BL_PH            68 non-null     float64\n",
      " 20  P_total_dipole     68 non-null     float64\n",
      " 21  Yield              68 non-null     int64  \n",
      "dtypes: float64(19), int64(1), object(2)\n",
      "memory usage: 11.8+ KB\n"
     ]
    }
   ],
   "source": [
    "#Reading dataset\n",
    "df=pd.read_csv('DFT.csv')\n",
    "df.info()"
   ]
  },
  {
   "cell_type": "code",
   "execution_count": 3,
   "id": "80142ace-7678-4a05-9b7b-fd9f33859f6f",
   "metadata": {
    "tags": []
   },
   "outputs": [
    {
     "name": "stdout",
     "output_type": "stream",
     "text": [
      "---Descriptors---\n",
      "   Cate_HOMO  Cate_LUMO  Cate_ESP_O1  Cate_ESP_H1  Cate_ESP_O2  Cate_ESP_H2  \\\n",
      "0      -5.63       0.21    -0.555170     0.441278    -0.594799     0.444770   \n",
      "1      -5.63       0.21    -0.555170     0.441278    -0.594799     0.444770   \n",
      "2      -5.63       0.21    -0.555170     0.441278    -0.594799     0.444770   \n",
      "3      -5.63       0.21    -0.555170     0.441278    -0.594799     0.444770   \n",
      "4      -5.51       0.22    -0.542028     0.433177    -0.582447     0.440296   \n",
      "\n",
      "   Cate_BL_ArO1  Cate_BL_O1H1  Cate_BL_ArO2  Cate_BL_O2H2  Cate_total_dipole  \\\n",
      "0         1.363         0.969         1.378         0.965           2.484773   \n",
      "1         1.363         0.969         1.378         0.965           2.484773   \n",
      "2         1.363         0.969         1.378         0.965           2.484773   \n",
      "3         1.363         0.969         1.378         0.965           2.484773   \n",
      "4         1.364         0.969         1.379         0.965           2.303134   \n",
      "\n",
      "   P_HOMO  P_LUMO   P_ESP_P  P_ESP_=O   P_ESP_H  P_BL_P=O  P_BL_PH  \\\n",
      "0   -7.85    1.77  0.997297 -0.600515 -0.035840     1.482    1.402   \n",
      "1   -8.16    1.03  0.934101 -0.617890  0.007945     1.481    1.398   \n",
      "2   -7.22   -0.99  0.742856 -0.578490  0.009025     1.489    1.409   \n",
      "3   -7.85    0.75  0.788747 -0.578264 -0.038475     1.485    1.412   \n",
      "4   -7.85    1.77  0.997297 -0.600515 -0.035840     1.482    1.402   \n",
      "\n",
      "   P_total_dipole  \n",
      "0        2.286892  \n",
      "1        1.745964  \n",
      "2        3.773141  \n",
      "3        2.623175  \n",
      "4        2.286892  \n",
      "---Objective---\n",
      "   Yield\n",
      "0     80\n",
      "1      7\n",
      "2      3\n",
      "3     48\n",
      "4     99\n"
     ]
    }
   ],
   "source": [
    "#Building descriptors\n",
    "X = df.drop(columns=['Yield', 'Cate_name', 'P_name' ])\n",
    "print('---Descriptors---')\n",
    "print(X.head())\n",
    "\n",
    "y = pd.DataFrame(df['Yield'],columns=['Yield'])\n",
    "print('---Objective---')\n",
    "print(y.head())"
   ]
  },
  {
   "cell_type": "code",
   "execution_count": 4,
   "id": "42408ce8-a560-4e50-979a-86a7c5d54a0b",
   "metadata": {
    "tags": []
   },
   "outputs": [
    {
     "name": "stdout",
     "output_type": "stream",
     "text": [
      "----------------------\n",
      "seed: 0\n",
      "Best Model Parameter: {'C': 750, 'gamma': 0.0001}\n",
      "Best Model Score: 0.9253476491525536\n",
      "R2_test: 0.7038913710399675\n",
      "----------------------\n",
      "seed: 1\n",
      "Best Model Parameter: {'C': 100, 'gamma': 0.001}\n",
      "Best Model Score: 0.9188651821951401\n",
      "R2_test: 0.8040559380390164\n",
      "----------------------\n",
      "seed: 2\n",
      "Best Model Parameter: {'C': 100, 'gamma': 0.001}\n",
      "Best Model Score: 0.9360461240857514\n",
      "R2_test: 0.7793227511913536\n",
      "----------------------\n",
      "seed: 3\n",
      "Best Model Parameter: {'C': 500, 'gamma': 0.001}\n",
      "Best Model Score: 0.9221850152361244\n",
      "R2_test: 0.8436361524804097\n",
      "----------------------\n",
      "seed: 4\n",
      "Best Model Parameter: {'C': 750, 'gamma': 0.0001}\n",
      "Best Model Score: 0.9169055124668395\n",
      "R2_test: 0.7835406972474258\n",
      "----------------------\n",
      "seed: 5\n",
      "Best Model Parameter: {'C': 750, 'gamma': 0.0001}\n",
      "Best Model Score: 0.910030601697034\n",
      "R2_test: 0.7219269901975187\n",
      "----------------------\n",
      "seed: 6\n",
      "Best Model Parameter: {'C': 100, 'gamma': 0.001}\n",
      "Best Model Score: 0.9013190491198777\n",
      "R2_test: 0.7452796710133849\n",
      "----------------------\n",
      "seed: 7\n",
      "Best Model Parameter: {'C': 50, 'gamma': 0.001}\n",
      "Best Model Score: 0.9364701159083196\n",
      "R2_test: 0.7107631710266915\n",
      "----------------------\n",
      "seed: 8\n",
      "Best Model Parameter: {'C': 400, 'gamma': 0.001}\n",
      "Best Model Score: 0.9280741568018215\n",
      "R2_test: 0.8326639107375766\n",
      "----------------------\n",
      "seed: 9\n",
      "Best Model Parameter: {'C': 750, 'gamma': 0.001}\n",
      "Best Model Score: 0.9031669886088569\n",
      "R2_test: 0.8807661712777165\n",
      "R2_train_means: 0.849419632308274\n",
      "CV_score_means: 0.9198410395272318\n",
      "R2_test_means: 0.7805846824251061\n"
     ]
    }
   ],
   "source": [
    "#storage \n",
    "data_r2_train =[]\n",
    "data_RMSE_train = []\n",
    "data_MAE_train = []\n",
    "data_r2_test = []\n",
    "data_RMSE_test = []\n",
    "data_MAE_test = []\n",
    "best_model_parametors = []\n",
    "data_cv_score = []\n",
    "\n",
    "#SVM_a_X,log(y)\n",
    "for i in range(10):\n",
    "    seed=i\n",
    "    X_train, X_test, y_train, y_test = train_test_split(X, y, test_size=0.3, random_state=seed)\n",
    "    \n",
    "    #autoscaling\n",
    "    a_X_train = (X_train - X_train.mean(axis=0)) / X_train.std(axis=0, ddof=1)\n",
    "    a_X_test = (X_test - X_train.mean(axis=0)) / X_train.std(axis=0, ddof=1)\n",
    "    \n",
    "    log_y_train = np.log(y_train)\n",
    "    \n",
    "    param_svm={'C':[0.1,1,5,10,50,100,200,300,400,500,750,1000],\n",
    "               'gamma':[100,10,1,0.1,0.01,0.001,0.0001,0.00001]}\n",
    "    reg_svm = GridSearchCV(SVR(kernel='rbf', epsilon=0.3), param_grid=param_svm, cv=5, n_jobs=16)\n",
    "    reg_svm.fit(a_X_train,log_y_train['Yield'])\n",
    "    reg_best = reg_svm.best_estimator_\n",
    "    y_pred1 = np.exp(reg_best.predict(a_X_train))\n",
    "    y_pred2 = np.exp(reg_best.predict(a_X_test))\n",
    "    \n",
    "    #train\n",
    "    r2_train = metrics.r2_score(y_train, y_pred1)\n",
    "    RMSE_train = metrics.mean_squared_error(y_train, y_pred1)\n",
    "    MAE_train =  metrics.mean_absolute_error(y_train, y_pred1)\n",
    "    #test\n",
    "    r2_test = metrics.r2_score(y_test, y_pred2)\n",
    "    RMSE_test = metrics.mean_squared_error(y_test, y_pred2)\n",
    "    MAE_test = metrics.mean_absolute_error(y_test, y_pred2)\n",
    "    \n",
    "    parametors = reg_svm.best_params_\n",
    "    best_model_parametors.append(parametors)\n",
    "    cv_score = reg_svm.best_score_\n",
    "    data_cv_score.append(cv_score)\n",
    "    \n",
    "    data_r2_train.append(r2_train)\n",
    "    data_RMSE_train.append(RMSE_train)\n",
    "    data_MAE_train.append(MAE_train)\n",
    "    data_r2_test.append(r2_test)\n",
    "    data_RMSE_test.append(RMSE_test)\n",
    "    data_MAE_test.append(MAE_test)\n",
    "    \n",
    "    print('----------------------')\n",
    "    print('seed:', seed)\n",
    "    print(\"Best Model Parameter:\",reg_svm.best_params_)\n",
    "    print(\"Best Model Score:\",reg_svm.best_score_)\n",
    "    print('R2_test:', r2_test)\n",
    "print('R2_train_means:', sum(data_r2_train)/10)\n",
    "print('CV_score_means:', sum(data_cv_score)/10)\n",
    "print('R2_test_means:', sum(data_r2_test)/10)"
   ]
  },
  {
   "cell_type": "code",
   "execution_count": 5,
   "id": "ffba4580-514b-460b-b7ef-1675fe8deb0b",
   "metadata": {
    "tags": []
   },
   "outputs": [
    {
     "name": "stdout",
     "output_type": "stream",
     "text": [
      "      r2_train  RMSE_train  MAE_train   r2_test   RMSE_test   MAE_test  \\\n",
      "0     0.876739   90.875956   6.284118  0.703891  387.295315  12.725715   \n",
      "1     0.835014  149.198544   7.700523  0.804056  189.840027   8.717905   \n",
      "2     0.854094  134.977938   6.683434  0.779323  213.408410   9.193699   \n",
      "3     0.879588  112.309629   6.692730  0.843636  150.069582   7.427151   \n",
      "4     0.839022  138.778230   7.098514  0.783541  230.166429   9.863361   \n",
      "5     0.821674  144.397493   7.041531  0.721927  338.193530  11.574559   \n",
      "6     0.842328  129.397252   7.281504  0.745280  306.545808  10.218487   \n",
      "7     0.809564  182.151920   8.247292  0.710763  262.195481  11.073155   \n",
      "8     0.873948  110.940252   6.298073  0.832664  165.367519   9.516932   \n",
      "9     0.862225  139.626687   7.978933  0.880766   84.019023   5.655741   \n",
      "mean  0.849420  133.265390   7.130665  0.780585  232.710112   9.596671   \n",
      "\n",
      "      cv_score  \n",
      "0     0.925348  \n",
      "1     0.918865  \n",
      "2     0.936046  \n",
      "3     0.922185  \n",
      "4     0.916906  \n",
      "5     0.910031  \n",
      "6     0.901319  \n",
      "7     0.936470  \n",
      "8     0.928074  \n",
      "9     0.903167  \n",
      "mean  0.919841  \n"
     ]
    }
   ],
   "source": [
    "data_r2_train_pd = pd.DataFrame(data= data_r2_train, columns=['r2_train'])\n",
    "data_RMSE_train_pd = pd.DataFrame(data=data_RMSE_train, columns=['RMSE_train'])\n",
    "data_MAE_train_pd = pd.DataFrame(data=data_MAE_train, columns=['MAE_train'])\n",
    "data_r2_test_pd = pd.DataFrame(data=data_r2_test, columns=['r2_test'])\n",
    "data_RMSE_test_pd = pd.DataFrame(data=data_RMSE_test, columns=['RMSE_test'])\n",
    "data_MAE_test_pd = pd.DataFrame(data=data_MAE_test, columns=['MAE_test'])\n",
    "data_cv_score_pd = pd.DataFrame(data=data_cv_score, columns=['cv_score'])\n",
    "data_parametors = pd.DataFrame([best_model_parametors])\n",
    "\n",
    "data_all = pd.concat([data_r2_train_pd, data_RMSE_train_pd, data_MAE_train_pd, data_r2_test_pd, \n",
    "                      data_RMSE_test_pd, data_MAE_test_pd, data_cv_score_pd],\n",
    "                     axis=1, join='inner')\n",
    "\n",
    "data_all.loc['mean'] = data_all.mean()\n",
    "print(data_all)\n",
    "\n",
    "data_all.to_csv('../../score/DFT//SVM_score.csv')"
   ]
  },
  {
   "cell_type": "code",
   "execution_count": null,
   "id": "452cf910-8660-4db5-922c-27ec46042086",
   "metadata": {
    "tags": []
   },
   "outputs": [],
   "source": []
  }
 ],
 "metadata": {
  "kernelspec": {
   "display_name": "Python 3 (ipykernel)",
   "language": "python",
   "name": "python3"
  },
  "language_info": {
   "codemirror_mode": {
    "name": "ipython",
    "version": 3
   },
   "file_extension": ".py",
   "mimetype": "text/x-python",
   "name": "python",
   "nbconvert_exporter": "python",
   "pygments_lexer": "ipython3",
   "version": "3.8.19"
  }
 },
 "nbformat": 4,
 "nbformat_minor": 5
}
