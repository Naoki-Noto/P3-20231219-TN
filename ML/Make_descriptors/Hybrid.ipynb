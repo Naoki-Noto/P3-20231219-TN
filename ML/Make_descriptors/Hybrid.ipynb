{
 "cells": [
  {
   "cell_type": "code",
   "execution_count": 1,
   "id": "8759fb82",
   "metadata": {},
   "outputs": [],
   "source": [
    "import pandas as pd\n",
    "import numpy as np"
   ]
  },
  {
   "cell_type": "code",
   "execution_count": 2,
   "id": "033269e5",
   "metadata": {},
   "outputs": [
    {
     "name": "stdout",
     "output_type": "stream",
     "text": [
      "    Yield\n",
      "0      80\n",
      "1       7\n",
      "2       3\n",
      "3      48\n",
      "4      99\n",
      "..    ...\n",
      "63     51\n",
      "64     44\n",
      "65      5\n",
      "66      3\n",
      "67     57\n",
      "\n",
      "[68 rows x 1 columns]\n",
      "      Cate_name\n",
      "0      Catechol\n",
      "1      Catechol\n",
      "2      Catechol\n",
      "3      Catechol\n",
      "4  4Me-Catechol\n",
      "                  P_name\n",
      "0     Dimethyl Phosphite\n",
      "1        Phosphonic acid\n",
      "2  Phenylphosphinic Acid\n",
      "3        Phosphinic acid\n",
      "4     Dimethyl Phosphite\n",
      "   Cate_RDKit_PC_0  Cate_RDKit_PC_1  Cate_RDKit_PC_2  Cate_RDKit_PC_3  \\\n",
      "0        -5.830571        -4.385613          0.82493         0.507248   \n",
      "1        -5.830571        -4.385613          0.82493         0.507248   \n",
      "2        -5.830571        -4.385613          0.82493         0.507248   \n",
      "3        -5.830571        -4.385613          0.82493         0.507248   \n",
      "4        -3.100537        -3.269828         -0.52885        -1.363916   \n",
      "\n",
      "   Cate_RDKit_PC_4  Cate_RDKit_PC_5  Cate_RDKit_PC_6  \n",
      "0        -0.510793        -1.092656        -0.605579  \n",
      "1        -0.510793        -1.092656        -0.605579  \n",
      "2        -0.510793        -1.092656        -0.605579  \n",
      "3        -0.510793        -1.092656        -0.605579  \n",
      "4         1.881023        -0.952011        -1.287595  \n",
      "   P_RDKit_PC_0  P_RDKit_PC_1\n",
      "0      1.406982      7.906757\n",
      "1     -5.494109      0.842109\n",
      "2     11.128658     -3.748087\n",
      "3     -7.041532     -5.000780\n",
      "4      1.406982      7.906757\n"
     ]
    }
   ],
   "source": [
    "data = pd.read_csv(\"../Regression/RDKit/RDKit_pca.csv\")\n",
    "Cate_rdkit = data.drop(columns=['Yield', 'Cate_name', 'P_name', 'P_RDKit_PC_0', 'P_RDKit_PC_1'])\n",
    "P_rdkit = data.drop(columns=['Yield', 'Cate_name', 'P_name', 'Cate_RDKit_PC_0', 'Cate_RDKit_PC_1','Cate_RDKit_PC_2',\n",
    "                             'Cate_RDKit_PC_3', 'Cate_RDKit_PC_4', 'Cate_RDKit_PC_5','Cate_RDKit_PC_6'])\n",
    "Yield = pd.DataFrame(data['Yield'], columns=['Yield'])\n",
    "Cate_name = pd.DataFrame(data['Cate_name'], columns=['Cate_name'])\n",
    "P_name = pd.DataFrame(data['P_name'], columns=['P_name'])\n",
    "\n",
    "print(Yield)\n",
    "print(Cate_name.head())\n",
    "print(P_name.head())\n",
    "print(Cate_rdkit.head())\n",
    "print(P_rdkit.head())"
   ]
  },
  {
   "cell_type": "code",
   "execution_count": 3,
   "id": "cc61c95e",
   "metadata": {},
   "outputs": [
    {
     "name": "stdout",
     "output_type": "stream",
     "text": [
      "   Cate_HOMO  Cate_LUMO  Cate_ESP_O1  Cate_ESP_H1  Cate_ESP_O2  Cate_ESP_H2  \\\n",
      "0      -5.63       0.21    -0.555170     0.441278    -0.594799     0.444770   \n",
      "1      -5.63       0.21    -0.555170     0.441278    -0.594799     0.444770   \n",
      "2      -5.63       0.21    -0.555170     0.441278    -0.594799     0.444770   \n",
      "3      -5.63       0.21    -0.555170     0.441278    -0.594799     0.444770   \n",
      "4      -5.51       0.22    -0.542028     0.433177    -0.582447     0.440296   \n",
      "\n",
      "   Cate_BL_ArO1  Cate_BL_O1H1  Cate_BL_ArO2  Cate_BL_O2H2  Cate_total_dipole  \n",
      "0         1.363         0.969         1.378         0.965           2.484773  \n",
      "1         1.363         0.969         1.378         0.965           2.484773  \n",
      "2         1.363         0.969         1.378         0.965           2.484773  \n",
      "3         1.363         0.969         1.378         0.965           2.484773  \n",
      "4         1.364         0.969         1.379         0.965           2.303134  \n",
      "   P_HOMO  P_LUMO   P_ESP_P  P_ESP_=O   P_ESP_H  P_BL_P=O  P_BL_PH  \\\n",
      "0   -7.85    1.77  0.997297 -0.600515 -0.035840     1.482    1.402   \n",
      "1   -8.16    1.03  0.934101 -0.617890  0.007945     1.481    1.398   \n",
      "2   -7.22   -0.99  0.742856 -0.578490  0.009025     1.489    1.409   \n",
      "3   -7.85    0.75  0.788747 -0.578264 -0.038475     1.485    1.412   \n",
      "4   -7.85    1.77  0.997297 -0.600515 -0.035840     1.482    1.402   \n",
      "\n",
      "   P_total_dipole  \n",
      "0        2.286892  \n",
      "1        1.745964  \n",
      "2        3.773141  \n",
      "3        2.623175  \n",
      "4        2.286892  \n"
     ]
    }
   ],
   "source": [
    "data2 = pd.read_csv(\"../Regression/DFT/DFT.csv\")\n",
    "Cate_dft = data2.drop(columns=['Yield', 'Cate_name', 'P_name', 'P_HOMO', 'P_LUMO', 'P_ESP_P', 'P_ESP_=O', 'P_ESP_H',\n",
    "                               'P_BL_P=O', 'P_BL_PH', 'P_total_dipole'])\n",
    "P_dft = data2.drop(columns=['Yield', 'Cate_name', 'P_name', 'Cate_HOMO', 'Cate_LUMO','Cate_ESP_O1', 'Cate_ESP_H1',\n",
    "                            'Cate_ESP_O2', 'Cate_ESP_H2', 'Cate_BL_ArO1','Cate_BL_O1H1', 'Cate_BL_ArO2', 'Cate_BL_O2H2',\n",
    "                            'Cate_total_dipole'])\n",
    "\n",
    "print(Cate_dft.head())\n",
    "print(P_dft.head())"
   ]
  },
  {
   "cell_type": "code",
   "execution_count": 4,
   "id": "02aa1c39",
   "metadata": {},
   "outputs": [
    {
     "name": "stdout",
     "output_type": "stream",
     "text": [
      "        Cate_name  Cate_HOMO  Cate_LUMO  Cate_ESP_O1  Cate_ESP_H1  \\\n",
      "0        Catechol      -5.63       0.21    -0.555170     0.441278   \n",
      "1        Catechol      -5.63       0.21    -0.555170     0.441278   \n",
      "2        Catechol      -5.63       0.21    -0.555170     0.441278   \n",
      "3        Catechol      -5.63       0.21    -0.555170     0.441278   \n",
      "4    4Me-Catechol      -5.51       0.22    -0.542028     0.433177   \n",
      "..            ...        ...        ...          ...          ...   \n",
      "63    3F-Catechol      -5.91       0.19    -0.544640     0.442203   \n",
      "64  3OMe-Catechol      -5.50       0.51    -0.560260     0.441629   \n",
      "65  3OMe-Catechol      -5.50       0.51    -0.560260     0.441629   \n",
      "66  3OMe-Catechol      -5.50       0.51    -0.560260     0.441629   \n",
      "67  3OMe-Catechol      -5.50       0.51    -0.560260     0.441629   \n",
      "\n",
      "    Cate_ESP_O2  Cate_ESP_H2  Cate_BL_ArO1  Cate_BL_O1H1  Cate_BL_ArO2  ...  \\\n",
      "0     -0.594799     0.444770         1.363         0.969         1.378  ...   \n",
      "1     -0.594799     0.444770         1.363         0.969         1.378  ...   \n",
      "2     -0.594799     0.444770         1.363         0.969         1.378  ...   \n",
      "3     -0.594799     0.444770         1.363         0.969         1.378  ...   \n",
      "4     -0.582447     0.440296         1.364         0.969         1.379  ...   \n",
      "..          ...          ...           ...           ...           ...  ...   \n",
      "63    -0.543297     0.445787         1.361         0.969         1.371  ...   \n",
      "64    -0.517862     0.414814         1.363         0.969         1.374  ...   \n",
      "65    -0.517862     0.414814         1.363         0.969         1.374  ...   \n",
      "66    -0.517862     0.414814         1.363         0.969         1.374  ...   \n",
      "67    -0.517862     0.414814         1.363         0.969         1.374  ...   \n",
      "\n",
      "    P_LUMO   P_ESP_P  P_ESP_=O   P_ESP_H  P_BL_P=O  P_BL_PH  P_total_dipole  \\\n",
      "0     1.77  0.997297 -0.600515 -0.035840     1.482    1.402        2.286892   \n",
      "1     1.03  0.934101 -0.617890  0.007945     1.481    1.398        1.745964   \n",
      "2    -0.99  0.742856 -0.578490  0.009025     1.489    1.409        3.773141   \n",
      "3     0.75  0.788747 -0.578264 -0.038475     1.485    1.412        2.623175   \n",
      "4     1.77  0.997297 -0.600515 -0.035840     1.482    1.402        2.286892   \n",
      "..     ...       ...       ...       ...       ...      ...             ...   \n",
      "63    0.75  0.788747 -0.578264 -0.038475     1.485    1.412        2.623175   \n",
      "64    1.77  0.997297 -0.600515 -0.035840     1.482    1.402        2.286892   \n",
      "65    1.03  0.934101 -0.617890  0.007945     1.481    1.398        1.745964   \n",
      "66   -0.99  0.742856 -0.578490  0.009025     1.489    1.409        3.773141   \n",
      "67    0.75  0.788747 -0.578264 -0.038475     1.485    1.412        2.623175   \n",
      "\n",
      "    P_RDKit_PC_0  P_RDKit_PC_1 Yield  \n",
      "0       1.406982      7.906757    80  \n",
      "1      -5.494109      0.842109     7  \n",
      "2      11.128658     -3.748087     3  \n",
      "3      -7.041532     -5.000780    48  \n",
      "4       1.406982      7.906757    99  \n",
      "..           ...           ...   ...  \n",
      "63     -7.041532     -5.000780    51  \n",
      "64      1.406982      7.906757    44  \n",
      "65     -5.494109      0.842109     5  \n",
      "66     11.128658     -3.748087     3  \n",
      "67     -7.041532     -5.000780    57  \n",
      "\n",
      "[68 rows x 31 columns]\n"
     ]
    }
   ],
   "source": [
    "H = pd.concat([Cate_name, Cate_dft, Cate_rdkit, P_name, P_dft, P_rdkit, Yield], axis=1, join='inner')\n",
    "print(H)\n",
    "H.to_csv('../Regression/Hybrid/Hybrid.csv', index = False)\n",
    "H.to_csv('../SHAP/Hybrid.csv', index = False)"
   ]
  },
  {
   "cell_type": "code",
   "execution_count": null,
   "id": "1fb197ed",
   "metadata": {},
   "outputs": [],
   "source": []
  }
 ],
 "metadata": {
  "kernelspec": {
   "display_name": "Python 3 (ipykernel)",
   "language": "python",
   "name": "python3"
  },
  "language_info": {
   "codemirror_mode": {
    "name": "ipython",
    "version": 3
   },
   "file_extension": ".py",
   "mimetype": "text/x-python",
   "name": "python",
   "nbconvert_exporter": "python",
   "pygments_lexer": "ipython3",
   "version": "3.8.19"
  }
 },
 "nbformat": 4,
 "nbformat_minor": 5
}
