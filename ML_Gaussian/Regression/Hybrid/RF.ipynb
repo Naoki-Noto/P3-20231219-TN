{
 "cells": [
  {
   "cell_type": "code",
   "execution_count": 1,
   "id": "6bced5a3-7b6b-46d0-bb14-8d7381164e98",
   "metadata": {
    "tags": []
   },
   "outputs": [
    {
     "name": "stderr",
     "output_type": "stream",
     "text": [
      "C:\\Users\\noton\\anaconda3\\envs\\TN5\\lib\\site-packages\\tqdm\\auto.py:21: TqdmWarning: IProgress not found. Please update jupyter and ipywidgets. See https://ipywidgets.readthedocs.io/en/stable/user_install.html\n",
      "  from .autonotebook import tqdm as notebook_tqdm\n"
     ]
    }
   ],
   "source": [
    "#import\n",
    "import seaborn as sns\n",
    "import pandas as pd\n",
    "import numpy as np\n",
    "import matplotlib.pyplot as plt\n",
    "from sklearn.model_selection import train_test_split\n",
    "from sklearn.model_selection import GridSearchCV\n",
    "from sklearn.ensemble import RandomForestRegressor\n",
    "from sklearn import metrics\n",
    "import shap"
   ]
  },
  {
   "cell_type": "code",
   "execution_count": 2,
   "id": "771b9971-f7dd-432e-87e9-36eff21b7f56",
   "metadata": {
    "tags": []
   },
   "outputs": [
    {
     "name": "stdout",
     "output_type": "stream",
     "text": [
      "<class 'pandas.core.frame.DataFrame'>\n",
      "RangeIndex: 68 entries, 0 to 67\n",
      "Data columns (total 31 columns):\n",
      " #   Column             Non-Null Count  Dtype  \n",
      "---  ------             --------------  -----  \n",
      " 0   Cate_name          68 non-null     object \n",
      " 1   Cate_HOMO          68 non-null     float64\n",
      " 2   Cate_LUMO          68 non-null     float64\n",
      " 3   Cate_MC_O1         68 non-null     float64\n",
      " 4   Cate_MC_H1         68 non-null     float64\n",
      " 5   Cate_MC_O2         68 non-null     float64\n",
      " 6   Cate_MC_H2         68 non-null     float64\n",
      " 7   Cate_BL_ArO1       68 non-null     float64\n",
      " 8   Cate_BL_O1H1       68 non-null     float64\n",
      " 9   Cate_BL_ArO2       68 non-null     float64\n",
      " 10  Cate_BL_O2H2       68 non-null     float64\n",
      " 11  Cate_total_dipole  68 non-null     float64\n",
      " 12  Cate_RDKit_PC_0    68 non-null     float64\n",
      " 13  Cate_RDKit_PC_1    68 non-null     float64\n",
      " 14  Cate_RDKit_PC_2    68 non-null     float64\n",
      " 15  Cate_RDKit_PC_3    68 non-null     float64\n",
      " 16  Cate_RDKit_PC_4    68 non-null     float64\n",
      " 17  Cate_RDKit_PC_5    68 non-null     float64\n",
      " 18  Cate_RDKit_PC_6    68 non-null     float64\n",
      " 19  P_name             68 non-null     object \n",
      " 20  P_HOMO             68 non-null     float64\n",
      " 21  P_LUMO             68 non-null     float64\n",
      " 22  P_MC_P             68 non-null     float64\n",
      " 23  P_MC_=O            68 non-null     float64\n",
      " 24  P_MC_H             68 non-null     float64\n",
      " 25  P_BL_P=O           68 non-null     float64\n",
      " 26  P_BL_PH            68 non-null     float64\n",
      " 27  P_total_dipole     68 non-null     float64\n",
      " 28  P_RDKit_PC_0       68 non-null     float64\n",
      " 29  P_RDKit_PC_1       68 non-null     float64\n",
      " 30  Yield              68 non-null     int64  \n",
      "dtypes: float64(28), int64(1), object(2)\n",
      "memory usage: 16.6+ KB\n"
     ]
    }
   ],
   "source": [
    "#Reading dataset\n",
    "df=pd.read_csv('Hybrid.csv')\n",
    "df.info()"
   ]
  },
  {
   "cell_type": "code",
   "execution_count": 3,
   "id": "6a488667-aad8-4757-9882-975291e1ea2d",
   "metadata": {
    "tags": []
   },
   "outputs": [
    {
     "name": "stdout",
     "output_type": "stream",
     "text": [
      "---Descriptors---\n",
      "   Cate_HOMO  Cate_LUMO  Cate_MC_O1  Cate_MC_H1  Cate_MC_O2  Cate_MC_H2  \\\n",
      "0  -5.940433  -0.165443   -0.374537    0.264452   -0.416200    0.277039   \n",
      "1  -5.940433  -0.165443   -0.374537    0.264452   -0.416200    0.277039   \n",
      "2  -5.940433  -0.165443   -0.374537    0.264452   -0.416200    0.277039   \n",
      "3  -5.940433  -0.165443   -0.374537    0.264452   -0.416200    0.277039   \n",
      "4  -5.807916  -0.157824   -0.376813    0.263887   -0.418652    0.276114   \n",
      "\n",
      "   Cate_BL_ArO1  Cate_BL_O1H1  Cate_BL_ArO2  Cate_BL_O2H2  ...    P_HOMO  \\\n",
      "0       1.36318       0.96622       1.37543       0.96253  ... -8.171191   \n",
      "1       1.36318       0.96622       1.37543       0.96253  ... -8.457723   \n",
      "2       1.36318       0.96622       1.37543       0.96253  ... -7.460440   \n",
      "3       1.36318       0.96622       1.37543       0.96253  ... -8.082211   \n",
      "4       1.36386       0.96625       1.37631       0.96239  ... -8.171191   \n",
      "\n",
      "     P_LUMO    P_MC_P   P_MC_=O    P_MC_H  P_BL_P=O   P_BL_PH  P_total_dipole  \\\n",
      "0  0.946671  1.127353 -0.601164 -0.070861   1.48127  1.400990          2.8321   \n",
      "1  0.529254  1.093209 -0.603021 -0.065296   1.47916  1.397780          2.0978   \n",
      "2 -1.281366  1.075293 -0.595198 -0.068256   1.48807  1.407520          4.7321   \n",
      "3  0.300954  0.958398 -0.603526 -0.059276   1.48461  1.410435          3.3550   \n",
      "4  0.946671  1.127353 -0.601164 -0.070861   1.48127  1.400990          2.8321   \n",
      "\n",
      "   P_RDKit_PC_0  P_RDKit_PC_1  \n",
      "0      1.406982      7.906757  \n",
      "1     -5.494109      0.842109  \n",
      "2     11.128658     -3.748087  \n",
      "3     -7.041532     -5.000780  \n",
      "4      1.406982      7.906757  \n",
      "\n",
      "[5 rows x 28 columns]\n",
      "---Objective---\n",
      "   Yield\n",
      "0     80\n",
      "1      7\n",
      "2      3\n",
      "3     48\n",
      "4     99\n"
     ]
    }
   ],
   "source": [
    "#Building descriptors\n",
    "X = df.drop(columns=['Yield', 'Cate_name', 'P_name'])\n",
    "print('---Descriptors---')\n",
    "print(X.head())\n",
    "\n",
    "y = pd.DataFrame(df['Yield'],columns=['Yield'])\n",
    "y=y.astype(int)\n",
    "print('---Objective---')\n",
    "print(y.head())"
   ]
  },
  {
   "cell_type": "code",
   "execution_count": 4,
   "id": "c10a58c1-6449-48f6-bd2d-9fa49b46f891",
   "metadata": {
    "tags": []
   },
   "outputs": [
    {
     "name": "stdout",
     "output_type": "stream",
     "text": [
      "----------------------\n",
      "seed: 0\n",
      "Best Model Parameter: {'max_depth': 2, 'n_estimators': 50}\n",
      "Best Model Score: 0.8501144583319696\n",
      "R2_test: 0.7081607613998477\n",
      "----------------------\n",
      "seed: 1\n",
      "Best Model Parameter: {'max_depth': 3, 'n_estimators': 100}\n",
      "Best Model Score: 0.7496605090486237\n",
      "R2_test: 0.8830623464032926\n",
      "----------------------\n",
      "seed: 2\n",
      "Best Model Parameter: {'max_depth': 3, 'n_estimators': 50}\n",
      "Best Model Score: 0.8268038502876032\n",
      "R2_test: 0.8530152678677587\n",
      "----------------------\n",
      "seed: 3\n",
      "Best Model Parameter: {'max_depth': 3, 'n_estimators': 50}\n",
      "Best Model Score: 0.7347964653275342\n",
      "R2_test: 0.890966934681614\n",
      "----------------------\n",
      "seed: 4\n",
      "Best Model Parameter: {'max_depth': 5, 'n_estimators': 50}\n",
      "Best Model Score: 0.8440677614148535\n",
      "R2_test: 0.8079197681552652\n",
      "----------------------\n",
      "seed: 5\n",
      "Best Model Parameter: {'max_depth': 4, 'n_estimators': 100}\n",
      "Best Model Score: 0.8165863053609259\n",
      "R2_test: 0.7872932541008911\n",
      "----------------------\n",
      "seed: 6\n",
      "Best Model Parameter: {'max_depth': 2, 'n_estimators': 1000}\n",
      "Best Model Score: 0.8027731680054542\n",
      "R2_test: 0.7152521352036492\n",
      "----------------------\n",
      "seed: 7\n",
      "Best Model Parameter: {'max_depth': 4, 'n_estimators': 50}\n",
      "Best Model Score: 0.8393071360456783\n",
      "R2_test: 0.808820331128362\n",
      "----------------------\n",
      "seed: 8\n",
      "Best Model Parameter: {'max_depth': 2, 'n_estimators': 500}\n",
      "Best Model Score: 0.789388231252843\n",
      "R2_test: 0.7246369772025416\n",
      "----------------------\n",
      "seed: 9\n",
      "Best Model Parameter: {'max_depth': 3, 'n_estimators': 100}\n",
      "Best Model Score: 0.7064000325627254\n",
      "R2_test: 0.9412555273493457\n",
      "R2_train_means: 0.9209754912977614\n",
      "CV_score_means: 0.7959897917638211\n",
      "R2_test_means: 0.8120383303492569\n"
     ]
    }
   ],
   "source": [
    "#storage \n",
    "data_r2_train =[]\n",
    "data_RMSE_train = []\n",
    "data_MAE_train = []\n",
    "data_r2_test = []\n",
    "data_RMSE_test = []\n",
    "data_MAE_test = []\n",
    "best_model_parametors = []\n",
    "data_cv_score = []\n",
    "cum_imp=pd.Series(index = X.columns)\n",
    "cum_imp.fillna(0, inplace=True)\n",
    "\n",
    "#RF\n",
    "for i in range(10):\n",
    "    seed=i\n",
    "    X_train, X_test, y_train, y_test = train_test_split(X, y, test_size=0.3, random_state=seed)\n",
    "        \n",
    "    param_grid = {\"max_depth\":[2,3,4,5],\n",
    "                  'n_estimators':[50,100,500,1000,3000]}\n",
    "    reg_rf = GridSearchCV(RandomForestRegressor(random_state=0), param_grid=param_grid, cv=5, n_jobs=16)\n",
    "    reg_rf.fit(X_train,y_train['Yield'])\n",
    "    reg_best = reg_rf.best_estimator_\n",
    "    y_pred1 = reg_best.predict(X_train)\n",
    "    y_pred2 = reg_best.predict(X_test)\n",
    "            \n",
    "    #train\n",
    "    r2_train = metrics.r2_score(y_train, y_pred1)\n",
    "    RMSE_train = metrics.root_mean_squared_error(y_train, y_pred1)\n",
    "    MAE_train =  metrics.mean_absolute_error(y_train, y_pred1)\n",
    "    #test\n",
    "    r2_test = metrics.r2_score(y_test, y_pred2)\n",
    "    RMSE_test = metrics.root_mean_squared_error(y_test, y_pred2)\n",
    "    MAE_test = metrics.mean_absolute_error(y_test, y_pred2)\n",
    "\n",
    "    parametors = reg_rf.best_params_\n",
    "    best_model_parametors.append(parametors)\n",
    "\n",
    "    data_r2_train.append(r2_train)\n",
    "    data_RMSE_train.append(RMSE_train)\n",
    "    data_MAE_train.append(MAE_train)\n",
    "    data_r2_test.append(r2_test)\n",
    "    data_RMSE_test.append(RMSE_test)\n",
    "    data_MAE_test.append(MAE_test)\n",
    "    data_cv_score.append(reg_rf.best_score_)\n",
    "    \n",
    "    #cumulative importances \n",
    "    importances = pd.Series(reg_best.feature_importances_, index = X.columns)\n",
    "    cum_imp += importances\n",
    "    \n",
    "    print('----------------------')\n",
    "    print('seed:', seed)\n",
    "    print(\"Best Model Parameter:\",reg_rf.best_params_)\n",
    "    print(\"Best Model Score:\",reg_rf.best_score_)\n",
    "    print('R2_test:', r2_test)\n",
    "print('R2_train_means:', sum(data_r2_train)/10)\n",
    "print('CV_score_means:', sum(data_cv_score)/10)\n",
    "print('R2_test_means:', sum(data_r2_test)/10)"
   ]
  },
  {
   "cell_type": "code",
   "execution_count": 5,
   "id": "47c5eeb8-c37f-46e9-ba79-a01178b442e1",
   "metadata": {
    "tags": []
   },
   "outputs": [
    {
     "name": "stdout",
     "output_type": "stream",
     "text": [
      "      r2_train  RMSE_train  MAE_train   r2_test  RMSE_test   MAE_test  \\\n",
      "0     0.884168    9.241142   5.044802  0.708161  19.537430  12.718244   \n",
      "1     0.919938    8.508852   4.918763  0.883062  10.644004   6.993067   \n",
      "2     0.937808    7.585083   4.379750  0.853015  11.922384   7.349836   \n",
      "3     0.942210    7.341781   4.221297  0.890967  10.229568   7.172330   \n",
      "4     0.968175    5.237968   3.352614  0.807920  14.291381   8.337515   \n",
      "5     0.969569    4.964016   3.019574  0.787293  16.083992   9.904638   \n",
      "6     0.852689   10.995209   6.176883  0.715252  18.511692  11.451420   \n",
      "7     0.960967    6.110244   3.660894  0.808820  13.164569   9.342012   \n",
      "8     0.873196   10.564180   5.929801  0.724637  16.496169  10.319585   \n",
      "9     0.901035   10.014763   6.362350  0.941256   6.433874   4.287364   \n",
      "mean  0.920975    8.056324   4.706673  0.812038  13.731506   8.787601   \n",
      "std   0.037685    1.963203   1.073399  0.072668   3.676658   2.231985   \n",
      "\n",
      "      cv_score  \n",
      "0     0.850114  \n",
      "1     0.749661  \n",
      "2     0.826804  \n",
      "3     0.734796  \n",
      "4     0.844068  \n",
      "5     0.816586  \n",
      "6     0.802773  \n",
      "7     0.839307  \n",
      "8     0.789388  \n",
      "9     0.706400  \n",
      "mean  0.795990  \n",
      "std   0.045225  \n"
     ]
    }
   ],
   "source": [
    "data_r2_train_pd = pd.DataFrame(data= data_r2_train, columns=['r2_train'])\n",
    "data_RMSE_train_pd = pd.DataFrame(data=data_RMSE_train, columns=['RMSE_train'])\n",
    "data_MAE_train_pd = pd.DataFrame(data=data_MAE_train, columns=['MAE_train'])\n",
    "data_r2_test_pd = pd.DataFrame(data=data_r2_test, columns=['r2_test'])\n",
    "data_RMSE_test_pd = pd.DataFrame(data=data_RMSE_test, columns=['RMSE_test'])\n",
    "data_MAE_test_pd = pd.DataFrame(data=data_MAE_test, columns=['MAE_test'])\n",
    "data_cv_score_pd = pd.DataFrame(data=data_cv_score, columns=['cv_score'])\n",
    "data_parametors = pd.DataFrame([best_model_parametors])\n",
    "\n",
    "data_all = pd.concat([data_r2_train_pd, data_RMSE_train_pd, data_MAE_train_pd, data_r2_test_pd, \n",
    "                      data_RMSE_test_pd, data_MAE_test_pd, data_cv_score_pd],\n",
    "                     axis=1, join='inner')\n",
    "\n",
    "data_all.loc['mean'] = data_all.mean()\n",
    "data_all.loc['std'] = data_all.std(ddof=0)\n",
    "print(data_all)\n",
    "\n",
    "data_all.to_csv('../../score/Hybrid/RF_score.csv')"
   ]
  },
  {
   "cell_type": "code",
   "execution_count": null,
   "id": "ff17407d-8944-4b0f-805a-d23cc4cf6a78",
   "metadata": {},
   "outputs": [],
   "source": []
  }
 ],
 "metadata": {
  "kernelspec": {
   "display_name": "Python 3 (ipykernel)",
   "language": "python",
   "name": "python3"
  },
  "language_info": {
   "codemirror_mode": {
    "name": "ipython",
    "version": 3
   },
   "file_extension": ".py",
   "mimetype": "text/x-python",
   "name": "python",
   "nbconvert_exporter": "python",
   "pygments_lexer": "ipython3",
   "version": "3.9.19"
  }
 },
 "nbformat": 4,
 "nbformat_minor": 5
}
