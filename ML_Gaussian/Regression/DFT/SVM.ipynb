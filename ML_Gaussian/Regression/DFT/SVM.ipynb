{
 "cells": [
  {
   "cell_type": "code",
   "execution_count": 1,
   "id": "2eb56b16-339c-4224-8051-04dc72f5b54d",
   "metadata": {
    "tags": []
   },
   "outputs": [],
   "source": [
    "#import\n",
    "import pandas as pd\n",
    "import numpy as np\n",
    "import matplotlib.pyplot as plt\n",
    "from sklearn.model_selection import train_test_split\n",
    "from sklearn.model_selection import GridSearchCV\n",
    "from sklearn.svm import SVR\n",
    "from sklearn import metrics"
   ]
  },
  {
   "cell_type": "code",
   "execution_count": 2,
   "id": "9c397d87-038e-4731-9776-7a43adf9e7b1",
   "metadata": {
    "tags": []
   },
   "outputs": [
    {
     "name": "stdout",
     "output_type": "stream",
     "text": [
      "<class 'pandas.core.frame.DataFrame'>\n",
      "RangeIndex: 68 entries, 0 to 67\n",
      "Data columns (total 22 columns):\n",
      " #   Column             Non-Null Count  Dtype  \n",
      "---  ------             --------------  -----  \n",
      " 0   Cate_name          68 non-null     object \n",
      " 1   Cate_HOMO          68 non-null     float64\n",
      " 2   Cate_LUMO          68 non-null     float64\n",
      " 3   Cate_MC_O1         68 non-null     float64\n",
      " 4   Cate_MC_H1         68 non-null     float64\n",
      " 5   Cate_MC_O2         68 non-null     float64\n",
      " 6   Cate_MC_H2         68 non-null     float64\n",
      " 7   Cate_BL_ArO1       68 non-null     float64\n",
      " 8   Cate_BL_O1H1       68 non-null     float64\n",
      " 9   Cate_BL_ArO2       68 non-null     float64\n",
      " 10  Cate_BL_O2H2       68 non-null     float64\n",
      " 11  Cate_total_dipole  68 non-null     float64\n",
      " 12  P_name             68 non-null     object \n",
      " 13  P_HOMO             68 non-null     float64\n",
      " 14  P_LUMO             68 non-null     float64\n",
      " 15  P_MC_P             68 non-null     float64\n",
      " 16  P_MC_=O            68 non-null     float64\n",
      " 17  P_MC_H             68 non-null     float64\n",
      " 18  P_BL_P=O           68 non-null     float64\n",
      " 19  P_BL_PH            68 non-null     float64\n",
      " 20  P_total_dipole     68 non-null     float64\n",
      " 21  Yield              68 non-null     int64  \n",
      "dtypes: float64(19), int64(1), object(2)\n",
      "memory usage: 11.8+ KB\n"
     ]
    }
   ],
   "source": [
    "#Reading dataset\n",
    "df=pd.read_csv('DFT.csv')\n",
    "df.info()"
   ]
  },
  {
   "cell_type": "code",
   "execution_count": 3,
   "id": "80142ace-7678-4a05-9b7b-fd9f33859f6f",
   "metadata": {
    "tags": []
   },
   "outputs": [
    {
     "name": "stdout",
     "output_type": "stream",
     "text": [
      "---Descriptors---\n",
      "   Cate_HOMO  Cate_LUMO  Cate_MC_O1  Cate_MC_H1  Cate_MC_O2  Cate_MC_H2  \\\n",
      "0  -5.940433  -0.165443   -0.374537    0.264452   -0.416200    0.277039   \n",
      "1  -5.940433  -0.165443   -0.374537    0.264452   -0.416200    0.277039   \n",
      "2  -5.940433  -0.165443   -0.374537    0.264452   -0.416200    0.277039   \n",
      "3  -5.940433  -0.165443   -0.374537    0.264452   -0.416200    0.277039   \n",
      "4  -5.807916  -0.157824   -0.376813    0.263887   -0.418652    0.276114   \n",
      "\n",
      "   Cate_BL_ArO1  Cate_BL_O1H1  Cate_BL_ArO2  Cate_BL_O2H2  Cate_total_dipole  \\\n",
      "0       1.36318       0.96622       1.37543       0.96253             2.8219   \n",
      "1       1.36318       0.96622       1.37543       0.96253             2.8219   \n",
      "2       1.36318       0.96622       1.37543       0.96253             2.8219   \n",
      "3       1.36318       0.96622       1.37543       0.96253             2.8219   \n",
      "4       1.36386       0.96625       1.37631       0.96239             2.5961   \n",
      "\n",
      "     P_HOMO    P_LUMO    P_MC_P   P_MC_=O    P_MC_H  P_BL_P=O   P_BL_PH  \\\n",
      "0 -8.171191  0.946671  1.127353 -0.601164 -0.070861   1.48127  1.400990   \n",
      "1 -8.457723  0.529254  1.093209 -0.603021 -0.065296   1.47916  1.397780   \n",
      "2 -7.460440 -1.281366  1.075293 -0.595198 -0.068256   1.48807  1.407520   \n",
      "3 -8.082211  0.300954  0.958398 -0.603526 -0.059276   1.48461  1.410435   \n",
      "4 -8.171191  0.946671  1.127353 -0.601164 -0.070861   1.48127  1.400990   \n",
      "\n",
      "   P_total_dipole  \n",
      "0          2.8321  \n",
      "1          2.0978  \n",
      "2          4.7321  \n",
      "3          3.3550  \n",
      "4          2.8321  \n",
      "---Objective---\n",
      "   Yield\n",
      "0     80\n",
      "1      7\n",
      "2      3\n",
      "3     48\n",
      "4     99\n"
     ]
    }
   ],
   "source": [
    "#Building descriptors\n",
    "X = df.drop(columns=['Yield', 'Cate_name', 'P_name' ])\n",
    "print('---Descriptors---')\n",
    "print(X.head())\n",
    "\n",
    "y = pd.DataFrame(df['Yield'],columns=['Yield'])\n",
    "print('---Objective---')\n",
    "print(y.head())"
   ]
  },
  {
   "cell_type": "code",
   "execution_count": 4,
   "id": "42408ce8-a560-4e50-979a-86a7c5d54a0b",
   "metadata": {
    "tags": []
   },
   "outputs": [
    {
     "name": "stdout",
     "output_type": "stream",
     "text": [
      "----------------------\n",
      "seed: 0\n",
      "Best Model Parameter: {'C': 750, 'gamma': 0.001}\n",
      "Best Model Score: 0.9233910346193381\n",
      "R2_test: 0.7865703573994896\n",
      "----------------------\n",
      "seed: 1\n",
      "Best Model Parameter: {'C': 500, 'gamma': 0.001}\n",
      "Best Model Score: 0.904396703102665\n",
      "R2_test: 0.8948810967899752\n",
      "----------------------\n",
      "seed: 2\n",
      "Best Model Parameter: {'C': 750, 'gamma': 0.001}\n",
      "Best Model Score: 0.9225171398751293\n",
      "R2_test: 0.839505298264101\n",
      "----------------------\n",
      "seed: 3\n",
      "Best Model Parameter: {'C': 400, 'gamma': 0.001}\n",
      "Best Model Score: 0.9036674903081867\n",
      "R2_test: 0.8183237326924493\n",
      "----------------------\n",
      "seed: 4\n",
      "Best Model Parameter: {'C': 300, 'gamma': 0.001}\n",
      "Best Model Score: 0.8678396502280726\n",
      "R2_test: 0.7058886959771067\n",
      "----------------------\n",
      "seed: 5\n",
      "Best Model Parameter: {'C': 750, 'gamma': 0.001}\n",
      "Best Model Score: 0.8757930624970957\n",
      "R2_test: 0.8026089766681866\n",
      "----------------------\n",
      "seed: 6\n",
      "Best Model Parameter: {'C': 300, 'gamma': 0.001}\n",
      "Best Model Score: 0.8795715351702673\n",
      "R2_test: 0.6945300329106774\n",
      "----------------------\n",
      "seed: 7\n",
      "Best Model Parameter: {'C': 200, 'gamma': 0.001}\n",
      "Best Model Score: 0.9208970621892542\n",
      "R2_test: 0.7508753021417256\n",
      "----------------------\n",
      "seed: 8\n",
      "Best Model Parameter: {'C': 400, 'gamma': 0.001}\n",
      "Best Model Score: 0.9197558202140609\n",
      "R2_test: 0.720878973328363\n",
      "----------------------\n",
      "seed: 9\n",
      "Best Model Parameter: {'C': 200, 'gamma': 0.001}\n",
      "Best Model Score: 0.8877278787245182\n",
      "R2_test: 0.9242346176279598\n",
      "R2_train_means: 0.8479338299977597\n",
      "CV_score_means: 0.9005557376928588\n",
      "R2_test_means: 0.7938297083800033\n"
     ]
    }
   ],
   "source": [
    "#storage \n",
    "data_r2_train =[]\n",
    "data_RMSE_train = []\n",
    "data_MAE_train = []\n",
    "data_r2_test = []\n",
    "data_RMSE_test = []\n",
    "data_MAE_test = []\n",
    "best_model_parametors = []\n",
    "data_cv_score = []\n",
    "\n",
    "#SVM_a_X,log(y)\n",
    "for i in range(10):\n",
    "    seed=i\n",
    "    X_train, X_test, y_train, y_test = train_test_split(X, y, test_size=0.3, random_state=seed)\n",
    "    \n",
    "    #autoscaling\n",
    "    a_X_train = (X_train - X_train.mean(axis=0)) / X_train.std(axis=0, ddof=1)\n",
    "    a_X_test = (X_test - X_train.mean(axis=0)) / X_train.std(axis=0, ddof=1)\n",
    "    \n",
    "    log_y_train = np.log(y_train)\n",
    "    \n",
    "    param_svm={'C':[0.1,1,5,10,50,100,200,300,400,500,750,1000],\n",
    "               'gamma':[100,10,1,0.1,0.01,0.001,0.0001,0.00001]}\n",
    "    reg_svm = GridSearchCV(SVR(kernel='rbf', epsilon=0.3), param_grid=param_svm, cv=5, n_jobs=16)\n",
    "    reg_svm.fit(a_X_train,log_y_train['Yield'])\n",
    "    reg_best = reg_svm.best_estimator_\n",
    "    y_pred1 = np.exp(reg_best.predict(a_X_train))\n",
    "    y_pred2 = np.exp(reg_best.predict(a_X_test))\n",
    "    \n",
    "    #train\n",
    "    r2_train = metrics.r2_score(y_train, y_pred1)\n",
    "    RMSE_train = metrics.root_mean_squared_error(y_train, y_pred1)\n",
    "    MAE_train =  metrics.mean_absolute_error(y_train, y_pred1)\n",
    "    #test\n",
    "    r2_test = metrics.r2_score(y_test, y_pred2)\n",
    "    RMSE_test = metrics.root_mean_squared_error(y_test, y_pred2)\n",
    "    MAE_test = metrics.mean_absolute_error(y_test, y_pred2)\n",
    "    \n",
    "    parametors = reg_svm.best_params_\n",
    "    best_model_parametors.append(parametors)\n",
    "    cv_score = reg_svm.best_score_\n",
    "    data_cv_score.append(cv_score)\n",
    "    \n",
    "    data_r2_train.append(r2_train)\n",
    "    data_RMSE_train.append(RMSE_train)\n",
    "    data_MAE_train.append(MAE_train)\n",
    "    data_r2_test.append(r2_test)\n",
    "    data_RMSE_test.append(RMSE_test)\n",
    "    data_MAE_test.append(MAE_test)\n",
    "    \n",
    "    print('----------------------')\n",
    "    print('seed:', seed)\n",
    "    print(\"Best Model Parameter:\",reg_svm.best_params_)\n",
    "    print(\"Best Model Score:\",reg_svm.best_score_)\n",
    "    print('R2_test:', r2_test)\n",
    "print('R2_train_means:', sum(data_r2_train)/10)\n",
    "print('CV_score_means:', sum(data_cv_score)/10)\n",
    "print('R2_test_means:', sum(data_r2_test)/10)"
   ]
  },
  {
   "cell_type": "code",
   "execution_count": 5,
   "id": "ffba4580-514b-460b-b7ef-1675fe8deb0b",
   "metadata": {
    "tags": []
   },
   "outputs": [
    {
     "name": "stdout",
     "output_type": "stream",
     "text": [
      "      r2_train  RMSE_train  MAE_train   r2_test  RMSE_test   MAE_test  \\\n",
      "0     0.890075    9.002452   5.946908  0.786570  16.707942  10.003221   \n",
      "1     0.847029   11.761509   7.212636  0.894881  10.091791   6.074660   \n",
      "2     0.875832   10.717635   6.636266  0.839505  12.458258   8.108422   \n",
      "3     0.855727   11.600220   7.263139  0.818324  13.204661   8.892391   \n",
      "4     0.859049   11.023330   6.547547  0.705889  17.684334  10.552375   \n",
      "5     0.851115   10.979888   7.005199  0.802609  15.494120  10.121779   \n",
      "6     0.826190   11.943252   7.688672  0.694530  19.173445  10.518529   \n",
      "7     0.834345   12.587636   7.476077  0.750875  15.027758   9.476802   \n",
      "8     0.852251   11.403334   6.371336  0.720879  16.608353  11.187935   \n",
      "9     0.787726   14.667242   9.450777  0.924235   7.306754   4.919206   \n",
      "mean  0.847934   11.568650   7.159856  0.793830  14.375742   8.985532   \n",
      "std   0.025317    1.307290   0.874248  0.070578   3.295111   1.858884   \n",
      "\n",
      "      cv_score  \n",
      "0     0.923391  \n",
      "1     0.904397  \n",
      "2     0.922517  \n",
      "3     0.903667  \n",
      "4     0.867840  \n",
      "5     0.875793  \n",
      "6     0.879572  \n",
      "7     0.920897  \n",
      "8     0.919756  \n",
      "9     0.887728  \n",
      "mean  0.900556  \n",
      "std   0.019304  \n"
     ]
    }
   ],
   "source": [
    "data_r2_train_pd = pd.DataFrame(data= data_r2_train, columns=['r2_train'])\n",
    "data_RMSE_train_pd = pd.DataFrame(data=data_RMSE_train, columns=['RMSE_train'])\n",
    "data_MAE_train_pd = pd.DataFrame(data=data_MAE_train, columns=['MAE_train'])\n",
    "data_r2_test_pd = pd.DataFrame(data=data_r2_test, columns=['r2_test'])\n",
    "data_RMSE_test_pd = pd.DataFrame(data=data_RMSE_test, columns=['RMSE_test'])\n",
    "data_MAE_test_pd = pd.DataFrame(data=data_MAE_test, columns=['MAE_test'])\n",
    "data_cv_score_pd = pd.DataFrame(data=data_cv_score, columns=['cv_score'])\n",
    "data_parametors = pd.DataFrame([best_model_parametors])\n",
    "\n",
    "data_all = pd.concat([data_r2_train_pd, data_RMSE_train_pd, data_MAE_train_pd, data_r2_test_pd, \n",
    "                      data_RMSE_test_pd, data_MAE_test_pd, data_cv_score_pd],\n",
    "                     axis=1, join='inner')\n",
    "\n",
    "data_all.loc['mean'] = data_all.mean()\n",
    "data_all.loc['std'] = data_all.std(ddof=0)\n",
    "print(data_all)\n",
    "\n",
    "data_all.to_csv('../../score/DFT//SVM_score.csv')"
   ]
  },
  {
   "cell_type": "code",
   "execution_count": null,
   "id": "452cf910-8660-4db5-922c-27ec46042086",
   "metadata": {
    "tags": []
   },
   "outputs": [],
   "source": []
  }
 ],
 "metadata": {
  "kernelspec": {
   "display_name": "Python 3 (ipykernel)",
   "language": "python",
   "name": "python3"
  },
  "language_info": {
   "codemirror_mode": {
    "name": "ipython",
    "version": 3
   },
   "file_extension": ".py",
   "mimetype": "text/x-python",
   "name": "python",
   "nbconvert_exporter": "python",
   "pygments_lexer": "ipython3",
   "version": "3.9.19"
  }
 },
 "nbformat": 4,
 "nbformat_minor": 5
}
