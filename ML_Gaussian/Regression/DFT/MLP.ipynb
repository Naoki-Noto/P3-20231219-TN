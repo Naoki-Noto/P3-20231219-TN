{
 "cells": [
  {
   "cell_type": "code",
   "execution_count": 1,
   "id": "5321d4c9-06c9-4577-851e-125e0ca6919c",
   "metadata": {
    "tags": []
   },
   "outputs": [
    {
     "name": "stderr",
     "output_type": "stream",
     "text": [
      "C:\\Users\\noton\\anaconda3\\envs\\TN5\\lib\\site-packages\\tqdm\\auto.py:21: TqdmWarning: IProgress not found. Please update jupyter and ipywidgets. See https://ipywidgets.readthedocs.io/en/stable/user_install.html\n",
      "  from .autonotebook import tqdm as notebook_tqdm\n"
     ]
    }
   ],
   "source": [
    "#import\n",
    "import seaborn as sns\n",
    "import pandas as pd\n",
    "import numpy as np\n",
    "import matplotlib.pyplot as plt\n",
    "from sklearn.model_selection import train_test_split\n",
    "from sklearn.model_selection import GridSearchCV\n",
    "from sklearn.neural_network import MLPRegressor\n",
    "from sklearn import metrics\n",
    "import shap"
   ]
  },
  {
   "cell_type": "code",
   "execution_count": 2,
   "id": "3e8a519a-27ee-4ee8-a4e9-2926c586a2b5",
   "metadata": {
    "tags": []
   },
   "outputs": [
    {
     "name": "stdout",
     "output_type": "stream",
     "text": [
      "<class 'pandas.core.frame.DataFrame'>\n",
      "RangeIndex: 68 entries, 0 to 67\n",
      "Data columns (total 22 columns):\n",
      " #   Column             Non-Null Count  Dtype  \n",
      "---  ------             --------------  -----  \n",
      " 0   Cate_name          68 non-null     object \n",
      " 1   Cate_HOMO          68 non-null     float64\n",
      " 2   Cate_LUMO          68 non-null     float64\n",
      " 3   Cate_MC_O1         68 non-null     float64\n",
      " 4   Cate_MC_H1         68 non-null     float64\n",
      " 5   Cate_MC_O2         68 non-null     float64\n",
      " 6   Cate_MC_H2         68 non-null     float64\n",
      " 7   Cate_BL_ArO1       68 non-null     float64\n",
      " 8   Cate_BL_O1H1       68 non-null     float64\n",
      " 9   Cate_BL_ArO2       68 non-null     float64\n",
      " 10  Cate_BL_O2H2       68 non-null     float64\n",
      " 11  Cate_total_dipole  68 non-null     float64\n",
      " 12  P_name             68 non-null     object \n",
      " 13  P_HOMO             68 non-null     float64\n",
      " 14  P_LUMO             68 non-null     float64\n",
      " 15  P_MC_P             68 non-null     float64\n",
      " 16  P_MC_=O            68 non-null     float64\n",
      " 17  P_MC_H             68 non-null     float64\n",
      " 18  P_BL_P=O           68 non-null     float64\n",
      " 19  P_BL_PH            68 non-null     float64\n",
      " 20  P_total_dipole     68 non-null     float64\n",
      " 21  Yield              68 non-null     int64  \n",
      "dtypes: float64(19), int64(1), object(2)\n",
      "memory usage: 11.8+ KB\n"
     ]
    }
   ],
   "source": [
    "#Reading dataset\n",
    "df=pd.read_csv('DFT.csv')\n",
    "df.info()"
   ]
  },
  {
   "cell_type": "code",
   "execution_count": 3,
   "id": "9988ae2a-2420-405c-8297-4ee7840c93f1",
   "metadata": {
    "tags": []
   },
   "outputs": [
    {
     "name": "stdout",
     "output_type": "stream",
     "text": [
      "---Descriptors---\n",
      "   Cate_HOMO  Cate_LUMO  Cate_MC_O1  Cate_MC_H1  Cate_MC_O2  Cate_MC_H2  \\\n",
      "0  -5.940433  -0.165443   -0.374537    0.264452   -0.416200    0.277039   \n",
      "1  -5.940433  -0.165443   -0.374537    0.264452   -0.416200    0.277039   \n",
      "2  -5.940433  -0.165443   -0.374537    0.264452   -0.416200    0.277039   \n",
      "3  -5.940433  -0.165443   -0.374537    0.264452   -0.416200    0.277039   \n",
      "4  -5.807916  -0.157824   -0.376813    0.263887   -0.418652    0.276114   \n",
      "\n",
      "   Cate_BL_ArO1  Cate_BL_O1H1  Cate_BL_ArO2  Cate_BL_O2H2  Cate_total_dipole  \\\n",
      "0       1.36318       0.96622       1.37543       0.96253             2.8219   \n",
      "1       1.36318       0.96622       1.37543       0.96253             2.8219   \n",
      "2       1.36318       0.96622       1.37543       0.96253             2.8219   \n",
      "3       1.36318       0.96622       1.37543       0.96253             2.8219   \n",
      "4       1.36386       0.96625       1.37631       0.96239             2.5961   \n",
      "\n",
      "     P_HOMO    P_LUMO    P_MC_P   P_MC_=O    P_MC_H  P_BL_P=O   P_BL_PH  \\\n",
      "0 -8.171191  0.946671  1.127353 -0.601164 -0.070861   1.48127  1.400990   \n",
      "1 -8.457723  0.529254  1.093209 -0.603021 -0.065296   1.47916  1.397780   \n",
      "2 -7.460440 -1.281366  1.075293 -0.595198 -0.068256   1.48807  1.407520   \n",
      "3 -8.082211  0.300954  0.958398 -0.603526 -0.059276   1.48461  1.410435   \n",
      "4 -8.171191  0.946671  1.127353 -0.601164 -0.070861   1.48127  1.400990   \n",
      "\n",
      "   P_total_dipole  \n",
      "0          2.8321  \n",
      "1          2.0978  \n",
      "2          4.7321  \n",
      "3          3.3550  \n",
      "4          2.8321  \n",
      "---Objective---\n",
      "   Yield\n",
      "0     80\n",
      "1      7\n",
      "2      3\n",
      "3     48\n",
      "4     99\n"
     ]
    }
   ],
   "source": [
    "#Building descriptors\n",
    "X = df.drop(columns=['Yield', 'Cate_name', 'P_name'])\n",
    "print('---Descriptors---')\n",
    "print(X.head())\n",
    "\n",
    "y = pd.DataFrame(df['Yield'],columns=['Yield'])\n",
    "print('---Objective---')\n",
    "print(y.head())"
   ]
  },
  {
   "cell_type": "code",
   "execution_count": 4,
   "id": "084c62d4-67fe-4e93-96ec-d532f9c4ee47",
   "metadata": {
    "tags": []
   },
   "outputs": [
    {
     "name": "stdout",
     "output_type": "stream",
     "text": [
      "----------------------\n",
      "seed: 0\n",
      "Best Model Parameter: {'alpha': 5, 'hidden_layer_sizes': (256,)}\n",
      "Best Model Score: 0.806280395594927\n",
      "R2_test: 0.739775177412965\n",
      "----------------------\n",
      "seed: 1\n",
      "Best Model Parameter: {'alpha': 4, 'hidden_layer_sizes': (256,)}\n",
      "Best Model Score: 0.7587371600534061\n",
      "R2_test: 0.8253623161386072\n",
      "----------------------\n",
      "seed: 2\n",
      "Best Model Parameter: {'alpha': 5, 'hidden_layer_sizes': (128,)}\n",
      "Best Model Score: 0.7675670534236894\n",
      "R2_test: 0.7819122345416512\n",
      "----------------------\n",
      "seed: 3\n",
      "Best Model Parameter: {'alpha': 5, 'hidden_layer_sizes': (128,)}\n",
      "Best Model Score: 0.6817457728409804\n",
      "R2_test: 0.8366437810581772\n",
      "----------------------\n",
      "seed: 4\n",
      "Best Model Parameter: {'alpha': 4, 'hidden_layer_sizes': (256,)}\n",
      "Best Model Score: 0.7675329778317959\n",
      "R2_test: 0.7934823369450777\n",
      "----------------------\n",
      "seed: 5\n",
      "Best Model Parameter: {'alpha': 5, 'hidden_layer_sizes': (256,)}\n",
      "Best Model Score: 0.7549920493038538\n",
      "R2_test: 0.7233501386688855\n",
      "----------------------\n",
      "seed: 6\n",
      "Best Model Parameter: {'alpha': 5, 'hidden_layer_sizes': (128,)}\n",
      "Best Model Score: 0.7694093030021747\n",
      "R2_test: 0.7494782179991752\n",
      "----------------------\n",
      "seed: 7\n",
      "Best Model Parameter: {'alpha': 5, 'hidden_layer_sizes': (512,)}\n",
      "Best Model Score: 0.723225098035582\n",
      "R2_test: 0.7383797854183802\n",
      "----------------------\n",
      "seed: 8\n",
      "Best Model Parameter: {'alpha': 5, 'hidden_layer_sizes': (128,)}\n",
      "Best Model Score: 0.7546552090567145\n",
      "R2_test: 0.7535310928204135\n",
      "----------------------\n",
      "seed: 9\n",
      "Best Model Parameter: {'alpha': 5, 'hidden_layer_sizes': (512,)}\n",
      "Best Model Score: 0.6691575157745439\n",
      "R2_test: 0.9176840944612442\n",
      "R2_train_means: 0.904458871690208\n",
      "CV_score_means: 0.7453302534917668\n",
      "R2_test_means: 0.7859599175464577\n"
     ]
    }
   ],
   "source": [
    "#storage \n",
    "data_r2_train =[]\n",
    "data_RMSE_train = []\n",
    "data_MAE_train = []\n",
    "data_r2_test = []\n",
    "data_RMSE_test = []\n",
    "data_MAE_test = []\n",
    "best_model_parametors = []\n",
    "data_cv_score = []\n",
    "\n",
    "#MLP\n",
    "for i in range(10):\n",
    "    seed=i\n",
    "    X_train, X_test, y_train, y_test = train_test_split(X, y, test_size=0.3, random_state=seed)\n",
    "    \n",
    "    #autoscaling\n",
    "    a_X_train = (X_train - X_train.mean(axis=0)) / X_train.std(axis=0, ddof=1)\n",
    "    a_X_test = (X_test - X_train.mean(axis=0)) / X_train.std(axis=0, ddof=1)\n",
    "    a_y_train = y_train/10\n",
    "    \n",
    "    param_mlp={'hidden_layer_sizes':[(128,),(256,),(512,)], 'alpha':[1,2,3,4,5]}\n",
    "    reg_mlp = GridSearchCV(MLPRegressor(random_state=0, max_iter=1000, learning_rate_init=0.03),\n",
    "                           param_grid=param_mlp, cv=5, n_jobs=16)\n",
    "    reg_mlp.fit(a_X_train,a_y_train['Yield'])\n",
    "    reg_best = reg_mlp.best_estimator_\n",
    "    y_pred1 = reg_best.predict(a_X_train)*10\n",
    "    y_pred2 = reg_best.predict(a_X_test)*10\n",
    "            \n",
    "    #train\n",
    "    r2_train = metrics.r2_score(y_train, y_pred1)\n",
    "    RMSE_train = metrics.root_mean_squared_error(y_train, y_pred1)\n",
    "    MAE_train =  metrics.mean_absolute_error(y_train, y_pred1)\n",
    "    \n",
    "    #test\n",
    "    r2_test = metrics.r2_score(y_test, y_pred2)\n",
    "    RMSE_test = metrics.root_mean_squared_error(y_test, y_pred2)\n",
    "    MAE_test = metrics.mean_absolute_error(y_test, y_pred2)\n",
    "    \n",
    "    #strage data of accuracy \n",
    "    parametors = reg_mlp.best_params_\n",
    "    best_model_parametors.append(parametors)\n",
    "\n",
    "    data_r2_train.append(r2_train)\n",
    "    data_RMSE_train.append(RMSE_train)\n",
    "    data_MAE_train.append(MAE_train)\n",
    "    data_r2_test.append(r2_test)\n",
    "    data_RMSE_test.append(RMSE_test)\n",
    "    data_MAE_test.append(MAE_test)\n",
    "    data_cv_score.append(reg_mlp.best_score_)\n",
    "    \n",
    "    print('----------------------')\n",
    "    print('seed:', seed)\n",
    "    print(\"Best Model Parameter:\",reg_mlp.best_params_)\n",
    "    print(\"Best Model Score:\",reg_mlp.best_score_)\n",
    "    print('R2_test:', r2_test)\n",
    "print('R2_train_means:', sum(data_r2_train)/10)\n",
    "print('CV_score_means:', sum(data_cv_score)/10)\n",
    "print('R2_test_means:', sum(data_r2_test)/10)"
   ]
  },
  {
   "cell_type": "code",
   "execution_count": 5,
   "id": "34990d07-4037-4264-98ed-f15ceafaa27c",
   "metadata": {},
   "outputs": [
    {
     "name": "stdout",
     "output_type": "stream",
     "text": [
      "      r2_train  RMSE_train  MAE_train   r2_test  RMSE_test   MAE_test  \\\n",
      "0     0.909389    8.173386   5.478117  0.739775  18.448878  13.708616   \n",
      "1     0.904468    9.294660   4.990903  0.825362  13.007589  10.072757   \n",
      "2     0.937641    7.595272   4.612280  0.781912  14.522542  10.354281   \n",
      "3     0.892786    9.999961   5.834086  0.836644  12.521201   9.150410   \n",
      "4     0.911550    8.732245   5.228149  0.793482  14.818746   9.036510   \n",
      "5     0.878670    9.911898   6.042378  0.723350  18.342919  12.468813   \n",
      "6     0.893488    9.349417   5.175813  0.749478  17.363554  12.072361   \n",
      "7     0.932162    8.055215   5.229512  0.738380  15.400026  10.691616   \n",
      "8     0.899375    9.410710   5.093336  0.753531  15.606710  10.202355   \n",
      "9     0.885058   10.792914   6.975484  0.917684   7.616070   6.612564   \n",
      "mean  0.904459    9.131568   5.466006  0.785960  14.764824  10.437028   \n",
      "std   0.017234    0.898047   0.605770  0.054142   2.915923   1.809283   \n",
      "\n",
      "      cv_score  \n",
      "0     0.806280  \n",
      "1     0.758737  \n",
      "2     0.767567  \n",
      "3     0.681746  \n",
      "4     0.767533  \n",
      "5     0.754992  \n",
      "6     0.769409  \n",
      "7     0.723225  \n",
      "8     0.754655  \n",
      "9     0.669158  \n",
      "mean  0.745330  \n",
      "std   0.038110  \n"
     ]
    }
   ],
   "source": [
    "data_r2_train_pd = pd.DataFrame(data= data_r2_train, columns=['r2_train'])\n",
    "data_RMSE_train_pd = pd.DataFrame(data=data_RMSE_train, columns=['RMSE_train'])\n",
    "data_MAE_train_pd = pd.DataFrame(data=data_MAE_train, columns=['MAE_train'])\n",
    "data_r2_test_pd = pd.DataFrame(data=data_r2_test, columns=['r2_test'])\n",
    "data_RMSE_test_pd = pd.DataFrame(data=data_RMSE_test, columns=['RMSE_test'])\n",
    "data_MAE_test_pd = pd.DataFrame(data=data_MAE_test, columns=['MAE_test'])\n",
    "data_cv_score_pd = pd.DataFrame(data=data_cv_score, columns=['cv_score'])\n",
    "data_parametors = pd.DataFrame([best_model_parametors])\n",
    "\n",
    "data_all = pd.concat([data_r2_train_pd, data_RMSE_train_pd, data_MAE_train_pd, data_r2_test_pd, \n",
    "                      data_RMSE_test_pd, data_MAE_test_pd, data_cv_score_pd],\n",
    "                     axis=1, join='inner')\n",
    "\n",
    "data_all.loc['mean'] = data_all.mean()\n",
    "data_all.loc['std'] = data_all.std(ddof=0)\n",
    "print(data_all)\n",
    "\n",
    "data_all.to_csv('../../score/DFT/MLP_score.csv')"
   ]
  },
  {
   "cell_type": "code",
   "execution_count": null,
   "id": "e4df374f-cec7-446d-b36d-23bf1128b368",
   "metadata": {},
   "outputs": [],
   "source": []
  }
 ],
 "metadata": {
  "kernelspec": {
   "display_name": "Python 3 (ipykernel)",
   "language": "python",
   "name": "python3"
  },
  "language_info": {
   "codemirror_mode": {
    "name": "ipython",
    "version": 3
   },
   "file_extension": ".py",
   "mimetype": "text/x-python",
   "name": "python",
   "nbconvert_exporter": "python",
   "pygments_lexer": "ipython3",
   "version": "3.9.19"
  }
 },
 "nbformat": 4,
 "nbformat_minor": 5
}
