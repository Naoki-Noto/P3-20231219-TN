{
 "cells": [
  {
   "cell_type": "code",
   "execution_count": 1,
   "id": "24250875-9c00-4a2e-b044-2905593b872d",
   "metadata": {
    "tags": []
   },
   "outputs": [],
   "source": [
    "#import\n",
    "import seaborn as sns\n",
    "import pandas as pd\n",
    "import numpy as np\n",
    "import matplotlib.pyplot as plt\n",
    "from sklearn.model_selection import train_test_split\n",
    "from sklearn.linear_model import LinearRegression\n",
    "from sklearn.linear_model import LassoCV\n",
    "from sklearn import metrics\n",
    "import warnings\n",
    "warnings.filterwarnings('ignore')"
   ]
  },
  {
   "cell_type": "code",
   "execution_count": 2,
   "id": "710c369c-62c4-4a63-a9f8-fa343155455d",
   "metadata": {
    "tags": []
   },
   "outputs": [
    {
     "name": "stdout",
     "output_type": "stream",
     "text": [
      "<class 'pandas.core.frame.DataFrame'>\n",
      "RangeIndex: 68 entries, 0 to 67\n",
      "Data columns (total 22 columns):\n",
      " #   Column             Non-Null Count  Dtype  \n",
      "---  ------             --------------  -----  \n",
      " 0   Cate_name          68 non-null     object \n",
      " 1   Cate_HOMO          68 non-null     float64\n",
      " 2   Cate_LUMO          68 non-null     float64\n",
      " 3   Cate_MC_O1         68 non-null     float64\n",
      " 4   Cate_MC_H1         68 non-null     float64\n",
      " 5   Cate_MC_O2         68 non-null     float64\n",
      " 6   Cate_MC_H2         68 non-null     float64\n",
      " 7   Cate_BL_ArO1       68 non-null     float64\n",
      " 8   Cate_BL_O1H1       68 non-null     float64\n",
      " 9   Cate_BL_ArO2       68 non-null     float64\n",
      " 10  Cate_BL_O2H2       68 non-null     float64\n",
      " 11  Cate_total_dipole  68 non-null     float64\n",
      " 12  P_name             68 non-null     object \n",
      " 13  P_HOMO             68 non-null     float64\n",
      " 14  P_LUMO             68 non-null     float64\n",
      " 15  P_MC_P             68 non-null     float64\n",
      " 16  P_MC_=O            68 non-null     float64\n",
      " 17  P_MC_H             68 non-null     float64\n",
      " 18  P_BL_P=O           68 non-null     float64\n",
      " 19  P_BL_PH            68 non-null     float64\n",
      " 20  P_total_dipole     68 non-null     float64\n",
      " 21  Yield              68 non-null     int64  \n",
      "dtypes: float64(19), int64(1), object(2)\n",
      "memory usage: 11.8+ KB\n"
     ]
    }
   ],
   "source": [
    "#Reading dataset\n",
    "df=pd.read_csv('DFT.csv')\n",
    "df.info()"
   ]
  },
  {
   "cell_type": "code",
   "execution_count": 3,
   "id": "ce899465-892d-48fd-868d-458930162f54",
   "metadata": {
    "tags": []
   },
   "outputs": [
    {
     "name": "stdout",
     "output_type": "stream",
     "text": [
      "---Descriptors---\n",
      "   Cate_HOMO  Cate_LUMO  Cate_MC_O1  Cate_MC_H1  Cate_MC_O2  Cate_MC_H2  \\\n",
      "0  -5.940433  -0.165443   -0.374537    0.264452   -0.416200    0.277039   \n",
      "1  -5.940433  -0.165443   -0.374537    0.264452   -0.416200    0.277039   \n",
      "2  -5.940433  -0.165443   -0.374537    0.264452   -0.416200    0.277039   \n",
      "3  -5.940433  -0.165443   -0.374537    0.264452   -0.416200    0.277039   \n",
      "4  -5.807916  -0.157824   -0.376813    0.263887   -0.418652    0.276114   \n",
      "\n",
      "   Cate_BL_ArO1  Cate_BL_O1H1  Cate_BL_ArO2  Cate_BL_O2H2  Cate_total_dipole  \\\n",
      "0       1.36318       0.96622       1.37543       0.96253             2.8219   \n",
      "1       1.36318       0.96622       1.37543       0.96253             2.8219   \n",
      "2       1.36318       0.96622       1.37543       0.96253             2.8219   \n",
      "3       1.36318       0.96622       1.37543       0.96253             2.8219   \n",
      "4       1.36386       0.96625       1.37631       0.96239             2.5961   \n",
      "\n",
      "     P_HOMO    P_LUMO    P_MC_P   P_MC_=O    P_MC_H  P_BL_P=O   P_BL_PH  \\\n",
      "0 -8.171191  0.946671  1.127353 -0.601164 -0.070861   1.48127  1.400990   \n",
      "1 -8.457723  0.529254  1.093209 -0.603021 -0.065296   1.47916  1.397780   \n",
      "2 -7.460440 -1.281366  1.075293 -0.595198 -0.068256   1.48807  1.407520   \n",
      "3 -8.082211  0.300954  0.958398 -0.603526 -0.059276   1.48461  1.410435   \n",
      "4 -8.171191  0.946671  1.127353 -0.601164 -0.070861   1.48127  1.400990   \n",
      "\n",
      "   P_total_dipole  \n",
      "0          2.8321  \n",
      "1          2.0978  \n",
      "2          4.7321  \n",
      "3          3.3550  \n",
      "4          2.8321  \n",
      "---Objective---\n",
      "   Yield\n",
      "0     80\n",
      "1      7\n",
      "2      3\n",
      "3     48\n",
      "4     99\n"
     ]
    }
   ],
   "source": [
    "#Building descriptors\n",
    "X = df.drop(columns=['Yield', 'Cate_name', 'P_name' ])\n",
    "print('---Descriptors---')\n",
    "print(X.head())\n",
    "\n",
    "y = pd.DataFrame(df['Yield'],columns=['Yield'])\n",
    "print('---Objective---')\n",
    "print(y.head())"
   ]
  },
  {
   "cell_type": "code",
   "execution_count": 4,
   "id": "0f79bef2-cad5-4f86-a1d9-c8b07bbf4ee0",
   "metadata": {},
   "outputs": [
    {
     "name": "stdout",
     "output_type": "stream",
     "text": [
      "----------------------\n",
      "seed: 0\n",
      "R2_train: 0.8516586086061235\n",
      "R2_test: 0.68209574332897\n",
      "----------------------\n",
      "----------------------\n",
      "seed: 1\n",
      "R2_train: 0.7811048868954963\n",
      "R2_test: 0.8339554367790554\n",
      "----------------------\n",
      "----------------------\n",
      "seed: 2\n",
      "R2_train: 0.8408669011527474\n",
      "R2_test: 0.7803532884375399\n",
      "----------------------\n",
      "----------------------\n",
      "seed: 3\n",
      "R2_train: 0.8299038376621485\n",
      "R2_test: 0.7974578503206218\n",
      "----------------------\n",
      "----------------------\n",
      "seed: 4\n",
      "R2_train: 0.8224981701956882\n",
      "R2_test: 0.75299572480365\n",
      "----------------------\n",
      "----------------------\n",
      "seed: 5\n",
      "R2_train: 0.8266746090812594\n",
      "R2_test: 0.6562065841988205\n",
      "----------------------\n",
      "----------------------\n",
      "seed: 6\n",
      "R2_train: 0.8575982093806978\n",
      "R2_test: 0.6994781216489139\n",
      "----------------------\n",
      "----------------------\n",
      "seed: 7\n",
      "R2_train: 0.8271149802239252\n",
      "R2_test: 0.7430977012490396\n",
      "----------------------\n",
      "----------------------\n",
      "seed: 8\n",
      "R2_train: 0.8488810039837043\n",
      "R2_test: 0.7177944562183373\n",
      "----------------------\n",
      "----------------------\n",
      "seed: 9\n",
      "R2_train: 0.7916206360591217\n",
      "R2_test: 0.8899382589357694\n",
      "----------------------\n",
      "R2_train_means: 0.8277921843240913\n",
      "R2_test_means: 0.7553373165920718\n"
     ]
    }
   ],
   "source": [
    "#storage \n",
    "data_r2_train =[]\n",
    "data_RMSE_train = []\n",
    "data_MAE_train = []\n",
    "data_r2_test = []\n",
    "data_RMSE_test = []\n",
    "data_MAE_test = []\n",
    "cum_coef = np.zeros((1,X.shape[1]))\n",
    "\n",
    "#Lasso\n",
    "for i in range(10):\n",
    "    seed=i\n",
    "    X_train, X_test, y_train, y_test = train_test_split(X, y, test_size=0.3, random_state=seed)\n",
    "    \n",
    "    a_X_train = (X_train - X_train.mean(axis=0)) / X_train.std(axis=0, ddof=1)\n",
    "    a_X_test = (X_test - X_train.mean(axis=0)) / X_train.std(axis=0, ddof=1)\n",
    "    \n",
    "    n_lambda = 1000\n",
    "    alphas = np.logspace(-6, 0, n_lambda)\n",
    "    model = LassoCV(cv=5, alphas=alphas)\n",
    "    model.fit(a_X_train, y_train['Yield'])\n",
    "    \n",
    "    y_pred1 = model.predict(a_X_train)\n",
    "    y_pred2 = model.predict(a_X_test)\n",
    "    \n",
    "    #train\n",
    "    r2_train = metrics.r2_score(y_train, y_pred1)\n",
    "    RMSE_train = metrics.root_mean_squared_error(y_train, y_pred1)\n",
    "    MAE_train =  metrics.mean_absolute_error(y_train, y_pred1)\n",
    "    #test\n",
    "    r2_test = metrics.r2_score(y_test, y_pred2)\n",
    "    RMSE_test = metrics.root_mean_squared_error(y_test, y_pred2)\n",
    "    MAE_test = metrics.mean_absolute_error(y_test, y_pred2)\n",
    "    \n",
    "    data_r2_train.append(r2_train)\n",
    "    data_RMSE_train.append(RMSE_train)\n",
    "    data_MAE_train.append(MAE_train)\n",
    "    data_r2_test.append(r2_test)\n",
    "    data_RMSE_test.append(RMSE_test)\n",
    "    data_MAE_test.append(MAE_test)\n",
    "\n",
    "    \n",
    "    print('----------------------')\n",
    "    print('seed:', seed)\n",
    "    print('R2_train:', r2_train)\n",
    "    print('R2_test:', r2_test)\n",
    "    print('----------------------')\n",
    "print('R2_train_means:', sum(data_r2_train)/10)\n",
    "print('R2_test_means:', sum(data_r2_test)/10)"
   ]
  },
  {
   "cell_type": "code",
   "execution_count": 5,
   "id": "dee01ad3-7641-4c5c-8319-4d4639226e10",
   "metadata": {},
   "outputs": [
    {
     "name": "stdout",
     "output_type": "stream",
     "text": [
      "      r2_train  RMSE_train  MAE_train   r2_test  RMSE_test   MAE_test\n",
      "0     0.851659   10.457869   6.121268  0.682096  20.391246  13.239076\n",
      "1     0.781105   14.069434   8.795794  0.833955  12.683531   9.009283\n",
      "2     0.840867   12.133173   7.893015  0.780353  14.574355   9.660633\n",
      "3     0.829904   12.595655   7.890240  0.797458  13.942346   9.132972\n",
      "4     0.822498   12.370278   7.761127  0.752996  16.206346   9.629299\n",
      "5     0.826675   11.846865   6.977362  0.656207  20.448055  12.975461\n",
      "6     0.857598   10.810430   6.809105  0.699478  19.017522  12.740002\n",
      "7     0.827115   12.859400   8.004430  0.743098  15.260536  10.875549\n",
      "8     0.848881   11.532665   7.101591  0.717794  16.699869  10.457056\n",
      "9     0.791621   14.532056   9.926107  0.889938   8.806579   7.811174\n",
      "mean  0.827792   12.320782   7.728004  0.755337  15.803039  10.553051\n",
      "std   0.022555    1.165729   0.976297  0.065069   3.273525   1.693470\n"
     ]
    }
   ],
   "source": [
    "data_r2_train_pd = pd.DataFrame(data= data_r2_train, columns=['r2_train'])\n",
    "data_RMSE_train_pd = pd.DataFrame(data=data_RMSE_train, columns=['RMSE_train'])\n",
    "data_MAE_train_pd = pd.DataFrame(data=data_MAE_train, columns=['MAE_train'])\n",
    "data_r2_test_pd = pd.DataFrame(data=data_r2_test, columns=['r2_test'])\n",
    "data_RMSE_test_pd = pd.DataFrame(data=data_RMSE_test, columns=['RMSE_test'])\n",
    "data_MAE_test_pd = pd.DataFrame(data=data_MAE_test, columns=['MAE_test'])\n",
    "\n",
    "data_all = pd.concat([data_r2_train_pd, data_RMSE_train_pd, data_MAE_train_pd, data_r2_test_pd, \n",
    "                      data_RMSE_test_pd, data_MAE_test_pd],\n",
    "                     axis=1, join='inner')\n",
    "\n",
    "data_all.loc['mean'] = data_all.mean()\n",
    "data_all.loc['std'] = data_all.std(ddof=0)\n",
    "print(data_all)\n",
    "\n",
    "data_all.to_csv('../../score/DFT/Lasso_score.csv')"
   ]
  },
  {
   "cell_type": "code",
   "execution_count": null,
   "id": "de950278-31f3-45a0-b24c-4228e2e407c5",
   "metadata": {
    "tags": []
   },
   "outputs": [],
   "source": []
  }
 ],
 "metadata": {
  "kernelspec": {
   "display_name": "Python 3 (ipykernel)",
   "language": "python",
   "name": "python3"
  },
  "language_info": {
   "codemirror_mode": {
    "name": "ipython",
    "version": 3
   },
   "file_extension": ".py",
   "mimetype": "text/x-python",
   "name": "python",
   "nbconvert_exporter": "python",
   "pygments_lexer": "ipython3",
   "version": "3.9.19"
  }
 },
 "nbformat": 4,
 "nbformat_minor": 5
}
