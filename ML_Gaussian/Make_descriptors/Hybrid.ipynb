{
 "cells": [
  {
   "cell_type": "code",
   "execution_count": 1,
   "id": "8759fb82",
   "metadata": {},
   "outputs": [],
   "source": [
    "import pandas as pd\n",
    "import numpy as np"
   ]
  },
  {
   "cell_type": "code",
   "execution_count": 2,
   "id": "033269e5",
   "metadata": {},
   "outputs": [
    {
     "name": "stdout",
     "output_type": "stream",
     "text": [
      "    Yield\n",
      "0      80\n",
      "1       7\n",
      "2       3\n",
      "3      48\n",
      "4      99\n",
      "..    ...\n",
      "63     51\n",
      "64     44\n",
      "65      5\n",
      "66      3\n",
      "67     57\n",
      "\n",
      "[68 rows x 1 columns]\n",
      "      Cate_name\n",
      "0      Catechol\n",
      "1      Catechol\n",
      "2      Catechol\n",
      "3      Catechol\n",
      "4  4Me-Catechol\n",
      "                  P_name\n",
      "0     Dimethyl Phosphite\n",
      "1        Phosphonic acid\n",
      "2  Phenylphosphinic Acid\n",
      "3        Phosphinic acid\n",
      "4     Dimethyl Phosphite\n",
      "   Cate_RDKit_PC_0  Cate_RDKit_PC_1  Cate_RDKit_PC_2  Cate_RDKit_PC_3  \\\n",
      "0        -5.830571        -4.385613          0.82493         0.507248   \n",
      "1        -5.830571        -4.385613          0.82493         0.507248   \n",
      "2        -5.830571        -4.385613          0.82493         0.507248   \n",
      "3        -5.830571        -4.385613          0.82493         0.507248   \n",
      "4        -3.100537        -3.269828         -0.52885        -1.363916   \n",
      "\n",
      "   Cate_RDKit_PC_4  Cate_RDKit_PC_5  Cate_RDKit_PC_6  \n",
      "0        -0.510793        -1.092656        -0.605579  \n",
      "1        -0.510793        -1.092656        -0.605579  \n",
      "2        -0.510793        -1.092656        -0.605579  \n",
      "3        -0.510793        -1.092656        -0.605579  \n",
      "4         1.881023        -0.952011        -1.287595  \n",
      "   P_RDKit_PC_0  P_RDKit_PC_1\n",
      "0      1.406982      7.906757\n",
      "1     -5.494109      0.842109\n",
      "2     11.128658     -3.748087\n",
      "3     -7.041532     -5.000780\n",
      "4      1.406982      7.906757\n"
     ]
    }
   ],
   "source": [
    "data = pd.read_csv(\"../Regression/RDKit/RDKit_pca.csv\")\n",
    "Cate_rdkit = data.drop(columns=['Yield', 'Cate_name', 'P_name', 'P_RDKit_PC_0', 'P_RDKit_PC_1'])\n",
    "P_rdkit = data.drop(columns=['Yield', 'Cate_name', 'P_name', 'Cate_RDKit_PC_0', 'Cate_RDKit_PC_1','Cate_RDKit_PC_2',\n",
    "                             'Cate_RDKit_PC_3', 'Cate_RDKit_PC_4', 'Cate_RDKit_PC_5','Cate_RDKit_PC_6'])\n",
    "Yield = pd.DataFrame(data['Yield'], columns=['Yield'])\n",
    "Cate_name = pd.DataFrame(data['Cate_name'], columns=['Cate_name'])\n",
    "P_name = pd.DataFrame(data['P_name'], columns=['P_name'])\n",
    "\n",
    "print(Yield)\n",
    "print(Cate_name.head())\n",
    "print(P_name.head())\n",
    "print(Cate_rdkit.head())\n",
    "print(P_rdkit.head())"
   ]
  },
  {
   "cell_type": "code",
   "execution_count": 3,
   "id": "cc61c95e",
   "metadata": {},
   "outputs": [
    {
     "name": "stdout",
     "output_type": "stream",
     "text": [
      "   Cate_HOMO  Cate_LUMO  Cate_MC_O1  Cate_MC_H1  Cate_MC_O2  Cate_MC_H2  \\\n",
      "0  -5.940433  -0.165443   -0.374537    0.264452   -0.416200    0.277039   \n",
      "1  -5.940433  -0.165443   -0.374537    0.264452   -0.416200    0.277039   \n",
      "2  -5.940433  -0.165443   -0.374537    0.264452   -0.416200    0.277039   \n",
      "3  -5.940433  -0.165443   -0.374537    0.264452   -0.416200    0.277039   \n",
      "4  -5.807916  -0.157824   -0.376813    0.263887   -0.418652    0.276114   \n",
      "\n",
      "   Cate_BL_ArO1  Cate_BL_O1H1  Cate_BL_ArO2  Cate_BL_O2H2  Cate_total_dipole  \n",
      "0       1.36318       0.96622       1.37543       0.96253             2.8219  \n",
      "1       1.36318       0.96622       1.37543       0.96253             2.8219  \n",
      "2       1.36318       0.96622       1.37543       0.96253             2.8219  \n",
      "3       1.36318       0.96622       1.37543       0.96253             2.8219  \n",
      "4       1.36386       0.96625       1.37631       0.96239             2.5961  \n",
      "     P_HOMO    P_LUMO    P_MC_P   P_MC_=O    P_MC_H  P_BL_P=O   P_BL_PH  \\\n",
      "0 -8.171191  0.946671  1.127353 -0.601164 -0.070861   1.48127  1.400990   \n",
      "1 -8.457723  0.529254  1.093209 -0.603021 -0.065296   1.47916  1.397780   \n",
      "2 -7.460440 -1.281366  1.075293 -0.595198 -0.068256   1.48807  1.407520   \n",
      "3 -8.082211  0.300954  0.958398 -0.603526 -0.059276   1.48461  1.410435   \n",
      "4 -8.171191  0.946671  1.127353 -0.601164 -0.070861   1.48127  1.400990   \n",
      "\n",
      "   P_total_dipole  \n",
      "0          2.8321  \n",
      "1          2.0978  \n",
      "2          4.7321  \n",
      "3          3.3550  \n",
      "4          2.8321  \n"
     ]
    }
   ],
   "source": [
    "data2 = pd.read_csv(\"../Regression/DFT/DFT.csv\")\n",
    "Cate_dft = data2.drop(columns=['Yield', 'Cate_name', 'P_name', 'P_HOMO', 'P_LUMO', 'P_MC_P', 'P_MC_=O', 'P_MC_H',\n",
    "                               'P_BL_P=O', 'P_BL_PH', 'P_total_dipole'])\n",
    "P_dft = data2.drop(columns=['Yield', 'Cate_name', 'P_name', 'Cate_HOMO', 'Cate_LUMO','Cate_MC_O1', 'Cate_MC_H1',\n",
    "                            'Cate_MC_O2', 'Cate_MC_H2', 'Cate_BL_ArO1','Cate_BL_O1H1', 'Cate_BL_ArO2', 'Cate_BL_O2H2',\n",
    "                            'Cate_total_dipole'])\n",
    "\n",
    "print(Cate_dft.head())\n",
    "print(P_dft.head())"
   ]
  },
  {
   "cell_type": "code",
   "execution_count": 4,
   "id": "02aa1c39",
   "metadata": {},
   "outputs": [
    {
     "name": "stdout",
     "output_type": "stream",
     "text": [
      "        Cate_name  Cate_HOMO  Cate_LUMO  Cate_MC_O1  Cate_MC_H1  Cate_MC_O2  \\\n",
      "0        Catechol  -5.940433  -0.165443   -0.374537    0.264452   -0.416200   \n",
      "1        Catechol  -5.940433  -0.165443   -0.374537    0.264452   -0.416200   \n",
      "2        Catechol  -5.940433  -0.165443   -0.374537    0.264452   -0.416200   \n",
      "3        Catechol  -5.940433  -0.165443   -0.374537    0.264452   -0.416200   \n",
      "4    4Me-Catechol  -5.807916  -0.157824   -0.376813    0.263887   -0.418652   \n",
      "..            ...        ...        ...         ...         ...         ...   \n",
      "63    3F-Catechol  -6.194856  -0.146395   -0.368869    0.268137   -0.397379   \n",
      "64  3OMe-Catechol  -5.828868   0.137416   -0.376042    0.264826   -0.409692   \n",
      "65  3OMe-Catechol  -5.828868   0.137416   -0.376042    0.264826   -0.409692   \n",
      "66  3OMe-Catechol  -5.828868   0.137416   -0.376042    0.264826   -0.409692   \n",
      "67  3OMe-Catechol  -5.828868   0.137416   -0.376042    0.264826   -0.409692   \n",
      "\n",
      "    Cate_MC_H2  Cate_BL_ArO1  Cate_BL_O1H1  Cate_BL_ArO2  ...    P_LUMO  \\\n",
      "0     0.277039       1.36318       0.96622       1.37543  ...  0.946671   \n",
      "1     0.277039       1.36318       0.96622       1.37543  ...  0.529254   \n",
      "2     0.277039       1.36318       0.96622       1.37543  ... -1.281366   \n",
      "3     0.277039       1.36318       0.96622       1.37543  ...  0.300954   \n",
      "4     0.276114       1.36386       0.96625       1.37631  ...  0.946671   \n",
      "..         ...           ...           ...           ...  ...       ...   \n",
      "63    0.280930       1.36040       0.96628       1.36843  ...  0.300954   \n",
      "64    0.275924       1.36348       0.96607       1.37166  ...  0.946671   \n",
      "65    0.275924       1.36348       0.96607       1.37166  ...  0.529254   \n",
      "66    0.275924       1.36348       0.96607       1.37166  ... -1.281366   \n",
      "67    0.275924       1.36348       0.96607       1.37166  ...  0.300954   \n",
      "\n",
      "      P_MC_P   P_MC_=O    P_MC_H  P_BL_P=O   P_BL_PH  P_total_dipole  \\\n",
      "0   1.127353 -0.601164 -0.070861   1.48127  1.400990          2.8321   \n",
      "1   1.093209 -0.603021 -0.065296   1.47916  1.397780          2.0978   \n",
      "2   1.075293 -0.595198 -0.068256   1.48807  1.407520          4.7321   \n",
      "3   0.958398 -0.603526 -0.059276   1.48461  1.410435          3.3550   \n",
      "4   1.127353 -0.601164 -0.070861   1.48127  1.400990          2.8321   \n",
      "..       ...       ...       ...       ...       ...             ...   \n",
      "63  0.958398 -0.603526 -0.059276   1.48461  1.410435          3.3550   \n",
      "64  1.127353 -0.601164 -0.070861   1.48127  1.400990          2.8321   \n",
      "65  1.093209 -0.603021 -0.065296   1.47916  1.397780          2.0978   \n",
      "66  1.075293 -0.595198 -0.068256   1.48807  1.407520          4.7321   \n",
      "67  0.958398 -0.603526 -0.059276   1.48461  1.410435          3.3550   \n",
      "\n",
      "    P_RDKit_PC_0  P_RDKit_PC_1 Yield  \n",
      "0       1.406982      7.906757    80  \n",
      "1      -5.494109      0.842109     7  \n",
      "2      11.128658     -3.748087     3  \n",
      "3      -7.041532     -5.000780    48  \n",
      "4       1.406982      7.906757    99  \n",
      "..           ...           ...   ...  \n",
      "63     -7.041532     -5.000780    51  \n",
      "64      1.406982      7.906757    44  \n",
      "65     -5.494109      0.842109     5  \n",
      "66     11.128658     -3.748087     3  \n",
      "67     -7.041532     -5.000780    57  \n",
      "\n",
      "[68 rows x 31 columns]\n"
     ]
    }
   ],
   "source": [
    "H = pd.concat([Cate_name, Cate_dft, Cate_rdkit, P_name, P_dft, P_rdkit, Yield], axis=1, join='inner')\n",
    "print(H)\n",
    "H.to_csv('../Regression/Hybrid/Hybrid.csv', index = False)"
   ]
  },
  {
   "cell_type": "code",
   "execution_count": null,
   "id": "1fb197ed",
   "metadata": {},
   "outputs": [],
   "source": []
  }
 ],
 "metadata": {
  "kernelspec": {
   "display_name": "Python 3 (ipykernel)",
   "language": "python",
   "name": "python3"
  },
  "language_info": {
   "codemirror_mode": {
    "name": "ipython",
    "version": 3
   },
   "file_extension": ".py",
   "mimetype": "text/x-python",
   "name": "python",
   "nbconvert_exporter": "python",
   "pygments_lexer": "ipython3",
   "version": "3.9.19"
  }
 },
 "nbformat": 4,
 "nbformat_minor": 5
}
