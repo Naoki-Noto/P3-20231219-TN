{
 "cells": [
  {
   "cell_type": "code",
   "execution_count": 1,
   "id": "2eb56b16-339c-4224-8051-04dc72f5b54d",
   "metadata": {
    "tags": []
   },
   "outputs": [],
   "source": [
    "#import\n",
    "import seaborn as sns\n",
    "import pandas as pd\n",
    "import numpy as np\n",
    "import matplotlib.pyplot as plt\n",
    "from sklearn.model_selection import train_test_split\n",
    "from sklearn.model_selection import GridSearchCV\n",
    "from sklearn.svm import SVR\n",
    "from sklearn import metrics\n",
    "import shap"
   ]
  },
  {
   "cell_type": "code",
   "execution_count": 2,
   "id": "9c397d87-038e-4731-9776-7a43adf9e7b1",
   "metadata": {
    "tags": []
   },
   "outputs": [
    {
     "name": "stdout",
     "output_type": "stream",
     "text": [
      "<class 'pandas.core.frame.DataFrame'>\n",
      "RangeIndex: 68 entries, 0 to 67\n",
      "Data columns (total 32 columns):\n",
      " #   Column             Non-Null Count  Dtype  \n",
      "---  ------             --------------  -----  \n",
      " 0   Cate_name          68 non-null     object \n",
      " 1   Cate_HOMO          68 non-null     float64\n",
      " 2   Cate_LUMO          68 non-null     float64\n",
      " 3   Cate_ESP_O1        68 non-null     float64\n",
      " 4   Cate_ESP_H1        68 non-null     float64\n",
      " 5   Cate_ESP_O2        68 non-null     float64\n",
      " 6   Cate_ESP_H2        68 non-null     float64\n",
      " 7   Cate_BL_ArO1       68 non-null     float64\n",
      " 8   Cate_BL_O1H1       68 non-null     float64\n",
      " 9   Cate_BL_ArO2       68 non-null     float64\n",
      " 10  Cate_BL_O2H2       68 non-null     float64\n",
      " 11  Cate_total_dipole  68 non-null     float64\n",
      " 12  P_name             68 non-null     object \n",
      " 13  P_HOMO             68 non-null     float64\n",
      " 14  P_LUMO             68 non-null     float64\n",
      " 15  P_ESP_P            68 non-null     float64\n",
      " 16  P_ESP_=O           68 non-null     float64\n",
      " 17  P_ESP_H            68 non-null     float64\n",
      " 18  P_BL_P=O           68 non-null     float64\n",
      " 19  P_BL_PH            68 non-null     float64\n",
      " 20  P_total_dipole     68 non-null     float64\n",
      " 21  Yield              68 non-null     int64  \n",
      " 22  rdkit_catePC1      68 non-null     float64\n",
      " 23  rdkit_catePC2      68 non-null     float64\n",
      " 24  rdkit_catePC3      68 non-null     float64\n",
      " 25  rdkit_catePC4      68 non-null     float64\n",
      " 26  rdkit_catePC5      68 non-null     float64\n",
      " 27  rdkit_catePC6      68 non-null     float64\n",
      " 28  rdkit_catePC7      68 non-null     float64\n",
      " 29  rdkit_catePC8      68 non-null     float64\n",
      " 30  rdkit_P_PC1        68 non-null     float64\n",
      " 31  rdkit_P_PC2        68 non-null     float64\n",
      "dtypes: float64(29), int64(1), object(2)\n",
      "memory usage: 17.1+ KB\n"
     ]
    }
   ],
   "source": [
    "#Reading dataset\n",
    "df=pd.read_csv('Hybrid_ESP.csv')\n",
    "df.info()"
   ]
  },
  {
   "cell_type": "code",
   "execution_count": 3,
   "id": "80142ace-7678-4a05-9b7b-fd9f33859f6f",
   "metadata": {
    "tags": []
   },
   "outputs": [
    {
     "name": "stdout",
     "output_type": "stream",
     "text": [
      "---Descriptors---\n",
      "   Cate_HOMO  Cate_LUMO  Cate_ESP_O1  Cate_ESP_H1  Cate_ESP_O2  Cate_ESP_H2  \\\n",
      "0      -5.63       0.21    -0.555170     0.441278    -0.594799     0.444770   \n",
      "1      -5.63       0.21    -0.555170     0.441278    -0.594799     0.444770   \n",
      "2      -5.63       0.21    -0.555170     0.441278    -0.594799     0.444770   \n",
      "3      -5.63       0.21    -0.555170     0.441278    -0.594799     0.444770   \n",
      "4      -5.51       0.22    -0.542028     0.433177    -0.582447     0.440296   \n",
      "\n",
      "   Cate_BL_ArO1  Cate_BL_O1H1  Cate_BL_ArO2  Cate_BL_O2H2  ...  rdkit_catePC1  \\\n",
      "0         1.363         0.969         1.378         0.965  ...      -5.580019   \n",
      "1         1.363         0.969         1.378         0.965  ...      -5.580019   \n",
      "2         1.363         0.969         1.378         0.965  ...      -5.580019   \n",
      "3         1.363         0.969         1.378         0.965  ...      -5.580019   \n",
      "4         1.364         0.969         1.379         0.965  ...      -2.835492   \n",
      "\n",
      "   rdkit_catePC2  rdkit_catePC3  rdkit_catePC4  rdkit_catePC5  rdkit_catePC6  \\\n",
      "0      -4.417451      -1.086820       0.172020      -1.023582      -0.954807   \n",
      "1      -4.417451      -1.086820       0.172020      -1.023582      -0.954807   \n",
      "2      -4.417451      -1.086820       0.172020      -1.023582      -0.954807   \n",
      "3      -4.417451      -1.086820       0.172020      -1.023582      -0.954807   \n",
      "4      -2.439885       1.197156       1.777272      -1.243688      -0.662666   \n",
      "\n",
      "   rdkit_catePC7  rdkit_catePC8  rdkit_P_PC1  rdkit_P_PC2  \n",
      "0       0.196857      -1.633798     1.611649     6.002225  \n",
      "1       0.196857      -1.633798    -4.386356     1.315365  \n",
      "2       0.196857      -1.633798     9.196097    -3.258714  \n",
      "3       0.196857      -1.633798    -6.421390    -4.058876  \n",
      "4       1.188814      -0.011885     1.611649     6.002225  \n",
      "\n",
      "[5 rows x 29 columns]\n",
      "---Objective---\n",
      "   Yield\n",
      "0     80\n",
      "1      7\n",
      "2      3\n",
      "3     48\n",
      "4     99\n"
     ]
    }
   ],
   "source": [
    "#Building descriptors\n",
    "X = df.drop(columns=['Yield', 'Cate_name', 'P_name' ])\n",
    "print('---Descriptors---')\n",
    "print(X.head())\n",
    "\n",
    "y = pd.DataFrame(df['Yield'],columns=['Yield'])\n",
    "print('---Objective---')\n",
    "print(y.head())"
   ]
  },
  {
   "cell_type": "code",
   "execution_count": 4,
   "id": "ad44ce12-4e87-4589-9076-ce9383a8723e",
   "metadata": {
    "tags": []
   },
   "outputs": [
    {
     "name": "stdout",
     "output_type": "stream",
     "text": [
      "<class 'pandas.core.frame.DataFrame'>\n",
      "RangeIndex: 68 entries, 0 to 67\n",
      "Data columns (total 29 columns):\n",
      " #   Column             Non-Null Count  Dtype  \n",
      "---  ------             --------------  -----  \n",
      " 0   Cate_HOMO          68 non-null     float64\n",
      " 1   Cate_LUMO          68 non-null     float64\n",
      " 2   Cate_ESP_O1        68 non-null     float64\n",
      " 3   Cate_ESP_H1        68 non-null     float64\n",
      " 4   Cate_ESP_O2        68 non-null     float64\n",
      " 5   Cate_ESP_H2        68 non-null     float64\n",
      " 6   Cate_BL_ArO1       68 non-null     float64\n",
      " 7   Cate_BL_O1H1       68 non-null     float64\n",
      " 8   Cate_BL_ArO2       68 non-null     float64\n",
      " 9   Cate_BL_O2H2       68 non-null     float64\n",
      " 10  Cate_total_dipole  68 non-null     float64\n",
      " 11  P_HOMO             68 non-null     float64\n",
      " 12  P_LUMO             68 non-null     float64\n",
      " 13  P_ESP_P            68 non-null     float64\n",
      " 14  P_ESP_=O           68 non-null     float64\n",
      " 15  P_ESP_H            68 non-null     float64\n",
      " 16  P_BL_P=O           68 non-null     float64\n",
      " 17  P_BL_PH            68 non-null     float64\n",
      " 18  P_total_dipole     68 non-null     float64\n",
      " 19  rdkit_catePC1      68 non-null     float64\n",
      " 20  rdkit_catePC2      68 non-null     float64\n",
      " 21  rdkit_catePC3      68 non-null     float64\n",
      " 22  rdkit_catePC4      68 non-null     float64\n",
      " 23  rdkit_catePC5      68 non-null     float64\n",
      " 24  rdkit_catePC6      68 non-null     float64\n",
      " 25  rdkit_catePC7      68 non-null     float64\n",
      " 26  rdkit_catePC8      68 non-null     float64\n",
      " 27  rdkit_P_PC1        68 non-null     float64\n",
      " 28  rdkit_P_PC2        68 non-null     float64\n",
      "dtypes: float64(29)\n",
      "memory usage: 15.5 KB\n",
      "None\n",
      "Cate_HOMO            False\n",
      "Cate_LUMO            False\n",
      "Cate_ESP_O1          False\n",
      "Cate_ESP_H1          False\n",
      "Cate_ESP_O2          False\n",
      "Cate_ESP_H2          False\n",
      "Cate_BL_ArO1         False\n",
      "Cate_BL_O1H1         False\n",
      "Cate_BL_ArO2         False\n",
      "Cate_BL_O2H2         False\n",
      "Cate_total_dipole    False\n",
      "P_HOMO               False\n",
      "P_LUMO               False\n",
      "P_ESP_P              False\n",
      "P_ESP_=O             False\n",
      "P_ESP_H              False\n",
      "P_BL_P=O             False\n",
      "P_BL_PH              False\n",
      "P_total_dipole       False\n",
      "rdkit_catePC1        False\n",
      "rdkit_catePC2        False\n",
      "rdkit_catePC3        False\n",
      "rdkit_catePC4        False\n",
      "rdkit_catePC5        False\n",
      "rdkit_catePC6        False\n",
      "rdkit_catePC7        False\n",
      "rdkit_catePC8        False\n",
      "rdkit_P_PC1          False\n",
      "rdkit_P_PC2          False\n",
      "dtype: bool\n",
      "0\n"
     ]
    }
   ],
   "source": [
    "print(X.info())\n",
    "print(X.isnull().any())\n",
    "print(X.isnull().values.sum())"
   ]
  },
  {
   "cell_type": "code",
   "execution_count": 5,
   "id": "42408ce8-a560-4e50-979a-86a7c5d54a0b",
   "metadata": {
    "tags": []
   },
   "outputs": [
    {
     "name": "stdout",
     "output_type": "stream",
     "text": [
      "----------------------\n",
      "seed: 0\n",
      "Best Model Parameter: {'C': 1000, 'epsilon': 0.3, 'gamma': 0.0001}\n",
      "Best Model Score: 0.9266762314985991\n",
      "R2_test: 0.7741189330561514\n",
      "----------------------\n",
      "seed: 1\n",
      "Best Model Parameter: {'C': 750, 'epsilon': 0.3, 'gamma': 0.0001}\n",
      "Best Model Score: 0.900273102281214\n",
      "R2_test: 0.8539553182758939\n",
      "----------------------\n",
      "seed: 2\n",
      "Best Model Parameter: {'C': 1000, 'epsilon': 0.3, 'gamma': 0.0001}\n",
      "Best Model Score: 0.9173904645255101\n",
      "R2_test: 0.8107142102838358\n",
      "----------------------\n",
      "seed: 3\n",
      "Best Model Parameter: {'C': 1000, 'epsilon': 0.3, 'gamma': 0.0001}\n",
      "Best Model Score: 0.9045126808556079\n",
      "R2_test: 0.8192626709773856\n",
      "----------------------\n",
      "seed: 4\n",
      "Best Model Parameter: {'C': 750, 'epsilon': 0.3, 'gamma': 0.0001}\n",
      "Best Model Score: 0.9228537406166236\n",
      "R2_test: 0.7592693169451435\n",
      "----------------------\n",
      "seed: 5\n",
      "Best Model Parameter: {'C': 750, 'epsilon': 0.3, 'gamma': 0.0001}\n",
      "Best Model Score: 0.8810183976674265\n",
      "R2_test: 0.7518146223585331\n",
      "----------------------\n",
      "seed: 6\n",
      "Best Model Parameter: {'C': 750, 'epsilon': 0.3, 'gamma': 0.0001}\n",
      "Best Model Score: 0.883589252999238\n",
      "R2_test: 0.772527619787082\n",
      "----------------------\n",
      "seed: 7\n",
      "Best Model Parameter: {'C': 200, 'epsilon': 0.3, 'gamma': 0.001}\n",
      "Best Model Score: 0.9308054297874403\n",
      "R2_test: 0.720969190922347\n",
      "----------------------\n",
      "seed: 8\n",
      "Best Model Parameter: {'C': 750, 'epsilon': 0.3, 'gamma': 0.0001}\n",
      "Best Model Score: 0.9048892610319715\n",
      "R2_test: 0.7569478012477242\n",
      "----------------------\n",
      "seed: 9\n",
      "Best Model Parameter: {'C': 1000, 'epsilon': 0.3, 'gamma': 0.0001}\n",
      "Best Model Score: 0.8936094667467618\n",
      "R2_test: 0.807640104268684\n",
      "R2_train_means: 0.8584555796037362\n",
      "CV_score_means: 0.9065618028010393\n",
      "R2_test_means: 0.7827219788122781\n"
     ]
    }
   ],
   "source": [
    "#storage \n",
    "data_r2_train =[]\n",
    "data_RMSE_train = []\n",
    "data_MAE_train = []\n",
    "data_r2_test = []\n",
    "data_RMSE_test = []\n",
    "data_MAE_test = []\n",
    "best_model_parametors = []\n",
    "data_cv_score = []\n",
    "\n",
    "#SVM_a_X,log(y)\n",
    "for i in range(10):\n",
    "    seed=i\n",
    "    X_train, X_test, y_train, y_test = train_test_split(X, y, test_size=0.3, random_state=seed)\n",
    "    \n",
    "    #autoscaling\n",
    "    a_X_train = (X_train - X_train.mean(axis=0)) / X_train.std(axis=0, ddof=1)\n",
    "    a_X_test = (X_test - X_train.mean(axis=0)) / X_train.std(axis=0, ddof=1)\n",
    "    \n",
    "    log_y_train = np.log(y_train)\n",
    "    \n",
    "    param_svm={'C':[0.1,1,5,10,50,100,200,300,400,500,750,1000],\n",
    "               'gamma':[100,10,1,0.1,0.01,0.001,0.0001,0.00001],\n",
    "               'epsilon':[0.3]}\n",
    "    reg_svm = GridSearchCV(SVR(kernel='rbf'), param_grid=param_svm, cv=5, n_jobs=2)\n",
    "    reg_svm.fit(a_X_train,log_y_train['Yield'])\n",
    "    reg_best = reg_svm.best_estimator_\n",
    "    y_pred1 = np.exp(reg_best.predict(a_X_train))\n",
    "    y_pred2 = np.exp(reg_best.predict(a_X_test))\n",
    "    \n",
    "    #train\n",
    "    r2_train = metrics.r2_score(y_train, y_pred1)\n",
    "    RMSE_train = metrics.mean_squared_error(y_train, y_pred1)\n",
    "    MAE_train =  metrics.mean_absolute_error(y_train, y_pred1)\n",
    "    #test\n",
    "    r2_test = metrics.r2_score(y_test, y_pred2)\n",
    "    RMSE_test = metrics.mean_squared_error(y_test, y_pred2)\n",
    "    MAE_test = metrics.mean_absolute_error(y_test, y_pred2)\n",
    "    \n",
    "    parametors = reg_svm.best_params_\n",
    "    best_model_parametors.append(parametors)\n",
    "    cv_score = reg_svm.best_score_\n",
    "    data_cv_score.append(cv_score)\n",
    "    \n",
    "    data_r2_train.append(r2_train)\n",
    "    data_RMSE_train.append(RMSE_train)\n",
    "    data_MAE_train.append(MAE_train)\n",
    "    data_r2_test.append(r2_test)\n",
    "    data_RMSE_test.append(RMSE_test)\n",
    "    data_MAE_test.append(MAE_test)\n",
    "    \n",
    "    print('----------------------')\n",
    "    print('seed:', seed)\n",
    "    print(\"Best Model Parameter:\",reg_svm.best_params_)\n",
    "    print(\"Best Model Score:\",reg_svm.best_score_)\n",
    "    print('R2_test:', r2_test)\n",
    "print('R2_train_means:', sum(data_r2_train)/10)\n",
    "print('CV_score_means:', sum(data_cv_score)/10)\n",
    "print('R2_test_means:', sum(data_r2_test)/10)"
   ]
  },
  {
   "cell_type": "code",
   "execution_count": 6,
   "id": "ffba4580-514b-460b-b7ef-1675fe8deb0b",
   "metadata": {
    "tags": []
   },
   "outputs": [
    {
     "name": "stdout",
     "output_type": "stream",
     "text": [
      "      r2_train  RMSE_train  MAE_train   r2_test   RMSE_test   MAE_test  \\\n",
      "0     0.880817   87.869406   6.216270  0.774119  295.441167  11.254052   \n",
      "1     0.832080  151.851919   7.590449  0.853955  141.495108   6.877067   \n",
      "2     0.848659  140.005188   6.771952  0.810714  183.050948   8.922772   \n",
      "3     0.853252  136.873353   7.603911  0.819263  173.461934   8.003554   \n",
      "4     0.877263  105.811022   6.236387  0.759269  255.974776  10.151342   \n",
      "5     0.839500  129.962732   6.649582  0.751815  301.844069  10.728227   \n",
      "6     0.850857  122.397942   6.904135  0.772528  273.753983   9.727566   \n",
      "7     0.888901  106.266029   6.871152  0.720969  252.943643  10.254770   \n",
      "8     0.846495  135.102745   7.193717  0.756948  240.192891  10.508088   \n",
      "9     0.866732  135.059735   7.830674  0.807640  135.547862   6.645578   \n",
      "mean  0.858456  125.120007   6.986823  0.782722  225.370638   9.307301   \n",
      "\n",
      "      cv_score  \n",
      "0     0.926676  \n",
      "1     0.900273  \n",
      "2     0.917390  \n",
      "3     0.904513  \n",
      "4     0.922854  \n",
      "5     0.881018  \n",
      "6     0.883589  \n",
      "7     0.930805  \n",
      "8     0.904889  \n",
      "9     0.893609  \n",
      "mean  0.906562  \n"
     ]
    }
   ],
   "source": [
    "data_r2_train_pd = pd.DataFrame(data= data_r2_train, columns=['r2_train'])\n",
    "data_RMSE_train_pd = pd.DataFrame(data=data_RMSE_train, columns=['RMSE_train'])\n",
    "data_MAE_train_pd = pd.DataFrame(data=data_MAE_train, columns=['MAE_train'])\n",
    "data_r2_test_pd = pd.DataFrame(data=data_r2_test, columns=['r2_test'])\n",
    "data_RMSE_test_pd = pd.DataFrame(data=data_RMSE_test, columns=['RMSE_test'])\n",
    "data_MAE_test_pd = pd.DataFrame(data=data_MAE_test, columns=['MAE_test'])\n",
    "data_cv_score_pd = pd.DataFrame(data=data_cv_score, columns=['cv_score'])\n",
    "data_parametors = pd.DataFrame([best_model_parametors])\n",
    "\n",
    "data_all = pd.concat([data_r2_train_pd, data_RMSE_train_pd, data_MAE_train_pd, data_r2_test_pd, \n",
    "                      data_RMSE_test_pd, data_MAE_test_pd, data_cv_score_pd],\n",
    "                     axis=1, join='inner')\n",
    "\n",
    "data_all.loc['mean'] = data_all.mean()\n",
    "print(data_all)\n",
    "\n",
    "data_all.to_csv('../../score/Hybrid//SVM_score.csv')"
   ]
  },
  {
   "cell_type": "code",
   "execution_count": 7,
   "id": "452cf910-8660-4db5-922c-27ec46042086",
   "metadata": {
    "tags": []
   },
   "outputs": [
    {
     "name": "stdout",
     "output_type": "stream",
     "text": [
      "R2_train: 0.8320797304372839\n",
      "R2_test: 0.8539553182758939\n"
     ]
    }
   ],
   "source": [
    "seed=1\n",
    "X_train, X_test, y_train, y_test = train_test_split(X, y, test_size=0.3, random_state=seed)\n",
    "\n",
    "#autoscaling\n",
    "a_X_train = (X_train - X_train.mean(axis=0)) / X_train.std(axis=0, ddof=1)\n",
    "a_X_test = (X_test - X_train.mean(axis=0)) / X_train.std(axis=0, ddof=1)\n",
    "    \n",
    "log_y_train = np.log(y_train)\n",
    "    \n",
    "param_svm={'C':[0.1,1,5,10,50,100,200,300,400,500,750,1000],\n",
    "           'gamma':[100,10,1,0.1,0.01,0.001,0.0001,0.00001],\n",
    "           'epsilon':[0.3]}\n",
    "reg_svm = GridSearchCV(SVR(kernel='rbf'), param_grid=param_svm, cv=5, n_jobs=2)\n",
    "reg_svm.fit(a_X_train,log_y_train['Yield'])\n",
    "reg_best = reg_svm.best_estimator_\n",
    "y_pred1 = np.exp(reg_best.predict(a_X_train))\n",
    "y_pred2 = np.exp(reg_best.predict(a_X_test))\n",
    "            \n",
    "#train\n",
    "r2_train = metrics.r2_score(y_train, y_pred1)\n",
    "RMSE_train = metrics.mean_squared_error(y_train, y_pred1)\n",
    "MAE_train =  metrics.mean_absolute_error(y_train, y_pred1)\n",
    "#test\n",
    "r2_test = metrics.r2_score(y_test, y_pred2)\n",
    "RMSE_test = metrics.mean_squared_error(y_test, y_pred2)\n",
    "MAE_test = metrics.mean_absolute_error(y_test, y_pred2)\n",
    "print('R2_train:', r2_train)\n",
    "print('R2_test:', r2_test)"
   ]
  },
  {
   "cell_type": "code",
   "execution_count": 8,
   "id": "768cee65-c510-4dec-b229-5b1dbabe4291",
   "metadata": {
    "tags": []
   },
   "outputs": [
    {
     "data": {
      "application/vnd.jupyter.widget-view+json": {
       "model_id": "ea73e39ba39a47ba9d8166ec21de2883",
       "version_major": 2,
       "version_minor": 0
      },
      "text/plain": [
       "  0%|          | 0/47 [00:00<?, ?it/s]"
      ]
     },
     "metadata": {},
     "output_type": "display_data"
    },
    {
     "data": {
      "image/png": "[encoded data removed]",
      "text/plain": [
       "<Figure size 800x550 with 2 Axes>"
      ]
     },
     "metadata": {},
     "output_type": "display_data"
    }
   ],
   "source": [
    "#shap\n",
    "explainer = shap.KernelExplainer(reg_best.predict,a_X_train)\n",
    "shap_values = explainer.shap_values(X=a_X_train)\n",
    "shap.summary_plot(shap_values, a_X_train,max_display=10)"
   ]
  },
  {
   "cell_type": "code",
   "execution_count": null,
   "id": "56cc1ffb-e1d4-4795-8cfc-321056160366",
   "metadata": {},
   "outputs": [],
   "source": []
  }
 ],
 "metadata": {
  "kernelspec": {
   "display_name": "Python 3 (ipykernel)",
   "language": "python",
   "name": "python3"
  },
  "language_info": {
   "codemirror_mode": {
    "name": "ipython",
    "version": 3
   },
   "file_extension": ".py",
   "mimetype": "text/x-python",
   "name": "python",
   "nbconvert_exporter": "python",
   "pygments_lexer": "ipython3",
   "version": "3.8.18"
  }
 },
 "nbformat": 4,
 "nbformat_minor": 5
}
