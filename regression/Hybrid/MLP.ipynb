{
 "cells": [
  {
   "cell_type": "code",
   "execution_count": 1,
   "id": "5321d4c9-06c9-4577-851e-125e0ca6919c",
   "metadata": {
    "tags": []
   },
   "outputs": [],
   "source": [
    "#import\n",
    "import seaborn as sns\n",
    "import pandas as pd\n",
    "import numpy as np\n",
    "import matplotlib.pyplot as plt\n",
    "from sklearn.model_selection import train_test_split\n",
    "from sklearn.model_selection import GridSearchCV\n",
    "from sklearn.neural_network import MLPRegressor\n",
    "from sklearn import metrics\n",
    "import shap"
   ]
  },
  {
   "cell_type": "code",
   "execution_count": 2,
   "id": "3e8a519a-27ee-4ee8-a4e9-2926c586a2b5",
   "metadata": {
    "tags": []
   },
   "outputs": [
    {
     "name": "stdout",
     "output_type": "stream",
     "text": [
      "<class 'pandas.core.frame.DataFrame'>\n",
      "RangeIndex: 68 entries, 0 to 67\n",
      "Data columns (total 32 columns):\n",
      " #   Column             Non-Null Count  Dtype  \n",
      "---  ------             --------------  -----  \n",
      " 0   Cate_name          68 non-null     object \n",
      " 1   Cate_HOMO          68 non-null     float64\n",
      " 2   Cate_LUMO          68 non-null     float64\n",
      " 3   Cate_ESP_O1        68 non-null     float64\n",
      " 4   Cate_ESP_H1        68 non-null     float64\n",
      " 5   Cate_ESP_O2        68 non-null     float64\n",
      " 6   Cate_ESP_H2        68 non-null     float64\n",
      " 7   Cate_BL_ArO1       68 non-null     float64\n",
      " 8   Cate_BL_O1H1       68 non-null     float64\n",
      " 9   Cate_BL_ArO2       68 non-null     float64\n",
      " 10  Cate_BL_O2H2       68 non-null     float64\n",
      " 11  Cate_total_dipole  68 non-null     float64\n",
      " 12  P_name             68 non-null     object \n",
      " 13  P_HOMO             68 non-null     float64\n",
      " 14  P_LUMO             68 non-null     float64\n",
      " 15  P_ESP_P            68 non-null     float64\n",
      " 16  P_ESP_=O           68 non-null     float64\n",
      " 17  P_ESP_H            68 non-null     float64\n",
      " 18  P_BL_P=O           68 non-null     float64\n",
      " 19  P_BL_PH            68 non-null     float64\n",
      " 20  P_total_dipole     68 non-null     float64\n",
      " 21  Yield              68 non-null     int64  \n",
      " 22  rdkit_catePC1      68 non-null     float64\n",
      " 23  rdkit_catePC2      68 non-null     float64\n",
      " 24  rdkit_catePC3      68 non-null     float64\n",
      " 25  rdkit_catePC4      68 non-null     float64\n",
      " 26  rdkit_catePC5      68 non-null     float64\n",
      " 27  rdkit_catePC6      68 non-null     float64\n",
      " 28  rdkit_catePC7      68 non-null     float64\n",
      " 29  rdkit_catePC8      68 non-null     float64\n",
      " 30  rdkit_P_PC1        68 non-null     float64\n",
      " 31  rdkit_P_PC2        68 non-null     float64\n",
      "dtypes: float64(29), int64(1), object(2)\n",
      "memory usage: 17.1+ KB\n"
     ]
    }
   ],
   "source": [
    "#Reading dataset\n",
    "df=pd.read_csv('Hybrid_ESP.csv')\n",
    "df.info()"
   ]
  },
  {
   "cell_type": "code",
   "execution_count": 3,
   "id": "9988ae2a-2420-405c-8297-4ee7840c93f1",
   "metadata": {
    "tags": []
   },
   "outputs": [
    {
     "name": "stdout",
     "output_type": "stream",
     "text": [
      "---Descriptors---\n",
      "   Cate_HOMO  Cate_LUMO  Cate_ESP_O1  Cate_ESP_H1  Cate_ESP_O2  Cate_ESP_H2  \\\n",
      "0      -5.63       0.21    -0.555170     0.441278    -0.594799     0.444770   \n",
      "1      -5.63       0.21    -0.555170     0.441278    -0.594799     0.444770   \n",
      "2      -5.63       0.21    -0.555170     0.441278    -0.594799     0.444770   \n",
      "3      -5.63       0.21    -0.555170     0.441278    -0.594799     0.444770   \n",
      "4      -5.51       0.22    -0.542028     0.433177    -0.582447     0.440296   \n",
      "\n",
      "   Cate_BL_ArO1  Cate_BL_O1H1  Cate_BL_ArO2  Cate_BL_O2H2  ...  rdkit_catePC1  \\\n",
      "0         1.363         0.969         1.378         0.965  ...      -5.580019   \n",
      "1         1.363         0.969         1.378         0.965  ...      -5.580019   \n",
      "2         1.363         0.969         1.378         0.965  ...      -5.580019   \n",
      "3         1.363         0.969         1.378         0.965  ...      -5.580019   \n",
      "4         1.364         0.969         1.379         0.965  ...      -2.835492   \n",
      "\n",
      "   rdkit_catePC2  rdkit_catePC3  rdkit_catePC4  rdkit_catePC5  rdkit_catePC6  \\\n",
      "0      -4.417451      -1.086820       0.172020      -1.023582      -0.954807   \n",
      "1      -4.417451      -1.086820       0.172020      -1.023582      -0.954807   \n",
      "2      -4.417451      -1.086820       0.172020      -1.023582      -0.954807   \n",
      "3      -4.417451      -1.086820       0.172020      -1.023582      -0.954807   \n",
      "4      -2.439885       1.197156       1.777272      -1.243688      -0.662666   \n",
      "\n",
      "   rdkit_catePC7  rdkit_catePC8  rdkit_P_PC1  rdkit_P_PC2  \n",
      "0       0.196857      -1.633798     1.611649     6.002225  \n",
      "1       0.196857      -1.633798    -4.386356     1.315365  \n",
      "2       0.196857      -1.633798     9.196097    -3.258714  \n",
      "3       0.196857      -1.633798    -6.421390    -4.058876  \n",
      "4       1.188814      -0.011885     1.611649     6.002225  \n",
      "\n",
      "[5 rows x 29 columns]\n",
      "---Objective---\n",
      "   Yield\n",
      "0     80\n",
      "1      7\n",
      "2      3\n",
      "3     48\n",
      "4     99\n"
     ]
    }
   ],
   "source": [
    "#Building descriptors\n",
    "X = df.drop(columns=['Yield', 'Cate_name', 'P_name' ])\n",
    "print('---Descriptors---')\n",
    "print(X.head())\n",
    "\n",
    "y = pd.DataFrame(df['Yield'],columns=['Yield'])\n",
    "print('---Objective---')\n",
    "print(y.head())"
   ]
  },
  {
   "cell_type": "code",
   "execution_count": 4,
   "id": "084c62d4-67fe-4e93-96ec-d532f9c4ee47",
   "metadata": {
    "tags": []
   },
   "outputs": [
    {
     "name": "stdout",
     "output_type": "stream",
     "text": [
      "----------------------\n",
      "seed: 0\n",
      "Best Model Parameter: {'alpha': 5, 'hidden_layer_sizes': (400,), 'learning_rate_init': 0.003, 'max_iter': 5000}\n",
      "Best Model Score: 0.6553430457491787\n",
      "R2_test: 0.7950691018155891\n",
      "----------------------\n",
      "seed: 1\n",
      "Best Model Parameter: {'alpha': 3, 'hidden_layer_sizes': (32, 32, 32, 32), 'learning_rate_init': 0.03, 'max_iter': 5000}\n",
      "Best Model Score: 0.8136514033253135\n",
      "R2_test: 0.8182739260464893\n",
      "----------------------\n",
      "seed: 2\n",
      "Best Model Parameter: {'alpha': 5, 'hidden_layer_sizes': (400,), 'learning_rate_init': 0.03, 'max_iter': 5000}\n",
      "Best Model Score: 0.7345245026403516\n",
      "R2_test: 0.8586243389664943\n",
      "----------------------\n",
      "seed: 3\n",
      "Best Model Parameter: {'alpha': 5, 'hidden_layer_sizes': (400,), 'learning_rate_init': 0.003, 'max_iter': 5000}\n",
      "Best Model Score: 0.5724341009214372\n",
      "R2_test: 0.89981781398729\n",
      "----------------------\n",
      "seed: 4\n",
      "Best Model Parameter: {'alpha': 5, 'hidden_layer_sizes': (400,), 'learning_rate_init': 0.03, 'max_iter': 5000}\n",
      "Best Model Score: 0.8045945047454006\n",
      "R2_test: 0.8232968318057222\n",
      "----------------------\n",
      "seed: 5\n",
      "Best Model Parameter: {'alpha': 5, 'hidden_layer_sizes': (400,), 'learning_rate_init': 0.03, 'max_iter': 5000}\n",
      "Best Model Score: 0.6741652627749307\n",
      "R2_test: 0.8969910595326718\n",
      "----------------------\n",
      "seed: 6\n",
      "Best Model Parameter: {'alpha': 4, 'hidden_layer_sizes': (400,), 'learning_rate_init': 0.03, 'max_iter': 5000}\n",
      "Best Model Score: 0.7556197019020052\n",
      "R2_test: 0.8314595946514676\n",
      "----------------------\n",
      "seed: 7\n",
      "Best Model Parameter: {'alpha': 5, 'hidden_layer_sizes': (400,), 'learning_rate_init': 0.03, 'max_iter': 5000}\n",
      "Best Model Score: 0.7188765945537254\n",
      "R2_test: 0.7349259335172846\n",
      "----------------------\n",
      "seed: 8\n",
      "Best Model Parameter: {'alpha': 5, 'hidden_layer_sizes': (400,), 'learning_rate_init': 0.03, 'max_iter': 5000}\n",
      "Best Model Score: 0.708918977372526\n",
      "R2_test: 0.8375563876967738\n",
      "----------------------\n",
      "seed: 9\n",
      "Best Model Parameter: {'alpha': 5, 'hidden_layer_sizes': (400,), 'learning_rate_init': 0.03, 'max_iter': 5000}\n",
      "Best Model Score: 0.6103422645890564\n",
      "R2_test: 0.8060992170645908\n",
      "R2_train_means: 0.9758586287930537\n",
      "CV_score_means: 0.7048470358573925\n",
      "R2_test_means: 0.8302114205084372\n"
     ]
    }
   ],
   "source": [
    "#storage \n",
    "data_r2_train =[]\n",
    "data_RMSE_train = []\n",
    "data_MAE_train = []\n",
    "data_r2_test = []\n",
    "data_RMSE_test = []\n",
    "data_MAE_test = []\n",
    "best_model_parametors = []\n",
    "data_cv_score = []\n",
    "\n",
    "#MLP\n",
    "for i in range(10):\n",
    "    seed=i\n",
    "    X_train, X_test, y_train, y_test = train_test_split(X, y, test_size=0.3, random_state=seed)\n",
    "    \n",
    "    #autoscaling\n",
    "    a_X_train = (X_train - X_train.mean(axis=0)) / X_train.std(axis=0, ddof=1)\n",
    "    a_X_test = (X_test - X_train.mean(axis=0)) / X_train.std(axis=0, ddof=1)\n",
    "    a_y_train = y_train/10\n",
    "    \n",
    "    param_mlp={'hidden_layer_sizes':[(32,32,32,32,),(400,)], 'alpha':[1,2,3,4,5], 'max_iter':[5000],\n",
    "               'learning_rate_init':[0.003,0.03]}\n",
    "    \n",
    "    reg_mlp = GridSearchCV(MLPRegressor(random_state=0), param_grid=param_mlp, cv=5, n_jobs=2)\n",
    "    reg_mlp.fit(a_X_train,a_y_train['Yield'])\n",
    "    reg_best = reg_mlp.best_estimator_\n",
    "    y_pred1 = reg_best.predict(a_X_train)*10\n",
    "    y_pred2 = reg_best.predict(a_X_test)*10\n",
    "            \n",
    "    #train\n",
    "    r2_train = metrics.r2_score(y_train, y_pred1)\n",
    "    RMSE_train = metrics.mean_squared_error(y_train, y_pred1)\n",
    "    MAE_train =  metrics.mean_absolute_error(y_train, y_pred1)\n",
    "    \n",
    "    #test\n",
    "    r2_test = metrics.r2_score(y_test, y_pred2)\n",
    "    RMSE_test = metrics.mean_squared_error(y_test, y_pred2)\n",
    "    MAE_test = metrics.mean_absolute_error(y_test, y_pred2)\n",
    "    \n",
    "    #strage data of accuracy \n",
    "    parametors = reg_mlp.best_params_\n",
    "    best_model_parametors.append(parametors)\n",
    "\n",
    "    data_r2_train.append(r2_train)\n",
    "    data_RMSE_train.append(RMSE_train)\n",
    "    data_MAE_train.append(MAE_train)\n",
    "    data_r2_test.append(r2_test)\n",
    "    data_RMSE_test.append(RMSE_test)\n",
    "    data_MAE_test.append(MAE_test)\n",
    "    data_cv_score.append(reg_mlp.best_score_)\n",
    "    \n",
    "    print('----------------------')\n",
    "    print('seed:', seed)\n",
    "    print(\"Best Model Parameter:\",reg_mlp.best_params_)\n",
    "    print(\"Best Model Score:\",reg_mlp.best_score_)\n",
    "    print('R2_test:', r2_test)\n",
    "print('R2_train_means:', sum(data_r2_train)/10)\n",
    "print('CV_score_means:', sum(data_cv_score)/10)\n",
    "print('R2_test_means:', sum(data_r2_test)/10)"
   ]
  },
  {
   "cell_type": "code",
   "execution_count": 5,
   "id": "34990d07-4037-4264-98ed-f15ceafaa27c",
   "metadata": {},
   "outputs": [
    {
     "name": "stdout",
     "output_type": "stream",
     "text": [
      "      r2_train  RMSE_train  MAE_train   r2_test   RMSE_test   MAE_test  \\\n",
      "0     0.976753   17.139410   2.591803  0.795069  268.039392  11.610628   \n",
      "1     0.997012    2.702024   1.206376  0.818274  176.064956  10.268256   \n",
      "2     0.971615   26.259183   3.072459  0.858624  136.718920   6.686780   \n",
      "3     0.976661   21.768837   2.746021  0.899818   96.149455   6.737267   \n",
      "4     0.969210   26.544373   2.952906  0.823297  187.892766   8.721289   \n",
      "5     0.958723   33.423622   3.456986  0.896991  125.279894   7.724661   \n",
      "6     0.975067   20.462211   2.605769  0.831460  202.831690   9.749079   \n",
      "7     0.980040   19.092089   2.687853  0.734926  240.291745  10.230536   \n",
      "8     0.974213   22.695144   2.730176  0.837556  160.532598   9.279985   \n",
      "9     0.979294   20.984381   3.058111  0.806099  136.633660   8.164574   \n",
      "mean  0.975859   21.107127   2.710846  0.830211  173.043508   8.917305   \n",
      "\n",
      "      cv_score  \n",
      "0     0.655343  \n",
      "1     0.813651  \n",
      "2     0.734525  \n",
      "3     0.572434  \n",
      "4     0.804595  \n",
      "5     0.674165  \n",
      "6     0.755620  \n",
      "7     0.718877  \n",
      "8     0.708919  \n",
      "9     0.610342  \n",
      "mean  0.704847  \n"
     ]
    }
   ],
   "source": [
    "data_r2_train_pd = pd.DataFrame(data= data_r2_train, columns=['r2_train'])\n",
    "data_RMSE_train_pd = pd.DataFrame(data=data_RMSE_train, columns=['RMSE_train'])\n",
    "data_MAE_train_pd = pd.DataFrame(data=data_MAE_train, columns=['MAE_train'])\n",
    "data_r2_test_pd = pd.DataFrame(data=data_r2_test, columns=['r2_test'])\n",
    "data_RMSE_test_pd = pd.DataFrame(data=data_RMSE_test, columns=['RMSE_test'])\n",
    "data_MAE_test_pd = pd.DataFrame(data=data_MAE_test, columns=['MAE_test'])\n",
    "data_cv_score_pd = pd.DataFrame(data=data_cv_score, columns=['cv_score'])\n",
    "data_parametors = pd.DataFrame([best_model_parametors])\n",
    "\n",
    "data_all = pd.concat([data_r2_train_pd, data_RMSE_train_pd, data_MAE_train_pd, data_r2_test_pd, \n",
    "                      data_RMSE_test_pd, data_MAE_test_pd, data_cv_score_pd],\n",
    "                     axis=1, join='inner')\n",
    "\n",
    "data_all.loc['mean'] = data_all.mean()\n",
    "print(data_all)\n",
    "\n",
    "data_all.to_csv('../../score/Hybrid/MLP_score.csv')"
   ]
  },
  {
   "cell_type": "code",
   "execution_count": 6,
   "id": "e4df374f-cec7-446d-b36d-23bf1128b368",
   "metadata": {},
   "outputs": [
    {
     "name": "stdout",
     "output_type": "stream",
     "text": [
      "R2_train: 0.9766606769071275\n",
      "R2_test: 0.89981781398729\n"
     ]
    }
   ],
   "source": [
    "#MLP\n",
    "seed=3\n",
    "X_train, X_test, y_train, y_test = train_test_split(X, y, test_size=0.3, random_state=seed)\n",
    "    \n",
    "#autoscaling\n",
    "a_X_train = (X_train - X_train.mean(axis=0)) / X_train.std(axis=0, ddof=1)\n",
    "a_X_test = (X_test - X_train.mean(axis=0)) / X_train.std(axis=0, ddof=1)\n",
    "a_y_train = y_train/10\n",
    "\n",
    "param_mlp={'hidden_layer_sizes':[(32,32,32,32,),(400,)], 'alpha':[1,2,3,4,5], 'max_iter':[5000],\n",
    "           'learning_rate_init':[0.003,0.03]}\n",
    "    \n",
    "reg_mlp = GridSearchCV(MLPRegressor(random_state=0), param_grid=param_mlp, cv=5, n_jobs=2)\n",
    "reg_mlp.fit(a_X_train,a_y_train['Yield'])\n",
    "reg_best = reg_mlp.best_estimator_\n",
    "y_pred1 = reg_best.predict(a_X_train)*10\n",
    "y_pred2 = reg_best.predict(a_X_test)*10\n",
    "            \n",
    "#train\n",
    "r2_train = metrics.r2_score(y_train, y_pred1)\n",
    "RMSE_train = metrics.mean_squared_error(y_train, y_pred1)\n",
    "MAE_train =  metrics.mean_absolute_error(y_train, y_pred1)\n",
    "    \n",
    "#test\n",
    "r2_test = metrics.r2_score(y_test, y_pred2)\n",
    "RMSE_test = metrics.mean_squared_error(y_test, y_pred2)\n",
    "MAE_test = metrics.mean_absolute_error(y_test, y_pred2)\n",
    "    \n",
    "print('R2_train:', r2_train)\n",
    "print('R2_test:', r2_test)"
   ]
  },
  {
   "cell_type": "code",
   "execution_count": 7,
   "id": "4fb14fe7-f678-48ea-abd7-635548bc8545",
   "metadata": {
    "tags": []
   },
   "outputs": [
    {
     "data": {
      "application/vnd.jupyter.widget-view+json": {
       "model_id": "57108a6017e74ee19df52ffd6f8f39d4",
       "version_major": 2,
       "version_minor": 0
      },
      "text/plain": [
       "  0%|          | 0/47 [00:00<?, ?it/s]"
      ]
     },
     "metadata": {},
     "output_type": "display_data"
    },
    {
     "data": {
      "image/png": "[encoded data removed]",
      "text/plain": [
       "<Figure size 600x400 with 2 Axes>"
      ]
     },
     "metadata": {},
     "output_type": "display_data"
    }
   ],
   "source": [
    "explainer = shap.KernelExplainer(reg_best.predict, a_X_train)\n",
    "shap_values = explainer.shap_values(a_X_train)\n",
    "shap.summary_plot(shap_values, a_X_train,max_display=6, plot_size=(6,4))"
   ]
  },
  {
   "cell_type": "code",
   "execution_count": null,
   "id": "19b778e1-d342-4b8f-bf6b-6f94085d9e8b",
   "metadata": {},
   "outputs": [],
   "source": []
  }
 ],
 "metadata": {
  "kernelspec": {
   "display_name": "Python 3 (ipykernel)",
   "language": "python",
   "name": "python3"
  },
  "language_info": {
   "codemirror_mode": {
    "name": "ipython",
    "version": 3
   },
   "file_extension": ".py",
   "mimetype": "text/x-python",
   "name": "python",
   "nbconvert_exporter": "python",
   "pygments_lexer": "ipython3",
   "version": "3.8.18"
  }
 },
 "nbformat": 4,
 "nbformat_minor": 5
}
