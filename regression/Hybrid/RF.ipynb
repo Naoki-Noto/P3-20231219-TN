{
 "cells": [
  {
   "cell_type": "code",
   "execution_count": 1,
   "id": "6bced5a3-7b6b-46d0-bb14-8d7381164e98",
   "metadata": {
    "tags": []
   },
   "outputs": [],
   "source": [
    "#import\n",
    "import seaborn as sns\n",
    "import pandas as pd\n",
    "import numpy as np\n",
    "import matplotlib.pyplot as plt\n",
    "from sklearn.model_selection import train_test_split\n",
    "from sklearn.model_selection import GridSearchCV\n",
    "from sklearn.ensemble import RandomForestRegressor\n",
    "from sklearn import metrics\n",
    "import shap"
   ]
  },
  {
   "cell_type": "code",
   "execution_count": 2,
   "id": "771b9971-f7dd-432e-87e9-36eff21b7f56",
   "metadata": {
    "tags": []
   },
   "outputs": [
    {
     "name": "stdout",
     "output_type": "stream",
     "text": [
      "<class 'pandas.core.frame.DataFrame'>\n",
      "RangeIndex: 68 entries, 0 to 67\n",
      "Data columns (total 32 columns):\n",
      " #   Column             Non-Null Count  Dtype  \n",
      "---  ------             --------------  -----  \n",
      " 0   Cate_name          68 non-null     object \n",
      " 1   Cate_HOMO          68 non-null     float64\n",
      " 2   Cate_LUMO          68 non-null     float64\n",
      " 3   Cate_ESP_O1        68 non-null     float64\n",
      " 4   Cate_ESP_H1        68 non-null     float64\n",
      " 5   Cate_ESP_O2        68 non-null     float64\n",
      " 6   Cate_ESP_H2        68 non-null     float64\n",
      " 7   Cate_BL_ArO1       68 non-null     float64\n",
      " 8   Cate_BL_O1H1       68 non-null     float64\n",
      " 9   Cate_BL_ArO2       68 non-null     float64\n",
      " 10  Cate_BL_O2H2       68 non-null     float64\n",
      " 11  Cate_total_dipole  68 non-null     float64\n",
      " 12  P_name             68 non-null     object \n",
      " 13  P_HOMO             68 non-null     float64\n",
      " 14  P_LUMO             68 non-null     float64\n",
      " 15  P_ESP_P            68 non-null     float64\n",
      " 16  P_ESP_=O           68 non-null     float64\n",
      " 17  P_ESP_H            68 non-null     float64\n",
      " 18  P_BL_P=O           68 non-null     float64\n",
      " 19  P_BL_PH            68 non-null     float64\n",
      " 20  P_total_dipole     68 non-null     float64\n",
      " 21  Yield              68 non-null     int64  \n",
      " 22  rdkit_catePC1      68 non-null     float64\n",
      " 23  rdkit_catePC2      68 non-null     float64\n",
      " 24  rdkit_catePC3      68 non-null     float64\n",
      " 25  rdkit_catePC4      68 non-null     float64\n",
      " 26  rdkit_catePC5      68 non-null     float64\n",
      " 27  rdkit_catePC6      68 non-null     float64\n",
      " 28  rdkit_catePC7      68 non-null     float64\n",
      " 29  rdkit_catePC8      68 non-null     float64\n",
      " 30  rdkit_P_PC1        68 non-null     float64\n",
      " 31  rdkit_P_PC2        68 non-null     float64\n",
      "dtypes: float64(29), int64(1), object(2)\n",
      "memory usage: 17.1+ KB\n"
     ]
    }
   ],
   "source": [
    "#Reading dataset\n",
    "df=pd.read_csv('Hybrid_ESP.csv')\n",
    "df.info()"
   ]
  },
  {
   "cell_type": "code",
   "execution_count": 3,
   "id": "6a488667-aad8-4757-9882-975291e1ea2d",
   "metadata": {
    "tags": []
   },
   "outputs": [
    {
     "name": "stdout",
     "output_type": "stream",
     "text": [
      "---Descriptors---\n",
      "   Cate_HOMO  Cate_LUMO  Cate_ESP_O1  Cate_ESP_H1  Cate_ESP_O2  Cate_ESP_H2  \\\n",
      "0      -5.63       0.21    -0.555170     0.441278    -0.594799     0.444770   \n",
      "1      -5.63       0.21    -0.555170     0.441278    -0.594799     0.444770   \n",
      "2      -5.63       0.21    -0.555170     0.441278    -0.594799     0.444770   \n",
      "3      -5.63       0.21    -0.555170     0.441278    -0.594799     0.444770   \n",
      "4      -5.51       0.22    -0.542028     0.433177    -0.582447     0.440296   \n",
      "\n",
      "   Cate_BL_ArO1  Cate_BL_O1H1  Cate_BL_ArO2  Cate_BL_O2H2  ...  rdkit_catePC1  \\\n",
      "0         1.363         0.969         1.378         0.965  ...      -5.580019   \n",
      "1         1.363         0.969         1.378         0.965  ...      -5.580019   \n",
      "2         1.363         0.969         1.378         0.965  ...      -5.580019   \n",
      "3         1.363         0.969         1.378         0.965  ...      -5.580019   \n",
      "4         1.364         0.969         1.379         0.965  ...      -2.835492   \n",
      "\n",
      "   rdkit_catePC2  rdkit_catePC3  rdkit_catePC4  rdkit_catePC5  rdkit_catePC6  \\\n",
      "0      -4.417451      -1.086820       0.172020      -1.023582      -0.954807   \n",
      "1      -4.417451      -1.086820       0.172020      -1.023582      -0.954807   \n",
      "2      -4.417451      -1.086820       0.172020      -1.023582      -0.954807   \n",
      "3      -4.417451      -1.086820       0.172020      -1.023582      -0.954807   \n",
      "4      -2.439885       1.197156       1.777272      -1.243688      -0.662666   \n",
      "\n",
      "   rdkit_catePC7  rdkit_catePC8  rdkit_P_PC1  rdkit_P_PC2  \n",
      "0       0.196857      -1.633798     1.611649     6.002225  \n",
      "1       0.196857      -1.633798    -4.386356     1.315365  \n",
      "2       0.196857      -1.633798     9.196097    -3.258714  \n",
      "3       0.196857      -1.633798    -6.421390    -4.058876  \n",
      "4       1.188814      -0.011885     1.611649     6.002225  \n",
      "\n",
      "[5 rows x 29 columns]\n",
      "---Objective---\n",
      "   Yield\n",
      "0     80\n",
      "1      7\n",
      "2      3\n",
      "3     48\n",
      "4     99\n"
     ]
    }
   ],
   "source": [
    "#Building descriptors\n",
    "X = df.drop(columns=['Yield', 'Cate_name', 'P_name' ])\n",
    "print('---Descriptors---')\n",
    "print(X.head())\n",
    "\n",
    "y = pd.DataFrame(df['Yield'],columns=['Yield'])\n",
    "y=y.astype(int)\n",
    "print('---Objective---')\n",
    "print(y.head())"
   ]
  },
  {
   "cell_type": "code",
   "execution_count": 4,
   "id": "c15053b6-cc11-44f0-b20a-3e67d2db3c10",
   "metadata": {
    "tags": []
   },
   "outputs": [
    {
     "name": "stdout",
     "output_type": "stream",
     "text": [
      "<class 'pandas.core.frame.DataFrame'>\n",
      "RangeIndex: 68 entries, 0 to 67\n",
      "Data columns (total 29 columns):\n",
      " #   Column             Non-Null Count  Dtype  \n",
      "---  ------             --------------  -----  \n",
      " 0   Cate_HOMO          68 non-null     float64\n",
      " 1   Cate_LUMO          68 non-null     float64\n",
      " 2   Cate_ESP_O1        68 non-null     float64\n",
      " 3   Cate_ESP_H1        68 non-null     float64\n",
      " 4   Cate_ESP_O2        68 non-null     float64\n",
      " 5   Cate_ESP_H2        68 non-null     float64\n",
      " 6   Cate_BL_ArO1       68 non-null     float64\n",
      " 7   Cate_BL_O1H1       68 non-null     float64\n",
      " 8   Cate_BL_ArO2       68 non-null     float64\n",
      " 9   Cate_BL_O2H2       68 non-null     float64\n",
      " 10  Cate_total_dipole  68 non-null     float64\n",
      " 11  P_HOMO             68 non-null     float64\n",
      " 12  P_LUMO             68 non-null     float64\n",
      " 13  P_ESP_P            68 non-null     float64\n",
      " 14  P_ESP_=O           68 non-null     float64\n",
      " 15  P_ESP_H            68 non-null     float64\n",
      " 16  P_BL_P=O           68 non-null     float64\n",
      " 17  P_BL_PH            68 non-null     float64\n",
      " 18  P_total_dipole     68 non-null     float64\n",
      " 19  rdkit_catePC1      68 non-null     float64\n",
      " 20  rdkit_catePC2      68 non-null     float64\n",
      " 21  rdkit_catePC3      68 non-null     float64\n",
      " 22  rdkit_catePC4      68 non-null     float64\n",
      " 23  rdkit_catePC5      68 non-null     float64\n",
      " 24  rdkit_catePC6      68 non-null     float64\n",
      " 25  rdkit_catePC7      68 non-null     float64\n",
      " 26  rdkit_catePC8      68 non-null     float64\n",
      " 27  rdkit_P_PC1        68 non-null     float64\n",
      " 28  rdkit_P_PC2        68 non-null     float64\n",
      "dtypes: float64(29)\n",
      "memory usage: 15.5 KB\n",
      "None\n",
      "Cate_HOMO            False\n",
      "Cate_LUMO            False\n",
      "Cate_ESP_O1          False\n",
      "Cate_ESP_H1          False\n",
      "Cate_ESP_O2          False\n",
      "Cate_ESP_H2          False\n",
      "Cate_BL_ArO1         False\n",
      "Cate_BL_O1H1         False\n",
      "Cate_BL_ArO2         False\n",
      "Cate_BL_O2H2         False\n",
      "Cate_total_dipole    False\n",
      "P_HOMO               False\n",
      "P_LUMO               False\n",
      "P_ESP_P              False\n",
      "P_ESP_=O             False\n",
      "P_ESP_H              False\n",
      "P_BL_P=O             False\n",
      "P_BL_PH              False\n",
      "P_total_dipole       False\n",
      "rdkit_catePC1        False\n",
      "rdkit_catePC2        False\n",
      "rdkit_catePC3        False\n",
      "rdkit_catePC4        False\n",
      "rdkit_catePC5        False\n",
      "rdkit_catePC6        False\n",
      "rdkit_catePC7        False\n",
      "rdkit_catePC8        False\n",
      "rdkit_P_PC1          False\n",
      "rdkit_P_PC2          False\n",
      "dtype: bool\n",
      "0\n"
     ]
    }
   ],
   "source": [
    "print(X.info())\n",
    "print(X.isnull().any())\n",
    "print(X.isnull().values.sum())"
   ]
  },
  {
   "cell_type": "code",
   "execution_count": 5,
   "id": "c10a58c1-6449-48f6-bd2d-9fa49b46f891",
   "metadata": {
    "tags": []
   },
   "outputs": [
    {
     "name": "stderr",
     "output_type": "stream",
     "text": [
      "The default dtype for empty Series will be 'object' instead of 'float64' in a future version. Specify a dtype explicitly to silence this warning.\n"
     ]
    },
    {
     "name": "stdout",
     "output_type": "stream",
     "text": [
      "----------------------\n",
      "seed: 0\n",
      "Best Model Parameter: {'max_depth': 2, 'n_estimators': 3000}\n",
      "Best Model Score: 0.8003781435672895\n",
      "R2_test: 0.7191639467708719\n",
      "----------------------\n",
      "seed: 1\n",
      "Best Model Parameter: {'max_depth': 3, 'n_estimators': 3000}\n",
      "Best Model Score: 0.6973818514878842\n",
      "R2_test: 0.8462691033799473\n",
      "----------------------\n",
      "seed: 2\n",
      "Best Model Parameter: {'max_depth': 2, 'n_estimators': 5000}\n",
      "Best Model Score: 0.7593943514929608\n",
      "R2_test: 0.7928426012181254\n",
      "----------------------\n",
      "seed: 3\n",
      "Best Model Parameter: {'max_depth': 2, 'n_estimators': 3000}\n",
      "Best Model Score: 0.760308896259968\n",
      "R2_test: 0.745757458200358\n",
      "----------------------\n",
      "seed: 4\n",
      "Best Model Parameter: {'max_depth': 2, 'n_estimators': 1000}\n",
      "Best Model Score: 0.8091984182496246\n",
      "R2_test: 0.7715946154437981\n",
      "----------------------\n",
      "seed: 5\n",
      "Best Model Parameter: {'max_depth': 4, 'n_estimators': 1000}\n",
      "Best Model Score: 0.7855043281229849\n",
      "R2_test: 0.799543832206101\n",
      "----------------------\n",
      "seed: 6\n",
      "Best Model Parameter: {'max_depth': 2, 'n_estimators': 5000}\n",
      "Best Model Score: 0.7732312882459003\n",
      "R2_test: 0.7750717860728308\n",
      "----------------------\n",
      "seed: 7\n",
      "Best Model Parameter: {'max_depth': 2, 'n_estimators': 5000}\n",
      "Best Model Score: 0.7910663490074851\n",
      "R2_test: 0.7410083609912559\n",
      "----------------------\n",
      "seed: 8\n",
      "Best Model Parameter: {'max_depth': 2, 'n_estimators': 5000}\n",
      "Best Model Score: 0.7351039376031244\n",
      "R2_test: 0.7608634037152813\n",
      "----------------------\n",
      "seed: 9\n",
      "Best Model Parameter: {'max_depth': 2, 'n_estimators': 3000}\n",
      "Best Model Score: 0.6831445427452171\n",
      "R2_test: 0.8844938332613719\n",
      "R2_train_means: 0.8938185240547332\n",
      "CV_score_means: 0.759471210678244\n",
      "R2_test_means: 0.783660894125994\n"
     ]
    }
   ],
   "source": [
    "#storage \n",
    "data_r2_train =[]\n",
    "data_RMSE_train = []\n",
    "data_MAE_train = []\n",
    "data_r2_test = []\n",
    "data_RMSE_test = []\n",
    "data_MAE_test = []\n",
    "best_model_parametors = []\n",
    "data_cv_score = []\n",
    "cum_imp=pd.Series(index = X.columns)\n",
    "cum_imp.fillna(0, inplace=True)\n",
    "\n",
    "#RF\n",
    "for i in range(10):\n",
    "    seed=i\n",
    "    X_train, X_test, y_train, y_test = train_test_split(X, y, test_size=0.3, random_state=seed)\n",
    "\n",
    "    a_X_train = (X_train - X_train.mean(axis=0)) / X_train.std(axis=0, ddof=1)\n",
    "    a_X_test = (X_test - X_train.mean(axis=0)) / X_train.std(axis=0, ddof=1)\n",
    "    \n",
    "    \n",
    "    param_grid = {\"max_depth\":[2,3,4,5],\n",
    "                  'n_estimators':[1000,3000,5000]}\n",
    "    reg_rf = GridSearchCV(RandomForestRegressor(random_state=0), param_grid=param_grid, cv=5, n_jobs=3)\n",
    "    reg_rf.fit(a_X_train,y_train['Yield'])\n",
    "    reg_best = reg_rf.best_estimator_\n",
    "    y_pred1 = reg_best.predict(a_X_train)\n",
    "    y_pred2 = reg_best.predict(a_X_test)\n",
    "            \n",
    "    #train\n",
    "    r2_train = metrics.r2_score(y_train, y_pred1)\n",
    "    RMSE_train = metrics.mean_squared_error(y_train, y_pred1)\n",
    "    MAE_train =  metrics.mean_absolute_error(y_train, y_pred1)\n",
    "    #test\n",
    "    r2_test = metrics.r2_score(y_test, y_pred2)\n",
    "    RMSE_test = metrics.mean_squared_error(y_test, y_pred2)\n",
    "    MAE_test = metrics.mean_absolute_error(y_test, y_pred2)\n",
    "\n",
    "    parametors = reg_rf.best_params_\n",
    "    best_model_parametors.append(parametors)\n",
    "\n",
    "    data_r2_train.append(r2_train)\n",
    "    data_RMSE_train.append(RMSE_train)\n",
    "    data_MAE_train.append(MAE_train)\n",
    "    data_r2_test.append(r2_test)\n",
    "    data_RMSE_test.append(RMSE_test)\n",
    "    data_MAE_test.append(MAE_test)\n",
    "    data_cv_score.append(reg_rf.best_score_)\n",
    "    \n",
    "    #cumulative importances \n",
    "    importances = pd.Series(reg_best.feature_importances_, index = X.columns)\n",
    "    cum_imp += importances\n",
    "    \n",
    "    print('----------------------')\n",
    "    print('seed:', seed)\n",
    "    print(\"Best Model Parameter:\",reg_rf.best_params_)\n",
    "    print(\"Best Model Score:\",reg_rf.best_score_)\n",
    "    print('R2_test:', r2_test)\n",
    "print('R2_train_means:', sum(data_r2_train)/10)\n",
    "print('CV_score_means:', sum(data_cv_score)/10)\n",
    "print('R2_test_means:', sum(data_r2_test)/10)"
   ]
  },
  {
   "cell_type": "code",
   "execution_count": 6,
   "id": "47c5eeb8-c37f-46e9-ba79-a01178b442e1",
   "metadata": {
    "tags": []
   },
   "outputs": [
    {
     "name": "stdout",
     "output_type": "stream",
     "text": [
      "      r2_train  RMSE_train  MAE_train   r2_test   RMSE_test   MAE_test  \\\n",
      "0     0.905833   69.425922   5.329931  0.719164  367.319548  11.984728   \n",
      "1     0.917640   74.479173   5.371572  0.846269  148.941883   7.975489   \n",
      "2     0.878719  112.196672   6.555225  0.792843  200.333888   8.458854   \n",
      "3     0.888942  103.584773   6.132895  0.745757  244.008271   9.335651   \n",
      "4     0.890855   94.093595   5.881533  0.771595  242.868987  10.743983   \n",
      "5     0.951290   39.442051   3.569552  0.799544  243.795609  10.240983   \n",
      "6     0.882706   96.259966   6.149433  0.775072  270.692180  10.094685   \n",
      "7     0.890660  104.583584   6.443739  0.741008  234.777976   9.671395   \n",
      "8     0.875948  109.179832   5.913413  0.760863  236.323352  10.866931   \n",
      "9     0.855591  146.350459   7.821490  0.884494   81.392298   5.975114   \n",
      "mean  0.893819   94.959603   5.916878  0.783661  227.045399   9.534781   \n",
      "\n",
      "      cv_score  \n",
      "0     0.800378  \n",
      "1     0.697382  \n",
      "2     0.759394  \n",
      "3     0.760309  \n",
      "4     0.809198  \n",
      "5     0.785504  \n",
      "6     0.773231  \n",
      "7     0.791066  \n",
      "8     0.735104  \n",
      "9     0.683145  \n",
      "mean  0.759471  \n"
     ]
    }
   ],
   "source": [
    "data_r2_train_pd = pd.DataFrame(data= data_r2_train, columns=['r2_train'])\n",
    "data_RMSE_train_pd = pd.DataFrame(data=data_RMSE_train, columns=['RMSE_train'])\n",
    "data_MAE_train_pd = pd.DataFrame(data=data_MAE_train, columns=['MAE_train'])\n",
    "data_r2_test_pd = pd.DataFrame(data=data_r2_test, columns=['r2_test'])\n",
    "data_RMSE_test_pd = pd.DataFrame(data=data_RMSE_test, columns=['RMSE_test'])\n",
    "data_MAE_test_pd = pd.DataFrame(data=data_MAE_test, columns=['MAE_test'])\n",
    "data_cv_score_pd = pd.DataFrame(data=data_cv_score, columns=['cv_score'])\n",
    "data_parametors = pd.DataFrame([best_model_parametors])\n",
    "\n",
    "data_all = pd.concat([data_r2_train_pd, data_RMSE_train_pd, data_MAE_train_pd, data_r2_test_pd, \n",
    "                      data_RMSE_test_pd, data_MAE_test_pd, data_cv_score_pd],\n",
    "                     axis=1, join='inner')\n",
    "\n",
    "data_all.loc['mean'] = data_all.mean()\n",
    "print(data_all)\n",
    "\n",
    "data_all.to_csv('../../score/Hybrid/RF_score.csv')\n",
    "#data_parametors.to_csv('/Users/nata/Documents/ML/amidation/score/Hybrid/Hybrid_ESP/RF/parametors.csv')"
   ]
  },
  {
   "cell_type": "code",
   "execution_count": 10,
   "id": "ff17407d-8944-4b0f-805a-d23cc4cf6a78",
   "metadata": {},
   "outputs": [
    {
     "name": "stdout",
     "output_type": "stream",
     "text": [
      "r2_train: 0.8555908598143708\n",
      "r2_test: 0.8844938332613719\n"
     ]
    }
   ],
   "source": [
    "seed=9\n",
    "X_train, X_test, y_train, y_test = train_test_split(X, y, test_size=0.3, random_state=seed)\n",
    "\n",
    "a_X_train = (X_train - X_train.mean(axis=0)) / X_train.std(axis=0, ddof=1)\n",
    "a_X_test = (X_test - X_train.mean(axis=0)) / X_train.std(axis=0, ddof=1)\n",
    "\n",
    "    \n",
    "param_grid = {\"max_depth\":[2,3,4,5],'n_estimators':[1000,3000,5000]}\n",
    "reg_rf = GridSearchCV(RandomForestRegressor(random_state=0), param_grid=param_grid, cv=5, n_jobs=3)\n",
    "reg_rf.fit(a_X_train,y_train['Yield'])\n",
    "reg_best = reg_rf.best_estimator_\n",
    "y_pred1 = reg_best.predict(a_X_train)\n",
    "y_pred2 = reg_best.predict(a_X_test)\n",
    "            \n",
    "r2_train = metrics.r2_score(y_train, y_pred1)\n",
    "r2_test = metrics.r2_score(y_test, y_pred2)\n",
    "print('r2_train:',r2_train)\n",
    "print('r2_test:',r2_test)"
   ]
  },
  {
   "cell_type": "code",
   "execution_count": 11,
   "id": "9f292987-5745-4f37-b361-dd493dfb05be",
   "metadata": {
    "tags": []
   },
   "outputs": [
    {
     "data": {
      "image/png": "[encoded data removed]",
      "text/plain": [
       "<Figure size 600x400 with 2 Axes>"
      ]
     },
     "metadata": {},
     "output_type": "display_data"
    }
   ],
   "source": [
    "#shap\n",
    "explainer = shap.TreeExplainer(reg_best)\n",
    "shap_values = explainer.shap_values(X=a_X_train)\n",
    "shap.summary_plot(shap_values, a_X_train,max_display=6, plot_size=(6,4))"
   ]
  },
  {
   "cell_type": "code",
   "execution_count": null,
   "id": "dc8ac816-8d3e-4a6c-8e61-ba4a737cfd4b",
   "metadata": {},
   "outputs": [],
   "source": []
  }
 ],
 "metadata": {
  "kernelspec": {
   "display_name": "Python 3 (ipykernel)",
   "language": "python",
   "name": "python3"
  },
  "language_info": {
   "codemirror_mode": {
    "name": "ipython",
    "version": 3
   },
   "file_extension": ".py",
   "mimetype": "text/x-python",
   "name": "python",
   "nbconvert_exporter": "python",
   "pygments_lexer": "ipython3",
   "version": "3.8.18"
  }
 },
 "nbformat": 4,
 "nbformat_minor": 5
}
