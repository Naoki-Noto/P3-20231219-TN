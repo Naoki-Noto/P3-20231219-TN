{
 "cells": [
  {
   "cell_type": "code",
   "execution_count": 1,
   "id": "642dd3f1-f429-4a7c-bcc8-e9ab68311594",
   "metadata": {},
   "outputs": [],
   "source": [
    "#import\n",
    "import seaborn as sns\n",
    "import pandas as pd\n",
    "import numpy as np\n",
    "import matplotlib.pyplot as plt\n",
    "from sklearn.model_selection import train_test_split\n",
    "from sklearn.model_selection import GridSearchCV\n",
    "from sklearn.neighbors import KNeighborsRegressor\n",
    "from sklearn import metrics"
   ]
  },
  {
   "cell_type": "code",
   "execution_count": 2,
   "id": "bba08b94-539c-4603-b2e2-9bad884d098f",
   "metadata": {},
   "outputs": [
    {
     "name": "stdout",
     "output_type": "stream",
     "text": [
      "<class 'pandas.core.frame.DataFrame'>\n",
      "RangeIndex: 68 entries, 0 to 67\n",
      "Columns: 2049 entries, Yield to 1023.1\n",
      "dtypes: int64(2049)\n",
      "memory usage: 1.1 MB\n"
     ]
    }
   ],
   "source": [
    "#Reading dataset\n",
    "df=pd.read_csv('Morgan_desc.csv')\n",
    "df.info()"
   ]
  },
  {
   "cell_type": "code",
   "execution_count": 3,
   "id": "cd9a0966-96f1-454d-9296-8dbdc5fb4db9",
   "metadata": {},
   "outputs": [
    {
     "name": "stdout",
     "output_type": "stream",
     "text": [
      "There were 1914 variables with zero variance\n",
      "the number of variable is: [   1    2    3 ... 2046 2047 2048]\n",
      "remove them\n",
      "\n",
      "<class 'pandas.core.frame.DataFrame'>\n",
      "RangeIndex: 68 entries, 0 to 67\n",
      "Columns: 135 entries, Yield to 919.1\n",
      "dtypes: int64(135)\n",
      "memory usage: 71.8 KB\n"
     ]
    }
   ],
   "source": [
    "#Preparing\n",
    "\n",
    "# delete variables with zero variance\n",
    "Var0Variable = np.where( df.var(axis=0) == 0 )\n",
    "if len(Var0Variable[0]) == 0:\n",
    "    print( \"There is no variable with zero variance.\" )\n",
    "    print( \"\" )\n",
    "else:\n",
    "    print( \"There were {0} variables with zero variance\".format(len(Var0Variable[0])))\n",
    "    print( \"the number of variable is: {0}\".format(Var0Variable[0]) )\n",
    "    print( \"remove them\" )\n",
    "    print( \"\" )\n",
    "    #df_var0 = np.delete(df, Var0Variable, 1)    \n",
    "    df_var0 = df.drop(df.columns[Var0Variable], axis=1)\n",
    "\n",
    "#removal of columns which data has all 0\n",
    "def remove_all_zero_col(df):\n",
    "    df = df.copy()\n",
    "    for col in df.columns:\n",
    "        if (df[col] == 0).all():\n",
    "            df.drop(col, axis=1, inplace=True)\n",
    "    return df\n",
    "df_var0 = remove_all_zero_col(df_var0)\n",
    "df_var0.info()"
   ]
  },
  {
   "cell_type": "code",
   "execution_count": 4,
   "id": "265716eb-1683-4c15-b86d-6ebfb8e8c0f4",
   "metadata": {},
   "outputs": [
    {
     "name": "stdout",
     "output_type": "stream",
     "text": [
      "---Descriptors---\n",
      "   8  9  15  33  58  63  64  68  80  102  ...  623.1  665.1  695.1  726.1  \\\n",
      "0  0  0   0   0   0   0   1   0   0    0  ...      1      1      1      0   \n",
      "1  0  0   0   0   0   0   1   0   0    0  ...      1      0      0      0   \n",
      "2  0  0   0   0   0   0   1   0   0    0  ...      1      0      0      1   \n",
      "3  0  0   0   0   0   0   1   0   0    0  ...      0      0      0      0   \n",
      "4  0  0   0   1   0   0   0   0   0    0  ...      1      1      1      0   \n",
      "\n",
      "   755.1  802.1  807.1  841.1  849.1  919.1  \n",
      "0      0      1      0      1      0      0  \n",
      "1      1      0      1      0      0      0  \n",
      "2      0      0      1      0      1      1  \n",
      "3      0      0      1      0      0      0  \n",
      "4      0      1      0      1      0      0  \n",
      "\n",
      "[5 rows x 134 columns]\n",
      "---Objective---\n",
      "   Yield\n",
      "0     80\n",
      "1      7\n",
      "2      3\n",
      "3     48\n",
      "4     99\n"
     ]
    }
   ],
   "source": [
    "#Building descriptors\n",
    "X = df_var0.drop(columns=['Yield'])\n",
    "\n",
    "print('---Descriptors---')\n",
    "print(X.head())\n",
    "\n",
    "y = pd.DataFrame(df_var0['Yield'],columns=['Yield'])\n",
    "print('---Objective---')\n",
    "print(y.head())"
   ]
  },
  {
   "cell_type": "code",
   "execution_count": 6,
   "id": "30f4b51b-0fb0-45db-aab2-2c1c9f7c2b1d",
   "metadata": {
    "tags": []
   },
   "outputs": [
    {
     "name": "stdout",
     "output_type": "stream",
     "text": [
      "----------------------\n",
      "seed: 0\n",
      "Best Model Parameter: {'n_neighbors': 7, 'p': 1}\n",
      "Best Model Score: 0.6671568457745215\n",
      "R2_test: 0.5053476756978456\n",
      "----------------------\n",
      "seed: 1\n",
      "Best Model Parameter: {'n_neighbors': 8, 'p': 1}\n",
      "Best Model Score: 0.581446065463125\n",
      "R2_test: 0.6126121823377695\n",
      "----------------------\n",
      "seed: 2\n",
      "Best Model Parameter: {'n_neighbors': 8, 'p': 1}\n",
      "Best Model Score: 0.6084680981687987\n",
      "R2_test: 0.6234657256362639\n",
      "----------------------\n",
      "seed: 3\n",
      "Best Model Parameter: {'n_neighbors': 9, 'p': 1}\n",
      "Best Model Score: 0.4896050327873859\n",
      "R2_test: 0.6136458302705987\n",
      "----------------------\n",
      "seed: 4\n",
      "Best Model Parameter: {'n_neighbors': 9, 'p': 1}\n",
      "Best Model Score: 0.5158453549987059\n",
      "R2_test: 0.6192411943383311\n",
      "----------------------\n",
      "seed: 5\n",
      "Best Model Parameter: {'n_neighbors': 9, 'p': 1}\n",
      "Best Model Score: 0.5955125394863127\n",
      "R2_test: 0.5278183472222395\n",
      "----------------------\n",
      "seed: 6\n",
      "Best Model Parameter: {'n_neighbors': 8, 'p': 1}\n",
      "Best Model Score: 0.5945247668027119\n",
      "R2_test: 0.6524264933788809\n",
      "----------------------\n",
      "seed: 7\n",
      "Best Model Parameter: {'n_neighbors': 7, 'p': 1}\n",
      "Best Model Score: 0.5731946446999302\n",
      "R2_test: 0.531657846118661\n",
      "----------------------\n",
      "seed: 8\n",
      "Best Model Parameter: {'n_neighbors': 8, 'p': 1}\n",
      "Best Model Score: 0.6898660711289748\n",
      "R2_test: 0.6205720585940726\n",
      "----------------------\n",
      "seed: 9\n",
      "Best Model Parameter: {'n_neighbors': 8, 'p': 1}\n",
      "Best Model Score: 0.5176202736677145\n",
      "R2_test: 0.6802810160931154\n",
      "R2_train_means: 0.6827430859571245\n",
      "CV_score_means: 0.583323969297818\n",
      "R2_test_means: 0.5987068369687778\n"
     ]
    }
   ],
   "source": [
    "#storage \n",
    "data_r2_train =[]\n",
    "data_RMSE_train = []\n",
    "data_MAE_train = []\n",
    "data_r2_test = []\n",
    "data_RMSE_test = []\n",
    "data_MAE_test = []\n",
    "best_model_parametors = []\n",
    "data_cv_score = []\n",
    "\n",
    "#knn\n",
    "for i in range(10):\n",
    "    seed=i\n",
    "    X_train, X_test, y_train, y_test = train_test_split(X, y, test_size=0.3, random_state=seed)\n",
    "    \n",
    "    #autoscaling\n",
    "    a_X_train = (X_train - X_train.mean(axis=0)) / X_train.std(axis=0, ddof=1)\n",
    "    a_X_test = (X_test - X_train.mean(axis=0)) / X_train.std(axis=0, ddof=1)\n",
    "    a_X_train=a_X_train.dropna(axis=1)\n",
    "    a_X_test=a_X_test.dropna(axis=1)\n",
    "    \n",
    "    param_knn={'n_neighbors':[1,2,3,4,5,6,7,8,9,10], 'p':[1,2,3,4,5]}\n",
    "    reg_knn = GridSearchCV(KNeighborsRegressor(), param_grid=param_knn, cv=5, n_jobs=2)\n",
    "    reg_knn.fit(a_X_train,y_train['Yield'])\n",
    "    reg_best = reg_knn.best_estimator_\n",
    "    y_pred1 = reg_best.predict(a_X_train)\n",
    "    y_pred2 = reg_best.predict(a_X_test)\n",
    "\n",
    "    \n",
    "    #train\n",
    "    r2_train = metrics.r2_score(y_train, y_pred1)\n",
    "    RMSE_train = metrics.mean_squared_error(y_train, y_pred1)\n",
    "    MAE_train =  metrics.mean_absolute_error(y_train, y_pred1)\n",
    "    #test\n",
    "    r2_test = metrics.r2_score(y_test, y_pred2)\n",
    "    RMSE_test = metrics.mean_squared_error(y_test, y_pred2)\n",
    "    MAE_test = metrics.mean_absolute_error(y_test, y_pred2)\n",
    "\n",
    "    data_r2_train.append(r2_train)\n",
    "    data_RMSE_train.append(RMSE_train)\n",
    "    data_MAE_train.append(MAE_train)\n",
    "    data_r2_test.append(r2_test)\n",
    "    data_RMSE_test.append(RMSE_test)\n",
    "    data_MAE_test.append(MAE_test)\n",
    "    \n",
    "    parametors = reg_knn.best_params_\n",
    "    best_model_parametors.append(parametors)\n",
    "    cv_score = reg_knn.best_score_\n",
    "    data_cv_score.append(cv_score)\n",
    " \n",
    "    print('----------------------')\n",
    "    print('seed:', seed)\n",
    "    print(\"Best Model Parameter:\",reg_knn.best_params_)\n",
    "    print(\"Best Model Score:\",reg_knn.best_score_)\n",
    "    print('R2_test:', r2_test)\n",
    "print('R2_train_means:', sum(data_r2_train)/10)\n",
    "print('CV_score_means:', sum(data_cv_score)/10)\n",
    "print('R2_test_means:', sum(data_r2_test)/10)"
   ]
  },
  {
   "cell_type": "code",
   "execution_count": 7,
   "id": "264947b5-50d0-4f16-9010-36b58fea79d5",
   "metadata": {},
   "outputs": [
    {
     "name": "stdout",
     "output_type": "stream",
     "text": [
      "      r2_train   MSE_train  MAE_train   r2_test   RMSE_test   MAE_test  \\\n",
      "0     0.714181  210.724707  11.723404  0.505348  646.980564  19.870748   \n",
      "1     0.642883  322.944481  13.976064  0.612612  375.319940  14.678571   \n",
      "2     0.695046  282.112699  13.162234  0.623466  364.131696  16.684524   \n",
      "3     0.646895  329.344366  14.028369  0.613646  370.801881  15.925926   \n",
      "4     0.630472  318.568689  13.756501  0.619241  404.870076  15.714286   \n",
      "5     0.681264  258.092987  12.160757  0.527818  574.269253  17.904762   \n",
      "6     0.693151  251.822806  12.763298  0.652426  418.290923  13.779762   \n",
      "7     0.683528  302.704733  13.826748  0.531658  424.555879  17.768707   \n",
      "8     0.763851  207.838763  10.917553  0.620572  374.964286  15.988095   \n",
      "9     0.676160  328.193816  14.523936  0.680281  225.292411  13.041667   \n",
      "mean  0.682743  281.234805  13.083886  0.598707  417.947691  16.135705   \n",
      "\n",
      "      cv_score  \n",
      "0     0.667157  \n",
      "1     0.581446  \n",
      "2     0.608468  \n",
      "3     0.489605  \n",
      "4     0.515845  \n",
      "5     0.595513  \n",
      "6     0.594525  \n",
      "7     0.573195  \n",
      "8     0.689866  \n",
      "9     0.517620  \n",
      "mean  0.583324  \n"
     ]
    }
   ],
   "source": [
    "data_r2_train_pd = pd.DataFrame(data= data_r2_train, columns=['r2_train'])\n",
    "data_RMSE_train_pd = pd.DataFrame(data=data_RMSE_train, columns=['MSE_train'])\n",
    "data_MAE_train_pd = pd.DataFrame(data=data_MAE_train, columns=['MAE_train'])\n",
    "data_r2_test_pd = pd.DataFrame(data=data_r2_test, columns=['r2_test'])\n",
    "data_RMSE_test_pd = pd.DataFrame(data=data_RMSE_test, columns=['RMSE_test'])\n",
    "data_MAE_test_pd = pd.DataFrame(data=data_MAE_test, columns=['MAE_test'])\n",
    "data_cv_score_pd = pd.DataFrame(data=data_cv_score, columns=['cv_score'])\n",
    "data_parametors = pd.DataFrame([best_model_parametors])\n",
    "        \n",
    "data_all = pd.concat([data_r2_train_pd, data_RMSE_train_pd, data_MAE_train_pd, data_r2_test_pd, data_RMSE_test_pd, data_MAE_test_pd, data_cv_score_pd], \n",
    "                     axis=1, join='inner')\n",
    "data_all.loc['mean'] = data_all.mean()\n",
    "print(data_all)\n",
    "\n",
    "data_all.to_csv('../../score/MorganF/knn_score.csv')"
   ]
  },
  {
   "cell_type": "code",
   "execution_count": null,
   "id": "c718e616-986c-425b-900b-cb2fce762f4b",
   "metadata": {},
   "outputs": [],
   "source": []
  }
 ],
 "metadata": {
  "kernelspec": {
   "display_name": "Python 3 (ipykernel)",
   "language": "python",
   "name": "python3"
  },
  "language_info": {
   "codemirror_mode": {
    "name": "ipython",
    "version": 3
   },
   "file_extension": ".py",
   "mimetype": "text/x-python",
   "name": "python",
   "nbconvert_exporter": "python",
   "pygments_lexer": "ipython3",
   "version": "3.8.18"
  }
 },
 "nbformat": 4,
 "nbformat_minor": 5
}
