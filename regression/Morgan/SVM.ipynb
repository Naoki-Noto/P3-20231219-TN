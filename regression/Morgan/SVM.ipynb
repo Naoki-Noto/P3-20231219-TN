{
 "cells": [
  {
   "cell_type": "code",
   "execution_count": 1,
   "id": "642dd3f1-f429-4a7c-bcc8-e9ab68311594",
   "metadata": {},
   "outputs": [],
   "source": [
    "#import\n",
    "import seaborn as sns\n",
    "import pandas as pd\n",
    "import numpy as np\n",
    "import matplotlib.pyplot as plt\n",
    "from sklearn.model_selection import train_test_split\n",
    "from sklearn.model_selection import GridSearchCV\n",
    "from sklearn.svm import SVR\n",
    "from sklearn import metrics\n",
    "import warnings\n",
    "warnings.filterwarnings('ignore')"
   ]
  },
  {
   "cell_type": "code",
   "execution_count": 2,
   "id": "bba08b94-539c-4603-b2e2-9bad884d098f",
   "metadata": {},
   "outputs": [
    {
     "name": "stdout",
     "output_type": "stream",
     "text": [
      "<class 'pandas.core.frame.DataFrame'>\n",
      "RangeIndex: 68 entries, 0 to 67\n",
      "Columns: 2049 entries, Yield to 1023.1\n",
      "dtypes: int64(2049)\n",
      "memory usage: 1.1 MB\n"
     ]
    }
   ],
   "source": [
    "#Reading dataset\n",
    "df=pd.read_csv('Morgan_desc.csv')\n",
    "df.info()"
   ]
  },
  {
   "cell_type": "code",
   "execution_count": 3,
   "id": "cd9a0966-96f1-454d-9296-8dbdc5fb4db9",
   "metadata": {},
   "outputs": [
    {
     "name": "stdout",
     "output_type": "stream",
     "text": [
      "There were 1914 variables with zero variance\n",
      "the number of variable is: [   1    2    3 ... 2046 2047 2048]\n",
      "remove them\n",
      "\n",
      "<class 'pandas.core.frame.DataFrame'>\n",
      "RangeIndex: 68 entries, 0 to 67\n",
      "Columns: 135 entries, Yield to 919.1\n",
      "dtypes: int64(135)\n",
      "memory usage: 71.8 KB\n"
     ]
    }
   ],
   "source": [
    "#Preparing\n",
    "\n",
    "# delete variables with zero variance\n",
    "Var0Variable = np.where( df.var(axis=0) == 0 )\n",
    "if len(Var0Variable[0]) == 0:\n",
    "    print( \"There is no variable with zero variance.\" )\n",
    "    print( \"\" )\n",
    "else:\n",
    "    print( \"There were {0} variables with zero variance\".format(len(Var0Variable[0])))\n",
    "    print( \"the number of variable is: {0}\".format(Var0Variable[0]) )\n",
    "    print( \"remove them\" )\n",
    "    print( \"\" )\n",
    "    #df_var0 = np.delete(df, Var0Variable, 1)    \n",
    "    df_var0 = df.drop(df.columns[Var0Variable], axis=1)\n",
    "\n",
    "#removal of columns which data has all 0\n",
    "def remove_all_zero_col(df):\n",
    "    df = df.copy()\n",
    "    for col in df.columns:\n",
    "        if (df[col] == 0).all():\n",
    "            df.drop(col, axis=1, inplace=True)\n",
    "    return df\n",
    "df_var0 = remove_all_zero_col(df_var0)\n",
    "df_var0.info()"
   ]
  },
  {
   "cell_type": "code",
   "execution_count": 4,
   "id": "265716eb-1683-4c15-b86d-6ebfb8e8c0f4",
   "metadata": {},
   "outputs": [
    {
     "name": "stdout",
     "output_type": "stream",
     "text": [
      "---Descriptors---\n",
      "   8  9  15  33  58  63  64  68  80  102  ...  623.1  665.1  695.1  726.1  \\\n",
      "0  0  0   0   0   0   0   1   0   0    0  ...      1      1      1      0   \n",
      "1  0  0   0   0   0   0   1   0   0    0  ...      1      0      0      0   \n",
      "2  0  0   0   0   0   0   1   0   0    0  ...      1      0      0      1   \n",
      "3  0  0   0   0   0   0   1   0   0    0  ...      0      0      0      0   \n",
      "4  0  0   0   1   0   0   0   0   0    0  ...      1      1      1      0   \n",
      "\n",
      "   755.1  802.1  807.1  841.1  849.1  919.1  \n",
      "0      0      1      0      1      0      0  \n",
      "1      1      0      1      0      0      0  \n",
      "2      0      0      1      0      1      1  \n",
      "3      0      0      1      0      0      0  \n",
      "4      0      1      0      1      0      0  \n",
      "\n",
      "[5 rows x 134 columns]\n",
      "---Objective---\n",
      "   Yield\n",
      "0     80\n",
      "1      7\n",
      "2      3\n",
      "3     48\n",
      "4     99\n"
     ]
    }
   ],
   "source": [
    "#Building descriptors\n",
    "X = df_var0.drop(columns=['Yield'])\n",
    "\n",
    "print('---Descriptors---')\n",
    "print(X.head())\n",
    "\n",
    "y = pd.DataFrame(df_var0['Yield'],columns=['Yield'])\n",
    "print('---Objective---')\n",
    "print(y.head())"
   ]
  },
  {
   "cell_type": "code",
   "execution_count": 5,
   "id": "27f46c26-fb09-453d-a49e-afd4fb4f17b2",
   "metadata": {},
   "outputs": [
    {
     "name": "stdout",
     "output_type": "stream",
     "text": [
      "----------------------\n",
      "seed: 0\n",
      "Best Model Parameter: {'C': 400, 'epsilon': 0.3, 'gamma': 0.0001}\n",
      "Best Model Score: 0.9264598178940388\n",
      "R2_test: 0.7170090777747915\n",
      "----------------------\n",
      "seed: 1\n",
      "Best Model Parameter: {'C': 750, 'epsilon': 0.3, 'gamma': 0.0001}\n",
      "Best Model Score: 0.9048125437920589\n",
      "R2_test: 0.81671841967098\n",
      "----------------------\n",
      "seed: 2\n",
      "Best Model Parameter: {'C': 500, 'epsilon': 0.3, 'gamma': 0.0001}\n",
      "Best Model Score: 0.9379501314880925\n",
      "R2_test: 0.7792480806551921\n",
      "----------------------\n",
      "seed: 3\n",
      "Best Model Parameter: {'C': 400, 'epsilon': 0.3, 'gamma': 0.0001}\n",
      "Best Model Score: 0.91224338493578\n",
      "R2_test: 0.8136230653814907\n",
      "----------------------\n",
      "seed: 4\n",
      "Best Model Parameter: {'C': 1000, 'epsilon': 0.3, 'gamma': 0.0001}\n",
      "Best Model Score: 0.9101076823558467\n",
      "R2_test: 0.8133639245255738\n",
      "----------------------\n",
      "seed: 5\n",
      "Best Model Parameter: {'C': 1000, 'epsilon': 0.3, 'gamma': 1e-05}\n",
      "Best Model Score: 0.8987256523453109\n",
      "R2_test: 0.5633267988407349\n",
      "----------------------\n",
      "seed: 6\n",
      "Best Model Parameter: {'C': 1000, 'epsilon': 0.3, 'gamma': 0.0001}\n",
      "Best Model Score: 0.8913129553404249\n",
      "R2_test: 0.6333415935501506\n",
      "----------------------\n",
      "seed: 7\n",
      "Best Model Parameter: {'C': 1000, 'epsilon': 0.3, 'gamma': 0.0001}\n",
      "Best Model Score: 0.925701973973897\n",
      "R2_test: 0.7627789051954884\n",
      "----------------------\n",
      "seed: 8\n",
      "Best Model Parameter: {'C': 1000, 'epsilon': 0.3, 'gamma': 0.0001}\n",
      "Best Model Score: 0.9080903831111492\n",
      "R2_test: 0.661527568094934\n",
      "----------------------\n",
      "seed: 9\n",
      "Best Model Parameter: {'C': 300, 'epsilon': 0.3, 'gamma': 0.0001}\n",
      "Best Model Score: 0.8885117910572145\n",
      "R2_test: 0.8719363208683775\n",
      "R2_train_means: 0.8782609120123297\n",
      "CV_score_means: 0.9103916316293812\n",
      "R2_test_means: 0.7432873754557715\n"
     ]
    }
   ],
   "source": [
    "#storage \n",
    "data_r2_train =[]\n",
    "data_RMSE_train = []\n",
    "data_MAE_train = []\n",
    "data_r2_test = []\n",
    "data_RMSE_test = []\n",
    "data_MAE_test = []\n",
    "best_model_parametors = []\n",
    "data_cv_score = []\n",
    "\n",
    "#SVM_a_X,log(y)\n",
    "for i in range(10):\n",
    "    seed=i\n",
    "    X_train, X_test, y_train, y_test = train_test_split(X, y, test_size=0.3, random_state=seed)\n",
    "    \n",
    "    #autoscaling\n",
    "    a_X_train = (X_train - X_train.mean(axis=0)) / X_train.std(axis=0, ddof=1)\n",
    "    a_X_test = (X_test - X_train.mean(axis=0)) / X_train.std(axis=0, ddof=1)\n",
    "    a_X_train=a_X_train.dropna(axis=1)\n",
    "    a_X_test=a_X_test.dropna(axis=1)\n",
    "    log_y_train = np.log(y_train)\n",
    "    \n",
    "    param_svm={'C':[0.1,1,5,10,50,100,200,300,400,500,750,1000],\n",
    "               'gamma':[100,10,1,0.1,0.01,0.001,0.0001,0.00001],\n",
    "               'epsilon':[0.3]}\n",
    "    reg_svm = GridSearchCV(SVR(kernel='rbf'), param_grid=param_svm, cv=5, n_jobs=2)\n",
    "    reg_svm.fit(a_X_train,log_y_train['Yield'])\n",
    "    reg_best = reg_svm.best_estimator_\n",
    "    y_pred1 = np.exp(reg_best.predict(a_X_train))\n",
    "    y_pred2 = np.exp(reg_best.predict(a_X_test))\n",
    "    \n",
    "    #train\n",
    "    r2_train = metrics.r2_score(y_train, y_pred1)\n",
    "    RMSE_train = metrics.mean_squared_error(y_train, y_pred1)\n",
    "    MAE_train =  metrics.mean_absolute_error(y_train, y_pred1)\n",
    "    #test\n",
    "    r2_test = metrics.r2_score(y_test, y_pred2)\n",
    "    RMSE_test = metrics.mean_squared_error(y_test, y_pred2)\n",
    "    MAE_test = metrics.mean_absolute_error(y_test, y_pred2)\n",
    "    \n",
    "    data_r2_train.append(r2_train)\n",
    "    data_RMSE_train.append(RMSE_train)\n",
    "    data_MAE_train.append(MAE_train)\n",
    "    data_r2_test.append(r2_test)\n",
    "    data_RMSE_test.append(RMSE_test)\n",
    "    data_MAE_test.append(MAE_test)\n",
    "    data_cv_score.append(reg_svm.best_score_)\n",
    "\n",
    "    print('----------------------')\n",
    "    print('seed:', seed)\n",
    "    print(\"Best Model Parameter:\",reg_svm.best_params_)\n",
    "    print(\"Best Model Score:\",reg_svm.best_score_)\n",
    "    print('R2_test:', r2_test)\n",
    "print('R2_train_means:', sum(data_r2_train)/10)\n",
    "print('CV_score_means:', sum(data_cv_score)/10)\n",
    "print('R2_test_means:', sum(data_r2_test)/10)"
   ]
  },
  {
   "cell_type": "code",
   "execution_count": 7,
   "id": "1215c304-df2c-4b1b-b887-33c37f32760a",
   "metadata": {
    "tags": []
   },
   "outputs": [
    {
     "name": "stdout",
     "output_type": "stream",
     "text": [
      "      r2_train   MSE_train  MAE_train   r2_test   RMSE_test   MAE_test  \\\n",
      "0     0.910675   65.856383   5.091945  0.717009  370.138009  11.876006   \n",
      "1     0.879309  109.141822   6.840061  0.816718  177.572006   7.751250   \n",
      "2     0.892922   99.057790   6.389224  0.779248  213.480621   8.800067   \n",
      "3     0.881913  110.141458   6.779067  0.813623  178.874523   7.960875   \n",
      "4     0.900176   86.057923   5.911058  0.813364  198.454667   8.719839   \n",
      "5     0.788403  171.338518   7.028079  0.563327  531.083730  14.205720   \n",
      "6     0.886763   92.930947   6.584412  0.633342  441.258842  13.449676   \n",
      "7     0.897484   98.056075   6.585389  0.762779  215.042805   9.045482   \n",
      "8     0.894704   92.672408   5.992927  0.661528  334.490584  12.526893   \n",
      "9     0.850261  151.752374   8.336058  0.871936   90.241044   5.807575   \n",
      "mean  0.878261  107.700570   6.553822  0.743287  275.063683  10.014338   \n",
      "\n",
      "      cv_score  \n",
      "0     0.926460  \n",
      "1     0.904813  \n",
      "2     0.937950  \n",
      "3     0.912243  \n",
      "4     0.910108  \n",
      "5     0.898726  \n",
      "6     0.891313  \n",
      "7     0.925702  \n",
      "8     0.908090  \n",
      "9     0.888512  \n",
      "mean  0.910392  \n"
     ]
    }
   ],
   "source": [
    "data_r2_train_pd = pd.DataFrame(data= data_r2_train, columns=['r2_train'])\n",
    "data_RMSE_train_pd = pd.DataFrame(data=data_RMSE_train, columns=['MSE_train'])\n",
    "data_MAE_train_pd = pd.DataFrame(data=data_MAE_train, columns=['MAE_train'])\n",
    "data_r2_test_pd = pd.DataFrame(data=data_r2_test, columns=['r2_test'])\n",
    "data_RMSE_test_pd = pd.DataFrame(data=data_RMSE_test, columns=['RMSE_test'])\n",
    "data_MAE_test_pd = pd.DataFrame(data=data_MAE_test, columns=['MAE_test'])\n",
    "data_cv_score_pd = pd.DataFrame(data=data_cv_score, columns=['cv_score'])\n",
    "data_parametors = pd.DataFrame([best_model_parametors])\n",
    "        \n",
    "data_all = pd.concat([data_r2_train_pd, data_RMSE_train_pd, data_MAE_train_pd, data_r2_test_pd, data_RMSE_test_pd, data_MAE_test_pd, data_cv_score_pd], \n",
    "                     axis=1, join='inner')\n",
    "data_all.loc['mean'] = data_all.mean()\n",
    "print(data_all)\n",
    "\n",
    "data_all.to_csv('../../score/MorganF/SVM_score.csv')"
   ]
  },
  {
   "cell_type": "code",
   "execution_count": null,
   "id": "d45d5344-c7e0-4c3a-ae06-6e1709a7e8c5",
   "metadata": {},
   "outputs": [],
   "source": []
  }
 ],
 "metadata": {
  "kernelspec": {
   "display_name": "Python 3 (ipykernel)",
   "language": "python",
   "name": "python3"
  },
  "language_info": {
   "codemirror_mode": {
    "name": "ipython",
    "version": 3
   },
   "file_extension": ".py",
   "mimetype": "text/x-python",
   "name": "python",
   "nbconvert_exporter": "python",
   "pygments_lexer": "ipython3",
   "version": "3.8.18"
  }
 },
 "nbformat": 4,
 "nbformat_minor": 5
}
