{
 "cells": [
  {
   "cell_type": "code",
   "execution_count": 1,
   "id": "8701d27d-a30f-4c3f-ad87-1c6986a7b839",
   "metadata": {},
   "outputs": [],
   "source": [
    "#import\n",
    "import seaborn as sns\n",
    "import pandas as pd\n",
    "import numpy as np\n",
    "import matplotlib.pyplot as plt\n",
    "from sklearn.feature_selection import VarianceThreshold\n",
    "from sklearn.model_selection import train_test_split\n",
    "from sklearn.model_selection import GridSearchCV\n",
    "from sklearn.neural_network import MLPRegressor\n",
    "from sklearn import metrics\n",
    "import shap"
   ]
  },
  {
   "cell_type": "code",
   "execution_count": 2,
   "id": "34c4a779-1a45-4179-b24a-333afe1ab698",
   "metadata": {},
   "outputs": [
    {
     "name": "stdout",
     "output_type": "stream",
     "text": [
      "<class 'pandas.core.frame.DataFrame'>\n",
      "RangeIndex: 68 entries, 0 to 67\n",
      "Columns: 3227 entries, Yield to mZagreb2.1\n",
      "dtypes: bool(4), float64(1675), int64(837), object(711)\n",
      "memory usage: 1.7+ MB\n"
     ]
    }
   ],
   "source": [
    "#Reading dataset\n",
    "df=pd.read_csv('mordred_desc.csv')\n",
    "df.info()"
   ]
  },
  {
   "cell_type": "code",
   "execution_count": 3,
   "id": "f445c464-43f3-4533-b25a-1d626e803528",
   "metadata": {},
   "outputs": [
    {
     "name": "stdout",
     "output_type": "stream",
     "text": [
      "<class 'pandas.core.frame.DataFrame'>\n",
      "RangeIndex: 68 entries, 0 to 67\n",
      "Columns: 2512 entries, AATS0Z to piPC9.1\n",
      "dtypes: float64(1675), int64(837)\n",
      "memory usage: 1.3 MB\n"
     ]
    }
   ],
   "source": [
    "df = df[df.columns.difference(df.select_dtypes(include=['object']).columns)]\n",
    "df = df[df.columns.difference(df.select_dtypes(include=['bool']).columns)]\n",
    "df.info()"
   ]
  },
  {
   "cell_type": "code",
   "execution_count": 4,
   "id": "393056b6-37d4-4f49-88cc-2350d4f61824",
   "metadata": {},
   "outputs": [
    {
     "name": "stdout",
     "output_type": "stream",
     "text": [
      "There were 678 variables with zero variance\n",
      "the number of variable is: [ 264  290  294  438  460  476  478  480  482  484  486  488  490  492\n",
      "  494  496  690  692  694  696  698  700  702  704  706  708  710  712\n",
      "  800  802  804  805  806  809  810  812  813  814  816  838  842  860\n",
      "  879  880  912 1029 1030 1040 1042 1044 1046 1062 1063 1073 1075 1077\n",
      " 1079 1242 1246 1254 1268 1270 1311 1312 1313 1314 1315 1316 1317 1318\n",
      " 1319 1320 1322 1325 1326 1327 1328 1329 1330 1332 1333 1334 1335 1336\n",
      " 1337 1338 1340 1341 1342 1343 1344 1345 1346 1347 1348 1350 1351 1352\n",
      " 1353 1354 1355 1356 1357 1358 1360 1364 1366 1367 1368 1369 1370 1371\n",
      " 1372 1373 1374 1375 1376 1379 1380 1381 1382 1383 1384 1385 1386 1387\n",
      " 1388 1389 1390 1391 1392 1393 1394 1395 1396 1398 1399 1400 1401 1402\n",
      " 1403 1404 1407 1408 1409 1410 1411 1412 1413 1414 1415 1416 1417 1418\n",
      " 1419 1420 1421 1422 1423 1424 1425 1426 1427 1428 1429 1430 1431 1432\n",
      " 1433 1434 1435 1436 1437 1438 1439 1440 1441 1442 1443 1444 1446 1447\n",
      " 1448 1449 1450 1451 1452 1453 1454 1455 1456 1457 1458 1459 1460 1461\n",
      " 1462 1464 1466 1470 1473 1476 1480 1482 1483 1484 1492 1538 1539 1540\n",
      " 1541 1542 1544 1549 1550 1552 1555 1556 1559 1560 1563 1564 1567 1568\n",
      " 1575 1576 1577 1578 1579 1580 1581 1582 1583 1584 1586 1589 1590 1593\n",
      " 1594 1595 1596 1599 1600 1601 1602 1603 1604 1606 1607 1608 1609 1610\n",
      " 1611 1612 1613 1614 1616 1617 1618 1619 1620 1621 1622 1628 1630 1636\n",
      " 1638 1642 1644 1645 1646 1753 1754 1756 1760 1762 1763 1764 1765 1766\n",
      " 1767 1768 1769 1770 1771 1772 1775 1776 1777 1778 1779 1780 1781 1782\n",
      " 1783 1784 1785 1786 1789 1790 1791 1792 1793 1794 1796 1797 1798 1799\n",
      " 1800 1801 1802 1805 1806 1807 1808 1809 1810 1811 1812 1813 1814 1815\n",
      " 1816 1817 1818 1819 1820 1821 1822 1823 1824 1825 1826 1827 1828 1829\n",
      " 1830 1831 1832 1833 1834 1835 1836 1837 1838 1839 1840 1841 1842 1844\n",
      " 1845 1846 1847 1848 1849 1850 1851 1852 1853 1854 1855 1856 1857 1858\n",
      " 1859 1860 1862 1864 2024 2026 2029 2030 2032 2046 2048 2054 2056 2057\n",
      " 2058 2059 2060 2061 2062 2063 2064 2065 2066 2067 2068 2150 2151 2152\n",
      " 2153 2154 2155 2156 2157 2158 2159 2161 2162 2163 2165 2166 2167 2168\n",
      " 2169 2170 2171 2172 2173 2174 2175 2176 2177 2178 2179 2180 2181 2182\n",
      " 2183 2184 2185 2186 2187 2188 2189 2190 2191 2192 2193 2194 2195 2196\n",
      " 2197 2198 2199 2200 2201 2202 2203 2204 2205 2206 2207 2208 2209 2210\n",
      " 2211 2212 2213 2214 2215 2216 2217 2218 2219 2220 2221 2222 2223 2224\n",
      " 2225 2226 2227 2228 2229 2230 2231 2232 2233 2234 2235 2236 2237 2238\n",
      " 2239 2240 2241 2242 2243 2244 2245 2246 2247 2248 2249 2250 2251 2252\n",
      " 2253 2254 2255 2256 2257 2258 2259 2260 2261 2262 2263 2264 2265 2266\n",
      " 2267 2268 2269 2270 2271 2272 2273 2274 2275 2276 2277 2278 2279 2280\n",
      " 2281 2282 2283 2284 2285 2286 2287 2288 2289 2290 2291 2292 2293 2294\n",
      " 2295 2296 2297 2298 2299 2302 2303 2306 2307 2308 2309 2310 2311 2312\n",
      " 2313 2314 2315 2316 2317 2318 2319 2320 2321 2322 2323 2324 2325 2326\n",
      " 2327 2328 2329 2330 2331 2332 2333 2334 2335 2336 2337 2338 2339 2340\n",
      " 2341 2342 2343 2344 2345 2346 2347 2348 2349 2350 2351 2352 2353 2354\n",
      " 2355 2356 2357 2358 2359 2360 2361 2362 2363 2364 2365 2366 2367 2368\n",
      " 2369 2370 2371 2372 2373 2374 2375 2376 2377 2378 2379 2380 2381 2382\n",
      " 2390 2391 2392 2393 2399 2411 2413 2414 2415 2419 2421 2422 2423 2424\n",
      " 2425 2426 2427 2429 2430 2431 2433 2434 2435 2436 2437 2438 2439 2440\n",
      " 2441 2442 2443 2444 2445 2446 2447 2448 2449 2450 2451 2452 2453 2454\n",
      " 2455 2456 2457 2464 2465 2470 2471 2473 2476 2477 2482 2483 2484 2485\n",
      " 2487 2488 2489 2495 2509 2511]\n",
      "remove them\n",
      "\n",
      "<class 'pandas.core.frame.DataFrame'>\n",
      "RangeIndex: 68 entries, 0 to 67\n",
      "Columns: 1834 entries, AATS0Z to piPC9\n",
      "dtypes: float64(1675), int64(159)\n",
      "memory usage: 974.4 KB\n"
     ]
    }
   ],
   "source": [
    "#Preparing\n",
    "\n",
    "# delete variables with zero variance\n",
    "Var0Variable = np.where( df.var(axis=0) == 0 )\n",
    "if len(Var0Variable[0]) == 0:\n",
    "    print( \"There is no variable with zero variance.\" )\n",
    "    print( \"\" )\n",
    "else:\n",
    "    print( \"There were {0} variables with zero variance\".format(len(Var0Variable[0])))\n",
    "    print( \"the number of variable is: {0}\".format(Var0Variable[0]) )\n",
    "    print( \"remove them\" )\n",
    "    print( \"\" )\n",
    "    #df_var0 = np.delete(df, Var0Variable, 1)    \n",
    "    df_var0 = df.drop(df.columns[Var0Variable], axis=1)\n",
    "\n",
    "#removal of columns which data has all 0\n",
    "def remove_all_zero_col(df):\n",
    "    df = df.copy()\n",
    "    for col in df.columns:\n",
    "        if (df[col] == 0).all():\n",
    "            df.drop(col, axis=1, inplace=True)\n",
    "    return df\n",
    "df_var0 = remove_all_zero_col(df_var0)\n",
    "df_var0.info()"
   ]
  },
  {
   "cell_type": "code",
   "execution_count": 5,
   "id": "f5727393-0e7e-43fd-b7d6-f45dd303a015",
   "metadata": {},
   "outputs": [
    {
     "name": "stdout",
     "output_type": "stream",
     "text": [
      "---Descriptors---\n",
      "      AATS0Z   AATS0Z.1  AATS0are  AATS0are.1    AATS0d  AATS0d.1   AATS0dv  \\\n",
      "0  25.000000  38.153846  6.502857    6.721046  3.000000  2.076923  8.428571   \n",
      "1  25.000000  60.000000  6.502857    7.930514  3.000000  2.142857  8.428571   \n",
      "2  25.000000  36.000000  6.502857    6.257725  3.000000  2.937500  8.428571   \n",
      "3  25.000000  59.333333  6.502857    7.210600  3.000000  1.500000  8.428571   \n",
      "4  22.823529  38.153846  6.292353    6.721046  2.941176  2.076923  7.411765   \n",
      "\n",
      "   AATS0dv.1      AATS0i    AATS0i.1  ...     piPC4   piPC4.1    piPC5  \\\n",
      "0   8.476733  160.083901  170.333600  ...  3.803881  0.693147  4.20189   \n",
      "1  12.313933  160.083901  174.439640  ...  3.803881  0.000000  4.20189   \n",
      "2   7.637346  160.083901  158.503934  ...  3.803881  3.944006  4.20189   \n",
      "3  10.185185  160.083901  172.604366  ...  3.803881  0.000000  4.20189   \n",
      "4   8.476733  161.047311  170.333600  ...  3.986667  0.693147  4.42709   \n",
      "\n",
      "    piPC5.1     piPC6   piPC6.1     piPC7   piPC7.1  piPC8  piPC9  \n",
      "0  0.000000  3.446011  0.000000  2.151035  0.000000    0.0    0.0  \n",
      "1  0.000000  3.446011  0.000000  2.151035  0.000000    0.0    0.0  \n",
      "2  4.342993  3.446011  3.840795  2.151035  3.840795    0.0    0.0  \n",
      "3  0.000000  3.446011  0.000000  2.151035  0.000000    0.0    0.0  \n",
      "4  0.000000  3.944006  0.000000  2.151035  0.000000    0.0    0.0  \n",
      "\n",
      "[5 rows x 1833 columns]\n",
      "---Objective---\n",
      "   Yield\n",
      "0     80\n",
      "1      7\n",
      "2      3\n",
      "3     48\n",
      "4     99\n"
     ]
    }
   ],
   "source": [
    "#Building descriptors\n",
    "X = df_var0.drop(columns=['Yield'])\n",
    "\n",
    "print('---Descriptors---')\n",
    "print(X.head())\n",
    "\n",
    "y = pd.DataFrame(df_var0['Yield'],columns=['Yield'])\n",
    "print('---Objective---')\n",
    "print(y.head())"
   ]
  },
  {
   "cell_type": "code",
   "execution_count": 6,
   "id": "d297d437-fe3c-4780-a08e-fd7b7e8c1387",
   "metadata": {},
   "outputs": [
    {
     "name": "stdout",
     "output_type": "stream",
     "text": [
      "----------------------\n",
      "seed: 0\n",
      "X_dim. 1833\n",
      "Best Model Parameter: {'alpha': 3, 'hidden_layer_sizes': (32, 32, 32, 32), 'learning_rate_init': 0.003, 'max_iter': 5000}\n",
      "Best Model Score: 0.5941736092300538\n",
      "R2_test: 0.7742550103527324\n",
      "----------------------\n",
      "seed: 1\n",
      "X_dim. 1833\n",
      "Best Model Parameter: {'alpha': 5, 'hidden_layer_sizes': (32, 32, 32, 32), 'learning_rate_init': 0.003, 'max_iter': 5000}\n",
      "Best Model Score: 0.77298894955616\n",
      "R2_test: 0.828932048597568\n",
      "----------------------\n",
      "seed: 2\n",
      "X_dim. 1833\n",
      "Best Model Parameter: {'alpha': 5, 'hidden_layer_sizes': (32, 32, 32, 32), 'learning_rate_init': 0.003, 'max_iter': 5000}\n",
      "Best Model Score: 0.7094422557031629\n",
      "R2_test: 0.8617488635125716\n",
      "----------------------\n",
      "seed: 3\n",
      "X_dim. 1833\n",
      "Best Model Parameter: {'alpha': 2, 'hidden_layer_sizes': (32, 32, 32, 32), 'learning_rate_init': 0.003, 'max_iter': 5000}\n",
      "Best Model Score: 0.6601051291300226\n",
      "R2_test: 0.8367286601334667\n",
      "----------------------\n",
      "seed: 4\n",
      "X_dim. 1833\n",
      "Best Model Parameter: {'alpha': 1, 'hidden_layer_sizes': (32, 32, 32, 32), 'learning_rate_init': 0.003, 'max_iter': 5000}\n",
      "Best Model Score: 0.8151363458285245\n",
      "R2_test: 0.8106132586174983\n",
      "----------------------\n",
      "seed: 5\n",
      "X_dim. 1833\n",
      "Best Model Parameter: {'alpha': 1, 'hidden_layer_sizes': (32, 32, 32, 32), 'learning_rate_init': 0.003, 'max_iter': 5000}\n",
      "Best Model Score: 0.5381717250559087\n",
      "R2_test: 0.9101878262015429\n",
      "----------------------\n",
      "seed: 6\n",
      "X_dim. 1831\n",
      "Best Model Parameter: {'alpha': 1, 'hidden_layer_sizes': (32, 32, 32, 32), 'learning_rate_init': 0.003, 'max_iter': 5000}\n",
      "Best Model Score: 0.674512572302562\n",
      "R2_test: 0.8447087603771057\n",
      "----------------------\n",
      "seed: 7\n",
      "X_dim. 1833\n",
      "Best Model Parameter: {'alpha': 3, 'hidden_layer_sizes': (32, 32, 32, 32), 'learning_rate_init': 0.003, 'max_iter': 5000}\n",
      "Best Model Score: 0.8075495420271747\n",
      "R2_test: 0.7300508351892948\n",
      "----------------------\n",
      "seed: 8\n",
      "X_dim. 1833\n",
      "Best Model Parameter: {'alpha': 1, 'hidden_layer_sizes': (32, 32, 32, 32), 'learning_rate_init': 0.003, 'max_iter': 5000}\n",
      "Best Model Score: 0.6626505205941441\n",
      "R2_test: 0.7674087936440563\n",
      "----------------------\n",
      "seed: 9\n",
      "X_dim. 1833\n",
      "Best Model Parameter: {'alpha': 3, 'hidden_layer_sizes': (400,), 'learning_rate_init': 0.003, 'max_iter': 5000}\n",
      "Best Model Score: 0.6272890837966292\n",
      "R2_test: 0.8589721454446267\n",
      "R2_train_means: 0.997671834657095\n",
      "CV_score_means: 0.6862019733224342\n",
      "R2_test_means: 0.8223606202070464\n"
     ]
    }
   ],
   "source": [
    "#storage \n",
    "data_r2_train =[]\n",
    "data_RMSE_train = []\n",
    "data_MAE_train = []\n",
    "data_r2_test = []\n",
    "data_RMSE_test = []\n",
    "data_MAE_test = []\n",
    "best_model_parametors = []\n",
    "data_cv_score = []\n",
    "\n",
    "#MLP_a_X,y/10\n",
    "for i in range(10):\n",
    "    seed=i\n",
    "    X_train, X_test, y_train, y_test = train_test_split(X, y, test_size=0.3, random_state=seed)\n",
    "    \n",
    "    #autoscaling\n",
    "    a_X_train = (X_train - X_train.mean(axis=0)) / X_train.std(axis=0, ddof=1)\n",
    "    a_X_test = (X_test - X_train.mean(axis=0)) / X_train.std(axis=0, ddof=1) \n",
    "    a_X_train=a_X_train.dropna(axis=1)\n",
    "    a_X_test=a_X_test[a_X_train.columns]\n",
    "    \n",
    "    a_y_train = y_train / 10\n",
    "\n",
    "    param_mlp={'hidden_layer_sizes':[(32,32,32,32,),(400,)], 'alpha':[1,2,3,4,5], 'max_iter':[5000],\n",
    "               'learning_rate_init':[0.003,0.03]}\n",
    "    \n",
    "    reg_mlp = GridSearchCV(MLPRegressor(random_state=0), param_grid=param_mlp, cv=5, n_jobs=3)\n",
    "    reg_mlp.fit(a_X_train,a_y_train['Yield'])\n",
    "    reg_best = reg_mlp.best_estimator_\n",
    "    y_pred1 = reg_best.predict(a_X_train)*10\n",
    "    y_pred2 = reg_best.predict(a_X_test)*10\n",
    "            \n",
    "    #train\n",
    "    r2_train = metrics.r2_score(y_train, y_pred1)\n",
    "    RMSE_train = metrics.mean_squared_error(y_train, y_pred1)\n",
    "    MAE_train =  metrics.mean_absolute_error(y_train, y_pred1)\n",
    "    \n",
    "    #test\n",
    "    r2_test = metrics.r2_score(y_test, y_pred2)\n",
    "    RMSE_test = metrics.mean_squared_error(y_test, y_pred2)\n",
    "    MAE_test = metrics.mean_absolute_error(y_test, y_pred2)\n",
    "    \n",
    "    data_r2_train.append(r2_train)\n",
    "    data_RMSE_train.append(RMSE_train)\n",
    "    data_MAE_train.append(MAE_train)\n",
    "    data_r2_test.append(r2_test)\n",
    "    data_RMSE_test.append(RMSE_test)\n",
    "    data_MAE_test.append(MAE_test)\n",
    "    data_cv_score.append(reg_mlp.best_score_)\n",
    "\n",
    "    print('----------------------')\n",
    "    print('seed:', seed)\n",
    "    print('X_dim.',len(a_X_train.columns))\n",
    "    print(\"Best Model Parameter:\",reg_mlp.best_params_)\n",
    "    print(\"Best Model Score:\",reg_mlp.best_score_)\n",
    "    print('R2_test:', r2_test)\n",
    "print('R2_train_means:', sum(data_r2_train)/10)\n",
    "print('CV_score_means:', sum(data_cv_score)/10)\n",
    "print('R2_test_means:', sum(data_r2_test)/10)"
   ]
  },
  {
   "cell_type": "code",
   "execution_count": 7,
   "id": "84215127-da8f-43c4-9e71-01d731f29194",
   "metadata": {
    "tags": []
   },
   "outputs": [
    {
     "name": "stdout",
     "output_type": "stream",
     "text": [
      "      r2_train  MSE_train  MAE_train   r2_test    MSE_test   MAE_test  \\\n",
      "0     0.998401   1.178659   0.845319  0.774255  295.263185  11.075887   \n",
      "1     0.998288   1.547866   0.973865  0.828932  165.738855   9.193094   \n",
      "2     0.998758   1.149176   0.781987  0.861749  133.697313   7.851335   \n",
      "3     0.999001   0.931680   0.760319  0.836729  156.699021   8.836942   \n",
      "4     0.999111   0.766234   0.658530  0.810613  201.379517   9.346980   \n",
      "5     0.997397   2.108018   1.069657  0.910188  109.229932   5.883333   \n",
      "6     0.998894   0.907919   0.703059  0.844709  186.886845   8.724439   \n",
      "7     0.998798   1.150053   0.834742  0.730051  244.711060   9.348561   \n",
      "8     0.988180  10.403382   2.244092  0.767409  229.854963  10.651402   \n",
      "9     0.999891   0.110400   0.199008  0.858972   99.376349   7.568570   \n",
      "mean  0.997672   2.025339   0.907058  0.822361  182.283704   8.848054   \n",
      "\n",
      "      cv_score  \n",
      "0     0.594174  \n",
      "1     0.772989  \n",
      "2     0.709442  \n",
      "3     0.660105  \n",
      "4     0.815136  \n",
      "5     0.538172  \n",
      "6     0.674513  \n",
      "7     0.807550  \n",
      "8     0.662651  \n",
      "9     0.627289  \n",
      "mean  0.686202  \n"
     ]
    }
   ],
   "source": [
    "data_r2_train_pd = pd.DataFrame(data= data_r2_train, columns=['r2_train'])\n",
    "data_RMSE_train_pd = pd.DataFrame(data=data_RMSE_train, columns=['MSE_train'])\n",
    "data_MAE_train_pd = pd.DataFrame(data=data_MAE_train, columns=['MAE_train'])\n",
    "data_r2_test_pd = pd.DataFrame(data=data_r2_test, columns=['r2_test'])\n",
    "data_RMSE_test_pd = pd.DataFrame(data=data_RMSE_test, columns=['MSE_test'])\n",
    "data_MAE_test_pd = pd.DataFrame(data=data_MAE_test, columns=['MAE_test'])\n",
    "data_cv_score_pd = pd.DataFrame(data=data_cv_score, columns=['cv_score'])\n",
    "data_parametors = pd.DataFrame([best_model_parametors])\n",
    "        \n",
    "data_all = pd.concat([data_r2_train_pd, data_RMSE_train_pd, data_MAE_train_pd, data_r2_test_pd, data_RMSE_test_pd, data_MAE_test_pd, data_cv_score_pd], \n",
    "                     axis=1, join='inner')\n",
    "data_all.loc['mean'] = data_all.mean()\n",
    "print(data_all)\n",
    "data_all.to_csv('../../score/Mordred/MLP_score.csv')"
   ]
  },
  {
   "cell_type": "code",
   "execution_count": 8,
   "id": "3a890b16-e8e9-4e47-bcc9-f4dd857b47dc",
   "metadata": {
    "tags": []
   },
   "outputs": [
    {
     "name": "stdout",
     "output_type": "stream",
     "text": [
      "R2_train: 0.9973966671295981\n",
      "R2_test: 0.9101878262015429\n"
     ]
    }
   ],
   "source": [
    "seed=5\n",
    "X_train, X_test, y_train, y_test = train_test_split(X, y, test_size=0.3, random_state=seed)\n",
    "\n",
    "#autoscaling\n",
    "a_X_train = (X_train - X_train.mean(axis=0)) / X_train.std(axis=0, ddof=1)\n",
    "a_X_test = (X_test - X_train.mean(axis=0)) / X_train.std(axis=0, ddof=1) \n",
    "a_X_train=a_X_train.dropna(axis=1)\n",
    "a_X_test=a_X_test[a_X_train.columns]\n",
    "a_y_train = y_train / 10\n",
    "\n",
    "param_mlp={'hidden_layer_sizes':[(32,32,32,32,),(400,)], 'alpha':[1,2,3,4,5], 'max_iter':[5000],\n",
    "           'learning_rate_init':[0.003,0.03]}\n",
    "    \n",
    "reg_mlp = GridSearchCV(MLPRegressor(random_state=0), param_grid=param_mlp, cv=5, n_jobs=2)\n",
    "reg_mlp.fit(a_X_train,a_y_train['Yield'])\n",
    "reg_best = reg_mlp.best_estimator_\n",
    "y_pred1 = reg_best.predict(a_X_train)*10\n",
    "y_pred2 = reg_best.predict(a_X_test)*10\n",
    "            \n",
    "#train\n",
    "r2_train = metrics.r2_score(y_train, y_pred1)\n",
    "RMSE_train = metrics.mean_squared_error(y_train, y_pred1)\n",
    "MAE_train =  metrics.mean_absolute_error(y_train, y_pred1)\n",
    "#test\n",
    "r2_test = metrics.r2_score(y_test, y_pred2)\n",
    "RMSE_test = metrics.mean_squared_error(y_test, y_pred2)\n",
    "MAE_test = metrics.mean_absolute_error(y_test, y_pred2)\n",
    "print('R2_train:', r2_train)\n",
    "print('R2_test:', r2_test)"
   ]
  },
  {
   "cell_type": "code",
   "execution_count": 9,
   "id": "b44bf344-4a42-458a-a6fc-d2c985cc1845",
   "metadata": {
    "tags": []
   },
   "outputs": [
    {
     "data": {
      "application/vnd.jupyter.widget-view+json": {
       "model_id": "3b17a5f2042342baa09466434265358a",
       "version_major": 2,
       "version_minor": 0
      },
      "text/plain": [
       "  0%|          | 0/47 [00:00<?, ?it/s]"
      ]
     },
     "metadata": {},
     "output_type": "display_data"
    },
    {
     "data": {
      "image/png": "[encoded data removed]",
      "text/plain": [
       "<Figure size 600x400 with 2 Axes>"
      ]
     },
     "metadata": {},
     "output_type": "display_data"
    }
   ],
   "source": [
    "# explain all the predictions in the test set\n",
    "explainer = shap.KernelExplainer(reg_best.predict, a_X_train)\n",
    "shap_values = explainer.shap_values(a_X_train)\n",
    "shap.summary_plot(shap_values, a_X_train,max_display=6, plot_size=(6,4))"
   ]
  },
  {
   "cell_type": "code",
   "execution_count": null,
   "id": "2ac4f513-94d8-4769-827a-1db6d31d9184",
   "metadata": {},
   "outputs": [],
   "source": []
  }
 ],
 "metadata": {
  "kernelspec": {
   "display_name": "Python 3 (ipykernel)",
   "language": "python",
   "name": "python3"
  },
  "language_info": {
   "codemirror_mode": {
    "name": "ipython",
    "version": 3
   },
   "file_extension": ".py",
   "mimetype": "text/x-python",
   "name": "python",
   "nbconvert_exporter": "python",
   "pygments_lexer": "ipython3",
   "version": "3.8.18"
  }
 },
 "nbformat": 4,
 "nbformat_minor": 5
}
