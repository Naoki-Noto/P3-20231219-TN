{
 "cells": [
  {
   "cell_type": "code",
   "execution_count": 1,
   "id": "8701d27d-a30f-4c3f-ad87-1c6986a7b839",
   "metadata": {},
   "outputs": [],
   "source": [
    "#import\n",
    "import seaborn as sns\n",
    "import pandas as pd\n",
    "import numpy as np\n",
    "import matplotlib.pyplot as plt\n",
    "from sklearn.feature_selection import VarianceThreshold\n",
    "from sklearn.model_selection import train_test_split\n",
    "from sklearn.model_selection import GridSearchCV\n",
    "from sklearn.neural_network import MLPRegressor\n",
    "from sklearn import metrics\n",
    "import shap"
   ]
  },
  {
   "cell_type": "code",
   "execution_count": 2,
   "id": "34c4a779-1a45-4179-b24a-333afe1ab698",
   "metadata": {},
   "outputs": [
    {
     "name": "stdout",
     "output_type": "stream",
     "text": [
      "<class 'pandas.core.frame.DataFrame'>\n",
      "RangeIndex: 68 entries, 0 to 67\n",
      "Columns: 419 entries, Cate_name to Yield\n",
      "dtypes: float64(172), int64(245), object(2)\n",
      "memory usage: 222.7+ KB\n"
     ]
    }
   ],
   "source": [
    "#Reading dataset\n",
    "df=pd.read_csv('RDKit.csv')\n",
    "df.info()"
   ]
  },
  {
   "cell_type": "code",
   "execution_count": 3,
   "id": "393056b6-37d4-4f49-88cc-2350d4f61824",
   "metadata": {},
   "outputs": [
    {
     "name": "stdout",
     "output_type": "stream",
     "text": [
      "There were 199 variables with zero variance\n",
      "the number of variable is: [  9  48  54  62  63  67  80  84 100 107 108 109 111 117 118 119 123 126\n",
      " 127 128 129 131 132 135 136 137 139 140 141 142 143 144 145 146 147 148\n",
      " 149 150 151 152 154 155 156 158 160 161 162 165 166 168 169 170 171 172\n",
      " 173 175 176 177 179 184 185 186 190 191 192 193 194 195 196 197 198 199\n",
      " 200 201 202 203 204 205 206 207 217 254 257 260 261 262 266 269 270 271\n",
      " 272 275 276 278 279 283 284 286 287 288 292 293 295 302 305 306 308 309\n",
      " 315 316 317 319 325 326 327 331 332 333 334 335 336 337 338 339 340 341\n",
      " 342 343 344 345 346 347 348 349 350 351 352 353 354 355 356 357 358 359\n",
      " 360 361 362 363 364 366 367 368 369 370 371 372 373 374 375 376 377 378\n",
      " 379 380 381 382 383 384 385 386 387 388 389 390 391 392 393 394 395 396\n",
      " 397 398 399 400 401 402 403 404 405 406 407 408 409 410 411 412 413 414\n",
      " 415]\n",
      "remove them\n",
      "\n",
      "<class 'pandas.core.frame.DataFrame'>\n",
      "RangeIndex: 68 entries, 0 to 67\n",
      "Columns: 163 entries, Cate_name to Yield\n",
      "dtypes: float64(140), int64(21), object(2)\n",
      "memory usage: 86.7+ KB\n"
     ]
    }
   ],
   "source": [
    "#Preparing\n",
    "\n",
    "# delete variables with zero variance\n",
    "Var0Variable = np.where( df.var(axis=0) == 0 )\n",
    "if len(Var0Variable[0]) == 0:\n",
    "    print( \"There is no variable with zero variance.\" )\n",
    "    print( \"\" )\n",
    "else:\n",
    "    print( \"There were {0} variables with zero variance\".format(len(Var0Variable[0])))\n",
    "    print( \"the number of variable is: {0}\".format(Var0Variable[0]) )\n",
    "    print( \"remove them\" )\n",
    "    print( \"\" )\n",
    "    #df_var0 = np.delete(df, Var0Variable, 1)    \n",
    "    df_var0 = df.drop(df.columns[Var0Variable], axis=1)\n",
    "\n",
    "#removal of columns which data has all 0\n",
    "def remove_all_zero_col(df):\n",
    "    df = df.copy()\n",
    "    for col in df.columns:\n",
    "        if (df[col] == 0).all():\n",
    "            df.drop(col, axis=1, inplace=True)\n",
    "    return df\n",
    "df_var0 = remove_all_zero_col(df_var0)\n",
    "df_var0.info()"
   ]
  },
  {
   "cell_type": "code",
   "execution_count": 4,
   "id": "f5727393-0e7e-43fd-b7d6-f45dd303a015",
   "metadata": {},
   "outputs": [
    {
     "name": "stdout",
     "output_type": "stream",
     "text": [
      "---Descriptors---\n",
      "   Cate_MaxEStateIndex  Cate_MinEStateIndex  Cate_MaxAbsEStateIndex  \\\n",
      "0             8.669259            -0.076389                8.669259   \n",
      "1             8.669259            -0.076389                8.669259   \n",
      "2             8.669259            -0.076389                8.669259   \n",
      "3             8.669259            -0.076389                8.669259   \n",
      "4             8.850093            -0.068889                8.850093   \n",
      "\n",
      "   Cate_MinAbsEStateIndex  Cate_qed  Cate_MolWt  Cate_HeavyAtomMolWt  \\\n",
      "0                0.076389  0.490728     110.112              104.064   \n",
      "1                0.076389  0.490728     110.112              104.064   \n",
      "2                0.076389  0.490728     110.112              104.064   \n",
      "3                0.076389  0.490728     110.112              104.064   \n",
      "4                0.060185  0.513122     124.139              116.075   \n",
      "\n",
      "   Cate_NumValenceElectrons  Cate_MaxPartialCharge  Cate_MinPartialCharge  \\\n",
      "0                        42               0.156883               -0.50426   \n",
      "1                        42               0.156883               -0.50426   \n",
      "2                        42               0.156883               -0.50426   \n",
      "3                        42               0.156883               -0.50426   \n",
      "4                        48               0.157152               -0.50426   \n",
      "\n",
      "   ...  P_EState_VSA8  P_VSA_EState1  P_VSA_EState9  P_FractionCSP3  \\\n",
      "0  ...       9.047494      18.368056       0.557870               1   \n",
      "1  ...       0.000000       8.740741      -3.129630               0   \n",
      "2  ...       0.000000      10.386111      -2.462202               0   \n",
      "3  ...       0.000000       8.569444      -1.500000               0   \n",
      "4  ...       9.047494      18.368056       0.557870               1   \n",
      "\n",
      "   P_HeavyAtomCount  P_NumAromaticCarbocycles  P_NumAromaticRings  \\\n",
      "0                 6                         0                   0   \n",
      "1                 4                         0                   0   \n",
      "2                 9                         1                   1   \n",
      "3                 3                         0                   0   \n",
      "4                 6                         0                   0   \n",
      "\n",
      "   P_NumHAcceptors  P_NumHDonors  P_RingCount  \n",
      "0                3             0            0  \n",
      "1                1             2            0  \n",
      "2                1             1            1  \n",
      "3                1             1            0  \n",
      "4                3             0            0  \n",
      "\n",
      "[5 rows x 160 columns]\n",
      "---Objective---\n",
      "   Yield\n",
      "0     80\n",
      "1      7\n",
      "2      3\n",
      "3     48\n",
      "4     99\n"
     ]
    }
   ],
   "source": [
    "#Building descriptors\n",
    "X = df_var0.drop(columns=['Yield', 'Cate_name', 'P_name'])\n",
    "\n",
    "print('---Descriptors---')\n",
    "print(X.head())\n",
    "\n",
    "y = pd.DataFrame(df_var0['Yield'],columns=['Yield'])\n",
    "print('---Objective---')\n",
    "print(y.head())"
   ]
  },
  {
   "cell_type": "code",
   "execution_count": 5,
   "id": "d297d437-fe3c-4780-a08e-fd7b7e8c1387",
   "metadata": {},
   "outputs": [
    {
     "name": "stdout",
     "output_type": "stream",
     "text": [
      "----------------------\n",
      "seed: 0\n",
      "Best Model Parameter: {'alpha': 1, 'hidden_layer_sizes': (400,), 'learning_rate_init': 0.03, 'max_iter': 5000}\n",
      "Best Model Score: 0.7719565410258403\n",
      "R2_test: 0.8057306882569704\n",
      "----------------------\n",
      "seed: 1\n",
      "Best Model Parameter: {'alpha': 1, 'hidden_layer_sizes': (400,), 'learning_rate_init': 0.03, 'max_iter': 5000}\n",
      "Best Model Score: 0.8559346523048517\n",
      "R2_test: 0.8238961091051971\n",
      "----------------------\n",
      "seed: 2\n",
      "Best Model Parameter: {'alpha': 4, 'hidden_layer_sizes': (400,), 'learning_rate_init': 0.03, 'max_iter': 5000}\n",
      "Best Model Score: 0.7285698861426119\n",
      "R2_test: 0.8943006289616712\n",
      "----------------------\n",
      "seed: 3\n",
      "Best Model Parameter: {'alpha': 1, 'hidden_layer_sizes': (32, 32, 32, 32), 'learning_rate_init': 0.03, 'max_iter': 5000}\n",
      "Best Model Score: 0.6400915389594827\n",
      "R2_test: 0.8515983585545044\n",
      "----------------------\n",
      "seed: 4\n",
      "Best Model Parameter: {'alpha': 1, 'hidden_layer_sizes': (32, 32, 32, 32), 'learning_rate_init': 0.03, 'max_iter': 5000}\n",
      "Best Model Score: 0.8509982189693286\n",
      "R2_test: 0.8468972348271568\n",
      "----------------------\n",
      "seed: 5\n",
      "Best Model Parameter: {'alpha': 5, 'hidden_layer_sizes': (400,), 'learning_rate_init': 0.03, 'max_iter': 5000}\n",
      "Best Model Score: 0.5793246347977948\n",
      "R2_test: 0.8963768622021216\n",
      "----------------------\n",
      "seed: 6\n",
      "Best Model Parameter: {'alpha': 1, 'hidden_layer_sizes': (400,), 'learning_rate_init': 0.03, 'max_iter': 5000}\n",
      "Best Model Score: 0.7841666103661338\n",
      "R2_test: 0.8000347893892601\n",
      "----------------------\n",
      "seed: 7\n",
      "Best Model Parameter: {'alpha': 4, 'hidden_layer_sizes': (400,), 'learning_rate_init': 0.03, 'max_iter': 5000}\n",
      "Best Model Score: 0.7691706085252955\n",
      "R2_test: 0.7780214037147459\n",
      "----------------------\n",
      "seed: 8\n",
      "Best Model Parameter: {'alpha': 1, 'hidden_layer_sizes': (400,), 'learning_rate_init': 0.03, 'max_iter': 5000}\n",
      "Best Model Score: 0.7329570424440278\n",
      "R2_test: 0.844087912877134\n",
      "----------------------\n",
      "seed: 9\n",
      "Best Model Parameter: {'alpha': 1, 'hidden_layer_sizes': (32, 32, 32, 32), 'learning_rate_init': 0.03, 'max_iter': 5000}\n",
      "Best Model Score: 0.7020732004693402\n",
      "R2_test: 0.762257812244548\n",
      "R2_train_means: 0.992388266780603\n",
      "CV_score_means: 0.7415242934004708\n",
      "R2_test_means: 0.8303201800133309\n"
     ]
    }
   ],
   "source": [
    "#storage \n",
    "data_r2_train =[]\n",
    "data_RMSE_train = []\n",
    "data_MAE_train = []\n",
    "data_r2_test = []\n",
    "data_RMSE_test = []\n",
    "data_MAE_test = []\n",
    "best_model_parametors = []\n",
    "data_cv_score = []\n",
    "\n",
    "#MLP_a_X,y/10\n",
    "for i in range(10):\n",
    "    seed=i\n",
    "    X_train, X_test, y_train, y_test = train_test_split(X, y, test_size=0.3, random_state=seed)\n",
    "    \n",
    "    #autoscaling\n",
    "    a_X_train = (X_train - X_train.mean(axis=0)) / X_train.std(axis=0, ddof=1)\n",
    "    a_X_test = (X_test - X_train.mean(axis=0)) / X_train.std(axis=0, ddof=1) \n",
    "    a_y_train = y_train / 10\n",
    "    \n",
    "    param_mlp={'hidden_layer_sizes':[(32,32,32,32,),(400,)], 'alpha':[1,2,3,4,5], 'max_iter':[5000],\n",
    "               'learning_rate_init':[0.003,0.03]}\n",
    "    \n",
    "    reg_mlp = GridSearchCV(MLPRegressor(random_state=0), param_grid=param_mlp, cv=5, n_jobs=3)\n",
    "    reg_mlp.fit(a_X_train,a_y_train['Yield'])\n",
    "    reg_best = reg_mlp.best_estimator_\n",
    "    y_pred1 = reg_best.predict(a_X_train)*10\n",
    "    y_pred2 = reg_best.predict(a_X_test)*10\n",
    "            \n",
    "    #train\n",
    "    r2_train = metrics.r2_score(y_train, y_pred1)\n",
    "    RMSE_train = metrics.mean_squared_error(y_train, y_pred1)\n",
    "    MAE_train =  metrics.mean_absolute_error(y_train, y_pred1)\n",
    "    \n",
    "    #test\n",
    "    r2_test = metrics.r2_score(y_test, y_pred2)\n",
    "    RMSE_test = metrics.mean_squared_error(y_test, y_pred2)\n",
    "    MAE_test = metrics.mean_absolute_error(y_test, y_pred2)\n",
    "    \n",
    "    data_r2_train.append(r2_train)\n",
    "    data_RMSE_train.append(RMSE_train)\n",
    "    data_MAE_train.append(MAE_train)\n",
    "    data_r2_test.append(r2_test)\n",
    "    data_RMSE_test.append(RMSE_test)\n",
    "    data_MAE_test.append(MAE_test)\n",
    "    data_cv_score.append(reg_mlp.best_score_)\n",
    "\n",
    "    print('----------------------')\n",
    "    print('seed:', seed)\n",
    "    print(\"Best Model Parameter:\",reg_mlp.best_params_)\n",
    "    print(\"Best Model Score:\",reg_mlp.best_score_)\n",
    "    print('R2_test:', r2_test)\n",
    "print('R2_train_means:', sum(data_r2_train)/10)\n",
    "print('CV_score_means:', sum(data_cv_score)/10)\n",
    "print('R2_test_means:', sum(data_r2_test)/10)"
   ]
  },
  {
   "cell_type": "code",
   "execution_count": 6,
   "id": "84215127-da8f-43c4-9e71-01d731f29194",
   "metadata": {
    "tags": []
   },
   "outputs": [
    {
     "name": "stdout",
     "output_type": "stream",
     "text": [
      "      r2_train  MSE_train  MAE_train   r2_test    MSE_test   MAE_test  \\\n",
      "0     0.999653   0.255780   0.317888  0.805731  254.094568  10.726380   \n",
      "1     0.991594   7.601825   1.780877  0.823896  170.617915   9.423623   \n",
      "2     0.990558   8.735213   1.842409  0.894301  102.217763   6.223383   \n",
      "3     0.999272   0.678983   0.645284  0.851598  142.427886   8.580964   \n",
      "4     0.998093   1.644396   0.858327  0.846897  162.797885   8.395712   \n",
      "5     0.993714   5.090210   1.408979  0.896377  126.026883   7.164569   \n",
      "6     0.996233   3.091630   1.114302  0.800035  240.650196  10.410997   \n",
      "7     0.987765  11.702485   2.217998  0.778021  201.225359   8.762927   \n",
      "8     0.998395   1.412912   0.810491  0.844088  154.077910   9.839628   \n",
      "9     0.968607  31.814820   4.149200  0.762258  167.526839   6.763311   \n",
      "mean  0.992388   7.202825   1.514575  0.830320  172.166321   8.629150   \n",
      "\n",
      "      cv_score  \n",
      "0     0.771957  \n",
      "1     0.855935  \n",
      "2     0.728570  \n",
      "3     0.640092  \n",
      "4     0.850998  \n",
      "5     0.579325  \n",
      "6     0.784167  \n",
      "7     0.769171  \n",
      "8     0.732957  \n",
      "9     0.702073  \n",
      "mean  0.741524  \n"
     ]
    }
   ],
   "source": [
    "data_r2_train_pd = pd.DataFrame(data= data_r2_train, columns=['r2_train'])\n",
    "data_RMSE_train_pd = pd.DataFrame(data=data_RMSE_train, columns=['MSE_train'])\n",
    "data_MAE_train_pd = pd.DataFrame(data=data_MAE_train, columns=['MAE_train'])\n",
    "data_r2_test_pd = pd.DataFrame(data=data_r2_test, columns=['r2_test'])\n",
    "data_RMSE_test_pd = pd.DataFrame(data=data_RMSE_test, columns=['MSE_test'])\n",
    "data_MAE_test_pd = pd.DataFrame(data=data_MAE_test, columns=['MAE_test'])\n",
    "data_cv_score_pd = pd.DataFrame(data=data_cv_score, columns=['cv_score'])\n",
    "data_parametors = pd.DataFrame([best_model_parametors])\n",
    "        \n",
    "data_all = pd.concat([data_r2_train_pd, data_RMSE_train_pd, data_MAE_train_pd, data_r2_test_pd, data_RMSE_test_pd, data_MAE_test_pd, data_cv_score_pd], \n",
    "                     axis=1, join='inner')\n",
    "data_all.loc['mean'] = data_all.mean()\n",
    "print(data_all)\n",
    "\n",
    "data_all.to_csv('../../score/RDKit/MLP_score.csv')"
   ]
  },
  {
   "cell_type": "code",
   "execution_count": 7,
   "id": "06d8b0c3-eacf-4967-a8a6-bd4b059dd615",
   "metadata": {},
   "outputs": [
    {
     "name": "stdout",
     "output_type": "stream",
     "text": [
      "R2_train: 0.9992720324656357\n",
      "R2_test: 0.8515983585545044\n"
     ]
    }
   ],
   "source": [
    "seed=3\n",
    "X_train, X_test, y_train, y_test = train_test_split(X, y, test_size=0.3, random_state=seed)\n",
    "\n",
    "#autoscaling\n",
    "a_X_train = (X_train - X_train.mean(axis=0)) / X_train.std(axis=0, ddof=1)\n",
    "a_X_test = (X_test - X_train.mean(axis=0)) / X_train.std(axis=0, ddof=1) \n",
    "    \n",
    "a_y_train = y_train / 10\n",
    "\n",
    "param_mlp={'hidden_layer_sizes':[(32,32,32,32,),(400,)], 'alpha':[1,2,3,4,5], 'max_iter':[5000],\n",
    "           'learning_rate_init':[0.003,0.03]}\n",
    "    \n",
    "reg_mlp = GridSearchCV(MLPRegressor(random_state=0), param_grid=param_mlp, cv=5, n_jobs=2)\n",
    "reg_mlp.fit(a_X_train,a_y_train['Yield'])\n",
    "reg_best = reg_mlp.best_estimator_\n",
    "y_pred1 = reg_best.predict(a_X_train)*10\n",
    "y_pred2 = reg_best.predict(a_X_test)*10\n",
    "            \n",
    "#train\n",
    "r2_train = metrics.r2_score(y_train, y_pred1)\n",
    "RMSE_train = metrics.mean_squared_error(y_train, y_pred1)\n",
    "MAE_train =  metrics.mean_absolute_error(y_train, y_pred1)\n",
    "#test\n",
    "r2_test = metrics.r2_score(y_test, y_pred2)\n",
    "RMSE_test = metrics.mean_squared_error(y_test, y_pred2)\n",
    "MAE_test = metrics.mean_absolute_error(y_test, y_pred2)\n",
    "print('R2_train:', r2_train)\n",
    "print('R2_test:', r2_test)"
   ]
  },
  {
   "cell_type": "code",
   "execution_count": 8,
   "id": "51957258-1938-4583-a17b-8a3e62af1281",
   "metadata": {
    "tags": []
   },
   "outputs": [
    {
     "data": {
      "application/vnd.jupyter.widget-view+json": {
       "model_id": "d0d52f6da92147b6be99b92506eb3f41",
       "version_major": 2,
       "version_minor": 0
      },
      "text/plain": [
       "  0%|          | 0/47 [00:00<?, ?it/s]"
      ]
     },
     "metadata": {},
     "output_type": "display_data"
    },
    {
     "data": {
      "image/png": "[encoded data removed]",
      "text/plain": [
       "<Figure size 600x400 with 2 Axes>"
      ]
     },
     "metadata": {},
     "output_type": "display_data"
    }
   ],
   "source": [
    "# explain all the predictions in the test set\n",
    "explainer = shap.KernelExplainer(reg_best.predict, a_X_train)\n",
    "shap_values = explainer.shap_values(a_X_train)\n",
    "shap.summary_plot(shap_values, X_train,max_display=6, plot_size=(6,4))"
   ]
  },
  {
   "cell_type": "code",
   "execution_count": null,
   "id": "74cbdd05-a25d-4f15-8c64-16dbe463430a",
   "metadata": {},
   "outputs": [],
   "source": []
  }
 ],
 "metadata": {
  "kernelspec": {
   "display_name": "Python 3 (ipykernel)",
   "language": "python",
   "name": "python3"
  },
  "language_info": {
   "codemirror_mode": {
    "name": "ipython",
    "version": 3
   },
   "file_extension": ".py",
   "mimetype": "text/x-python",
   "name": "python",
   "nbconvert_exporter": "python",
   "pygments_lexer": "ipython3",
   "version": "3.8.18"
  }
 },
 "nbformat": 4,
 "nbformat_minor": 5
}
