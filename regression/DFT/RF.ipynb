{
 "cells": [
  {
   "cell_type": "code",
   "execution_count": 1,
   "id": "6bced5a3-7b6b-46d0-bb14-8d7381164e98",
   "metadata": {
    "tags": []
   },
   "outputs": [],
   "source": [
    "#import\n",
    "import seaborn as sns\n",
    "import pandas as pd\n",
    "import numpy as np\n",
    "import matplotlib.pyplot as plt\n",
    "from sklearn.model_selection import train_test_split\n",
    "from sklearn.model_selection import GridSearchCV\n",
    "from sklearn.ensemble import RandomForestRegressor\n",
    "from sklearn import metrics\n",
    "import shap"
   ]
  },
  {
   "cell_type": "code",
   "execution_count": 2,
   "id": "771b9971-f7dd-432e-87e9-36eff21b7f56",
   "metadata": {
    "tags": []
   },
   "outputs": [
    {
     "name": "stdout",
     "output_type": "stream",
     "text": [
      "<class 'pandas.core.frame.DataFrame'>\n",
      "RangeIndex: 68 entries, 0 to 67\n",
      "Data columns (total 22 columns):\n",
      " #   Column             Non-Null Count  Dtype  \n",
      "---  ------             --------------  -----  \n",
      " 0   Cate_name          68 non-null     object \n",
      " 1   Cate_HOMO          68 non-null     float64\n",
      " 2   Cate_LUMO          68 non-null     float64\n",
      " 3   Cate_ESP_O1        68 non-null     float64\n",
      " 4   Cate_ESP_H1        68 non-null     float64\n",
      " 5   Cate_ESP_O2        68 non-null     float64\n",
      " 6   Cate_ESP_H2        68 non-null     float64\n",
      " 7   Cate_BL_ArO1       68 non-null     float64\n",
      " 8   Cate_BL_O1H1       68 non-null     float64\n",
      " 9   Cate_BL_ArO2       68 non-null     float64\n",
      " 10  Cate_BL_O2H2       68 non-null     float64\n",
      " 11  Cate_total_dipole  68 non-null     float64\n",
      " 12  P_name             68 non-null     object \n",
      " 13  P_HOMO             68 non-null     float64\n",
      " 14  P_LUMO             68 non-null     float64\n",
      " 15  P_ESP_P            68 non-null     float64\n",
      " 16  P_ESP_=O           68 non-null     float64\n",
      " 17  P_ESP_H            68 non-null     float64\n",
      " 18  P_BL_P=O           68 non-null     float64\n",
      " 19  P_BL_PH            68 non-null     float64\n",
      " 20  P_total_dipole     68 non-null     float64\n",
      " 21  Yield              68 non-null     int64  \n",
      "dtypes: float64(19), int64(1), object(2)\n",
      "memory usage: 11.8+ KB\n"
     ]
    }
   ],
   "source": [
    "#Reading dataset\n",
    "df=pd.read_csv('DFT_ESP.csv')\n",
    "df.info()"
   ]
  },
  {
   "cell_type": "code",
   "execution_count": 3,
   "id": "6a488667-aad8-4757-9882-975291e1ea2d",
   "metadata": {
    "tags": []
   },
   "outputs": [
    {
     "name": "stdout",
     "output_type": "stream",
     "text": [
      "---Descriptors---\n",
      "   Cate_HOMO  Cate_LUMO  Cate_ESP_O1  Cate_ESP_H1  Cate_ESP_O2  Cate_ESP_H2  \\\n",
      "0      -5.63       0.21    -0.555170     0.441278    -0.594799     0.444770   \n",
      "1      -5.63       0.21    -0.555170     0.441278    -0.594799     0.444770   \n",
      "2      -5.63       0.21    -0.555170     0.441278    -0.594799     0.444770   \n",
      "3      -5.63       0.21    -0.555170     0.441278    -0.594799     0.444770   \n",
      "4      -5.51       0.22    -0.542028     0.433177    -0.582447     0.440296   \n",
      "\n",
      "   Cate_BL_ArO1  Cate_BL_O1H1  Cate_BL_ArO2  Cate_BL_O2H2  Cate_total_dipole  \\\n",
      "0         1.363         0.969         1.378         0.965           2.484773   \n",
      "1         1.363         0.969         1.378         0.965           2.484773   \n",
      "2         1.363         0.969         1.378         0.965           2.484773   \n",
      "3         1.363         0.969         1.378         0.965           2.484773   \n",
      "4         1.364         0.969         1.379         0.965           2.303134   \n",
      "\n",
      "   P_HOMO  P_LUMO   P_ESP_P  P_ESP_=O   P_ESP_H  P_BL_P=O  P_BL_PH  \\\n",
      "0   -7.85    1.77  0.997297 -0.600515 -0.035840     1.482    1.402   \n",
      "1   -8.16    1.03  0.934101 -0.617890  0.007945     1.481    1.398   \n",
      "2   -7.22   -0.99  0.742856 -0.578490  0.009025     1.489    1.409   \n",
      "3   -7.85    0.75  0.788747 -0.578264 -0.038475     1.485    1.412   \n",
      "4   -7.85    1.77  0.997297 -0.600515 -0.035840     1.482    1.402   \n",
      "\n",
      "   P_total_dipole  \n",
      "0        2.286892  \n",
      "1        1.745964  \n",
      "2        3.773141  \n",
      "3        2.623175  \n",
      "4        2.286892  \n",
      "---Objective---\n",
      "   Yield\n",
      "0     80\n",
      "1      7\n",
      "2      3\n",
      "3     48\n",
      "4     99\n"
     ]
    }
   ],
   "source": [
    "#Building descriptors\n",
    "X = df.drop(columns=['Yield', 'Cate_name', 'P_name' ])\n",
    "print('---Descriptors---')\n",
    "print(X.head())\n",
    "\n",
    "y = pd.DataFrame(df['Yield'],columns=['Yield'])\n",
    "y=y.astype(int)\n",
    "print('---Objective---')\n",
    "print(y.head())"
   ]
  },
  {
   "cell_type": "code",
   "execution_count": 4,
   "id": "c15053b6-cc11-44f0-b20a-3e67d2db3c10",
   "metadata": {
    "tags": []
   },
   "outputs": [
    {
     "name": "stdout",
     "output_type": "stream",
     "text": [
      "<class 'pandas.core.frame.DataFrame'>\n",
      "RangeIndex: 68 entries, 0 to 67\n",
      "Data columns (total 19 columns):\n",
      " #   Column             Non-Null Count  Dtype  \n",
      "---  ------             --------------  -----  \n",
      " 0   Cate_HOMO          68 non-null     float64\n",
      " 1   Cate_LUMO          68 non-null     float64\n",
      " 2   Cate_ESP_O1        68 non-null     float64\n",
      " 3   Cate_ESP_H1        68 non-null     float64\n",
      " 4   Cate_ESP_O2        68 non-null     float64\n",
      " 5   Cate_ESP_H2        68 non-null     float64\n",
      " 6   Cate_BL_ArO1       68 non-null     float64\n",
      " 7   Cate_BL_O1H1       68 non-null     float64\n",
      " 8   Cate_BL_ArO2       68 non-null     float64\n",
      " 9   Cate_BL_O2H2       68 non-null     float64\n",
      " 10  Cate_total_dipole  68 non-null     float64\n",
      " 11  P_HOMO             68 non-null     float64\n",
      " 12  P_LUMO             68 non-null     float64\n",
      " 13  P_ESP_P            68 non-null     float64\n",
      " 14  P_ESP_=O           68 non-null     float64\n",
      " 15  P_ESP_H            68 non-null     float64\n",
      " 16  P_BL_P=O           68 non-null     float64\n",
      " 17  P_BL_PH            68 non-null     float64\n",
      " 18  P_total_dipole     68 non-null     float64\n",
      "dtypes: float64(19)\n",
      "memory usage: 10.2 KB\n",
      "None\n",
      "Cate_HOMO            False\n",
      "Cate_LUMO            False\n",
      "Cate_ESP_O1          False\n",
      "Cate_ESP_H1          False\n",
      "Cate_ESP_O2          False\n",
      "Cate_ESP_H2          False\n",
      "Cate_BL_ArO1         False\n",
      "Cate_BL_O1H1         False\n",
      "Cate_BL_ArO2         False\n",
      "Cate_BL_O2H2         False\n",
      "Cate_total_dipole    False\n",
      "P_HOMO               False\n",
      "P_LUMO               False\n",
      "P_ESP_P              False\n",
      "P_ESP_=O             False\n",
      "P_ESP_H              False\n",
      "P_BL_P=O             False\n",
      "P_BL_PH              False\n",
      "P_total_dipole       False\n",
      "dtype: bool\n",
      "0\n"
     ]
    }
   ],
   "source": [
    "print(X.info())\n",
    "print(X.isnull().any())\n",
    "print(X.isnull().values.sum())"
   ]
  },
  {
   "cell_type": "code",
   "execution_count": 5,
   "id": "c10a58c1-6449-48f6-bd2d-9fa49b46f891",
   "metadata": {
    "tags": []
   },
   "outputs": [
    {
     "name": "stderr",
     "output_type": "stream",
     "text": [
      "The default dtype for empty Series will be 'object' instead of 'float64' in a future version. Specify a dtype explicitly to silence this warning.\n"
     ]
    },
    {
     "name": "stdout",
     "output_type": "stream",
     "text": [
      "----------------------\n",
      "seed: 0\n",
      "Best Model Parameter: {'max_depth': 2, 'n_estimators': 5000}\n",
      "Best Model Score: 0.8231411629570242\n",
      "R2_test: 0.7068305395413725\n",
      "----------------------\n",
      "seed: 1\n",
      "Best Model Parameter: {'max_depth': 5, 'n_estimators': 1000}\n",
      "Best Model Score: 0.7064857126947582\n",
      "R2_test: 0.8361842392188293\n",
      "----------------------\n",
      "seed: 2\n",
      "Best Model Parameter: {'max_depth': 2, 'n_estimators': 5000}\n",
      "Best Model Score: 0.7534966039437335\n",
      "R2_test: 0.795690104638589\n",
      "----------------------\n",
      "seed: 3\n",
      "Best Model Parameter: {'max_depth': 2, 'n_estimators': 3000}\n",
      "Best Model Score: 0.774218703211906\n",
      "R2_test: 0.706189079129786\n",
      "----------------------\n",
      "seed: 4\n",
      "Best Model Parameter: {'max_depth': 2, 'n_estimators': 3000}\n",
      "Best Model Score: 0.7572826248782386\n",
      "R2_test: 0.8028666626992886\n",
      "----------------------\n",
      "seed: 5\n",
      "Best Model Parameter: {'max_depth': 3, 'n_estimators': 3000}\n",
      "Best Model Score: 0.8030401480111806\n",
      "R2_test: 0.8134558960491702\n",
      "----------------------\n",
      "seed: 6\n",
      "Best Model Parameter: {'max_depth': 2, 'n_estimators': 5000}\n",
      "Best Model Score: 0.7497390106028338\n",
      "R2_test: 0.7722524693818039\n",
      "----------------------\n",
      "seed: 7\n",
      "Best Model Parameter: {'max_depth': 2, 'n_estimators': 1000}\n",
      "Best Model Score: 0.7957692421139534\n",
      "R2_test: 0.7517900765398818\n",
      "----------------------\n",
      "seed: 8\n",
      "Best Model Parameter: {'max_depth': 3, 'n_estimators': 3000}\n",
      "Best Model Score: 0.7788909594856612\n",
      "R2_test: 0.7270692277862275\n",
      "----------------------\n",
      "seed: 9\n",
      "Best Model Parameter: {'max_depth': 2, 'n_estimators': 1000}\n",
      "Best Model Score: 0.6486866600615352\n",
      "R2_test: 0.8967438715157292\n",
      "R2_train_means: 0.8901026076313361\n",
      "CV_score_means: 0.7590750827960825\n",
      "R2_test_means: 0.7809072166500677\n"
     ]
    }
   ],
   "source": [
    "#storage \n",
    "data_r2_train =[]\n",
    "data_RMSE_train = []\n",
    "data_MAE_train = []\n",
    "data_r2_test = []\n",
    "data_RMSE_test = []\n",
    "data_MAE_test = []\n",
    "best_model_parametors = []\n",
    "data_cv_score = []\n",
    "cum_imp=pd.Series(index = X.columns)\n",
    "cum_imp.fillna(0, inplace=True)\n",
    "\n",
    "#RF_a_X\n",
    "for i in range(10):\n",
    "    seed=i\n",
    "    X_train, X_test, y_train, y_test = train_test_split(X, y, test_size=0.3, random_state=seed)\n",
    "\n",
    "    a_X_train = (X_train - X_train.mean(axis=0)) / X_train.std(axis=0, ddof=1)\n",
    "    a_X_test = (X_test - X_train.mean(axis=0)) / X_train.std(axis=0, ddof=1)\n",
    "\n",
    "    param_grid = {\"max_depth\":[2,3,4,5],\n",
    "                  'n_estimators':[1000,3000,5000]}\n",
    "    reg_rf = GridSearchCV(RandomForestRegressor(random_state=0), param_grid=param_grid, cv=5, n_jobs=3)\n",
    "    reg_rf.fit(a_X_train,y_train['Yield'])\n",
    "    reg_best = reg_rf.best_estimator_\n",
    "    y_pred1 = reg_best.predict(a_X_train)\n",
    "    y_pred2 = reg_best.predict(a_X_test)\n",
    "            \n",
    "    #train\n",
    "    r2_train = metrics.r2_score(y_train, y_pred1)\n",
    "    RMSE_train = metrics.mean_squared_error(y_train, y_pred1)\n",
    "    MAE_train =  metrics.mean_absolute_error(y_train, y_pred1)\n",
    "    #test\n",
    "    r2_test = metrics.r2_score(y_test, y_pred2)\n",
    "    RMSE_test = metrics.mean_squared_error(y_test, y_pred2)\n",
    "    MAE_test = metrics.mean_absolute_error(y_test, y_pred2)\n",
    "\n",
    "    parametors = reg_rf.best_params_\n",
    "    best_model_parametors.append(parametors)\n",
    "\n",
    "    data_r2_train.append(r2_train)\n",
    "    data_RMSE_train.append(RMSE_train)\n",
    "    data_MAE_train.append(MAE_train)\n",
    "    data_r2_test.append(r2_test)\n",
    "    data_RMSE_test.append(RMSE_test)\n",
    "    data_MAE_test.append(MAE_test)\n",
    "    data_cv_score.append(reg_rf.best_score_)\n",
    "    \n",
    "    #cumulative importances \n",
    "    importances = pd.Series(reg_best.feature_importances_, index = X.columns)\n",
    "    cum_imp += importances\n",
    "    \n",
    "    print('----------------------')\n",
    "    print('seed:', seed)\n",
    "    print(\"Best Model Parameter:\",reg_rf.best_params_)\n",
    "    print(\"Best Model Score:\",reg_rf.best_score_)\n",
    "    print('R2_test:', r2_test)\n",
    "print('R2_train_means:', sum(data_r2_train)/10)\n",
    "print('CV_score_means:', sum(data_cv_score)/10)\n",
    "print('R2_test_means:', sum(data_r2_test)/10)"
   ]
  },
  {
   "cell_type": "code",
   "execution_count": 6,
   "id": "47c5eeb8-c37f-46e9-ba79-a01178b442e1",
   "metadata": {
    "tags": []
   },
   "outputs": [
    {
     "name": "stdout",
     "output_type": "stream",
     "text": [
      "      r2_train  RMSE_train  MAE_train   r2_test   RMSE_test   MAE_test  \\\n",
      "0     0.903817   70.912689   5.400605  0.706831  383.451029  12.287271   \n",
      "1     0.956985   38.899012   3.687424  0.836184  158.712584   8.637923   \n",
      "2     0.871910  118.496297   6.612125  0.795690  197.580178   8.319160   \n",
      "3     0.880242  111.699755   6.253396  0.706189  281.983865  10.302542   \n",
      "4     0.849860  129.435113   6.941826  0.802867  209.616661   8.680966   \n",
      "5     0.920224   64.597308   4.766104  0.813456  226.875701   9.786456   \n",
      "6     0.881725   97.065289   6.045459  0.772252  274.085115  10.274377   \n",
      "7     0.877600  117.075373   6.706119  0.751790  225.004266   9.124486   \n",
      "8     0.923047   67.727354   4.673061  0.727069  269.719968  11.215945   \n",
      "9     0.835616  166.593431   8.029708  0.896744   72.760215   5.323896   \n",
      "mean  0.890103   98.250162   5.911583  0.780907  229.978958   9.395302   \n",
      "\n",
      "      cv_score  \n",
      "0     0.823141  \n",
      "1     0.706486  \n",
      "2     0.753497  \n",
      "3     0.774219  \n",
      "4     0.757283  \n",
      "5     0.803040  \n",
      "6     0.749739  \n",
      "7     0.795769  \n",
      "8     0.778891  \n",
      "9     0.648687  \n",
      "mean  0.759075  \n"
     ]
    }
   ],
   "source": [
    "data_r2_train_pd = pd.DataFrame(data= data_r2_train, columns=['r2_train'])\n",
    "data_RMSE_train_pd = pd.DataFrame(data=data_RMSE_train, columns=['RMSE_train'])\n",
    "data_MAE_train_pd = pd.DataFrame(data=data_MAE_train, columns=['MAE_train'])\n",
    "data_r2_test_pd = pd.DataFrame(data=data_r2_test, columns=['r2_test'])\n",
    "data_RMSE_test_pd = pd.DataFrame(data=data_RMSE_test, columns=['RMSE_test'])\n",
    "data_MAE_test_pd = pd.DataFrame(data=data_MAE_test, columns=['MAE_test'])\n",
    "data_cv_score_pd = pd.DataFrame(data=data_cv_score, columns=['cv_score'])\n",
    "data_parametors = pd.DataFrame([best_model_parametors])\n",
    "\n",
    "data_all = pd.concat([data_r2_train_pd, data_RMSE_train_pd, data_MAE_train_pd, data_r2_test_pd, \n",
    "                      data_RMSE_test_pd, data_MAE_test_pd, data_cv_score_pd],\n",
    "                     axis=1, join='inner')\n",
    "\n",
    "data_all.loc['mean'] = data_all.mean()\n",
    "print(data_all)\n",
    "\n",
    "data_all.to_csv('../../score/DFT/RF_score.csv')\n",
    "#data_parametors.to_csv('/Users/nata/Documents/ML/amidation/score/DFT/DFT_ESP/RF/parametors.csv')"
   ]
  },
  {
   "cell_type": "code",
   "execution_count": 5,
   "id": "c6e4195e-a794-4b1f-8c3c-f6a227025a37",
   "metadata": {
    "tags": []
   },
   "outputs": [
    {
     "name": "stdout",
     "output_type": "stream",
     "text": [
      "r2_train: 0.8356164081078189\n",
      "r2_test: 0.8967438715157292\n"
     ]
    }
   ],
   "source": [
    "seed=9\n",
    "X_train, X_test, y_train, y_test = train_test_split(X, y, test_size=0.3, random_state=seed)\n",
    "\n",
    "a_X_train = (X_train - X_train.mean(axis=0)) / X_train.std(axis=0, ddof=1)\n",
    "a_X_test = (X_test - X_train.mean(axis=0)) / X_train.std(axis=0, ddof=1)\n",
    "\n",
    "    \n",
    "param_grid = {\"max_depth\":[2,3,4,5],'n_estimators':[1000,3000,5000]}\n",
    "reg_rf = GridSearchCV(RandomForestRegressor(random_state=0), param_grid=param_grid, cv=5, n_jobs=3)\n",
    "reg_rf.fit(a_X_train,y_train['Yield'])\n",
    "reg_best = reg_rf.best_estimator_\n",
    "y_pred1 = reg_best.predict(a_X_train)\n",
    "y_pred2 = reg_best.predict(a_X_test)\n",
    "            \n",
    "r2_train = metrics.r2_score(y_train, y_pred1)\n",
    "r2_test = metrics.r2_score(y_test, y_pred2)\n",
    "print('r2_train:',r2_train)\n",
    "print('r2_test:',r2_test)"
   ]
  },
  {
   "cell_type": "code",
   "execution_count": 6,
   "id": "25b7f7a3-2195-4211-8b0e-1983bb1e9b73",
   "metadata": {
    "tags": []
   },
   "outputs": [
    {
     "data": {
      "image/png": "[encoded data removed]",
      "text/plain": [
       "<Figure size 600x400 with 2 Axes>"
      ]
     },
     "metadata": {},
     "output_type": "display_data"
    }
   ],
   "source": [
    "#shap\n",
    "explainer = shap.TreeExplainer(reg_best)\n",
    "shap_values = explainer.shap_values(X=a_X_train)\n",
    "shap.summary_plot(shap_values, a_X_train, max_display=6, plot_size=(6, 4))"
   ]
  },
  {
   "cell_type": "code",
   "execution_count": null,
   "id": "ff17407d-8944-4b0f-805a-d23cc4cf6a78",
   "metadata": {},
   "outputs": [],
   "source": []
  }
 ],
 "metadata": {
  "kernelspec": {
   "display_name": "Python 3 (ipykernel)",
   "language": "python",
   "name": "python3"
  },
  "language_info": {
   "codemirror_mode": {
    "name": "ipython",
    "version": 3
   },
   "file_extension": ".py",
   "mimetype": "text/x-python",
   "name": "python",
   "nbconvert_exporter": "python",
   "pygments_lexer": "ipython3",
   "version": "3.8.18"
  }
 },
 "nbformat": 4,
 "nbformat_minor": 5
}
