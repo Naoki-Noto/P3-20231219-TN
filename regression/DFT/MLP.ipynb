{
 "cells": [
  {
   "cell_type": "code",
   "execution_count": 1,
   "id": "5321d4c9-06c9-4577-851e-125e0ca6919c",
   "metadata": {
    "tags": []
   },
   "outputs": [],
   "source": [
    "#import\n",
    "import seaborn as sns\n",
    "import pandas as pd\n",
    "import numpy as np\n",
    "import matplotlib.pyplot as plt\n",
    "from sklearn.model_selection import train_test_split\n",
    "from sklearn.model_selection import GridSearchCV\n",
    "from sklearn.neural_network import MLPRegressor\n",
    "from sklearn import metrics\n",
    "import shap"
   ]
  },
  {
   "cell_type": "code",
   "execution_count": 2,
   "id": "3e8a519a-27ee-4ee8-a4e9-2926c586a2b5",
   "metadata": {
    "tags": []
   },
   "outputs": [
    {
     "name": "stdout",
     "output_type": "stream",
     "text": [
      "<class 'pandas.core.frame.DataFrame'>\n",
      "RangeIndex: 68 entries, 0 to 67\n",
      "Data columns (total 22 columns):\n",
      " #   Column             Non-Null Count  Dtype  \n",
      "---  ------             --------------  -----  \n",
      " 0   Cate_name          68 non-null     object \n",
      " 1   Cate_HOMO          68 non-null     float64\n",
      " 2   Cate_LUMO          68 non-null     float64\n",
      " 3   Cate_ESP_O1        68 non-null     float64\n",
      " 4   Cate_ESP_H1        68 non-null     float64\n",
      " 5   Cate_ESP_O2        68 non-null     float64\n",
      " 6   Cate_ESP_H2        68 non-null     float64\n",
      " 7   Cate_BL_ArO1       68 non-null     float64\n",
      " 8   Cate_BL_O1H1       68 non-null     float64\n",
      " 9   Cate_BL_ArO2       68 non-null     float64\n",
      " 10  Cate_BL_O2H2       68 non-null     float64\n",
      " 11  Cate_total_dipole  68 non-null     float64\n",
      " 12  P_name             68 non-null     object \n",
      " 13  P_HOMO             68 non-null     float64\n",
      " 14  P_LUMO             68 non-null     float64\n",
      " 15  P_ESP_P            68 non-null     float64\n",
      " 16  P_ESP_=O           68 non-null     float64\n",
      " 17  P_ESP_H            68 non-null     float64\n",
      " 18  P_BL_P=O           68 non-null     float64\n",
      " 19  P_BL_PH            68 non-null     float64\n",
      " 20  P_total_dipole     68 non-null     float64\n",
      " 21  Yield              68 non-null     int64  \n",
      "dtypes: float64(19), int64(1), object(2)\n",
      "memory usage: 11.8+ KB\n"
     ]
    }
   ],
   "source": [
    "#Reading dataset\n",
    "df=pd.read_csv('DFT_ESP.csv')\n",
    "df.info()"
   ]
  },
  {
   "cell_type": "code",
   "execution_count": 3,
   "id": "9988ae2a-2420-405c-8297-4ee7840c93f1",
   "metadata": {
    "tags": []
   },
   "outputs": [
    {
     "name": "stdout",
     "output_type": "stream",
     "text": [
      "---Descriptors---\n",
      "   Cate_HOMO  Cate_LUMO  Cate_ESP_O1  Cate_ESP_H1  Cate_ESP_O2  Cate_ESP_H2  \\\n",
      "0      -5.63       0.21    -0.555170     0.441278    -0.594799     0.444770   \n",
      "1      -5.63       0.21    -0.555170     0.441278    -0.594799     0.444770   \n",
      "2      -5.63       0.21    -0.555170     0.441278    -0.594799     0.444770   \n",
      "3      -5.63       0.21    -0.555170     0.441278    -0.594799     0.444770   \n",
      "4      -5.51       0.22    -0.542028     0.433177    -0.582447     0.440296   \n",
      "\n",
      "   Cate_BL_ArO1  Cate_BL_O1H1  Cate_BL_ArO2  Cate_BL_O2H2  Cate_total_dipole  \\\n",
      "0         1.363         0.969         1.378         0.965           2.484773   \n",
      "1         1.363         0.969         1.378         0.965           2.484773   \n",
      "2         1.363         0.969         1.378         0.965           2.484773   \n",
      "3         1.363         0.969         1.378         0.965           2.484773   \n",
      "4         1.364         0.969         1.379         0.965           2.303134   \n",
      "\n",
      "   P_HOMO  P_LUMO   P_ESP_P  P_ESP_=O   P_ESP_H  P_BL_P=O  P_BL_PH  \\\n",
      "0   -7.85    1.77  0.997297 -0.600515 -0.035840     1.482    1.402   \n",
      "1   -8.16    1.03  0.934101 -0.617890  0.007945     1.481    1.398   \n",
      "2   -7.22   -0.99  0.742856 -0.578490  0.009025     1.489    1.409   \n",
      "3   -7.85    0.75  0.788747 -0.578264 -0.038475     1.485    1.412   \n",
      "4   -7.85    1.77  0.997297 -0.600515 -0.035840     1.482    1.402   \n",
      "\n",
      "   P_total_dipole  \n",
      "0        2.286892  \n",
      "1        1.745964  \n",
      "2        3.773141  \n",
      "3        2.623175  \n",
      "4        2.286892  \n",
      "---Objective---\n",
      "   Yield\n",
      "0     80\n",
      "1      7\n",
      "2      3\n",
      "3     48\n",
      "4     99\n"
     ]
    }
   ],
   "source": [
    "#Building descriptors\n",
    "X = df.drop(columns=['Yield', 'Cate_name', 'P_name' ])\n",
    "print('---Descriptors---')\n",
    "print(X.head())\n",
    "\n",
    "y = pd.DataFrame(df['Yield'],columns=['Yield'])\n",
    "print('---Objective---')\n",
    "print(y.head())"
   ]
  },
  {
   "cell_type": "code",
   "execution_count": 4,
   "id": "084c62d4-67fe-4e93-96ec-d532f9c4ee47",
   "metadata": {
    "tags": []
   },
   "outputs": [
    {
     "name": "stdout",
     "output_type": "stream",
     "text": [
      "----------------------\n",
      "seed: 0\n",
      "Best Model Parameter: {'alpha': 5, 'hidden_layer_sizes': (400,), 'learning_rate_init': 0.003, 'max_iter': 5000}\n",
      "Best Model Score: 0.7393134658698644\n",
      "R2_test: 0.7295980046982895\n",
      "----------------------\n",
      "seed: 1\n",
      "Best Model Parameter: {'alpha': 3, 'hidden_layer_sizes': (400,), 'learning_rate_init': 0.03, 'max_iter': 5000}\n",
      "Best Model Score: 0.7429452175978373\n",
      "R2_test: 0.712525255355382\n",
      "----------------------\n",
      "seed: 2\n",
      "Best Model Parameter: {'alpha': 4, 'hidden_layer_sizes': (400,), 'learning_rate_init': 0.03, 'max_iter': 5000}\n",
      "Best Model Score: 0.764849906371858\n",
      "R2_test: 0.7960251257498876\n",
      "----------------------\n",
      "seed: 3\n",
      "Best Model Parameter: {'alpha': 3, 'hidden_layer_sizes': (400,), 'learning_rate_init': 0.03, 'max_iter': 5000}\n",
      "Best Model Score: 0.7395820881858925\n",
      "R2_test: 0.8327668394657204\n",
      "----------------------\n",
      "seed: 4\n",
      "Best Model Parameter: {'alpha': 5, 'hidden_layer_sizes': (400,), 'learning_rate_init': 0.03, 'max_iter': 5000}\n",
      "Best Model Score: 0.755099391484918\n",
      "R2_test: 0.7844038726319582\n",
      "----------------------\n",
      "seed: 5\n",
      "Best Model Parameter: {'alpha': 5, 'hidden_layer_sizes': (400,), 'learning_rate_init': 0.003, 'max_iter': 5000}\n",
      "Best Model Score: 0.7525701225986088\n",
      "R2_test: 0.7823827081302711\n",
      "----------------------\n",
      "seed: 6\n",
      "Best Model Parameter: {'alpha': 5, 'hidden_layer_sizes': (400,), 'learning_rate_init': 0.003, 'max_iter': 5000}\n",
      "Best Model Score: 0.7401575247158175\n",
      "R2_test: 0.7727222827432019\n",
      "----------------------\n",
      "seed: 7\n",
      "Best Model Parameter: {'alpha': 5, 'hidden_layer_sizes': (400,), 'learning_rate_init': 0.03, 'max_iter': 5000}\n",
      "Best Model Score: 0.7845863263327996\n",
      "R2_test: 0.7930621248861807\n",
      "----------------------\n",
      "seed: 8\n",
      "Best Model Parameter: {'alpha': 5, 'hidden_layer_sizes': (400,), 'learning_rate_init': 0.03, 'max_iter': 5000}\n",
      "Best Model Score: 0.738526585141942\n",
      "R2_test: 0.8357914562486777\n",
      "----------------------\n",
      "seed: 9\n",
      "Best Model Parameter: {'alpha': 4, 'hidden_layer_sizes': (400,), 'learning_rate_init': 0.03, 'max_iter': 5000}\n",
      "Best Model Score: 0.6571341205751831\n",
      "R2_test: 0.922859667697546\n",
      "R2_train_means: 0.9366376083492935\n",
      "CV_score_means: 0.7414764748874721\n",
      "R2_test_means: 0.7962137337607115\n"
     ]
    }
   ],
   "source": [
    "#storage \n",
    "data_r2_train =[]\n",
    "data_RMSE_train = []\n",
    "data_MAE_train = []\n",
    "data_r2_test = []\n",
    "data_RMSE_test = []\n",
    "data_MAE_test = []\n",
    "best_model_parametors = []\n",
    "data_cv_score = []\n",
    "\n",
    "#MLP\n",
    "for i in range(10):\n",
    "    seed=i\n",
    "    X_train, X_test, y_train, y_test = train_test_split(X, y, test_size=0.3, random_state=seed)\n",
    "    \n",
    "    #autoscaling\n",
    "    a_X_train = (X_train - X_train.mean(axis=0)) / X_train.std(axis=0, ddof=1)\n",
    "    a_X_test = (X_test - X_train.mean(axis=0)) / X_train.std(axis=0, ddof=1)\n",
    "    a_y_train = y_train/10\n",
    "    \n",
    "    param_mlp={'hidden_layer_sizes':[(32,32,32,32,),(400,)], 'alpha':[1,2,3,4,5], 'max_iter':[5000],\n",
    "               'learning_rate_init':[0.003,0.03]}\n",
    "    \n",
    "    reg_mlp = GridSearchCV(MLPRegressor(random_state=0), param_grid=param_mlp, cv=5, n_jobs=2)\n",
    "    reg_mlp.fit(a_X_train,a_y_train['Yield'])\n",
    "    reg_best = reg_mlp.best_estimator_\n",
    "    y_pred1 = reg_best.predict(a_X_train)*10\n",
    "    y_pred2 = reg_best.predict(a_X_test)*10\n",
    "            \n",
    "    #train\n",
    "    r2_train = metrics.r2_score(y_train, y_pred1)\n",
    "    RMSE_train = metrics.mean_squared_error(y_train, y_pred1)\n",
    "    MAE_train =  metrics.mean_absolute_error(y_train, y_pred1)\n",
    "    \n",
    "    #test\n",
    "    r2_test = metrics.r2_score(y_test, y_pred2)\n",
    "    RMSE_test = metrics.mean_squared_error(y_test, y_pred2)\n",
    "    MAE_test = metrics.mean_absolute_error(y_test, y_pred2)\n",
    "    \n",
    "    #strage data of accuracy \n",
    "    parametors = reg_mlp.best_params_\n",
    "    best_model_parametors.append(parametors)\n",
    "\n",
    "    data_r2_train.append(r2_train)\n",
    "    data_RMSE_train.append(RMSE_train)\n",
    "    data_MAE_train.append(MAE_train)\n",
    "    data_r2_test.append(r2_test)\n",
    "    data_RMSE_test.append(RMSE_test)\n",
    "    data_MAE_test.append(MAE_test)\n",
    "    data_cv_score.append(reg_mlp.best_score_)\n",
    "    \n",
    "    print('----------------------')\n",
    "    print('seed:', seed)\n",
    "    print(\"Best Model Parameter:\",reg_mlp.best_params_)\n",
    "    print(\"Best Model Score:\",reg_mlp.best_score_)\n",
    "    print('R2_test:', r2_test)\n",
    "print('R2_train_means:', sum(data_r2_train)/10)\n",
    "print('CV_score_means:', sum(data_cv_score)/10)\n",
    "print('R2_test_means:', sum(data_r2_test)/10)"
   ]
  },
  {
   "cell_type": "code",
   "execution_count": 5,
   "id": "34990d07-4037-4264-98ed-f15ceafaa27c",
   "metadata": {},
   "outputs": [
    {
     "name": "stdout",
     "output_type": "stream",
     "text": [
      "      r2_train  RMSE_train  MAE_train   r2_test   RMSE_test   MAE_test  \\\n",
      "0     0.948277   38.133715   3.667226  0.729598  353.672320  13.568581   \n",
      "1     0.974012   23.501429   3.168231  0.712525  278.519352  12.688941   \n",
      "2     0.944256   51.568391   4.472210  0.796025  197.256192   9.116148   \n",
      "3     0.964797   32.834124   3.311330  0.832767  160.501362   8.208721   \n",
      "4     0.927171   62.785794   4.815164  0.784404  229.248593   9.856946   \n",
      "5     0.894188   85.679879   5.198231  0.782383  264.667039  11.081821   \n",
      "6     0.910398   73.534053   4.699529  0.772722  273.519714  11.371676   \n",
      "7     0.934831   62.333676   5.280988  0.793062  187.590826   8.989892   \n",
      "8     0.925543   65.530540   4.753354  0.835791  162.276766   9.222072   \n",
      "9     0.942902   57.865209   4.928869  0.922860   54.357521   6.048540   \n",
      "mean  0.936638   55.376681   4.429513  0.796214  216.160969  10.015334   \n",
      "\n",
      "      cv_score  \n",
      "0     0.739313  \n",
      "1     0.742945  \n",
      "2     0.764850  \n",
      "3     0.739582  \n",
      "4     0.755099  \n",
      "5     0.752570  \n",
      "6     0.740158  \n",
      "7     0.784586  \n",
      "8     0.738527  \n",
      "9     0.657134  \n",
      "mean  0.741476  \n"
     ]
    }
   ],
   "source": [
    "data_r2_train_pd = pd.DataFrame(data= data_r2_train, columns=['r2_train'])\n",
    "data_RMSE_train_pd = pd.DataFrame(data=data_RMSE_train, columns=['RMSE_train'])\n",
    "data_MAE_train_pd = pd.DataFrame(data=data_MAE_train, columns=['MAE_train'])\n",
    "data_r2_test_pd = pd.DataFrame(data=data_r2_test, columns=['r2_test'])\n",
    "data_RMSE_test_pd = pd.DataFrame(data=data_RMSE_test, columns=['RMSE_test'])\n",
    "data_MAE_test_pd = pd.DataFrame(data=data_MAE_test, columns=['MAE_test'])\n",
    "data_cv_score_pd = pd.DataFrame(data=data_cv_score, columns=['cv_score'])\n",
    "data_parametors = pd.DataFrame([best_model_parametors])\n",
    "\n",
    "data_all = pd.concat([data_r2_train_pd, data_RMSE_train_pd, data_MAE_train_pd, data_r2_test_pd, \n",
    "                      data_RMSE_test_pd, data_MAE_test_pd, data_cv_score_pd],\n",
    "                     axis=1, join='inner')\n",
    "\n",
    "data_all.loc['mean'] = data_all.mean()\n",
    "print(data_all)\n",
    "\n",
    "data_all.to_csv('../../score/DFT/MLP_score.csv')"
   ]
  },
  {
   "cell_type": "code",
   "execution_count": 6,
   "id": "8b2f779b-c5dd-4bd3-bd5b-bb1a29055960",
   "metadata": {},
   "outputs": [
    {
     "name": "stdout",
     "output_type": "stream",
     "text": [
      "R2_train: 0.9647970978798107\n",
      "R2_test: 0.8327668394657204\n"
     ]
    }
   ],
   "source": [
    "seed=3\n",
    "X_train, X_test, y_train, y_test = train_test_split(X, y, test_size=0.3, random_state=seed)\n",
    "\n",
    "#autoscaling\n",
    "a_X_train = (X_train - X_train.mean(axis=0)) / X_train.std(axis=0, ddof=1)\n",
    "a_X_test = (X_test - X_train.mean(axis=0)) / X_train.std(axis=0, ddof=1)\n",
    "a_y_train = y_train/10\n",
    "\n",
    "param_mlp={'hidden_layer_sizes':[(32,32,32,32,),(400,)], 'alpha':[1,2,3,4,5], 'max_iter':[5000],\n",
    "               'learning_rate_init':[0.003,0.03]}\n",
    "    \n",
    "reg_mlp = GridSearchCV(MLPRegressor(random_state=0), param_grid=param_mlp, cv=5, n_jobs=2)\n",
    "reg_mlp.fit(a_X_train,a_y_train['Yield'])\n",
    "reg_best = reg_mlp.best_estimator_\n",
    "y_pred1 = reg_best.predict(a_X_train)*10\n",
    "y_pred2 = reg_best.predict(a_X_test)*10\n",
    "            \n",
    "#train\n",
    "r2_train = metrics.r2_score(y_train, y_pred1)\n",
    "RMSE_train = metrics.mean_squared_error(y_train, y_pred1)\n",
    "MAE_train =  metrics.mean_absolute_error(y_train, y_pred1)\n",
    "#test\n",
    "r2_test = metrics.r2_score(y_test, y_pred2)\n",
    "RMSE_test = metrics.mean_squared_error(y_test, y_pred2)\n",
    "MAE_test = metrics.mean_absolute_error(y_test, y_pred2)\n",
    "print('R2_train:', r2_train)\n",
    "print('R2_test:', r2_test)"
   ]
  },
  {
   "cell_type": "code",
   "execution_count": 7,
   "id": "9eeca532-684b-4aba-b040-1babfa2f2c69",
   "metadata": {
    "tags": []
   },
   "outputs": [
    {
     "data": {
      "application/vnd.jupyter.widget-view+json": {
       "model_id": "0bf590a8dd334f7f906c91c7f9a0c3a8",
       "version_major": 2,
       "version_minor": 0
      },
      "text/plain": [
       "  0%|          | 0/47 [00:00<?, ?it/s]"
      ]
     },
     "metadata": {},
     "output_type": "display_data"
    },
    {
     "data": {
      "image/png": "[encoded data removed]",
      "text/plain": [
       "<Figure size 600x400 with 2 Axes>"
      ]
     },
     "metadata": {},
     "output_type": "display_data"
    }
   ],
   "source": [
    "# explain all the predictions in the test set\n",
    "explainer = shap.KernelExplainer(reg_best.predict, a_X_train)\n",
    "shap_values = explainer.shap_values(a_X_train)\n",
    "shap.summary_plot(shap_values, a_X_train,max_display=6, plot_size=(6,4))"
   ]
  },
  {
   "cell_type": "code",
   "execution_count": null,
   "id": "a06be04b-6f22-4f3d-b8bb-07f939ab99b1",
   "metadata": {},
   "outputs": [],
   "source": []
  }
 ],
 "metadata": {
  "kernelspec": {
   "display_name": "Python 3 (ipykernel)",
   "language": "python",
   "name": "python3"
  },
  "language_info": {
   "codemirror_mode": {
    "name": "ipython",
    "version": 3
   },
   "file_extension": ".py",
   "mimetype": "text/x-python",
   "name": "python",
   "nbconvert_exporter": "python",
   "pygments_lexer": "ipython3",
   "version": "3.8.18"
  }
 },
 "nbformat": 4,
 "nbformat_minor": 5
}
