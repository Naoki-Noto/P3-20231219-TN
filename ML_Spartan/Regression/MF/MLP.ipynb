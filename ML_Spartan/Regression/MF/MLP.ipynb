{
 "cells": [
  {
   "cell_type": "code",
   "execution_count": 1,
   "id": "5321d4c9-06c9-4577-851e-125e0ca6919c",
   "metadata": {
    "tags": []
   },
   "outputs": [],
   "source": [
    "#import\n",
    "import seaborn as sns\n",
    "import pandas as pd\n",
    "import numpy as np\n",
    "import matplotlib.pyplot as plt\n",
    "from sklearn.model_selection import train_test_split\n",
    "from sklearn.model_selection import GridSearchCV\n",
    "from sklearn.neural_network import MLPRegressor\n",
    "from sklearn import metrics"
   ]
  },
  {
   "cell_type": "code",
   "execution_count": 2,
   "id": "3e8a519a-27ee-4ee8-a4e9-2926c586a2b5",
   "metadata": {
    "tags": []
   },
   "outputs": [
    {
     "name": "stdout",
     "output_type": "stream",
     "text": [
      "<class 'pandas.core.frame.DataFrame'>\n",
      "RangeIndex: 68 entries, 0 to 67\n",
      "Columns: 150 entries, Cate_name to Yield\n",
      "dtypes: int64(148), object(2)\n",
      "memory usage: 79.8+ KB\n"
     ]
    }
   ],
   "source": [
    "#Reading dataset\n",
    "df=pd.read_csv('MF.csv')\n",
    "df.info()"
   ]
  },
  {
   "cell_type": "code",
   "execution_count": 3,
   "id": "9988ae2a-2420-405c-8297-4ee7840c93f1",
   "metadata": {
    "tags": []
   },
   "outputs": [
    {
     "name": "stdout",
     "output_type": "stream",
     "text": [
      "---Descriptors---\n",
      "   Cate_MF_9  Cate_MF_33  Cate_MF_58  Cate_MF_68  Cate_MF_80  Cate_MF_102  \\\n",
      "0          0           0           0           0           0            0   \n",
      "1          0           0           0           0           0            0   \n",
      "2          0           0           0           0           0            0   \n",
      "3          0           0           0           0           0            0   \n",
      "4          0           0           0           0           0            0   \n",
      "\n",
      "   Cate_MF_105  Cate_MF_114  Cate_MF_125  Cate_MF_142  ...  P_MF_1154  \\\n",
      "0            0            0            0            0  ...          1   \n",
      "1            0            0            0            0  ...          0   \n",
      "2            0            0            0            0  ...          0   \n",
      "3            0            0            0            0  ...          0   \n",
      "4            0            0            0            1  ...          1   \n",
      "\n",
      "   P_MF_1199  P_MF_1272  P_MF_1380  P_MF_1570  P_MF_1689  P_MF_1750  \\\n",
      "0          0          0          0          0          1          0   \n",
      "1          0          0          0          0          0          0   \n",
      "2          1          0          1          1          0          1   \n",
      "3          0          1          0          0          0          0   \n",
      "4          0          0          0          0          1          0   \n",
      "\n",
      "   P_MF_1826  P_MF_1873  P_MF_1943  \n",
      "0          1          0          0  \n",
      "1          0          0          0  \n",
      "2          0          1          1  \n",
      "3          0          0          0  \n",
      "4          1          0          0  \n",
      "\n",
      "[5 rows x 147 columns]\n",
      "---Objective---\n",
      "   Yield\n",
      "0     80\n",
      "1      7\n",
      "2      3\n",
      "3     48\n",
      "4     99\n"
     ]
    }
   ],
   "source": [
    "#Building descriptors\n",
    "X = df.drop(columns=['Yield', 'Cate_name', 'P_name'])\n",
    "print('---Descriptors---')\n",
    "print(X.head())\n",
    "\n",
    "y = pd.DataFrame(df['Yield'],columns=['Yield'])\n",
    "print('---Objective---')\n",
    "print(y.head())"
   ]
  },
  {
   "cell_type": "code",
   "execution_count": 4,
   "id": "084c62d4-67fe-4e93-96ec-d532f9c4ee47",
   "metadata": {
    "tags": []
   },
   "outputs": [
    {
     "name": "stdout",
     "output_type": "stream",
     "text": [
      "----------------------\n",
      "seed: 0\n",
      "Best Model Parameter: {'alpha': 0, 'hidden_layer_sizes': (128,)}\n",
      "Best Model Score: 0.6655940719175915\n",
      "R2_test: 0.6338523082918275\n",
      "----------------------\n",
      "seed: 1\n",
      "Best Model Parameter: {'alpha': 4, 'hidden_layer_sizes': (512,)}\n",
      "Best Model Score: 0.6293321185259376\n",
      "R2_test: 0.7662910897754499\n",
      "----------------------\n",
      "seed: 2\n",
      "Best Model Parameter: {'alpha': 2, 'hidden_layer_sizes': (512,)}\n",
      "Best Model Score: 0.6168487919334438\n",
      "R2_test: 0.7586662765340614\n",
      "----------------------\n",
      "seed: 3\n",
      "Best Model Parameter: {'alpha': 4, 'hidden_layer_sizes': (256,)}\n",
      "Best Model Score: 0.5891607616746108\n",
      "R2_test: 0.7538906907415297\n",
      "----------------------\n",
      "seed: 4\n",
      "Best Model Parameter: {'alpha': 0, 'hidden_layer_sizes': (128,)}\n",
      "Best Model Score: 0.6409193485598271\n",
      "R2_test: 0.6856789646212014\n",
      "----------------------\n",
      "seed: 5\n",
      "Best Model Parameter: {'alpha': 4, 'hidden_layer_sizes': (512,)}\n",
      "Best Model Score: 0.615316682723428\n",
      "R2_test: 0.8379788061837624\n",
      "----------------------\n",
      "seed: 6\n",
      "Best Model Parameter: {'alpha': 4, 'hidden_layer_sizes': (512,)}\n",
      "Best Model Score: 0.7457287591161796\n",
      "R2_test: 0.8001009388849813\n",
      "----------------------\n",
      "seed: 7\n",
      "Best Model Parameter: {'alpha': 4, 'hidden_layer_sizes': (512,)}\n",
      "Best Model Score: 0.6929297561183366\n",
      "R2_test: 0.5898445543669095\n",
      "----------------------\n",
      "seed: 8\n",
      "Best Model Parameter: {'alpha': 0, 'hidden_layer_sizes': (256,)}\n",
      "Best Model Score: 0.694321629615213\n",
      "R2_test: 0.5208889717887664\n",
      "----------------------\n",
      "seed: 9\n",
      "Best Model Parameter: {'alpha': 0, 'hidden_layer_sizes': (256,)}\n",
      "Best Model Score: 0.48178188719975445\n",
      "R2_test: 0.6000543083059643\n",
      "R2_train_means: 0.9936544564716849\n",
      "CV_score_means: 0.6371933807384322\n",
      "R2_test_means: 0.6947246909494453\n"
     ]
    }
   ],
   "source": [
    "#storage \n",
    "data_r2_train =[]\n",
    "data_RMSE_train = []\n",
    "data_MAE_train = []\n",
    "data_r2_test = []\n",
    "data_RMSE_test = []\n",
    "data_MAE_test = []\n",
    "best_model_parametors = []\n",
    "data_cv_score = []\n",
    "\n",
    "#MLP\n",
    "for i in range(10):\n",
    "    seed=i\n",
    "    X_train, X_test, y_train, y_test = train_test_split(X, y, test_size=0.3, random_state=seed)\n",
    "    \n",
    "    #autoscaling\n",
    "    a_X_train = (X_train - X_train.mean(axis=0)) / X_train.std(axis=0, ddof=1)\n",
    "    a_X_test = (X_test - X_train.mean(axis=0)) / X_train.std(axis=0, ddof=1)\n",
    "    a_X_train = a_X_train.dropna(how='any', axis=1)\n",
    "    a_X_test = a_X_test[a_X_train.columns]\n",
    "    a_y_train = y_train/10\n",
    "    \n",
    "    param_mlp={'hidden_layer_sizes':[(64,),(128,),(256,),(512,)], 'alpha':[0,2,4]}\n",
    "    reg_mlp = GridSearchCV(MLPRegressor(random_state=0, max_iter=1000, learning_rate_init=0.03),\n",
    "                           param_grid=param_mlp, cv=5, n_jobs=16)\n",
    "    \n",
    "    reg_mlp.fit(a_X_train,a_y_train['Yield'])\n",
    "    reg_best = reg_mlp.best_estimator_\n",
    "    y_pred1 = reg_best.predict(a_X_train)*10\n",
    "    y_pred2 = reg_best.predict(a_X_test)*10\n",
    "            \n",
    "    #train\n",
    "    r2_train = metrics.r2_score(y_train, y_pred1)\n",
    "    RMSE_train = metrics.root_mean_squared_error(y_train, y_pred1)\n",
    "    MAE_train =  metrics.mean_absolute_error(y_train, y_pred1)\n",
    "    \n",
    "    #test\n",
    "    r2_test = metrics.r2_score(y_test, y_pred2)\n",
    "    RMSE_test = metrics.root_mean_squared_error(y_test, y_pred2)\n",
    "    MAE_test = metrics.mean_absolute_error(y_test, y_pred2)\n",
    "    \n",
    "    #strage data of accuracy \n",
    "    parametors = reg_mlp.best_params_\n",
    "    best_model_parametors.append(parametors)\n",
    "\n",
    "    data_r2_train.append(r2_train)\n",
    "    data_RMSE_train.append(RMSE_train)\n",
    "    data_MAE_train.append(MAE_train)\n",
    "    data_r2_test.append(r2_test)\n",
    "    data_RMSE_test.append(RMSE_test)\n",
    "    data_MAE_test.append(MAE_test)\n",
    "    data_cv_score.append(reg_mlp.best_score_)\n",
    "    \n",
    "    print('----------------------')\n",
    "    print('seed:', seed)\n",
    "    print(\"Best Model Parameter:\",reg_mlp.best_params_)\n",
    "    print(\"Best Model Score:\",reg_mlp.best_score_)\n",
    "    print('R2_test:', r2_test)\n",
    "print('R2_train_means:', sum(data_r2_train)/10)\n",
    "print('CV_score_means:', sum(data_cv_score)/10)\n",
    "print('R2_test_means:', sum(data_r2_test)/10)"
   ]
  },
  {
   "cell_type": "code",
   "execution_count": 5,
   "id": "34990d07-4037-4264-98ed-f15ceafaa27c",
   "metadata": {},
   "outputs": [
    {
     "name": "stdout",
     "output_type": "stream",
     "text": [
      "      r2_train  RMSE_train  MAE_train   r2_test  RMSE_test   MAE_test  \\\n",
      "0     0.999964    0.163895   0.139147  0.633852  21.883851  15.973362   \n",
      "1     0.986726    3.464617   2.399556  0.766291  15.047539  11.601248   \n",
      "2     0.998312    1.249697   0.868692  0.758666  15.276927   9.592059   \n",
      "3     0.995449    2.060178   1.351764  0.753891  15.368879  10.126610   \n",
      "4     0.999968    0.166992   0.135795  0.685679  18.281827  14.908853   \n",
      "5     0.991591    2.609368   1.958732  0.837979  14.037480   9.705857   \n",
      "6     0.988269    3.102841   2.298037  0.800101  15.510338   9.699724   \n",
      "7     0.995810    2.002041   1.308920  0.589845  19.282354  12.632451   \n",
      "8     0.984453    3.699127   3.334814  0.520889  21.759473  16.416625   \n",
      "9     0.996004    2.012469   1.815048  0.600054  16.787637  11.964318   \n",
      "mean  0.993654    2.053122   1.561051  0.694725  17.323630  12.262111   \n",
      "std   0.005051    1.123689   0.917261  0.094535   2.572438   2.402479   \n",
      "\n",
      "      cv_score  \n",
      "0     0.665594  \n",
      "1     0.629332  \n",
      "2     0.616849  \n",
      "3     0.589161  \n",
      "4     0.640919  \n",
      "5     0.615317  \n",
      "6     0.745729  \n",
      "7     0.692930  \n",
      "8     0.694322  \n",
      "9     0.481782  \n",
      "mean  0.637193  \n",
      "std   0.064937  \n"
     ]
    }
   ],
   "source": [
    "data_r2_train_pd = pd.DataFrame(data= data_r2_train, columns=['r2_train'])\n",
    "data_RMSE_train_pd = pd.DataFrame(data=data_RMSE_train, columns=['RMSE_train'])\n",
    "data_MAE_train_pd = pd.DataFrame(data=data_MAE_train, columns=['MAE_train'])\n",
    "data_r2_test_pd = pd.DataFrame(data=data_r2_test, columns=['r2_test'])\n",
    "data_RMSE_test_pd = pd.DataFrame(data=data_RMSE_test, columns=['RMSE_test'])\n",
    "data_MAE_test_pd = pd.DataFrame(data=data_MAE_test, columns=['MAE_test'])\n",
    "data_cv_score_pd = pd.DataFrame(data=data_cv_score, columns=['cv_score'])\n",
    "data_parametors = pd.DataFrame([best_model_parametors])\n",
    "\n",
    "data_all = pd.concat([data_r2_train_pd, data_RMSE_train_pd, data_MAE_train_pd, data_r2_test_pd, \n",
    "                      data_RMSE_test_pd, data_MAE_test_pd, data_cv_score_pd],\n",
    "                     axis=1, join='inner')\n",
    "\n",
    "data_all.loc['mean'] = data_all.mean()\n",
    "data_all.loc['std'] = data_all.std(ddof=0)\n",
    "print(data_all)\n",
    "\n",
    "data_all.to_csv('../../score/MF/MLP_score.csv')"
   ]
  },
  {
   "cell_type": "code",
   "execution_count": null,
   "id": "e4df374f-cec7-446d-b36d-23bf1128b368",
   "metadata": {},
   "outputs": [],
   "source": []
  }
 ],
 "metadata": {
  "kernelspec": {
   "display_name": "Python 3 (ipykernel)",
   "language": "python",
   "name": "python3"
  },
  "language_info": {
   "codemirror_mode": {
    "name": "ipython",
    "version": 3
   },
   "file_extension": ".py",
   "mimetype": "text/x-python",
   "name": "python",
   "nbconvert_exporter": "python",
   "pygments_lexer": "ipython3",
   "version": "3.9.19"
  }
 },
 "nbformat": 4,
 "nbformat_minor": 5
}
