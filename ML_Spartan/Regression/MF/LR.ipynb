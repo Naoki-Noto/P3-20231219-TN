{
 "cells": [
  {
   "cell_type": "code",
   "execution_count": 1,
   "id": "24250875-9c00-4a2e-b044-2905593b872d",
   "metadata": {
    "tags": []
   },
   "outputs": [],
   "source": [
    "#import\n",
    "import seaborn as sns\n",
    "import pandas as pd\n",
    "import numpy as np\n",
    "import matplotlib.pyplot as plt\n",
    "from sklearn.model_selection import train_test_split\n",
    "from sklearn.linear_model import LinearRegression\n",
    "from sklearn import metrics\n",
    "import warnings\n",
    "warnings.filterwarnings('ignore')"
   ]
  },
  {
   "cell_type": "code",
   "execution_count": 2,
   "id": "710c369c-62c4-4a63-a9f8-fa343155455d",
   "metadata": {
    "tags": []
   },
   "outputs": [
    {
     "name": "stdout",
     "output_type": "stream",
     "text": [
      "<class 'pandas.core.frame.DataFrame'>\n",
      "RangeIndex: 68 entries, 0 to 67\n",
      "Columns: 150 entries, Cate_name to Yield\n",
      "dtypes: int64(148), object(2)\n",
      "memory usage: 79.8+ KB\n"
     ]
    }
   ],
   "source": [
    "#Reading dataset\n",
    "df=pd.read_csv('MF.csv')\n",
    "df.info()"
   ]
  },
  {
   "cell_type": "code",
   "execution_count": 3,
   "id": "ce899465-892d-48fd-868d-458930162f54",
   "metadata": {
    "tags": []
   },
   "outputs": [
    {
     "name": "stdout",
     "output_type": "stream",
     "text": [
      "---Descriptors---\n",
      "   Cate_MF_9  Cate_MF_33  Cate_MF_58  Cate_MF_68  Cate_MF_80  Cate_MF_102  \\\n",
      "0          0           0           0           0           0            0   \n",
      "1          0           0           0           0           0            0   \n",
      "2          0           0           0           0           0            0   \n",
      "3          0           0           0           0           0            0   \n",
      "4          0           0           0           0           0            0   \n",
      "\n",
      "   Cate_MF_105  Cate_MF_114  Cate_MF_125  Cate_MF_142  ...  P_MF_1154  \\\n",
      "0            0            0            0            0  ...          1   \n",
      "1            0            0            0            0  ...          0   \n",
      "2            0            0            0            0  ...          0   \n",
      "3            0            0            0            0  ...          0   \n",
      "4            0            0            0            1  ...          1   \n",
      "\n",
      "   P_MF_1199  P_MF_1272  P_MF_1380  P_MF_1570  P_MF_1689  P_MF_1750  \\\n",
      "0          0          0          0          0          1          0   \n",
      "1          0          0          0          0          0          0   \n",
      "2          1          0          1          1          0          1   \n",
      "3          0          1          0          0          0          0   \n",
      "4          0          0          0          0          1          0   \n",
      "\n",
      "   P_MF_1826  P_MF_1873  P_MF_1943  \n",
      "0          1          0          0  \n",
      "1          0          0          0  \n",
      "2          0          1          1  \n",
      "3          0          0          0  \n",
      "4          1          0          0  \n",
      "\n",
      "[5 rows x 147 columns]\n",
      "---Objective---\n",
      "   Yield\n",
      "0     80\n",
      "1      7\n",
      "2      3\n",
      "3     48\n",
      "4     99\n"
     ]
    }
   ],
   "source": [
    "#Building descriptors\n",
    "X = df.drop(columns=['Yield', 'Cate_name', 'P_name' ])\n",
    "print('---Descriptors---')\n",
    "print(X.head())\n",
    "\n",
    "y = pd.DataFrame(df['Yield'],columns=['Yield'])\n",
    "print('---Objective---')\n",
    "print(y.head())"
   ]
  },
  {
   "cell_type": "code",
   "execution_count": 4,
   "id": "0f79bef2-cad5-4f86-a1d9-c8b07bbf4ee0",
   "metadata": {},
   "outputs": [
    {
     "name": "stdout",
     "output_type": "stream",
     "text": [
      "----------------------\n",
      "seed: 0\n",
      "R2_train: 0.9031426676042149\n",
      "R2_test: 0.6982755873604696\n",
      "----------------------\n",
      "seed: 1\n",
      "R2_train: 0.8393419859639167\n",
      "R2_test: 0.758694575823311\n",
      "----------------------\n",
      "seed: 2\n",
      "R2_train: 0.8083528505364648\n",
      "R2_test: 0.6245128100046202\n",
      "----------------------\n",
      "seed: 3\n",
      "R2_train: 0.8797232027574308\n",
      "R2_test: 0.6913585101350004\n",
      "----------------------\n",
      "seed: 4\n",
      "R2_train: 0.8654077724970741\n",
      "R2_test: -3.5792140433995518e+25\n",
      "----------------------\n",
      "seed: 5\n",
      "R2_train: 0.8650093806388526\n",
      "R2_test: 0.7016317294677079\n",
      "----------------------\n",
      "seed: 6\n",
      "R2_train: 0.8708164444496075\n",
      "R2_test: -2.68165892267318e+27\n",
      "----------------------\n",
      "seed: 7\n",
      "R2_train: 0.8761357802802903\n",
      "R2_test: 0.6214627630407883\n",
      "----------------------\n",
      "seed: 8\n",
      "R2_train: 0.8913650304501388\n",
      "R2_test: 0.6028309014823907\n",
      "----------------------\n",
      "seed: 9\n",
      "R2_train: 0.7434097796859211\n",
      "R2_test: 0.013051988795198755\n",
      "R2_train_means: 0.8542704894863912\n",
      "R2_test_means: -2.7174510631071756e+26\n"
     ]
    }
   ],
   "source": [
    "#storage \n",
    "data_r2_train =[]\n",
    "data_RMSE_train = []\n",
    "data_MAE_train = []\n",
    "data_r2_test = []\n",
    "data_RMSE_test = []\n",
    "data_MAE_test = []\n",
    "\n",
    "#LR\n",
    "for i in range(10):\n",
    "    seed=i\n",
    "    X_train, X_test, y_train, y_test = train_test_split(X, y, test_size=0.3, random_state=seed)\n",
    "    \n",
    "    a_X_train = (X_train - X_train.mean(axis=0)) / X_train.std(axis=0, ddof=1)\n",
    "    a_X_test = (X_test - X_train.mean(axis=0)) / X_train.std(axis=0, ddof=1)\n",
    "    a_X_train = a_X_train.dropna(how='any', axis=1)\n",
    "    a_X_test = a_X_test[a_X_train.columns]\n",
    "    \n",
    "    model = LinearRegression()\n",
    "    model.fit(a_X_train, y_train['Yield'])\n",
    "    \n",
    "    y_pred1 = model.predict(a_X_train)\n",
    "    y_pred2 = model.predict(a_X_test)\n",
    "    \n",
    "    #train\n",
    "    r2_train = metrics.r2_score(y_train, y_pred1)\n",
    "    RMSE_train = metrics.root_mean_squared_error(y_train, y_pred1)\n",
    "    MAE_train =  metrics.mean_absolute_error(y_train, y_pred1)\n",
    "    #test\n",
    "    r2_test = metrics.r2_score(y_test, y_pred2)\n",
    "    RMSE_test = metrics.root_mean_squared_error(y_test, y_pred2)\n",
    "    MAE_test = metrics.mean_absolute_error(y_test, y_pred2)\n",
    "    \n",
    "    data_r2_train.append(r2_train)\n",
    "    data_RMSE_train.append(RMSE_train)\n",
    "    data_MAE_train.append(MAE_train)\n",
    "    data_r2_test.append(r2_test)\n",
    "    data_RMSE_test.append(RMSE_test)\n",
    "    data_MAE_test.append(MAE_test)\n",
    "    \n",
    "    print('----------------------')\n",
    "    print('seed:', seed)\n",
    "    print('R2_train:', r2_train)\n",
    "    print('R2_test:', r2_test)\n",
    "print('R2_train_means:', sum(data_r2_train)/10)\n",
    "print('R2_test_means:', sum(data_r2_test)/10)"
   ]
  },
  {
   "cell_type": "code",
   "execution_count": 5,
   "id": "dee01ad3-7641-4c5c-8319-4d4639226e10",
   "metadata": {},
   "outputs": [
    {
     "name": "stdout",
     "output_type": "stream",
     "text": [
      "      r2_train  RMSE_train  MAE_train       r2_test     RMSE_test  \\\n",
      "0     0.903143    8.450420   6.146456  6.982756e-01  1.986556e+01   \n",
      "1     0.839342   12.053406   9.186029  7.586946e-01  1.529014e+01   \n",
      "2     0.808353   13.315127  10.647447  6.245128e-01  1.905568e+01   \n",
      "3     0.879723   10.591669   7.697833  6.913585e-01  1.721097e+01   \n",
      "4     0.865408   10.771794   7.980537 -3.579214e+25  1.950863e+14   \n",
      "5     0.865009   10.455003   7.191675  7.016317e-01  1.904932e+01   \n",
      "6     0.870816   10.296482   6.914883 -2.681659e+27  1.796460e+15   \n",
      "7     0.876136   10.884662   8.442657  6.214628e-01  1.852423e+01   \n",
      "8     0.891365    9.778111   7.126876  6.028309e-01  1.981153e+01   \n",
      "9     0.743410   16.125744  12.765779  1.305199e-02  2.637158e+01   \n",
      "mean  0.854270   11.272242   8.410017 -2.717451e+26  1.991547e+14   \n",
      "std   0.042667    1.931062   1.803119  7.659885e+26  5.106772e+14   \n",
      "\n",
      "          MAE_test  \n",
      "0     1.389382e+01  \n",
      "1     1.187524e+01  \n",
      "2     1.409318e+01  \n",
      "3     1.281760e+01  \n",
      "4     8.514263e+13  \n",
      "5     1.361769e+01  \n",
      "6     7.840396e+14  \n",
      "7     1.416280e+01  \n",
      "8     1.431682e+01  \n",
      "9     2.061526e+01  \n",
      "mean  8.691822e+13  \n",
      "std   2.228778e+14  \n"
     ]
    }
   ],
   "source": [
    "data_r2_train_pd = pd.DataFrame(data= data_r2_train, columns=['r2_train'])\n",
    "data_RMSE_train_pd = pd.DataFrame(data=data_RMSE_train, columns=['RMSE_train'])\n",
    "data_MAE_train_pd = pd.DataFrame(data=data_MAE_train, columns=['MAE_train'])\n",
    "data_r2_test_pd = pd.DataFrame(data=data_r2_test, columns=['r2_test'])\n",
    "data_RMSE_test_pd = pd.DataFrame(data=data_RMSE_test, columns=['RMSE_test'])\n",
    "data_MAE_test_pd = pd.DataFrame(data=data_MAE_test, columns=['MAE_test'])\n",
    "\n",
    "data_all = pd.concat([data_r2_train_pd, data_RMSE_train_pd, data_MAE_train_pd, data_r2_test_pd, \n",
    "                      data_RMSE_test_pd, data_MAE_test_pd],\n",
    "                     axis=1, join='inner')\n",
    "\n",
    "data_all.loc['mean'] = data_all.mean()\n",
    "data_all.loc['std'] = data_all.std(ddof=0)\n",
    "print(data_all)\n",
    "\n",
    "data_all.to_csv('../../score/MF/LR_score.csv')"
   ]
  },
  {
   "cell_type": "code",
   "execution_count": null,
   "id": "e1227579-9df9-4d87-ac9a-1b1171818f57",
   "metadata": {},
   "outputs": [],
   "source": []
  }
 ],
 "metadata": {
  "kernelspec": {
   "display_name": "Python 3 (ipykernel)",
   "language": "python",
   "name": "python3"
  },
  "language_info": {
   "codemirror_mode": {
    "name": "ipython",
    "version": 3
   },
   "file_extension": ".py",
   "mimetype": "text/x-python",
   "name": "python",
   "nbconvert_exporter": "python",
   "pygments_lexer": "ipython3",
   "version": "3.9.19"
  }
 },
 "nbformat": 4,
 "nbformat_minor": 5
}
