{
 "cells": [
  {
   "cell_type": "code",
   "execution_count": 1,
   "id": "bc9508d3-f8ea-40e4-9efd-d68515199c20",
   "metadata": {
    "tags": []
   },
   "outputs": [],
   "source": [
    "#import\n",
    "import seaborn as sns\n",
    "import pandas as pd\n",
    "import numpy as np\n",
    "import matplotlib.pyplot as plt\n",
    "from sklearn.model_selection import train_test_split\n",
    "from sklearn.model_selection import GridSearchCV\n",
    "from sklearn.neighbors import KNeighborsRegressor\n",
    "from sklearn import metrics"
   ]
  },
  {
   "cell_type": "code",
   "execution_count": 2,
   "id": "ab715f78-e3d0-4c16-b68a-8324d61db947",
   "metadata": {
    "tags": []
   },
   "outputs": [
    {
     "name": "stdout",
     "output_type": "stream",
     "text": [
      "<class 'pandas.core.frame.DataFrame'>\n",
      "RangeIndex: 68 entries, 0 to 67\n",
      "Columns: 150 entries, Cate_name to Yield\n",
      "dtypes: int64(148), object(2)\n",
      "memory usage: 79.8+ KB\n"
     ]
    }
   ],
   "source": [
    "#Reading dataset\n",
    "df=pd.read_csv('MF.csv')\n",
    "df.info()"
   ]
  },
  {
   "cell_type": "code",
   "execution_count": 3,
   "id": "6e099fef-963a-4a8c-9718-82e868ccab9d",
   "metadata": {
    "tags": []
   },
   "outputs": [
    {
     "name": "stdout",
     "output_type": "stream",
     "text": [
      "---Descriptors---\n",
      "   Cate_MF_9  Cate_MF_33  Cate_MF_58  Cate_MF_68  Cate_MF_80  Cate_MF_102  \\\n",
      "0          0           0           0           0           0            0   \n",
      "1          0           0           0           0           0            0   \n",
      "2          0           0           0           0           0            0   \n",
      "3          0           0           0           0           0            0   \n",
      "4          0           0           0           0           0            0   \n",
      "\n",
      "   Cate_MF_105  Cate_MF_114  Cate_MF_125  Cate_MF_142  ...  P_MF_1154  \\\n",
      "0            0            0            0            0  ...          1   \n",
      "1            0            0            0            0  ...          0   \n",
      "2            0            0            0            0  ...          0   \n",
      "3            0            0            0            0  ...          0   \n",
      "4            0            0            0            1  ...          1   \n",
      "\n",
      "   P_MF_1199  P_MF_1272  P_MF_1380  P_MF_1570  P_MF_1689  P_MF_1750  \\\n",
      "0          0          0          0          0          1          0   \n",
      "1          0          0          0          0          0          0   \n",
      "2          1          0          1          1          0          1   \n",
      "3          0          1          0          0          0          0   \n",
      "4          0          0          0          0          1          0   \n",
      "\n",
      "   P_MF_1826  P_MF_1873  P_MF_1943  \n",
      "0          1          0          0  \n",
      "1          0          0          0  \n",
      "2          0          1          1  \n",
      "3          0          0          0  \n",
      "4          1          0          0  \n",
      "\n",
      "[5 rows x 147 columns]\n",
      "---Objective---\n",
      "   Yield\n",
      "0     80\n",
      "1      7\n",
      "2      3\n",
      "3     48\n",
      "4     99\n"
     ]
    }
   ],
   "source": [
    "#Building descriptors\n",
    "X = df.drop(columns=['Yield', 'Cate_name', 'P_name' ])\n",
    "print('---Descriptors---')\n",
    "print(X.head())\n",
    "\n",
    "y = pd.DataFrame(df['Yield'],columns=['Yield'])\n",
    "print('---Objective---')\n",
    "print(y.head())"
   ]
  },
  {
   "cell_type": "code",
   "execution_count": 4,
   "id": "b1f9f24e-a662-4993-ab9d-8866041b2061",
   "metadata": {
    "tags": []
   },
   "outputs": [
    {
     "name": "stdout",
     "output_type": "stream",
     "text": [
      "----------------------\n",
      "seed: 0\n",
      "Best Model Parameter: {'n_neighbors': 6, 'p': 1}\n",
      "Best Model Score: 0.6207874198931329\n",
      "R2_test: 0.46400335063551124\n",
      "----------------------\n",
      "seed: 1\n",
      "Best Model Parameter: {'n_neighbors': 7, 'p': 1}\n",
      "Best Model Score: 0.5089280099498696\n",
      "R2_test: 0.624459598894489\n",
      "----------------------\n",
      "seed: 2\n",
      "Best Model Parameter: {'n_neighbors': 8, 'p': 1}\n",
      "Best Model Score: 0.5620514894861026\n",
      "R2_test: 0.5808715038900378\n",
      "----------------------\n",
      "seed: 3\n",
      "Best Model Parameter: {'n_neighbors': 8, 'p': 1}\n",
      "Best Model Score: 0.4638270397267544\n",
      "R2_test: 0.586756685796507\n",
      "----------------------\n",
      "seed: 4\n",
      "Best Model Parameter: {'n_neighbors': 9, 'p': 1}\n",
      "Best Model Score: 0.5175667062817579\n",
      "R2_test: 0.6092340874758571\n",
      "----------------------\n",
      "seed: 5\n",
      "Best Model Parameter: {'n_neighbors': 7, 'p': 1}\n",
      "Best Model Score: 0.5726420163727071\n",
      "R2_test: 0.5875287860554834\n",
      "----------------------\n",
      "seed: 6\n",
      "Best Model Parameter: {'n_neighbors': 8, 'p': 1}\n",
      "Best Model Score: 0.6069833285131058\n",
      "R2_test: 0.6505451376981719\n",
      "----------------------\n",
      "seed: 7\n",
      "Best Model Parameter: {'n_neighbors': 7, 'p': 1}\n",
      "Best Model Score: 0.5870837475199278\n",
      "R2_test: 0.5305096859265506\n",
      "----------------------\n",
      "seed: 8\n",
      "Best Model Parameter: {'n_neighbors': 8, 'p': 1}\n",
      "Best Model Score: 0.6603706010671363\n",
      "R2_test: 0.6006885925008949\n",
      "----------------------\n",
      "seed: 9\n",
      "Best Model Parameter: {'n_neighbors': 10, 'p': 1}\n",
      "Best Model Score: 0.5007892087922705\n",
      "R2_test: 0.6884336163009969\n",
      "R2_train_means: 0.6753981957397183\n",
      "CV_score_means: 0.5601029567602765\n",
      "R2_test_means: 0.5923031045174499\n"
     ]
    }
   ],
   "source": [
    "#storage \n",
    "data_r2_train =[]\n",
    "data_RMSE_train = []\n",
    "data_MAE_train = []\n",
    "data_r2_test = []\n",
    "data_RMSE_test = []\n",
    "data_MAE_test = []\n",
    "best_model_parametors = []\n",
    "data_cv_score = []\n",
    "loo_score = []\n",
    "\n",
    "#knn\n",
    "for i in range(10):\n",
    "    seed=i\n",
    "    X_train, X_test, y_train, y_test = train_test_split(X, y, test_size=0.3, random_state=seed)\n",
    "    \n",
    "    #autoscaling\n",
    "    a_X_train = (X_train - X_train.mean(axis=0)) / X_train.std(axis=0, ddof=1)\n",
    "    a_X_test = (X_test - X_train.mean(axis=0)) / X_train.std(axis=0, ddof=1)\n",
    "    a_X_train = a_X_train.dropna(how='any', axis=1)\n",
    "    a_X_test = a_X_test[a_X_train.columns]\n",
    "    \n",
    "    param_knn={'n_neighbors':[1,2,3,4,5,6,7,8,9,10], 'p':[1,2,3,4,5]}\n",
    "    reg_knn = GridSearchCV(KNeighborsRegressor(), param_grid=param_knn, cv=5, n_jobs=2)\n",
    "    reg_knn.fit(a_X_train,y_train['Yield'])\n",
    "    reg_best = reg_knn.best_estimator_\n",
    "    y_pred1 = reg_best.predict(a_X_train)\n",
    "    y_pred2 = reg_best.predict(a_X_test)\n",
    "\n",
    "    \n",
    "    #train\n",
    "    r2_train = metrics.r2_score(y_train, y_pred1)\n",
    "    RMSE_train = metrics.root_mean_squared_error(y_train, y_pred1)\n",
    "    MAE_train =  metrics.mean_absolute_error(y_train, y_pred1)\n",
    "    #test\n",
    "    r2_test = metrics.r2_score(y_test, y_pred2)\n",
    "    RMSE_test = metrics.root_mean_squared_error(y_test, y_pred2)\n",
    "    MAE_test = metrics.mean_absolute_error(y_test, y_pred2)\n",
    "\n",
    "    data_r2_train.append(r2_train)\n",
    "    data_RMSE_train.append(RMSE_train)\n",
    "    data_MAE_train.append(MAE_train)\n",
    "    data_r2_test.append(r2_test)\n",
    "    data_RMSE_test.append(RMSE_test)\n",
    "    data_MAE_test.append(MAE_test)\n",
    "    \n",
    "    parametors = reg_knn.best_params_\n",
    "    best_model_parametors.append(parametors)\n",
    "    cv_score = reg_knn.best_score_\n",
    "    data_cv_score.append(cv_score)\n",
    "    \n",
    "    print('----------------------')\n",
    "    print('seed:', seed)\n",
    "    print(\"Best Model Parameter:\",reg_knn.best_params_)\n",
    "    print(\"Best Model Score:\",reg_knn.best_score_)\n",
    "    print('R2_test:', r2_test)\n",
    "print('R2_train_means:', sum(data_r2_train)/10)\n",
    "print('CV_score_means:', sum(data_cv_score)/10)\n",
    "print('R2_test_means:', sum(data_r2_test)/10)"
   ]
  },
  {
   "cell_type": "code",
   "execution_count": 5,
   "id": "a66b9f03-11c3-43af-806e-a0ab9894650d",
   "metadata": {},
   "outputs": [
    {
     "name": "stdout",
     "output_type": "stream",
     "text": [
      "      r2_train  RMSE_train  MAE_train   r2_test  RMSE_test   MAE_test  \\\n",
      "0     0.706070   14.720886  12.198582  0.464003  26.477479  21.087302   \n",
      "1     0.666942   17.354757  13.911854  0.624460  19.074632  14.931973   \n",
      "2     0.678600   17.243157  13.771277  0.580872  20.132633  17.940476   \n",
      "3     0.665481   17.663795  13.789894  0.586757  19.915035  16.559524   \n",
      "4     0.622925   18.029847  13.858156  0.609234  20.384084  16.095238   \n",
      "5     0.644200   16.973658  13.677812  0.587529  22.397526  16.333333   \n",
      "6     0.708455   15.468149  12.353723  0.650545  20.507439  13.404762   \n",
      "7     0.681024   17.467108  13.942249  0.530510  20.629995  17.217687   \n",
      "8     0.756797   14.630352  10.994681  0.600689  19.864890  16.303571   \n",
      "9     0.623489   19.533888  15.982979  0.688434  14.817139  12.733333   \n",
      "mean  0.675398   16.908560  13.448121  0.592303  20.420085  16.260720   \n",
      "std   0.037286    1.394737   1.210006  0.055993   2.602524   2.121782   \n",
      "\n",
      "      cv_score  \n",
      "0     0.620787  \n",
      "1     0.508928  \n",
      "2     0.562051  \n",
      "3     0.463827  \n",
      "4     0.517567  \n",
      "5     0.572642  \n",
      "6     0.606983  \n",
      "7     0.587084  \n",
      "8     0.660371  \n",
      "9     0.500789  \n",
      "mean  0.560103  \n",
      "std   0.055627  \n"
     ]
    }
   ],
   "source": [
    "data_r2_train_pd = pd.DataFrame(data= data_r2_train, columns=['r2_train'])\n",
    "data_RMSE_train_pd = pd.DataFrame(data=data_RMSE_train, columns=['RMSE_train'])\n",
    "data_MAE_train_pd = pd.DataFrame(data=data_MAE_train, columns=['MAE_train'])\n",
    "data_r2_test_pd = pd.DataFrame(data=data_r2_test, columns=['r2_test'])\n",
    "data_RMSE_test_pd = pd.DataFrame(data=data_RMSE_test, columns=['RMSE_test'])\n",
    "data_MAE_test_pd = pd.DataFrame(data=data_MAE_test, columns=['MAE_test'])\n",
    "data_cv_score_pd = pd.DataFrame(data=data_cv_score, columns=['cv_score'])\n",
    "data_parametors = pd.DataFrame([best_model_parametors])\n",
    "\n",
    "data_all = pd.concat([data_r2_train_pd, data_RMSE_train_pd, data_MAE_train_pd, data_r2_test_pd, \n",
    "                      data_RMSE_test_pd, data_MAE_test_pd, data_cv_score_pd],\n",
    "                     axis=1, join='inner')\n",
    "\n",
    "data_all.loc['mean'] = data_all.mean()\n",
    "data_all.loc['std'] = data_all.std(ddof=0)\n",
    "print(data_all)\n",
    "\n",
    "data_all.to_csv('../../score/MF/knn_score.csv')"
   ]
  },
  {
   "cell_type": "code",
   "execution_count": null,
   "id": "06bb2819-4875-4e6e-a821-bccf88d842ce",
   "metadata": {},
   "outputs": [],
   "source": []
  }
 ],
 "metadata": {
  "kernelspec": {
   "display_name": "Python 3 (ipykernel)",
   "language": "python",
   "name": "python3"
  },
  "language_info": {
   "codemirror_mode": {
    "name": "ipython",
    "version": 3
   },
   "file_extension": ".py",
   "mimetype": "text/x-python",
   "name": "python",
   "nbconvert_exporter": "python",
   "pygments_lexer": "ipython3",
   "version": "3.9.19"
  }
 },
 "nbformat": 4,
 "nbformat_minor": 5
}
