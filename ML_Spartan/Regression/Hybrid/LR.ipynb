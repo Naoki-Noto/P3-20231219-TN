{
 "cells": [
  {
   "cell_type": "code",
   "execution_count": 1,
   "id": "24250875-9c00-4a2e-b044-2905593b872d",
   "metadata": {
    "tags": []
   },
   "outputs": [],
   "source": [
    "#import\n",
    "import seaborn as sns\n",
    "import pandas as pd\n",
    "import numpy as np\n",
    "import matplotlib.pyplot as plt\n",
    "from sklearn.model_selection import train_test_split\n",
    "from sklearn.linear_model import LinearRegression\n",
    "from sklearn import metrics\n",
    "import warnings\n",
    "warnings.filterwarnings('ignore')"
   ]
  },
  {
   "cell_type": "code",
   "execution_count": 2,
   "id": "710c369c-62c4-4a63-a9f8-fa343155455d",
   "metadata": {
    "tags": []
   },
   "outputs": [
    {
     "name": "stdout",
     "output_type": "stream",
     "text": [
      "<class 'pandas.core.frame.DataFrame'>\n",
      "RangeIndex: 68 entries, 0 to 67\n",
      "Data columns (total 31 columns):\n",
      " #   Column             Non-Null Count  Dtype  \n",
      "---  ------             --------------  -----  \n",
      " 0   Cate_name          68 non-null     object \n",
      " 1   Cate_HOMO          68 non-null     float64\n",
      " 2   Cate_LUMO          68 non-null     float64\n",
      " 3   Cate_ESP_O1        68 non-null     float64\n",
      " 4   Cate_ESP_H1        68 non-null     float64\n",
      " 5   Cate_ESP_O2        68 non-null     float64\n",
      " 6   Cate_ESP_H2        68 non-null     float64\n",
      " 7   Cate_BL_ArO1       68 non-null     float64\n",
      " 8   Cate_BL_O1H1       68 non-null     float64\n",
      " 9   Cate_BL_ArO2       68 non-null     float64\n",
      " 10  Cate_BL_O2H2       68 non-null     float64\n",
      " 11  Cate_total_dipole  68 non-null     float64\n",
      " 12  Cate_RDKit_PC_0    68 non-null     float64\n",
      " 13  Cate_RDKit_PC_1    68 non-null     float64\n",
      " 14  Cate_RDKit_PC_2    68 non-null     float64\n",
      " 15  Cate_RDKit_PC_3    68 non-null     float64\n",
      " 16  Cate_RDKit_PC_4    68 non-null     float64\n",
      " 17  Cate_RDKit_PC_5    68 non-null     float64\n",
      " 18  Cate_RDKit_PC_6    68 non-null     float64\n",
      " 19  P_name             68 non-null     object \n",
      " 20  P_HOMO             68 non-null     float64\n",
      " 21  P_LUMO             68 non-null     float64\n",
      " 22  P_ESP_P            68 non-null     float64\n",
      " 23  P_ESP_=O           68 non-null     float64\n",
      " 24  P_ESP_H            68 non-null     float64\n",
      " 25  P_BL_P=O           68 non-null     float64\n",
      " 26  P_BL_PH            68 non-null     float64\n",
      " 27  P_total_dipole     68 non-null     float64\n",
      " 28  P_RDKit_PC_0       68 non-null     float64\n",
      " 29  P_RDKit_PC_1       68 non-null     float64\n",
      " 30  Yield              68 non-null     int64  \n",
      "dtypes: float64(28), int64(1), object(2)\n",
      "memory usage: 16.6+ KB\n"
     ]
    }
   ],
   "source": [
    "#Reading dataset\n",
    "df=pd.read_csv('Hybrid.csv')\n",
    "df.info()"
   ]
  },
  {
   "cell_type": "code",
   "execution_count": 3,
   "id": "ce899465-892d-48fd-868d-458930162f54",
   "metadata": {
    "tags": []
   },
   "outputs": [
    {
     "name": "stdout",
     "output_type": "stream",
     "text": [
      "---Descriptors---\n",
      "   Cate_HOMO  Cate_LUMO  Cate_ESP_O1  Cate_ESP_H1  Cate_ESP_O2  Cate_ESP_H2  \\\n",
      "0      -5.63       0.21    -0.555170     0.441278    -0.594799     0.444770   \n",
      "1      -5.63       0.21    -0.555170     0.441278    -0.594799     0.444770   \n",
      "2      -5.63       0.21    -0.555170     0.441278    -0.594799     0.444770   \n",
      "3      -5.63       0.21    -0.555170     0.441278    -0.594799     0.444770   \n",
      "4      -5.51       0.22    -0.542028     0.433177    -0.582447     0.440296   \n",
      "\n",
      "   Cate_BL_ArO1  Cate_BL_O1H1  Cate_BL_ArO2  Cate_BL_O2H2  ...  P_HOMO  \\\n",
      "0         1.363         0.969         1.378         0.965  ...   -7.85   \n",
      "1         1.363         0.969         1.378         0.965  ...   -8.16   \n",
      "2         1.363         0.969         1.378         0.965  ...   -7.22   \n",
      "3         1.363         0.969         1.378         0.965  ...   -7.85   \n",
      "4         1.364         0.969         1.379         0.965  ...   -7.85   \n",
      "\n",
      "   P_LUMO   P_ESP_P  P_ESP_=O   P_ESP_H  P_BL_P=O  P_BL_PH  P_total_dipole  \\\n",
      "0    1.77  0.997297 -0.600515 -0.035840     1.482    1.402        2.286892   \n",
      "1    1.03  0.934101 -0.617890  0.007945     1.481    1.398        1.745964   \n",
      "2   -0.99  0.742856 -0.578490  0.009025     1.489    1.409        3.773141   \n",
      "3    0.75  0.788747 -0.578264 -0.038475     1.485    1.412        2.623175   \n",
      "4    1.77  0.997297 -0.600515 -0.035840     1.482    1.402        2.286892   \n",
      "\n",
      "   P_RDKit_PC_0  P_RDKit_PC_1  \n",
      "0      1.406982      7.906757  \n",
      "1     -5.494109      0.842109  \n",
      "2     11.128658     -3.748087  \n",
      "3     -7.041532     -5.000780  \n",
      "4      1.406982      7.906757  \n",
      "\n",
      "[5 rows x 28 columns]\n",
      "---Objective---\n",
      "   Yield\n",
      "0     80\n",
      "1      7\n",
      "2      3\n",
      "3     48\n",
      "4     99\n"
     ]
    }
   ],
   "source": [
    "#Building descriptors\n",
    "X = df.drop(columns=['Yield', 'Cate_name', 'P_name' ])\n",
    "print('---Descriptors---')\n",
    "print(X.head())\n",
    "\n",
    "y = pd.DataFrame(df['Yield'],columns=['Yield'])\n",
    "print('---Objective---')\n",
    "print(y.head())"
   ]
  },
  {
   "cell_type": "code",
   "execution_count": 4,
   "id": "0f79bef2-cad5-4f86-a1d9-c8b07bbf4ee0",
   "metadata": {},
   "outputs": [
    {
     "name": "stdout",
     "output_type": "stream",
     "text": [
      "----------------------\n",
      "seed: 0\n",
      "R2_train: 0.9122257278728144\n",
      "R2_test: 0.6755611490811266\n",
      "----------------------\n",
      "seed: 1\n",
      "R2_train: 0.8549700226345089\n",
      "R2_test: 0.7244947854618289\n",
      "----------------------\n",
      "seed: 2\n",
      "R2_train: 0.8748964696494153\n",
      "R2_test: 0.750308782577876\n",
      "----------------------\n",
      "seed: 3\n",
      "R2_train: 0.8797646073647605\n",
      "R2_test: 0.6888667105237489\n",
      "----------------------\n",
      "seed: 4\n",
      "R2_train: 0.8729915793453391\n",
      "R2_test: 0.7630187204410193\n",
      "----------------------\n",
      "seed: 5\n",
      "R2_train: 0.875929541592793\n",
      "R2_test: 0.7212568106335258\n",
      "----------------------\n",
      "seed: 6\n",
      "R2_train: 0.8926813669849165\n",
      "R2_test: 0.7169077633041612\n",
      "----------------------\n",
      "seed: 7\n",
      "R2_train: 0.8880450982890163\n",
      "R2_test: 0.6297730333738505\n",
      "----------------------\n",
      "seed: 8\n",
      "R2_train: 0.8963330349217938\n",
      "R2_test: 0.6313626475567438\n",
      "----------------------\n",
      "seed: 9\n",
      "R2_train: 0.8679324365852158\n",
      "R2_test: 0.40084006120053084\n",
      "R2_train_means: 0.8815769885240574\n",
      "R2_test_means: 0.6702390464154412\n"
     ]
    }
   ],
   "source": [
    "#storage \n",
    "data_r2_train =[]\n",
    "data_RMSE_train = []\n",
    "data_MAE_train = []\n",
    "data_r2_test = []\n",
    "data_RMSE_test = []\n",
    "data_MAE_test = []\n",
    "\n",
    "#LR\n",
    "for i in range(10):\n",
    "    seed=i\n",
    "    X_train, X_test, y_train, y_test = train_test_split(X, y, test_size=0.3, random_state=seed)\n",
    "    \n",
    "    a_X_train = (X_train - X_train.mean(axis=0)) / X_train.std(axis=0, ddof=1)\n",
    "    a_X_test = (X_test - X_train.mean(axis=0)) / X_train.std(axis=0, ddof=1)\n",
    "    \n",
    "    model = LinearRegression()\n",
    "    model.fit(a_X_train, y_train['Yield'])\n",
    "    \n",
    "    y_pred1 = model.predict(a_X_train)\n",
    "    y_pred2 = model.predict(a_X_test)\n",
    "    \n",
    "    #train\n",
    "    r2_train = metrics.r2_score(y_train, y_pred1)\n",
    "    RMSE_train = metrics.root_mean_squared_error(y_train, y_pred1)\n",
    "    MAE_train =  metrics.mean_absolute_error(y_train, y_pred1)\n",
    "    #test\n",
    "    r2_test = metrics.r2_score(y_test, y_pred2)\n",
    "    RMSE_test = metrics.root_mean_squared_error(y_test, y_pred2)\n",
    "    MAE_test = metrics.mean_absolute_error(y_test, y_pred2)\n",
    "    \n",
    "    data_r2_train.append(r2_train)\n",
    "    data_RMSE_train.append(RMSE_train)\n",
    "    data_MAE_train.append(MAE_train)\n",
    "    data_r2_test.append(r2_test)\n",
    "    data_RMSE_test.append(RMSE_test)\n",
    "    data_MAE_test.append(MAE_test)\n",
    "    \n",
    "    print('----------------------')\n",
    "    print('seed:', seed)\n",
    "    print('R2_train:', r2_train)\n",
    "    print('R2_test:', r2_test)\n",
    "print('R2_train_means:', sum(data_r2_train)/10)\n",
    "print('R2_test_means:', sum(data_r2_test)/10)"
   ]
  },
  {
   "cell_type": "code",
   "execution_count": 5,
   "id": "dee01ad3-7641-4c5c-8319-4d4639226e10",
   "metadata": {},
   "outputs": [
    {
     "name": "stdout",
     "output_type": "stream",
     "text": [
      "      r2_train  RMSE_train  MAE_train   r2_test  RMSE_test   MAE_test\n",
      "0     0.912226    8.044437   5.589650  0.675561  20.599753  13.890465\n",
      "1     0.854970   11.452162   8.044448  0.724495  16.337769  12.628152\n",
      "2     0.874896   10.757935   8.045175  0.750309  15.539199  10.492183\n",
      "3     0.879765   10.589846   7.700839  0.688867  17.280305  12.894044\n",
      "4     0.872992   10.463917   8.019133  0.763019  15.874128  12.461443\n",
      "5     0.875930   10.023203   6.787320  0.721257  18.412186  12.366808\n",
      "6     0.892681    9.384752   6.618675  0.716908  18.457797  13.512302\n",
      "7     0.888045   10.348171   7.605485  0.629773  18.319762  14.244783\n",
      "8     0.896333    9.551913   6.872337  0.631363  19.086661  14.174567\n",
      "9     0.867932   11.569052   8.632064  0.400840  20.547569  14.546339\n",
      "mean  0.881577   10.218539   7.391513  0.670239  18.045513  13.121109\n",
      "std   0.014678    0.941759   0.820561  0.094793   1.616576   1.102006\n"
     ]
    }
   ],
   "source": [
    "data_r2_train_pd = pd.DataFrame(data= data_r2_train, columns=['r2_train'])\n",
    "data_RMSE_train_pd = pd.DataFrame(data=data_RMSE_train, columns=['RMSE_train'])\n",
    "data_MAE_train_pd = pd.DataFrame(data=data_MAE_train, columns=['MAE_train'])\n",
    "data_r2_test_pd = pd.DataFrame(data=data_r2_test, columns=['r2_test'])\n",
    "data_RMSE_test_pd = pd.DataFrame(data=data_RMSE_test, columns=['RMSE_test'])\n",
    "data_MAE_test_pd = pd.DataFrame(data=data_MAE_test, columns=['MAE_test'])\n",
    "\n",
    "data_all = pd.concat([data_r2_train_pd, data_RMSE_train_pd, data_MAE_train_pd, data_r2_test_pd, \n",
    "                      data_RMSE_test_pd, data_MAE_test_pd],\n",
    "                     axis=1, join='inner')\n",
    "\n",
    "data_all.loc['mean'] = data_all.mean()\n",
    "data_all.loc['std'] = data_all.std(ddof=0)\n",
    "print(data_all)\n",
    "\n",
    "data_all.to_csv('../../score/Hybrid/LR_score.csv')"
   ]
  },
  {
   "cell_type": "code",
   "execution_count": null,
   "id": "e1227579-9df9-4d87-ac9a-1b1171818f57",
   "metadata": {},
   "outputs": [],
   "source": []
  }
 ],
 "metadata": {
  "kernelspec": {
   "display_name": "Python 3 (ipykernel)",
   "language": "python",
   "name": "python3"
  },
  "language_info": {
   "codemirror_mode": {
    "name": "ipython",
    "version": 3
   },
   "file_extension": ".py",
   "mimetype": "text/x-python",
   "name": "python",
   "nbconvert_exporter": "python",
   "pygments_lexer": "ipython3",
   "version": "3.9.19"
  }
 },
 "nbformat": 4,
 "nbformat_minor": 5
}
