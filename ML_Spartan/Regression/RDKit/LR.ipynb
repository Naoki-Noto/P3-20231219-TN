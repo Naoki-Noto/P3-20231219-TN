{
 "cells": [
  {
   "cell_type": "code",
   "execution_count": 1,
   "id": "24250875-9c00-4a2e-b044-2905593b872d",
   "metadata": {
    "tags": []
   },
   "outputs": [],
   "source": [
    "#import\n",
    "import seaborn as sns\n",
    "import pandas as pd\n",
    "import numpy as np\n",
    "import matplotlib.pyplot as plt\n",
    "from sklearn.model_selection import train_test_split\n",
    "from sklearn.linear_model import LinearRegression\n",
    "from sklearn import metrics\n",
    "import warnings\n",
    "warnings.filterwarnings('ignore')"
   ]
  },
  {
   "cell_type": "code",
   "execution_count": 2,
   "id": "710c369c-62c4-4a63-a9f8-fa343155455d",
   "metadata": {
    "tags": []
   },
   "outputs": [
    {
     "name": "stdout",
     "output_type": "stream",
     "text": [
      "<class 'pandas.core.frame.DataFrame'>\n",
      "RangeIndex: 68 entries, 0 to 67\n",
      "Columns: 224 entries, Cate_name to Yield\n",
      "dtypes: float64(177), int64(45), object(2)\n",
      "memory usage: 119.1+ KB\n"
     ]
    }
   ],
   "source": [
    "#Reading dataset\n",
    "df=pd.read_csv('RDKit.csv')\n",
    "df.info()"
   ]
  },
  {
   "cell_type": "code",
   "execution_count": 3,
   "id": "ce899465-892d-48fd-868d-458930162f54",
   "metadata": {
    "tags": []
   },
   "outputs": [
    {
     "name": "stdout",
     "output_type": "stream",
     "text": [
      "---Descriptors---\n",
      "   Cate_MaxAbsEStateIndex  Cate_MaxEStateIndex  Cate_MinAbsEStateIndex  \\\n",
      "0                8.669259             8.669259                0.076389   \n",
      "1                8.669259             8.669259                0.076389   \n",
      "2                8.669259             8.669259                0.076389   \n",
      "3                8.669259             8.669259                0.076389   \n",
      "4                8.850093             8.850093                0.060185   \n",
      "\n",
      "   Cate_MinEStateIndex  Cate_qed  Cate_SPS  Cate_MolWt  Cate_HeavyAtomMolWt  \\\n",
      "0            -0.076389  0.490728  9.000000     110.112              104.064   \n",
      "1            -0.076389  0.490728  9.000000     110.112              104.064   \n",
      "2            -0.076389  0.490728  9.000000     110.112              104.064   \n",
      "3            -0.076389  0.490728  9.000000     110.112              104.064   \n",
      "4            -0.068889  0.513122  9.444444     124.139              116.075   \n",
      "\n",
      "   Cate_ExactMolWt  Cate_NumValenceElectrons  ...  P_NumAromaticCarbocycles  \\\n",
      "0       110.036779                        42  ...                         0   \n",
      "1       110.036779                        42  ...                         0   \n",
      "2       110.036779                        42  ...                         1   \n",
      "3       110.036779                        42  ...                         0   \n",
      "4       124.052429                        48  ...                         0   \n",
      "\n",
      "   P_NumAromaticRings  P_NumHAcceptors  P_NumHDonors  P_NumHeteroatoms  \\\n",
      "0                   0                3             0                 4   \n",
      "1                   0                1             2                 4   \n",
      "2                   1                1             1                 3   \n",
      "3                   0                1             1                 3   \n",
      "4                   0                3             0                 4   \n",
      "\n",
      "   P_NumRotatableBonds  P_RingCount  P_MolLogP  P_MolMR  P_fr_benzene  \n",
      "0                    2            0     0.6689  23.0195             0  \n",
      "1                    0            0    -0.6393  13.4391             0  \n",
      "2                    1            1     0.7789  37.2963             1  \n",
      "3                    0            0    -0.3500  12.6153             0  \n",
      "4                    2            0     0.6689  23.0195             0  \n",
      "\n",
      "[5 rows x 221 columns]\n",
      "---Objective---\n",
      "   Yield\n",
      "0     80\n",
      "1      7\n",
      "2      3\n",
      "3     48\n",
      "4     99\n"
     ]
    }
   ],
   "source": [
    "#Building descriptors\n",
    "X = df.drop(columns=['Yield', 'Cate_name', 'P_name' ])\n",
    "print('---Descriptors---')\n",
    "print(X.head())\n",
    "\n",
    "y = pd.DataFrame(df['Yield'],columns=['Yield'])\n",
    "print('---Objective---')\n",
    "print(y.head())"
   ]
  },
  {
   "cell_type": "code",
   "execution_count": 4,
   "id": "0f79bef2-cad5-4f86-a1d9-c8b07bbf4ee0",
   "metadata": {},
   "outputs": [
    {
     "name": "stdout",
     "output_type": "stream",
     "text": [
      "----------------------\n",
      "seed: 0\n",
      "R2_train: 0.9122257278728144\n",
      "R2_test: 0.675561149081127\n",
      "----------------------\n",
      "seed: 1\n",
      "R2_train: 0.8549700226345089\n",
      "R2_test: 0.7244947854618298\n",
      "----------------------\n",
      "seed: 2\n",
      "R2_train: 0.8717611987299334\n",
      "R2_test: 0.7496651852434159\n",
      "----------------------\n",
      "seed: 3\n",
      "R2_train: 0.8797646073647605\n",
      "R2_test: 0.6888667105237467\n",
      "----------------------\n",
      "seed: 4\n",
      "R2_train: 0.8576124722840733\n",
      "R2_test: -2.9364577379194668e+23\n",
      "----------------------\n",
      "seed: 5\n",
      "R2_train: 0.8759256259419356\n",
      "R2_test: 0.7213769520283939\n",
      "----------------------\n",
      "seed: 6\n",
      "R2_train: 0.8926813669849165\n",
      "R2_test: 0.6860089260305834\n",
      "----------------------\n",
      "seed: 7\n",
      "R2_train: 0.8880450982890163\n",
      "R2_test: 0.6297730333738512\n",
      "----------------------\n",
      "seed: 8\n",
      "R2_train: 0.896333034921794\n",
      "R2_test: 0.6313626475567445\n",
      "----------------------\n",
      "seed: 9\n",
      "R2_train: 0.8679324365852158\n",
      "R2_test: 0.40084006120053006\n",
      "R2_train_means: 0.8797251591608969\n",
      "R2_test_means: -2.936457737919467e+22\n"
     ]
    }
   ],
   "source": [
    "#storage \n",
    "data_r2_train =[]\n",
    "data_RMSE_train = []\n",
    "data_MAE_train = []\n",
    "data_r2_test = []\n",
    "data_RMSE_test = []\n",
    "data_MAE_test = []\n",
    "\n",
    "#LR\n",
    "for i in range(10):\n",
    "    seed=i\n",
    "    X_train, X_test, y_train, y_test = train_test_split(X, y, test_size=0.3, random_state=seed)\n",
    "    \n",
    "    a_X_train = (X_train - X_train.mean(axis=0)) / X_train.std(axis=0, ddof=1)\n",
    "    a_X_test = (X_test - X_train.mean(axis=0)) / X_train.std(axis=0, ddof=1)\n",
    "    a_X_train = a_X_train.dropna(how='any', axis=1)\n",
    "    a_X_test = a_X_test[a_X_train.columns]\n",
    "    \n",
    "    model = LinearRegression()\n",
    "    model.fit(a_X_train, y_train['Yield'])\n",
    "    \n",
    "    y_pred1 = model.predict(a_X_train)\n",
    "    y_pred2 = model.predict(a_X_test)\n",
    "    \n",
    "    #train\n",
    "    r2_train = metrics.r2_score(y_train, y_pred1)\n",
    "    RMSE_train = metrics.root_mean_squared_error(y_train, y_pred1)\n",
    "    MAE_train =  metrics.mean_absolute_error(y_train, y_pred1)\n",
    "    #test\n",
    "    r2_test = metrics.r2_score(y_test, y_pred2)\n",
    "    RMSE_test = metrics.root_mean_squared_error(y_test, y_pred2)\n",
    "    MAE_test = metrics.mean_absolute_error(y_test, y_pred2)\n",
    "    \n",
    "    data_r2_train.append(r2_train)\n",
    "    data_RMSE_train.append(RMSE_train)\n",
    "    data_MAE_train.append(MAE_train)\n",
    "    data_r2_test.append(r2_test)\n",
    "    data_RMSE_test.append(RMSE_test)\n",
    "    data_MAE_test.append(MAE_test)\n",
    "    \n",
    "    print('----------------------')\n",
    "    print('seed:', seed)\n",
    "    print('R2_train:', r2_train)\n",
    "    print('R2_test:', r2_test)\n",
    "print('R2_train_means:', sum(data_r2_train)/10)\n",
    "print('R2_test_means:', sum(data_r2_test)/10)"
   ]
  },
  {
   "cell_type": "code",
   "execution_count": 5,
   "id": "dee01ad3-7641-4c5c-8319-4d4639226e10",
   "metadata": {},
   "outputs": [
    {
     "name": "stdout",
     "output_type": "stream",
     "text": [
      "      r2_train  RMSE_train  MAE_train       r2_test     RMSE_test  \\\n",
      "0     0.912226    8.044437   5.589650  6.755611e-01  2.059975e+01   \n",
      "1     0.854970   11.452162   8.044448  7.244948e-01  1.633777e+01   \n",
      "2     0.871761   10.891905   8.486959  7.496652e-01  1.555921e+01   \n",
      "3     0.879765   10.589846   7.700839  6.888667e-01  1.728030e+01   \n",
      "4     0.857612   11.079343   8.622444 -2.936458e+23  1.767033e+13   \n",
      "5     0.875926   10.023362   6.789728  7.213770e-01  1.840822e+01   \n",
      "6     0.892681    9.384752   6.618675  6.860089e-01  1.943903e+01   \n",
      "7     0.888045   10.348171   7.605485  6.297730e-01  1.831976e+01   \n",
      "8     0.896333    9.551913   6.872337  6.313626e-01  1.908666e+01   \n",
      "9     0.867932   11.569052   8.632064  4.008401e-01  2.054757e+01   \n",
      "mean  0.879725   10.293494   7.496263 -2.936458e+22  1.767033e+12   \n",
      "std   0.016203    0.979008   0.913928  8.399408e+22  5.054400e+12   \n",
      "\n",
      "          MAE_test  \n",
      "0     1.389047e+01  \n",
      "1     1.262815e+01  \n",
      "2     1.073061e+01  \n",
      "3     1.289404e+01  \n",
      "4     7.711966e+12  \n",
      "5     1.235691e+01  \n",
      "6     1.413406e+01  \n",
      "7     1.424478e+01  \n",
      "8     1.417457e+01  \n",
      "9     1.454634e+01  \n",
      "mean  7.711966e+11  \n",
      "std   2.205921e+12  \n"
     ]
    }
   ],
   "source": [
    "data_r2_train_pd = pd.DataFrame(data= data_r2_train, columns=['r2_train'])\n",
    "data_RMSE_train_pd = pd.DataFrame(data=data_RMSE_train, columns=['RMSE_train'])\n",
    "data_MAE_train_pd = pd.DataFrame(data=data_MAE_train, columns=['MAE_train'])\n",
    "data_r2_test_pd = pd.DataFrame(data=data_r2_test, columns=['r2_test'])\n",
    "data_RMSE_test_pd = pd.DataFrame(data=data_RMSE_test, columns=['RMSE_test'])\n",
    "data_MAE_test_pd = pd.DataFrame(data=data_MAE_test, columns=['MAE_test'])\n",
    "\n",
    "data_all = pd.concat([data_r2_train_pd, data_RMSE_train_pd, data_MAE_train_pd, data_r2_test_pd, \n",
    "                      data_RMSE_test_pd, data_MAE_test_pd],\n",
    "                     axis=1, join='inner')\n",
    "\n",
    "data_all.loc['mean'] = data_all.mean()\n",
    "data_all.loc['std'] = data_all.std(ddof=0)\n",
    "print(data_all)\n",
    "\n",
    "data_all.to_csv('../../score/RDKit/LR_score.csv')"
   ]
  },
  {
   "cell_type": "code",
   "execution_count": null,
   "id": "e1227579-9df9-4d87-ac9a-1b1171818f57",
   "metadata": {},
   "outputs": [],
   "source": []
  }
 ],
 "metadata": {
  "kernelspec": {
   "display_name": "Python 3 (ipykernel)",
   "language": "python",
   "name": "python3"
  },
  "language_info": {
   "codemirror_mode": {
    "name": "ipython",
    "version": 3
   },
   "file_extension": ".py",
   "mimetype": "text/x-python",
   "name": "python",
   "nbconvert_exporter": "python",
   "pygments_lexer": "ipython3",
   "version": "3.9.19"
  }
 },
 "nbformat": 4,
 "nbformat_minor": 5
}
