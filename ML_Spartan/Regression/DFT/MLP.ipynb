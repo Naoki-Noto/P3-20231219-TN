{
 "cells": [
  {
   "cell_type": "code",
   "execution_count": 1,
   "id": "5321d4c9-06c9-4577-851e-125e0ca6919c",
   "metadata": {
    "tags": []
   },
   "outputs": [
    {
     "name": "stderr",
     "output_type": "stream",
     "text": [
      "C:\\Users\\noton\\anaconda3\\envs\\TN5\\lib\\site-packages\\tqdm\\auto.py:21: TqdmWarning: IProgress not found. Please update jupyter and ipywidgets. See https://ipywidgets.readthedocs.io/en/stable/user_install.html\n",
      "  from .autonotebook import tqdm as notebook_tqdm\n"
     ]
    }
   ],
   "source": [
    "#import\n",
    "import seaborn as sns\n",
    "import pandas as pd\n",
    "import numpy as np\n",
    "import matplotlib.pyplot as plt\n",
    "from sklearn.model_selection import train_test_split\n",
    "from sklearn.model_selection import GridSearchCV\n",
    "from sklearn.neural_network import MLPRegressor\n",
    "from sklearn import metrics\n",
    "import shap"
   ]
  },
  {
   "cell_type": "code",
   "execution_count": 2,
   "id": "3e8a519a-27ee-4ee8-a4e9-2926c586a2b5",
   "metadata": {
    "tags": []
   },
   "outputs": [
    {
     "name": "stdout",
     "output_type": "stream",
     "text": [
      "<class 'pandas.core.frame.DataFrame'>\n",
      "RangeIndex: 68 entries, 0 to 67\n",
      "Data columns (total 22 columns):\n",
      " #   Column             Non-Null Count  Dtype  \n",
      "---  ------             --------------  -----  \n",
      " 0   Cate_name          68 non-null     object \n",
      " 1   Cate_HOMO          68 non-null     float64\n",
      " 2   Cate_LUMO          68 non-null     float64\n",
      " 3   Cate_ESP_O1        68 non-null     float64\n",
      " 4   Cate_ESP_H1        68 non-null     float64\n",
      " 5   Cate_ESP_O2        68 non-null     float64\n",
      " 6   Cate_ESP_H2        68 non-null     float64\n",
      " 7   Cate_BL_ArO1       68 non-null     float64\n",
      " 8   Cate_BL_O1H1       68 non-null     float64\n",
      " 9   Cate_BL_ArO2       68 non-null     float64\n",
      " 10  Cate_BL_O2H2       68 non-null     float64\n",
      " 11  Cate_total_dipole  68 non-null     float64\n",
      " 12  P_name             68 non-null     object \n",
      " 13  P_HOMO             68 non-null     float64\n",
      " 14  P_LUMO             68 non-null     float64\n",
      " 15  P_ESP_P            68 non-null     float64\n",
      " 16  P_ESP_=O           68 non-null     float64\n",
      " 17  P_ESP_H            68 non-null     float64\n",
      " 18  P_BL_P=O           68 non-null     float64\n",
      " 19  P_BL_PH            68 non-null     float64\n",
      " 20  P_total_dipole     68 non-null     float64\n",
      " 21  Yield              68 non-null     int64  \n",
      "dtypes: float64(19), int64(1), object(2)\n",
      "memory usage: 11.8+ KB\n"
     ]
    }
   ],
   "source": [
    "#Reading dataset\n",
    "df=pd.read_csv('DFT.csv')\n",
    "df.info()"
   ]
  },
  {
   "cell_type": "code",
   "execution_count": 3,
   "id": "9988ae2a-2420-405c-8297-4ee7840c93f1",
   "metadata": {
    "tags": []
   },
   "outputs": [
    {
     "name": "stdout",
     "output_type": "stream",
     "text": [
      "---Descriptors---\n",
      "   Cate_HOMO  Cate_LUMO  Cate_ESP_O1  Cate_ESP_H1  Cate_ESP_O2  Cate_ESP_H2  \\\n",
      "0      -5.63       0.21    -0.555170     0.441278    -0.594799     0.444770   \n",
      "1      -5.63       0.21    -0.555170     0.441278    -0.594799     0.444770   \n",
      "2      -5.63       0.21    -0.555170     0.441278    -0.594799     0.444770   \n",
      "3      -5.63       0.21    -0.555170     0.441278    -0.594799     0.444770   \n",
      "4      -5.51       0.22    -0.542028     0.433177    -0.582447     0.440296   \n",
      "\n",
      "   Cate_BL_ArO1  Cate_BL_ArO2  P_HOMO  P_LUMO   P_ESP_P  P_ESP_=O   P_ESP_H  \\\n",
      "0         1.363         1.378   -7.85    1.77  0.997297 -0.600515 -0.035840   \n",
      "1         1.363         1.378   -8.16    1.03  0.934101 -0.617890  0.007945   \n",
      "2         1.363         1.378   -7.22   -0.99  0.742856 -0.578490  0.009025   \n",
      "3         1.363         1.378   -7.85    0.75  0.788747 -0.578264 -0.038475   \n",
      "4         1.364         1.379   -7.85    1.77  0.997297 -0.600515 -0.035840   \n",
      "\n",
      "   P_BL_P=O  P_BL_PH  \n",
      "0     1.482    1.402  \n",
      "1     1.481    1.398  \n",
      "2     1.489    1.409  \n",
      "3     1.485    1.412  \n",
      "4     1.482    1.402  \n",
      "---Objective---\n",
      "   Yield\n",
      "0     80\n",
      "1      7\n",
      "2      3\n",
      "3     48\n",
      "4     99\n"
     ]
    }
   ],
   "source": [
    "#Building descriptors\n",
    "X = df.drop(columns=['Yield', 'Cate_name', 'P_name', 'P_total_dipole', 'Cate_total_dipole', 'Cate_BL_O1H1', 'Cate_BL_O2H2'])\n",
    "print('---Descriptors---')\n",
    "print(X.head())\n",
    "\n",
    "y = pd.DataFrame(df['Yield'],columns=['Yield'])\n",
    "print('---Objective---')\n",
    "print(y.head())"
   ]
  },
  {
   "cell_type": "code",
   "execution_count": 4,
   "id": "084c62d4-67fe-4e93-96ec-d532f9c4ee47",
   "metadata": {
    "tags": []
   },
   "outputs": [
    {
     "name": "stdout",
     "output_type": "stream",
     "text": [
      "----------------------\n",
      "seed: 0\n",
      "Best Model Parameter: {'alpha': 4, 'hidden_layer_sizes': (256,)}\n",
      "Best Model Score: 0.7493539111332128\n",
      "R2_test: 0.7367031585508654\n",
      "----------------------\n",
      "seed: 1\n",
      "Best Model Parameter: {'alpha': 2, 'hidden_layer_sizes': (256,)}\n",
      "Best Model Score: 0.7046852406862512\n",
      "R2_test: 0.7220499915165235\n",
      "----------------------\n",
      "seed: 2\n",
      "Best Model Parameter: {'alpha': 4, 'hidden_layer_sizes': (512,)}\n",
      "Best Model Score: 0.808271532889208\n",
      "R2_test: 0.7848877685719858\n",
      "----------------------\n",
      "seed: 3\n",
      "Best Model Parameter: {'alpha': 2, 'hidden_layer_sizes': (512,)}\n",
      "Best Model Score: 0.7415936573334314\n",
      "R2_test: 0.8066537135062666\n",
      "----------------------\n",
      "seed: 4\n",
      "Best Model Parameter: {'alpha': 4, 'hidden_layer_sizes': (256,)}\n",
      "Best Model Score: 0.7265253042955377\n",
      "R2_test: 0.8032594622447231\n",
      "----------------------\n",
      "seed: 5\n",
      "Best Model Parameter: {'alpha': 4, 'hidden_layer_sizes': (256,)}\n",
      "Best Model Score: 0.767038024478947\n",
      "R2_test: 0.8066291305708888\n",
      "----------------------\n",
      "seed: 6\n",
      "Best Model Parameter: {'alpha': 4, 'hidden_layer_sizes': (512,)}\n",
      "Best Model Score: 0.7264773540370827\n",
      "R2_test: 0.8000664624578728\n",
      "----------------------\n",
      "seed: 7\n",
      "Best Model Parameter: {'alpha': 4, 'hidden_layer_sizes': (64,)}\n",
      "Best Model Score: 0.7696195193196272\n",
      "R2_test: 0.7855630940107827\n",
      "----------------------\n",
      "seed: 8\n",
      "Best Model Parameter: {'alpha': 4, 'hidden_layer_sizes': (512,)}\n",
      "Best Model Score: 0.7663347082289009\n",
      "R2_test: 0.8421231491851329\n",
      "----------------------\n",
      "seed: 9\n",
      "Best Model Parameter: {'alpha': 4, 'hidden_layer_sizes': (128,)}\n",
      "Best Model Score: 0.6633368414292707\n",
      "R2_test: 0.9241380747091095\n",
      "R2_train_means: 0.9360518236085668\n",
      "CV_score_means: 0.7423236093831469\n",
      "R2_test_means: 0.8012074005324152\n"
     ]
    }
   ],
   "source": [
    "#storage \n",
    "data_r2_train =[]\n",
    "data_RMSE_train = []\n",
    "data_MAE_train = []\n",
    "data_r2_test = []\n",
    "data_RMSE_test = []\n",
    "data_MAE_test = []\n",
    "best_model_parametors = []\n",
    "data_cv_score = []\n",
    "\n",
    "#MLP\n",
    "for i in range(10):\n",
    "    seed=i\n",
    "    X_train, X_test, y_train, y_test = train_test_split(X, y, test_size=0.3, random_state=seed)\n",
    "    \n",
    "    #autoscaling\n",
    "    a_X_train = (X_train - X_train.mean(axis=0)) / X_train.std(axis=0, ddof=1)\n",
    "    a_X_test = (X_test - X_train.mean(axis=0)) / X_train.std(axis=0, ddof=1)\n",
    "    a_y_train = y_train/10\n",
    "    \n",
    "    param_mlp={'hidden_layer_sizes':[(64,),(128,),(256,),(512,)], 'alpha':[0,2,4]}\n",
    "    reg_mlp = GridSearchCV(MLPRegressor(random_state=0, max_iter=1000, learning_rate_init=0.03),\n",
    "                           param_grid=param_mlp, cv=5, n_jobs=16)\n",
    "    reg_mlp.fit(a_X_train,a_y_train['Yield'])\n",
    "    reg_best = reg_mlp.best_estimator_\n",
    "    y_pred1 = reg_best.predict(a_X_train)*10\n",
    "    y_pred2 = reg_best.predict(a_X_test)*10\n",
    "            \n",
    "    #train\n",
    "    r2_train = metrics.r2_score(y_train, y_pred1)\n",
    "    RMSE_train = metrics.root_mean_squared_error(y_train, y_pred1)\n",
    "    MAE_train =  metrics.mean_absolute_error(y_train, y_pred1)\n",
    "    \n",
    "    #test\n",
    "    r2_test = metrics.r2_score(y_test, y_pred2)\n",
    "    RMSE_test = metrics.root_mean_squared_error(y_test, y_pred2)\n",
    "    MAE_test = metrics.mean_absolute_error(y_test, y_pred2)\n",
    "    \n",
    "    #strage data of accuracy \n",
    "    parametors = reg_mlp.best_params_\n",
    "    best_model_parametors.append(parametors)\n",
    "\n",
    "    data_r2_train.append(r2_train)\n",
    "    data_RMSE_train.append(RMSE_train)\n",
    "    data_MAE_train.append(MAE_train)\n",
    "    data_r2_test.append(r2_test)\n",
    "    data_RMSE_test.append(RMSE_test)\n",
    "    data_MAE_test.append(MAE_test)\n",
    "    data_cv_score.append(reg_mlp.best_score_)\n",
    "    \n",
    "    print('----------------------')\n",
    "    print('seed:', seed)\n",
    "    print(\"Best Model Parameter:\",reg_mlp.best_params_)\n",
    "    print(\"Best Model Score:\",reg_mlp.best_score_)\n",
    "    print('R2_test:', r2_test)\n",
    "print('R2_train_means:', sum(data_r2_train)/10)\n",
    "print('CV_score_means:', sum(data_cv_score)/10)\n",
    "print('R2_test_means:', sum(data_r2_test)/10)"
   ]
  },
  {
   "cell_type": "code",
   "execution_count": 5,
   "id": "34990d07-4037-4264-98ed-f15ceafaa27c",
   "metadata": {},
   "outputs": [
    {
     "name": "stdout",
     "output_type": "stream",
     "text": [
      "      r2_train  RMSE_train  MAE_train   r2_test  RMSE_test   MAE_test  \\\n",
      "0     0.947886    6.198524   3.742637  0.736703  18.557455  13.028900   \n",
      "1     0.977166    4.544082   2.763515  0.722050  16.410098  12.315052   \n",
      "2     0.937673    7.593356   4.498600  0.784888  14.423131   9.636349   \n",
      "3     0.964539    5.751065   3.140592  0.806654  13.622163   8.461150   \n",
      "4     0.920643    8.271262   4.828707  0.803259  14.463713   8.983237   \n",
      "5     0.895653    9.192043   5.170664  0.806629  15.335529  10.147432   \n",
      "6     0.917372    8.234705   4.615484  0.800066  15.511676  10.472665   \n",
      "7     0.943329    7.362453   4.752642  0.785563  13.942337   9.041449   \n",
      "8     0.933352    7.658835   4.344947  0.842123  12.490779   8.857879   \n",
      "9     0.922905    8.839217   5.220326  0.924138   7.311408   6.033028   \n",
      "mean  0.936052    7.364554   4.307811  0.801207  14.206829   9.697714   \n",
      "std   0.021524    1.319457   0.753508  0.050261   2.659035   1.792898   \n",
      "\n",
      "      cv_score  \n",
      "0     0.749354  \n",
      "1     0.704685  \n",
      "2     0.808272  \n",
      "3     0.741594  \n",
      "4     0.726525  \n",
      "5     0.767038  \n",
      "6     0.726477  \n",
      "7     0.769620  \n",
      "8     0.766335  \n",
      "9     0.663337  \n",
      "mean  0.742324  \n",
      "std   0.036291  \n"
     ]
    }
   ],
   "source": [
    "data_r2_train_pd = pd.DataFrame(data= data_r2_train, columns=['r2_train'])\n",
    "data_RMSE_train_pd = pd.DataFrame(data=data_RMSE_train, columns=['RMSE_train'])\n",
    "data_MAE_train_pd = pd.DataFrame(data=data_MAE_train, columns=['MAE_train'])\n",
    "data_r2_test_pd = pd.DataFrame(data=data_r2_test, columns=['r2_test'])\n",
    "data_RMSE_test_pd = pd.DataFrame(data=data_RMSE_test, columns=['RMSE_test'])\n",
    "data_MAE_test_pd = pd.DataFrame(data=data_MAE_test, columns=['MAE_test'])\n",
    "data_cv_score_pd = pd.DataFrame(data=data_cv_score, columns=['cv_score'])\n",
    "data_parametors = pd.DataFrame([best_model_parametors])\n",
    "\n",
    "data_all = pd.concat([data_r2_train_pd, data_RMSE_train_pd, data_MAE_train_pd, data_r2_test_pd, \n",
    "                      data_RMSE_test_pd, data_MAE_test_pd, data_cv_score_pd],\n",
    "                     axis=1, join='inner')\n",
    "\n",
    "data_all.loc['mean'] = data_all.mean()\n",
    "data_all.loc['std'] = data_all.std(ddof=0)\n",
    "print(data_all)\n",
    "\n",
    "data_all.to_csv('../../score/DFT/MLP_score.csv')"
   ]
  },
  {
   "cell_type": "code",
   "execution_count": null,
   "id": "e4df374f-cec7-446d-b36d-23bf1128b368",
   "metadata": {},
   "outputs": [],
   "source": []
  }
 ],
 "metadata": {
  "kernelspec": {
   "display_name": "Python 3 (ipykernel)",
   "language": "python",
   "name": "python3"
  },
  "language_info": {
   "codemirror_mode": {
    "name": "ipython",
    "version": 3
   },
   "file_extension": ".py",
   "mimetype": "text/x-python",
   "name": "python",
   "nbconvert_exporter": "python",
   "pygments_lexer": "ipython3",
   "version": "3.9.19"
  }
 },
 "nbformat": 4,
 "nbformat_minor": 5
}
